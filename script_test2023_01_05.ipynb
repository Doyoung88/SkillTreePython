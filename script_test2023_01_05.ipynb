{
  "nbformat": 4,
  "nbformat_minor": 0,
  "metadata": {
    "colab": {
      "provenance": [],
      "authorship_tag": "ABX9TyP/EpNtA9XEuIJTZJ7cX8Cx",
      "include_colab_link": true
    },
    "kernelspec": {
      "name": "python3",
      "display_name": "Python 3"
    },
    "language_info": {
      "name": "python"
    }
  },
  "cells": [
    {
      "cell_type": "markdown",
      "metadata": {
        "id": "view-in-github",
        "colab_type": "text"
      },
      "source": [
        "<a href=\"https://colab.research.google.com/github/Doyoung88/SkillTreePython/blob/main/script_test2023_01_05.ipynb\" target=\"_parent\"><img src=\"https://colab.research.google.com/assets/colab-badge.svg\" alt=\"Open In Colab\"/></a>"
      ]
    },
    {
      "cell_type": "code",
      "execution_count": 2,
      "metadata": {
        "id": "jQV6MUEcjf13"
      },
      "outputs": [],
      "source": [
        "#벡터 사용하기\n",
        "import sys #경로 추가해주기\n",
        "sys.path.append('/content/test_dir') #test.dir 경로 추가하기\n",
        "from myvector import Vector"
      ]
    },
    {
      "cell_type": "code",
      "source": [
        "v1 = Vector([1,2,3,4])\n",
        "print(v1)"
      ],
      "metadata": {
        "colab": {
          "base_uri": "https://localhost:8080/"
        },
        "id": "Fef3fur6kWY3",
        "outputId": "69707994-dded-4b73-8a59-c0e9567e1524"
      },
      "execution_count": 4,
      "outputs": [
        {
          "output_type": "stream",
          "name": "stdout",
          "text": [
            "vector([1, 2, 3, 4])\n"
          ]
        }
      ]
    },
    {
      "cell_type": "markdown",
      "source": [
        "##코랩에서 쉘 명령어를 실행하려면 !를 사용하자.\n",
        "* pwd : 현재 경로\n",
        "* cd : 특정경로로 이동하기\n",
        "* . : 현재 경로\n",
        "* .. : 현재 경로의 바로 상위 경로\n",
        "* ls : 현재 경로에 있는 파일 표시\n",
        "* rm : 파일삭제\n",
        "* mkdir : 폴더 생성\n",
        "\n",
        "\n"
      ],
      "metadata": {
        "id": "Y5CT0Xh-lmGm"
      }
    },
    {
      "cell_type": "code",
      "source": [
        "# /가장 상위폴더 root폴더\n",
        "!pwd # 가장 상위폴더인 -content에 현재 위치함 "
      ],
      "metadata": {
        "colab": {
          "base_uri": "https://localhost:8080/"
        },
        "id": "5XyAsk-HkZ--",
        "outputId": "9a239862-4afe-43cc-aba5-e056c8175229"
      },
      "execution_count": 6,
      "outputs": [
        {
          "output_type": "stream",
          "name": "stdout",
          "text": [
            "/content\n"
          ]
        }
      ]
    },
    {
      "cell_type": "code",
      "source": [
        "!ls #현재 경로에 있는 파일 표시"
      ],
      "metadata": {
        "colab": {
          "base_uri": "https://localhost:8080/"
        },
        "id": "8xC2u_obmASH",
        "outputId": "b6508196-25ea-43be-a3e6-95378ed6c83e"
      },
      "execution_count": 7,
      "outputs": [
        {
          "output_type": "stream",
          "name": "stdout",
          "text": [
            "myvector.py  __pycache__  sample_data\n"
          ]
        }
      ]
    },
    {
      "cell_type": "code",
      "source": [
        "! ls . #현재 경로 모든 파일 표시"
      ],
      "metadata": {
        "colab": {
          "base_uri": "https://localhost:8080/"
        },
        "id": "YiLP6TfkmV6V",
        "outputId": "abc361a1-75ee-480b-b2f6-427dee855dcf"
      },
      "execution_count": 9,
      "outputs": [
        {
          "output_type": "stream",
          "name": "stdout",
          "text": [
            "myvector.py  __pycache__  sample_data\n"
          ]
        }
      ]
    },
    {
      "cell_type": "code",
      "source": [
        "! ls .. #바로 위 폴더 경로의 모든 파일 표시"
      ],
      "metadata": {
        "colab": {
          "base_uri": "https://localhost:8080/"
        },
        "id": "J15SZeZlm1Z9",
        "outputId": "128bf406-b3aa-46be-b045-bd2e1862f9c3"
      },
      "execution_count": 10,
      "outputs": [
        {
          "output_type": "stream",
          "name": "stdout",
          "text": [
            "bin\t dev   lib32  NGC-DL-CONTAINER-LICENSE\troot  sys    var\n",
            "boot\t etc   lib64  opt\t\t\trun   tmp\n",
            "content  home  media  proc\t\t\tsbin  tools\n",
            "datalab  lib   mnt    python-apt\t\tsrv   usr\n"
          ]
        }
      ]
    },
    {
      "cell_type": "code",
      "source": [
        "! mkdir test_dir #'test_dir'이름의 디렉토리(폴더) 생성"
      ],
      "metadata": {
        "id": "f6ba7XAJm-fu"
      },
      "execution_count": 11,
      "outputs": []
    },
    {
      "cell_type": "code",
      "source": [],
      "metadata": {
        "id": "m27dgP27nSOO"
      },
      "execution_count": null,
      "outputs": []
    }
  ]
}