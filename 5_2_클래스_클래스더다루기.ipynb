{
  "nbformat": 4,
  "nbformat_minor": 0,
  "metadata": {
    "colab": {
      "provenance": [],
      "include_colab_link": true
    },
    "kernelspec": {
      "name": "python3",
      "display_name": "Python 3"
    },
    "language_info": {
      "name": "python"
    }
  },
  "cells": [
    {
      "cell_type": "markdown",
      "metadata": {
        "id": "view-in-github",
        "colab_type": "text"
      },
      "source": [
        "<a href=\"https://colab.research.google.com/github/Doyoung88/SkillTreePython/blob/main/5_2_%ED%81%B4%EB%9E%98%EC%8A%A4_%ED%81%B4%EB%9E%98%EC%8A%A4%EB%8D%94%EB%8B%A4%EB%A3%A8%EA%B8%B0.ipynb\" target=\"_parent\"><img src=\"https://colab.research.google.com/assets/colab-badge.svg\" alt=\"Open In Colab\"/></a>"
      ]
    },
    {
      "cell_type": "markdown",
      "metadata": {
        "id": "jgFAOz-Tw1VI"
      },
      "source": [
        "# 5-2.클래스: 클래스 더 다루기\n",
        "---\n",
        "* 날짜:2023-01-05\n",
        "* 이름:윤도영\n"
      ]
    },
    {
      "cell_type": "markdown",
      "metadata": {
        "id": "roC8A6Ro6THT"
      },
      "source": [
        "## 개념정리\n",
        "---\n",
        "\n"
      ]
    },
    {
      "cell_type": "markdown",
      "source": [
        "저번 시간까지 배운 클래스 내용만으로도 충분히 클래스를 만들고 코드를 읽을 수 있습니다. 하지만 클래스에는 더 많은 유용한 기능들이 있습니다. 이를 이해하면 더 쉽고 유용하게 파이썬 코드를 작성할 수 있을 겁니다. \n",
        "\n",
        "\n"
      ],
      "metadata": {
        "id": "Ee54frgJYOr8"
      }
    },
    {
      "cell_type": "markdown",
      "metadata": {
        "id": "4azv1P74n23k"
      },
      "source": [
        "###**(1) 매직 메소드**\n",
        "\n",
        "매직 메소드는 파이썬에서 미리 정의해 놓은 메소드입니다. 이 메소드들은 각각이 지니는 고유 기능들이 있습니다.\n",
        "\n",
        "지난 시간에 배운 `__init__`이라는 메소드 또한 매직 메소드의 일종입니다. \n",
        "\n",
        "매직메소드 개수는 꽤 많고 각각 복잡한 일들을 하기 때문에 이번시간에 다 다루지는 않겠습니다. 다만 자주 쓰이는 몇가지 메소드를 함께 보도록 합니다.\n",
        "\n",
        "\n"
      ]
    },
    {
      "cell_type": "markdown",
      "source": [
        "#### **클래스의 덧셈**\n",
        "\n",
        "특정 숫자를 소개하는 클래스 `Mynumber()`를 아래와 같이 정의해 봅시다. \n",
        "\n",
        "```\n",
        "class MyNumber():\n",
        "  def __init__(self, num):\n",
        "    self.num = num\n",
        "  def intro(self):\n",
        "    print(f\"my num is {self.num}\")\n",
        "```"
      ],
      "metadata": {
        "id": "6E02cLotHrTX"
      }
    },
    {
      "cell_type": "code",
      "metadata": {
        "id": "myVCV-mSn23l"
      },
      "source": [
        "class MyNumber():\n",
        "  def __init__(self, num):\n",
        "    self.num = num\n",
        "  def intro(self):\n",
        "    print(f\"my num is {self.num}\")"
      ],
      "execution_count": 1,
      "outputs": []
    },
    {
      "cell_type": "markdown",
      "source": [
        "* `num` 값이 2인 인스턴스 생성\n",
        "\n",
        "```\n",
        "a = MyNumber(2)\n",
        "a.intro()\n",
        "```"
      ],
      "metadata": {
        "id": "kvX7555uKvoQ"
      }
    },
    {
      "cell_type": "code",
      "source": [
        "a = MyNumber(2)\n",
        "a.intro()"
      ],
      "metadata": {
        "id": "CyOsSyDPJv16",
        "colab": {
          "base_uri": "https://localhost:8080/"
        },
        "outputId": "48969455-f0bf-4847-d907-b8c8bb9d1908"
      },
      "execution_count": 2,
      "outputs": [
        {
          "output_type": "stream",
          "name": "stdout",
          "text": [
            "my num is 2\n"
          ]
        }
      ]
    },
    {
      "cell_type": "markdown",
      "source": [
        "* `num` 값이 5인 인스턴스 생성\n",
        "\n",
        "```\n",
        "b = MyNumber(5)\n",
        "b.intro()\n",
        "```"
      ],
      "metadata": {
        "id": "h3yKSEr5K10L"
      }
    },
    {
      "cell_type": "code",
      "source": [
        "b = MyNumber(5)\n",
        "b.intro()"
      ],
      "metadata": {
        "id": "DYyS2zFnKcKx",
        "colab": {
          "base_uri": "https://localhost:8080/"
        },
        "outputId": "dbdf7ad9-3efa-41d9-81f0-437163a06323"
      },
      "execution_count": 3,
      "outputs": [
        {
          "output_type": "stream",
          "name": "stdout",
          "text": [
            "my num is 5\n"
          ]
        }
      ]
    },
    {
      "cell_type": "markdown",
      "source": [
        "* 인스턴스끼리 더하기\n",
        "\n",
        "인스턴스 `a`와 `b`를 더하고 싶습니다. 더해서 7이란 값이 나오면 좋겠네요. 한번 덧셈을 해봅시다.\n",
        "\n",
        "```\n",
        "a+b\n",
        "```"
      ],
      "metadata": {
        "id": "MDKJ6tSXK5xS"
      }
    },
    {
      "cell_type": "code",
      "source": [
        "a+b"
      ],
      "metadata": {
        "id": "zuz-qtaaKgrY",
        "colab": {
          "base_uri": "https://localhost:8080/",
          "height": 174
        },
        "outputId": "8629b110-febb-494e-ff15-d4145f93c97b"
      },
      "execution_count": 4,
      "outputs": [
        {
          "output_type": "error",
          "ename": "TypeError",
          "evalue": "ignored",
          "traceback": [
            "\u001b[0;31m---------------------------------------------------------------------------\u001b[0m",
            "\u001b[0;31mTypeError\u001b[0m                                 Traceback (most recent call last)",
            "\u001b[0;32m<ipython-input-4-ca730b97bf8a>\u001b[0m in \u001b[0;36m<module>\u001b[0;34m\u001b[0m\n\u001b[0;32m----> 1\u001b[0;31m \u001b[0ma\u001b[0m\u001b[0;34m+\u001b[0m\u001b[0mb\u001b[0m\u001b[0;34m\u001b[0m\u001b[0;34m\u001b[0m\u001b[0m\n\u001b[0m",
            "\u001b[0;31mTypeError\u001b[0m: unsupported operand type(s) for +: 'MyNumber' and 'MyNumber'"
          ]
        }
      ]
    },
    {
      "cell_type": "markdown",
      "source": [
        "에러가 뜹니다. 인스턴스가 덧셈이 가능하게 하도록 하려면 `__add__` 메소드를 이용해야 합니다.\n",
        "\n",
        "`+`으로 연결된 다른 인스턴스는 `other`로 자동 연결됩니다. `+`를 함으로써 우리는 인스턴스의 `num`값을 더하고 싶으니 이를 `return`해 주면 됩니다.\n",
        "\n",
        "```\n",
        "class MyNumber():\n",
        "  def __init__(self, num):\n",
        "    self.num = num\n",
        "  def intro(self):\n",
        "    print(f\"my num is {self.num}\")\n",
        "\n",
        "  def __add__(self, other):\n",
        "    return self.num+other.num\n",
        "```"
      ],
      "metadata": {
        "id": "R6tJPDUtRYlh"
      }
    },
    {
      "cell_type": "code",
      "source": [
        "class MyNumber():\n",
        "  def __init__(self, num):\n",
        "    self.num = num\n",
        "  def intro(self):\n",
        "    print(f\"my num is {self.num}\")\n",
        "\n",
        "  def __add__(self, other):\n",
        "    return self.num+other.num"
      ],
      "metadata": {
        "id": "S7RADkiJR8Fq"
      },
      "execution_count": 5,
      "outputs": []
    },
    {
      "cell_type": "markdown",
      "source": [
        "* `num` 값이 2인 인스턴스 생성\n",
        "\n",
        "```\n",
        "a = MyNumber(2)\n",
        "a.intro()\n",
        "```"
      ],
      "metadata": {
        "id": "VyJS6zDGR6MB"
      }
    },
    {
      "cell_type": "code",
      "source": [
        "a = MyNumber(2)\n",
        "a.intro()"
      ],
      "metadata": {
        "id": "7eE4VTaOR6MH",
        "colab": {
          "base_uri": "https://localhost:8080/"
        },
        "outputId": "6f8331a8-78e4-45bf-b5c0-d0d5baec7af7"
      },
      "execution_count": 6,
      "outputs": [
        {
          "output_type": "stream",
          "name": "stdout",
          "text": [
            "my num is 2\n"
          ]
        }
      ]
    },
    {
      "cell_type": "markdown",
      "source": [
        "* `num` 값이 5인 인스턴스 생성\n",
        "\n",
        "```\n",
        "b = MyNumber(5)\n",
        "b.intro()\n",
        "```"
      ],
      "metadata": {
        "id": "_muaH3NjR6MI"
      }
    },
    {
      "cell_type": "code",
      "source": [
        "b = MyNumber(5)\n",
        "b.intro()"
      ],
      "metadata": {
        "id": "l1Fnt2kKR6MI",
        "colab": {
          "base_uri": "https://localhost:8080/"
        },
        "outputId": "9ffd7000-8155-4350-f2e2-2ae4e5b5f54c"
      },
      "execution_count": 7,
      "outputs": [
        {
          "output_type": "stream",
          "name": "stdout",
          "text": [
            "my num is 5\n"
          ]
        }
      ]
    },
    {
      "cell_type": "markdown",
      "source": [
        "* 인스턴스끼리 더하기\n",
        "\n",
        "인스턴스 `a`와 `b`를 더하고 싶습니다. 더해서 7이란 값이 나오면 좋겠네요. 한번 덧셈을 해봅시다.\n",
        "\n",
        "```\n",
        "a+b\n",
        "```"
      ],
      "metadata": {
        "id": "BvicrsTIR6MJ"
      }
    },
    {
      "cell_type": "code",
      "source": [
        "a+b"
      ],
      "metadata": {
        "id": "hi269E7OKhZf",
        "colab": {
          "base_uri": "https://localhost:8080/"
        },
        "outputId": "87bd0757-a4e9-4a98-975f-9ab2463276c5"
      },
      "execution_count": 8,
      "outputs": [
        {
          "output_type": "execute_result",
          "data": {
            "text/plain": [
              "7"
            ]
          },
          "metadata": {},
          "execution_count": 8
        }
      ]
    },
    {
      "cell_type": "markdown",
      "source": [
        "이제 7이란 값이 제대로 나오는 것을 볼 수 있습니다."
      ],
      "metadata": {
        "id": "vOybiF3iSArm"
      }
    },
    {
      "cell_type": "markdown",
      "source": [
        "#### **클래스의 문자**\n",
        "\n",
        "* `__str__`\n",
        "\n",
        "이 메소드는 인스턴스의 출력을 지정해 줍니다. 위에서 정의한 인스턴스 a 를 출력해보겠습니다. \n",
        "\n",
        "```\n",
        "print(a)\n",
        "```"
      ],
      "metadata": {
        "id": "TGIlr0BvYLFL"
      }
    },
    {
      "cell_type": "code",
      "source": [
        "print(a)"
      ],
      "metadata": {
        "id": "wJUbSZsoYmBN",
        "colab": {
          "base_uri": "https://localhost:8080/"
        },
        "outputId": "785ea70f-310f-420a-ee2f-9133ea39fd6c"
      },
      "execution_count": 10,
      "outputs": [
        {
          "output_type": "stream",
          "name": "stdout",
          "text": [
            "<__main__.MyNumber object at 0x7f081414ae50>\n"
          ]
        }
      ]
    },
    {
      "cell_type": "markdown",
      "source": [
        "이번에는 클래스 안에 `__str__` 메서드를 추가해 보겠습니다. 현재 `intro` 메서드가 출력을 수행하고 있어서 기능이 겹치네요. 이를 바꾸도록 하겠습니다.\n",
        "\n",
        "```\n",
        "class MyNumber():\n",
        "  def __init__(self, num):\n",
        "    self.num = num\n",
        "  def __str__(self):\n",
        "    return f\"my num is {self.num}\"\n",
        "  def __add__(self, other):\n",
        "    return self.num+other.num\n",
        "```"
      ],
      "metadata": {
        "id": "rxH649t1Ync_"
      }
    },
    {
      "cell_type": "code",
      "metadata": {
        "id": "Tw9XzO4cYLFM"
      },
      "source": [
        "class MyNumber():\n",
        "  def __init__(self, num):\n",
        "    self.num = num\n",
        "  def __str__(self):\n",
        "    return f\"my num is {self.num}\"\n",
        "  def __add__(self, other):\n",
        "    return self.num+other.num"
      ],
      "execution_count": 11,
      "outputs": []
    },
    {
      "cell_type": "markdown",
      "source": [
        "* `num` 값이 2인 인스턴스 생성하고 출력하기\n",
        "\n",
        "```\n",
        "a = MyNumber(2)\n",
        "a.intro()\n",
        "```"
      ],
      "metadata": {
        "id": "Tk6qcTE4bAxi"
      }
    },
    {
      "cell_type": "code",
      "source": [
        "a = MyNumber(2)\n",
        "a.intro()"
      ],
      "metadata": {
        "id": "2GSARmo1bAxj",
        "colab": {
          "base_uri": "https://localhost:8080/",
          "height": 193
        },
        "outputId": "49934186-17bf-49b8-8453-03231bb6df08"
      },
      "execution_count": 12,
      "outputs": [
        {
          "output_type": "error",
          "ename": "AttributeError",
          "evalue": "ignored",
          "traceback": [
            "\u001b[0;31m---------------------------------------------------------------------------\u001b[0m",
            "\u001b[0;31mAttributeError\u001b[0m                            Traceback (most recent call last)",
            "\u001b[0;32m<ipython-input-12-733ccf886ac9>\u001b[0m in \u001b[0;36m<module>\u001b[0;34m\u001b[0m\n\u001b[1;32m      1\u001b[0m \u001b[0ma\u001b[0m \u001b[0;34m=\u001b[0m \u001b[0mMyNumber\u001b[0m\u001b[0;34m(\u001b[0m\u001b[0;36m2\u001b[0m\u001b[0;34m)\u001b[0m\u001b[0;34m\u001b[0m\u001b[0;34m\u001b[0m\u001b[0m\n\u001b[0;32m----> 2\u001b[0;31m \u001b[0ma\u001b[0m\u001b[0;34m.\u001b[0m\u001b[0mintro\u001b[0m\u001b[0;34m(\u001b[0m\u001b[0;34m)\u001b[0m\u001b[0;34m\u001b[0m\u001b[0;34m\u001b[0m\u001b[0m\n\u001b[0m",
            "\u001b[0;31mAttributeError\u001b[0m: 'MyNumber' object has no attribute 'intro'"
          ]
        }
      ]
    },
    {
      "cell_type": "markdown",
      "source": [
        "### **(2) 상속**\n"
      ],
      "metadata": {
        "id": "NS4BrQpbl3mZ"
      }
    },
    {
      "cell_type": "markdown",
      "metadata": {
        "id": "O0tIcH3xcfDB"
      },
      "source": [
        "\n",
        "\n",
        "#### **상속이란**\n",
        "\n",
        "상속이란 이미 만들어진 클래스를 그대로 받아와 사용할 수 있을 뿐 아니 세부적으로 변경할 수도 있게 하는 것입니다. \n",
        "\n",
        "이 때 상속받아온 상위 클래스를 부모 클래스, 하위클래스를 자식 클래스라 합니다. \n",
        "\n",
        "위에서 만든 `MyNumber`클래스를 상속받아 봅시다. 상속 받기 위해서는 클래스 이름을 정의할 때 상속받을 클래스를 작성해 줍니다. \n",
        "\n",
        "```\n",
        "  \n",
        "class EvenNumber(MyNumber): # 상속받아오기\n",
        "  def __str__(self): # __str__ 메서드는 변경하기\n",
        "    return f\"my num is {self.num}. and it is even.\"\n",
        "\n",
        "class OddNumber(MyNumber):\n",
        "  def __str__(self): # __str__ 메서드는 변경하기\n",
        "    return f\"my num is {self.num}. and it is odd.\"\n",
        "\n",
        "```"
      ]
    },
    {
      "cell_type": "code",
      "source": [],
      "metadata": {
        "id": "FFtnwVYijGET"
      },
      "execution_count": null,
      "outputs": []
    },
    {
      "cell_type": "markdown",
      "source": [
        "* 인스턴스 생성"
      ],
      "metadata": {
        "id": "Ax6wEj3fllRF"
      }
    },
    {
      "cell_type": "code",
      "source": [],
      "metadata": {
        "id": "C62myMS4jHLk"
      },
      "execution_count": null,
      "outputs": []
    },
    {
      "cell_type": "markdown",
      "source": [
        "* 인스턴스  출력하기\n",
        "\n",
        "같은 부모에게서 상속 받아 왔지만 `__str__`의 반환값이 다르기 때문에 출력이 다른 것을 확인할 수 있습니다.\n",
        "\n",
        "```\n",
        "print(even)\n",
        "print(odd)\n",
        "```"
      ],
      "metadata": {
        "id": "ETWxonLJlWlx"
      }
    },
    {
      "cell_type": "code",
      "source": [],
      "metadata": {
        "id": "yLu5y61VlkVW"
      },
      "execution_count": null,
      "outputs": []
    },
    {
      "cell_type": "markdown",
      "source": [
        "* 또한 부모클래스에 있던 `__add__` 메소드도 사용할 수 있습니다. \n",
        "\n",
        "```\n",
        "even+odd\n",
        "```"
      ],
      "metadata": {
        "id": "CKWB-D8plrqs"
      }
    },
    {
      "cell_type": "code",
      "source": [
        "#나만의 문자를 만들어 봅시다.\n",
        "\n",
        "class my_string():\n",
        "  def __init__(self, 문자열):\n",
        "    self.문자열 = 문자열\n",
        "\n",
        "  def __repr__(self): #인스턴스 이름을 입력했을때 그대로 문자열 출력됨.\n",
        "    return f\"'{self.문자열}'\"\n",
        "\n",
        "  def __str__(self):#eturn 값 자체가 문자열이면 좋겠다.\n",
        "    #'문자열'그대로 출력됬으면 좋겠다.\n",
        "    return self.문자열\n",
        "\n",
        "#-기호를 앞에 붙여보자.\n",
        "  def __neg__(self):\n",
        "    return self.문자열[::-1] #-붙이면 뒤집은 문자열 반환!\n",
        "\n",
        " \n",
        "  def __add__(self, other):\n",
        "    return self.문자열+other.문자열   #같은 클래스로 만든 다른 인스턴스 문자열과 더하기 연산 가능\n",
        "    #return f'{self.문자열},{other.문자열}"
      ],
      "metadata": {
        "id": "LpZwhHi8jMPq"
      },
      "execution_count": null,
      "outputs": []
    },
    {
      "cell_type": "code",
      "source": [
        "감자 = my_string('감자')\n",
        "고구마 = my_string('고구마')\n",
        "감자, 고구마    #메직 메써드를 이용해 인스턴스 이름들로만 연산을 하고 있다.\n",
        "-감자, -고구마\n",
        "\n",
        "감자+고구마 "
      ],
      "metadata": {
        "id": "h11UjWa2jN_i"
      },
      "execution_count": null,
      "outputs": []
    },
    {
      "cell_type": "markdown",
      "source": [
        "##  문제풀기"
      ],
      "metadata": {
        "id": "dlDzM4_gas2F"
      }
    },
    {
      "cell_type": "markdown",
      "source": [
        "1. MyNumber 클래스에 빼기, 곱하기, 나누기 추가하기.\n",
        "\n",
        "\n",
        "2. 클래스 Vector 만들기\n",
        "  * a = Vector([1,2,3]) \n",
        "  * b = Vector([4,5,6])\n",
        "  * print(a) -> vector([1,2,3])\n",
        "  * a+b -> vector([5,7,9])\n",
        "  * a*b -> vector([4, 10, 18])"
      ],
      "metadata": {
        "id": "6PTK9HQDavGk"
      }
    },
    {
      "cell_type": "code",
      "source": [
        "class MyNumber:\n",
        "    def __init__(self, num):\n",
        "        self.num = num\n",
        "\n",
        "    def __add__(self, other):\n",
        "        return self.num + other.num    \n",
        "        \n",
        "    def __sub__(self, other):\n",
        "        return self.num - other.num\n",
        "\n",
        "    def __mul__(self, other):\n",
        "        return self.num * other.num\n",
        "\n",
        "    def __truediv__(self, other):\n",
        "        return self.num / other.num"
      ],
      "metadata": {
        "id": "WCJ2MQivXfr6"
      },
      "execution_count": 84,
      "outputs": []
    },
    {
      "cell_type": "code",
      "source": [
        "a = MyNumber(5)\n",
        "b = MyNumber(7)\n",
        "a * b\n",
        "a / b"
      ],
      "metadata": {
        "colab": {
          "base_uri": "https://localhost:8080/"
        },
        "id": "vSA38UJPYagX",
        "outputId": "ed5ba619-c6c5-4109-c848-ca27749b14d1"
      },
      "execution_count": 83,
      "outputs": [
        {
          "output_type": "execute_result",
          "data": {
            "text/plain": [
              "0.7142857142857143"
            ]
          },
          "metadata": {},
          "execution_count": 83
        }
      ]
    },
    {
      "cell_type": "code",
      "source": [
        "class Vector:\n",
        "    def __init__(self, num1):\n",
        "       self.num1 = num1\n",
        "\n",
        "    def __add__(self, other):\n",
        "        return [self.num1[i] + other.num1[i] for i in range(len(self.num1))]\n",
        "\n",
        "    def __mul__(self, other):\n",
        "        return [self.num1[i] * other.num1[i] for i in range(len(self.num1))]\n",
        "\n",
        "    \n",
        "a = Vector([1,2,3])\n",
        "b = Vector([4,5,6])\n",
        "a + b\n",
        "a * b\n"
      ],
      "metadata": {
        "colab": {
          "base_uri": "https://localhost:8080/"
        },
        "id": "BAa9tCC0aKZP",
        "outputId": "1b6c5652-dc4b-4cad-c883-7ebfbb607b1c"
      },
      "execution_count": 93,
      "outputs": [
        {
          "output_type": "execute_result",
          "data": {
            "text/plain": [
              "[4, 10, 18]"
            ]
          },
          "metadata": {},
          "execution_count": 93
        }
      ]
    }
  ]
}