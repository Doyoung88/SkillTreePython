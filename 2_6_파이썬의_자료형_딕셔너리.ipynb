{
  "nbformat": 4,
  "nbformat_minor": 0,
  "metadata": {
    "colab": {
      "name": "2-6.파이썬의 자료형:딕셔너리.ipynb",
      "provenance": [],
      "include_colab_link": true
    },
    "kernelspec": {
      "name": "python3",
      "display_name": "Python 3"
    },
    "language_info": {
      "name": "python"
    }
  },
  "cells": [
    {
      "cell_type": "markdown",
      "metadata": {
        "id": "view-in-github",
        "colab_type": "text"
      },
      "source": [
        "<a href=\"https://colab.research.google.com/github/Doyoung88/SkillTreePython/blob/main/2_6_%ED%8C%8C%EC%9D%B4%EC%8D%AC%EC%9D%98_%EC%9E%90%EB%A3%8C%ED%98%95_%EB%94%95%EC%85%94%EB%84%88%EB%A6%AC.ipynb\" target=\"_parent\"><img src=\"https://colab.research.google.com/assets/colab-badge.svg\" alt=\"Open In Colab\"/></a>"
      ]
    },
    {
      "cell_type": "markdown",
      "source": [
        "# 2-6.파이썬의 자료형:딕셔너리 \n",
        "---\n",
        "* 날짜:2022-12-28\n",
        "* 이름:윤도영"
      ],
      "metadata": {
        "id": "kB5IciXEm6o4"
      }
    },
    {
      "cell_type": "markdown",
      "source": [
        "## 개념정리\n",
        "---\n",
        "\n",
        "\n",
        "딕셔너리(dictionary) 는 `key`와 `value`로 이루어져 있습니다. 마치 사전처럼 특정 `key`에 접근해서 해당 `key`에 해당하는 `value`를 확인할 수 있습니다. 따라서 딕서녀리에서의 인덱싱 방법은 리스트나 튜플과 다르다는 점을 유의해야 합니다."
      ],
      "metadata": {
        "id": "4iN8NFzHRJ2D"
      }
    },
    {
      "cell_type": "markdown",
      "source": [
        "### **(1) 생성**\n",
        "\n",
        "`{ }` 기호를 통해 딕셔너리를 생성할 수 있습니다. 집합(set) 과 달리 딕셔너리에는 `key` 와 `value`가 존재하므로 이를 적어줍니다. 학생들의 이름표가 아래 표처럼 기입되어 있다고 가정합시다.\n",
        "\n",
        "|번호|이름|\n",
        "|--|--|\n",
        "|1|김모모|\n",
        "|2|이모모|\n",
        "|3|강모모|\n",
        "\n",
        "1-김모모, 2-이모모, 3-강모모 와 같이 순서쌍으로 되어있는 데이터를 딕셔너리로 아래와 같이 표현할 수 있습니다.\n",
        "```\n",
        "students = { 1: '김모모', 2: '이모모', 3: '강모모' }\n",
        "print( students, type(students) )\n",
        "```"
      ],
      "metadata": {
        "id": "MAM8MDnfw68b"
      }
    },
    {
      "cell_type": "code",
      "source": [
        "students = { 1: '김모모', 2: '이모모', 3: '강모모' } #key, value쌍으로 요소가 존재\n",
        "print( students, type(students) )"
      ],
      "metadata": {
        "id": "Ci3MSqj8mdEo",
        "colab": {
          "base_uri": "https://localhost:8080/"
        },
        "outputId": "ece96c9e-8988-4da7-976a-d7bb013218df"
      },
      "execution_count": 2,
      "outputs": [
        {
          "output_type": "stream",
          "name": "stdout",
          "text": [
            "{1: '김모모', 2: '이모모', 3: '강모모'} <class 'dict'>\n"
          ]
        }
      ]
    },
    {
      "cell_type": "code",
      "source": [
        "a = dict()\n",
        "type(a)"
      ],
      "metadata": {
        "id": "DFjm4xAtVRbt",
        "outputId": "54e56cb6-f066-4505-d9f2-906ea6bc9c1b",
        "colab": {
          "base_uri": "https://localhost:8080/"
        }
      },
      "execution_count": null,
      "outputs": [
        {
          "output_type": "execute_result",
          "data": {
            "text/plain": [
              "dict"
            ]
          },
          "metadata": {},
          "execution_count": 28
        }
      ]
    },
    {
      "cell_type": "markdown",
      "source": [
        "#### **key**\n",
        "\n",
        "* `a.keys()` : 딕셔너리 `a`의 `key` 값들을 반환합니다.\n",
        "\n",
        "딕셔너리 `students`의 `key` 값들을 확인해 봅시다.\n",
        "\n",
        "```\n",
        "students.keys()\n",
        "```"
      ],
      "metadata": {
        "id": "pTXhUDBdmflg"
      }
    },
    {
      "cell_type": "code",
      "source": [
        "list1 = list(students.keys())\n",
        "print(list1)"
      ],
      "metadata": {
        "id": "kQgNdHn9mhBf",
        "colab": {
          "base_uri": "https://localhost:8080/"
        },
        "outputId": "1a465c62-0ded-48a5-c894-4859533ae0a1"
      },
      "execution_count": null,
      "outputs": [
        {
          "output_type": "stream",
          "name": "stdout",
          "text": [
            "[1, 2, 3]\n"
          ]
        }
      ]
    },
    {
      "cell_type": "markdown",
      "source": [
        "반환 값의 타입을 보면 `dict_keys`라는 객체를 돌려주는 것을 볼 수 있습니다. `dict_keys`는 리스트를 사용하는 것과 차이가 거의 없긴 하지만 리스트에서 사용되는 유용한 메서드 (`append`, `remove`, `sort` 등)을 사용할 수 없습니다. 따라서 `dict_keys` 객체를 리스트로 변환하려면 아래와 같이 리스트로 바인딩하고 이 `key`값들을 유용하게 사용할 수 있습니다. \n",
        "\n",
        "```\n",
        "key_list = students.keys()\n",
        "print(key_list)\n",
        "```\n"
      ],
      "metadata": {
        "id": "KkMGhau7mlt0"
      }
    },
    {
      "cell_type": "code",
      "source": [
        "key_list = students.keys()\n",
        "print(key_list"
      ],
      "metadata": {
        "id": "UwBXWvk5mr4v",
        "colab": {
          "base_uri": "https://localhost:8080/",
          "height": 137
        },
        "outputId": "0fcb7a3f-3822-43c6-d24f-fb7de0a46bf6"
      },
      "execution_count": null,
      "outputs": [
        {
          "output_type": "error",
          "ename": "SyntaxError",
          "evalue": "ignored",
          "traceback": [
            "\u001b[0;36m  File \u001b[0;32m\"<ipython-input-34-c9c3e457e4c5>\"\u001b[0;36m, line \u001b[0;32m2\u001b[0m\n\u001b[0;31m    print(key_list\u001b[0m\n\u001b[0m                  ^\u001b[0m\n\u001b[0;31mSyntaxError\u001b[0m\u001b[0;31m:\u001b[0m unexpected EOF while parsing\n"
          ]
        }
      ]
    },
    {
      "cell_type": "markdown",
      "source": [
        "#### **value**\n",
        "\n",
        "* `a.values()` : 딕셔너리 `a`의 `vlalue` 값들을 반환합니다.\n",
        "\n",
        "딕셔너리 `students`의 `value` 값들을 확인해 봅시다.\n",
        "\n",
        "```\n",
        "students.values()\n",
        "```"
      ],
      "metadata": {
        "id": "xSWjMofZmqSd"
      }
    },
    {
      "cell_type": "code",
      "source": [],
      "metadata": {
        "id": "Yiu0p9Hvmh7P"
      },
      "execution_count": null,
      "outputs": []
    },
    {
      "cell_type": "markdown",
      "source": [
        "#### **딕셔너리의 요소**\n",
        "\n",
        "딕셔너리에는 `key`와 `value`로 구성되어 있습니다. `key`값과 `value`값은 문자열과 수치자료형이 모두 가능합니다.\n",
        "\n",
        "```\n",
        "students_name = { '김모모': 1, '이모모': 2, '강모모': 3}\n",
        "print(students_name)\n",
        "```"
      ],
      "metadata": {
        "id": "y4unWpUtnDRr"
      }
    },
    {
      "cell_type": "code",
      "source": [],
      "metadata": {
        "id": "N-k0xPDlnCPR"
      },
      "execution_count": null,
      "outputs": []
    },
    {
      "cell_type": "markdown",
      "source": [
        "* `value` 값은 리스트로 구성될 수 있습니다.\n",
        "\n",
        "```\n",
        "students_list = { 1: ['김모모', '여성'], 2: ['이모모', '여성'], 3: ['강모모', '남성'] } \n",
        "print(students_list)\n",
        "```"
      ],
      "metadata": {
        "id": "L3ivb4yznNkB"
      }
    },
    {
      "cell_type": "code",
      "source": [
        "students_list = { 1: ['김모모', '여성', '대구'], 2: ['이모모', '여성','대구'], 3: ['강모모', '남성','대구'] } \n",
        "print(students_list)"
      ],
      "metadata": {
        "id": "qq48adJTnIi4",
        "colab": {
          "base_uri": "https://localhost:8080/"
        },
        "outputId": "36c7ca41-36ef-4c9f-906b-1abca4f165e4"
      },
      "execution_count": null,
      "outputs": [
        {
          "output_type": "stream",
          "name": "stdout",
          "text": [
            "{1: ['김모모', '여성', '대구'], 2: ['이모모', '여성', '대구'], 3: ['강모모', '남성', '대구']}\n"
          ]
        }
      ]
    },
    {
      "cell_type": "markdown",
      "source": [
        "* `key`값은 리스트로 구성할 수 없습니다.\n",
        "\n",
        "```\n",
        "students_list = { ['김모모', '여성']:1, ['이모모', '여성']:2, ['강모모', '남성']:3 } \n",
        "print(students_list)\n",
        "```"
      ],
      "metadata": {
        "id": "q7ai9P_OnZOX"
      }
    },
    {
      "cell_type": "code",
      "source": [
        "students_list = { ['김모모', '여성']:1, ['이모모', '여성']:2, ['강모모', '남성']:3 } \n",
        "print(students_list)"
      ],
      "metadata": {
        "id": "B5rMikMYnOrP",
        "colab": {
          "base_uri": "https://localhost:8080/",
          "height": 193
        },
        "outputId": "ee3d4561-618f-43ad-de92-391e3c97a383"
      },
      "execution_count": null,
      "outputs": [
        {
          "output_type": "error",
          "ename": "TypeError",
          "evalue": "ignored",
          "traceback": [
            "\u001b[0;31m---------------------------------------------------------------------------\u001b[0m",
            "\u001b[0;31mTypeError\u001b[0m                                 Traceback (most recent call last)",
            "\u001b[0;32m<ipython-input-37-2758094f3dfd>\u001b[0m in \u001b[0;36m<module>\u001b[0;34m\u001b[0m\n\u001b[0;32m----> 1\u001b[0;31m \u001b[0mstudents_list\u001b[0m \u001b[0;34m=\u001b[0m \u001b[0;34m{\u001b[0m \u001b[0;34m[\u001b[0m\u001b[0;34m'김모모'\u001b[0m\u001b[0;34m,\u001b[0m \u001b[0;34m'여성'\u001b[0m\u001b[0;34m]\u001b[0m\u001b[0;34m:\u001b[0m\u001b[0;36m1\u001b[0m\u001b[0;34m,\u001b[0m \u001b[0;34m[\u001b[0m\u001b[0;34m'이모모'\u001b[0m\u001b[0;34m,\u001b[0m \u001b[0;34m'여성'\u001b[0m\u001b[0;34m]\u001b[0m\u001b[0;34m:\u001b[0m\u001b[0;36m2\u001b[0m\u001b[0;34m,\u001b[0m \u001b[0;34m[\u001b[0m\u001b[0;34m'강모모'\u001b[0m\u001b[0;34m,\u001b[0m \u001b[0;34m'남성'\u001b[0m\u001b[0;34m]\u001b[0m\u001b[0;34m:\u001b[0m\u001b[0;36m3\u001b[0m \u001b[0;34m}\u001b[0m\u001b[0;34m\u001b[0m\u001b[0;34m\u001b[0m\u001b[0m\n\u001b[0m\u001b[1;32m      2\u001b[0m \u001b[0mprint\u001b[0m\u001b[0;34m(\u001b[0m\u001b[0mstudents_list\u001b[0m\u001b[0;34m)\u001b[0m\u001b[0;34m\u001b[0m\u001b[0;34m\u001b[0m\u001b[0m\n",
            "\u001b[0;31mTypeError\u001b[0m: unhashable type: 'list'"
          ]
        }
      ]
    },
    {
      "cell_type": "markdown",
      "source": [
        "### **(2) 인덱싱과 슬라이싱**\n",
        "\n",
        "딕셔너리 자료형은 인덱싱이 가능하지만 슬라이싱은 불가능합니다.\n",
        "\n",
        "#### **인덱싱**\n",
        "\n",
        "딕셔너리 자료형에서 인덱싱을 하기 위해서는 `key`값을 이용합니다. \n",
        "\n",
        "```\n",
        "print(students)\n",
        "\n",
        "print(students[1]) \n",
        "print(students[2])\n",
        "print(students[3])\n",
        "```"
      ],
      "metadata": {
        "id": "6USCWJfinhzp"
      }
    },
    {
      "cell_type": "code",
      "source": [
        "print(students)#해당 key값이 없으면 오류\n",
        "\n",
        "print(students[1]) \n",
        "print(students[2])\n",
        "print(students[3])\n",
        "student_name['강모모']"
      ],
      "metadata": {
        "id": "ru9cjc8MnhVA",
        "colab": {
          "base_uri": "https://localhost:8080/",
          "height": 284
        },
        "outputId": "0b2e5132-b129-4dac-df17-fd8dd023dfe2"
      },
      "execution_count": null,
      "outputs": [
        {
          "output_type": "stream",
          "name": "stdout",
          "text": [
            "{1: '김모모', 2: '이모모', 3: '강모모'}\n",
            "김모모\n",
            "이모모\n",
            "강모모\n"
          ]
        },
        {
          "output_type": "error",
          "ename": "NameError",
          "evalue": "ignored",
          "traceback": [
            "\u001b[0;31m---------------------------------------------------------------------------\u001b[0m",
            "\u001b[0;31mNameError\u001b[0m                                 Traceback (most recent call last)",
            "\u001b[0;32m<ipython-input-41-7757d52cfff3>\u001b[0m in \u001b[0;36m<module>\u001b[0;34m\u001b[0m\n\u001b[1;32m      4\u001b[0m \u001b[0mprint\u001b[0m\u001b[0;34m(\u001b[0m\u001b[0mstudents\u001b[0m\u001b[0;34m[\u001b[0m\u001b[0;36m2\u001b[0m\u001b[0;34m]\u001b[0m\u001b[0;34m)\u001b[0m\u001b[0;34m\u001b[0m\u001b[0;34m\u001b[0m\u001b[0m\n\u001b[1;32m      5\u001b[0m \u001b[0mprint\u001b[0m\u001b[0;34m(\u001b[0m\u001b[0mstudents\u001b[0m\u001b[0;34m[\u001b[0m\u001b[0;36m3\u001b[0m\u001b[0;34m]\u001b[0m\u001b[0;34m)\u001b[0m\u001b[0;34m\u001b[0m\u001b[0;34m\u001b[0m\u001b[0m\n\u001b[0;32m----> 6\u001b[0;31m \u001b[0mstudent_name\u001b[0m\u001b[0;34m[\u001b[0m\u001b[0;34m'강모모'\u001b[0m\u001b[0;34m]\u001b[0m\u001b[0;34m\u001b[0m\u001b[0;34m\u001b[0m\u001b[0m\n\u001b[0m",
            "\u001b[0;31mNameError\u001b[0m: name 'student_name' is not defined"
          ]
        }
      ]
    },
    {
      "cell_type": "markdown",
      "source": [
        "### **(3) 수정과 삭제**\n"
      ],
      "metadata": {
        "id": "Jt3KMf5enuzd"
      }
    },
    {
      "cell_type": "markdown",
      "source": [
        "\n",
        "#### **수정**\n",
        "\n",
        "인덱싱을 이용해 `value`값에 접근하여 값을 수정할 수 있습니다.\n",
        "\n",
        "```\n",
        "print(students)\n",
        "students[1] = \"윤모모\" # key 1 해당하는 value를 \"윤모모\"로 변경\n",
        "print(students)\n",
        "```"
      ],
      "metadata": {
        "id": "T4fcddD9n2XQ"
      }
    },
    {
      "cell_type": "code",
      "source": [
        "print(students)\n",
        "students[1] = \"윤모모\" # key 1 해당하는 value를 \"윤모모\"로 변경\n",
        "print(students)\n",
        "# 추가\n",
        "# key4에 '한모모'학생 추가\n",
        "students[4] = \"한모모\"\n",
        "students[0] = \"정모모\"\n",
        "print(students)"
      ],
      "metadata": {
        "id": "FqSnpoQgnf1X",
        "colab": {
          "base_uri": "https://localhost:8080/"
        },
        "outputId": "0b0e1762-4d1e-4642-8f8c-13f4181fc2e9"
      },
      "execution_count": null,
      "outputs": [
        {
          "output_type": "stream",
          "name": "stdout",
          "text": [
            "{1: '윤모모', 2: '이모모', 3: '강모모', 4: '한모모'}\n",
            "{1: '윤모모', 2: '이모모', 3: '강모모', 4: '한모모'}\n",
            "{1: '윤모모', 2: '이모모', 3: '강모모', 4: '한모모', 0: '정모모'}\n"
          ]
        }
      ]
    },
    {
      "cell_type": "markdown",
      "source": [
        "#### **삭제**\n",
        "\n",
        "인덱싱을 에용해 `value`값에 접근하고, `del` 을이용해 값을 삭제할 수 있습니다.\n",
        "\n",
        "```\n",
        "print(students)\n",
        "del students[1] # (1-윤모모) 삭제\n",
        "print(students)\n",
        "```\n"
      ],
      "metadata": {
        "id": "8FDcTjVPn_GM"
      }
    },
    {
      "cell_type": "code",
      "source": [
        "print(students)\n",
        "del students[0] \n",
        "print(students)"
      ],
      "metadata": {
        "id": "ssIGMsJ_n5D3",
        "colab": {
          "base_uri": "https://localhost:8080/"
        },
        "outputId": "7df6838f-c4cd-4b7f-80f2-d492f7d8ec69"
      },
      "execution_count": null,
      "outputs": [
        {
          "output_type": "stream",
          "name": "stdout",
          "text": [
            "{1: '윤모모', 2: '이모모', 3: '강모모', 4: '한모모', 0: '정모모'}\n",
            "{1: '윤모모', 2: '이모모', 3: '강모모', 4: '한모모'}\n"
          ]
        }
      ]
    },
    {
      "cell_type": "markdown",
      "source": [
        "\n",
        "### **(4) 관련 메서드**"
      ],
      "metadata": {
        "id": "UOJIwkinoRaF"
      }
    },
    {
      "cell_type": "markdown",
      "source": [
        "\n",
        "\n",
        "* `dict.get(k)` : 딕셔너리 `dict`의 key `k`에 해당하는 value를 반환합니다. 인덱싱과 같은 기능을 합니다. \n",
        "\n",
        "```\n",
        "print(students)\n",
        "print(students.get(2)) #  key 2에 해당하는 value 출력 (.get 이용하기)\n",
        "print(students[2]) # key 2에 해당하는 value 출력 (인덱싱 이용하기)\n",
        "```"
      ],
      "metadata": {
        "id": "P4ZTx-WLoFHQ"
      }
    },
    {
      "cell_type": "code",
      "source": [
        "print(students)\n",
        "students[2], students.get[2]"
      ],
      "metadata": {
        "id": "EeNW-L8AoDqR",
        "colab": {
          "base_uri": "https://localhost:8080/",
          "height": 211
        },
        "outputId": "06d6981a-ffdf-458e-dac4-d96f1f0f4913"
      },
      "execution_count": null,
      "outputs": [
        {
          "output_type": "stream",
          "name": "stdout",
          "text": [
            "{1: '윤모모', 2: '이모모', 3: '강모모', 4: '한모모'}\n"
          ]
        },
        {
          "output_type": "error",
          "ename": "TypeError",
          "evalue": "ignored",
          "traceback": [
            "\u001b[0;31m---------------------------------------------------------------------------\u001b[0m",
            "\u001b[0;31mTypeError\u001b[0m                                 Traceback (most recent call last)",
            "\u001b[0;32m<ipython-input-50-37a62942a838>\u001b[0m in \u001b[0;36m<module>\u001b[0;34m\u001b[0m\n\u001b[1;32m      1\u001b[0m \u001b[0mprint\u001b[0m\u001b[0;34m(\u001b[0m\u001b[0mstudents\u001b[0m\u001b[0;34m)\u001b[0m\u001b[0;34m\u001b[0m\u001b[0;34m\u001b[0m\u001b[0m\n\u001b[0;32m----> 2\u001b[0;31m \u001b[0mstudents\u001b[0m\u001b[0;34m[\u001b[0m\u001b[0;36m2\u001b[0m\u001b[0;34m]\u001b[0m\u001b[0;34m,\u001b[0m \u001b[0mstudents\u001b[0m\u001b[0;34m.\u001b[0m\u001b[0mget\u001b[0m\u001b[0;34m[\u001b[0m\u001b[0;36m2\u001b[0m\u001b[0;34m]\u001b[0m\u001b[0;34m\u001b[0m\u001b[0;34m\u001b[0m\u001b[0m\n\u001b[0m",
            "\u001b[0;31mTypeError\u001b[0m: 'builtin_function_or_method' object is not subscriptable"
          ]
        }
      ]
    },
    {
      "cell_type": "markdown",
      "source": [
        "* `dict.items()` : 딕셔너리 `dict`의 key 와 value를 튜플 쌍으로 반환합니다.\n",
        "\n",
        "\n",
        "```\n",
        "print(students.items()) # key-value 쌍 출력\n",
        "```\n"
      ],
      "metadata": {
        "id": "IY34hs3NoQCi"
      }
    },
    {
      "cell_type": "code",
      "source": [
        "print(students)\n",
        "print(students.items())"
      ],
      "metadata": {
        "id": "GetiL-7-oI9O",
        "colab": {
          "base_uri": "https://localhost:8080/"
        },
        "outputId": "0f4310cb-ded8-4b9b-ec54-166468fea817"
      },
      "execution_count": 4,
      "outputs": [
        {
          "output_type": "stream",
          "name": "stdout",
          "text": [
            "{1: '김모모', 2: '이모모', 3: '강모모'}\n",
            "dict_items([(1, '김모모'), (2, '이모모'), (3, '강모모')])\n"
          ]
        }
      ]
    },
    {
      "cell_type": "markdown",
      "source": [
        "유용하게 사용하기 위해서는 리스트로 바꿔줍니다.\n",
        "\n",
        "```\n",
        "item_list = list(students.items())\n",
        "print(item_list)\n",
        "```"
      ],
      "metadata": {
        "id": "7CJzSn8boYPY"
      }
    },
    {
      "cell_type": "code",
      "source": [
        "item_list = list(students.items())\n",
        "print(item_list)"
      ],
      "metadata": {
        "id": "ndAt_6B_ohRM",
        "colab": {
          "base_uri": "https://localhost:8080/"
        },
        "outputId": "be9fe8e7-c39c-480e-cab4-859446c57527"
      },
      "execution_count": 5,
      "outputs": [
        {
          "output_type": "stream",
          "name": "stdout",
          "text": [
            "[(1, '김모모'), (2, '이모모'), (3, '강모모')]\n"
          ]
        }
      ]
    },
    {
      "cell_type": "markdown",
      "source": [
        "리스트 형식으로 `key`와 `value`값에 적절히 접근할 수 있습니다.\n",
        "\n",
        "```\n",
        "print(item_list[0][0]) # 0번째 key\n",
        "print(item_list[0][1]) # 0번째 value\n",
        "print(item_list[1][0]) # 1번째 key\n",
        "print(item_list[1][1]) # 1번째 value\n",
        "```"
      ],
      "metadata": {
        "id": "3Mz2hNPvoiYX"
      }
    },
    {
      "cell_type": "code",
      "source": [
        "print(item_list[0][0])\n",
        "print(item_list[0][1])\n",
        "print(item_list[2][1])"
      ],
      "metadata": {
        "id": "l1ggc4rqo5Kg",
        "colab": {
          "base_uri": "https://localhost:8080/"
        },
        "outputId": "1cb736d1-4f0c-43af-b81e-d52b43d8bb05"
      },
      "execution_count": null,
      "outputs": [
        {
          "output_type": "stream",
          "name": "stdout",
          "text": [
            "1\n",
            "김모모\n",
            "강모모\n"
          ]
        }
      ]
    },
    {
      "cell_type": "markdown",
      "source": [
        "* `dict.clear()` : 딕셔너리 `dict`의 구성요소를 초기화(제거) 합니다.\n",
        "\n",
        "```\n",
        "print(students) # students  출력\n",
        "students.clear() # students 초기화\n",
        "print(students) # students  출력\n",
        "```"
      ],
      "metadata": {
        "id": "NPopL6l8oTw1"
      }
    },
    {
      "cell_type": "code",
      "source": [
        "print(students) # students  출력\n",
        "students.clear() # students 초기화 = 안에요소 모두 제거\n",
        "print(students) # students  출력"
      ],
      "metadata": {
        "id": "OufFGiD8oUEJ",
        "colab": {
          "base_uri": "https://localhost:8080/"
        },
        "outputId": "89abcacb-5413-432d-d349-8e1e347edfb4"
      },
      "execution_count": null,
      "outputs": [
        {
          "output_type": "stream",
          "name": "stdout",
          "text": [
            "{1: '윤모모', 2: '이모모', 3: '강모모', 4: '한모모'}\n",
            "{}\n"
          ]
        }
      ]
    },
    {
      "cell_type": "markdown",
      "source": [
        "## 문제풀이\n",
        "---\n",
        "\n"
      ],
      "metadata": {
        "id": "E2hw7Lu5o-fs"
      }
    },
    {
      "cell_type": "markdown",
      "source": [
        "**예제 01**\n",
        "\n",
        "과일메뉴와 가격이 다음과 같습니다. 이를 딕셔너리로 저장하세요\n",
        "\n",
        "|과일|가격|\n",
        "--|--\n",
        "사과|1000\n",
        "바나나|2400\n",
        "감자|400|\n",
        "메론|8000\n",
        "복숭아|4000\n",
        "딸기|9000\n"
      ],
      "metadata": {
        "id": "vBBYosZJpASW"
      }
    },
    {
      "cell_type": "code",
      "source": [
        "menu = {'사과': 1000, '바나나': 2400, '감자': 400, '메론': 8000, '복숭아': 4000, '딸기': 9000}\n",
        "print(menu)"
      ],
      "metadata": {
        "id": "NjNzHNhHo8Pm",
        "colab": {
          "base_uri": "https://localhost:8080/"
        },
        "outputId": "b5f57a6b-34ad-4f7f-c826-fef69180adba"
      },
      "execution_count": null,
      "outputs": [
        {
          "output_type": "stream",
          "name": "stdout",
          "text": [
            "{'사과': 1000, '바나나': 2400, '감자': 400, '메론': 8000, '복숭아': 4000, '딸기': 9000}\n"
          ]
        }
      ]
    },
    {
      "cell_type": "markdown",
      "source": [
        "**예제 02**\n",
        "\n",
        "위에서 만든 딕셔너리에 \"포도\"를 추가하세요 가격은 6500원입니다."
      ],
      "metadata": {
        "id": "EHflY9g-pBpS"
      }
    },
    {
      "cell_type": "code",
      "source": [
        "menu['포도'] =  6500\n",
        "print(menu)"
      ],
      "metadata": {
        "id": "AvZFSHdLpCv4",
        "colab": {
          "base_uri": "https://localhost:8080/"
        },
        "outputId": "4c6f30d6-9bf3-40e9-862c-244f0c31e252"
      },
      "execution_count": null,
      "outputs": [
        {
          "output_type": "stream",
          "name": "stdout",
          "text": [
            "{'사과': 1000, '바나나': 2400, '감자': 400, '메론': 8000, '복숭아': 4000, '딸기': 9000, '포도': 6500}\n"
          ]
        }
      ]
    },
    {
      "cell_type": "markdown",
      "source": [
        "**예제 03**\n",
        "\n",
        "위에서 만든 딕셔너리에 \"감자\"를 삭제하세요\n"
      ],
      "metadata": {
        "id": "RqOkRDTspC5V"
      }
    },
    {
      "cell_type": "code",
      "source": [
        "del menu['감자']\n",
        "print(menu)"
      ],
      "metadata": {
        "id": "Z46WP9k2pDYQ",
        "colab": {
          "base_uri": "https://localhost:8080/"
        },
        "outputId": "30d77bba-d300-4068-eeb4-bdb177f5c687"
      },
      "execution_count": null,
      "outputs": [
        {
          "output_type": "stream",
          "name": "stdout",
          "text": [
            "{'사과': 1000, '바나나': 2400, '메론': 8000, '복숭아': 4000, '딸기': 9000, '포도': 6500}\n"
          ]
        }
      ]
    },
    {
      "cell_type": "markdown",
      "source": [
        "**예제 04**\n",
        "\n",
        "복숭아 가격이 올라 4500원이 되었습니다. 가격을 조정하세요"
      ],
      "metadata": {
        "id": "o6HRTQy3pDeI"
      }
    },
    {
      "cell_type": "code",
      "source": [
        "menu['복숭아'] = 4500\n",
        "print(menu)"
      ],
      "metadata": {
        "id": "w7MSSt_ypEJ0",
        "colab": {
          "base_uri": "https://localhost:8080/"
        },
        "outputId": "20b990fa-7b58-4bd2-f4b3-949d76fb925d"
      },
      "execution_count": null,
      "outputs": [
        {
          "output_type": "stream",
          "name": "stdout",
          "text": [
            "{'사과': 1000, '바나나': 2400, '메론': 8000, '복숭아': 4500, '딸기': 9000, '포도': 6500}\n"
          ]
        }
      ]
    },
    {
      "cell_type": "markdown",
      "source": [
        "**예제 05**\n",
        "\n",
        "위에서 정의한 딕셔너리의 key 값들만 이용해서 아래와 같이 출력되도록 세줄의 코드를 작성하세요\n",
        "\n",
        "* 코드\n",
        "```\n",
        "# key값을 리스트로 변환합니다.\n",
        "# 리스트를 문자열로 변환합니다.\n",
        "# 문자열을 출력합니다.\n",
        "```\n",
        "\n",
        "* 실행 결과\n",
        "```\n",
        "가게 과일 종류는 사과, 바나나, 메론, 봉숭아, 딸기, 포도 입니다!\n",
        "```"
      ],
      "metadata": {
        "id": "W4tcYa3MpEOc"
      }
    },
    {
      "cell_type": "code",
      "source": [
        "list1 = list(menu.keys())\n",
        "str1 = ', '.join(list1)\n",
        "print(\"가게 과일 종류는\", str1, \"입니다!\")"
      ],
      "metadata": {
        "id": "opdEEVMHpFQx",
        "colab": {
          "base_uri": "https://localhost:8080/"
        },
        "outputId": "9fd51b2f-f9c1-486a-fb47-4886947d5edd"
      },
      "execution_count": null,
      "outputs": [
        {
          "output_type": "stream",
          "name": "stdout",
          "text": [
            "가게 과일 종류는 사과, 바나나, 메론, 복숭아, 딸기, 포도 입니다!\n"
          ]
        }
      ]
    },
    {
      "cell_type": "markdown",
      "source": [
        "**예제 06**\n",
        "\n",
        "위에서 정의한 딕셔너리를 이용해서 사용자가 과일 종류 한가지를 입력하면 해당 과일의 가격을 출력하는 코드를 작성하세요\n",
        "\n",
        "* 실행 결과\n",
        "```\n",
        ">> 어떤 과일을 찾으시나요?: 사과\n",
        "사과의 가격은 1000원 입니다.\n",
        "```"
      ],
      "metadata": {
        "id": "x2E746EdpFWN"
      }
    },
    {
      "cell_type": "code",
      "source": [
        "#{'사과': 1000, '바나나': 2400, '메론': 8000, '복숭아': 4500, '딸기': 9000, '포도': 6500}\n",
        "a = input(\"어떤 과일을 찾으시나요? :\")\n",
        "price = menu[a]  \n",
        "print(a, \"의 가격은 \", menu[a], \"원 입니다.\", sep='')"
      ],
      "metadata": {
        "id": "A4_O8rJepQtv",
        "colab": {
          "base_uri": "https://localhost:8080/"
        },
        "outputId": "fdabe3b0-0537-4947-cfdb-f1b51dff0040"
      },
      "execution_count": null,
      "outputs": [
        {
          "output_type": "stream",
          "name": "stdout",
          "text": [
            "어떤 과일을 찾으시나요? :바나나\n",
            "바나나의 가격은 2400원 입니다.\n"
          ]
        }
      ]
    },
    {
      "cell_type": "markdown",
      "source": [
        "**예제 07**\n",
        "\n",
        "커피를 `key`로, 가격과 재고가 들어있는 리스트를 `value` 로 하는 딕셔너리를 구성하여 `caffe_menu`로 바인딩하세요.\n",
        "\n",
        "|이름| 가격 | 재고 |\n",
        "|------| -----|----|\n",
        "|americano|1000|8\n",
        "|latte|1200|5\n",
        "|milk tea|1800|4\n"
      ],
      "metadata": {
        "id": "Jn6EOaYdpmJi"
      }
    },
    {
      "cell_type": "code",
      "source": [
        "caffe_menu = { 'americano': [1000, 8], 'latte': [1200, 5], 'milk tea': [1800, 4] }"
      ],
      "metadata": {
        "id": "4mBLSS4TpnfO"
      },
      "execution_count": 13,
      "outputs": []
    },
    {
      "cell_type": "markdown",
      "source": [
        "**예제 08**\n",
        "\n",
        "americano의 재고를 출력하세요\n"
      ],
      "metadata": {
        "id": "wnkXcxJNpsQd"
      }
    },
    {
      "cell_type": "code",
      "source": [
        "caffe_menu['americano'][1]"
      ],
      "metadata": {
        "id": "tnwv8DN9ptEt",
        "colab": {
          "base_uri": "https://localhost:8080/"
        },
        "outputId": "34738f00-6b9f-4419-dd78-e13cacfed8f5"
      },
      "execution_count": null,
      "outputs": [
        {
          "output_type": "execute_result",
          "data": {
            "text/plain": [
              "8"
            ]
          },
          "metadata": {},
          "execution_count": 120
        }
      ]
    },
    {
      "cell_type": "markdown",
      "source": [
        "\n",
        "**예제 09**\n",
        "\n",
        "latte의 가격을 출력하세요"
      ],
      "metadata": {
        "id": "wRw90-mHptKS"
      }
    },
    {
      "cell_type": "code",
      "source": [
        "caffe_menu['latte'][0]"
      ],
      "metadata": {
        "id": "wX5wz3bqpt7R",
        "colab": {
          "base_uri": "https://localhost:8080/"
        },
        "outputId": "26d71d01-e194-4f1b-eac2-8185858c71cc"
      },
      "execution_count": null,
      "outputs": [
        {
          "output_type": "execute_result",
          "data": {
            "text/plain": [
              "1200"
            ]
          },
          "metadata": {},
          "execution_count": 121
        }
      ]
    },
    {
      "cell_type": "markdown",
      "source": [
        "**예제 10**\n",
        "\n",
        "모든 가격의 평균을 출력하는 코드를 한줄로 작성하세요"
      ],
      "metadata": {
        "id": "bHKHg1UJpuA4"
      }
    },
    {
      "cell_type": "code",
      "source": [
        "avg = (caffe_menu['americano'][0] + caffe_menu['latte'][0] + caffe_menu['milk tea'][0]) /len(caffe_menu)\n",
        "print(avg)\n",
        "\n"
      ],
      "metadata": {
        "id": "W_V1N7SDpvBh",
        "colab": {
          "base_uri": "https://localhost:8080/"
        },
        "outputId": "dbaeb0b4-50e6-43c8-f3bb-6005467cf6ac"
      },
      "execution_count": null,
      "outputs": [
        {
          "output_type": "stream",
          "name": "stdout",
          "text": [
            "1333.3333333333333\n"
          ]
        }
      ]
    },
    {
      "cell_type": "markdown",
      "source": [
        "**예제 11**\n",
        "\n",
        "모든 가장 비싼 음료의 가격을 출력하는 코드를 한줄로 작성하세요"
      ],
      "metadata": {
        "id": "UGj-HLxApvKn"
      }
    },
    {
      "cell_type": "code",
      "source": [
        "list1 = [caffe_menu['americano'][0], caffe_menu['latte'][0], caffe_menu['milk tea'][0]]\n",
        "max(list1)"
      ],
      "metadata": {
        "id": "rSCh6S4opwEC",
        "colab": {
          "base_uri": "https://localhost:8080/"
        },
        "outputId": "6c74991a-d574-4c46-d33f-9414d7bc7b76"
      },
      "execution_count": null,
      "outputs": [
        {
          "output_type": "execute_result",
          "data": {
            "text/plain": [
              "1800"
            ]
          },
          "metadata": {},
          "execution_count": 125
        }
      ]
    },
    {
      "cell_type": "markdown",
      "source": [
        "**예제 12**\n",
        "\n",
        "우유값의 인상으로 latte와 milk tea의 가격이 300원씩 올랐습니다. `caffe_menu`에 반영하세요. (딕셔너리 자체를 재바인딩 하지 않도록 코드를 작성하세요.)"
      ],
      "metadata": {
        "id": "Ll9-2W1ZqVPP"
      }
    },
    {
      "cell_type": "code",
      "source": [
        "#+사용\n",
        "print(caffe_menu)\n",
        "caffe_menu['latte'][0] = caffe_menu['latte'][0] + 300\n",
        "caffe_menu['milk tea'][0] = caffe_menu['milk tea'][0] + 300\n",
        "print(caffe_menu)"
      ],
      "metadata": {
        "id": "VnpW2XlJqVay",
        "colab": {
          "base_uri": "https://localhost:8080/"
        },
        "outputId": "28058ada-7829-4c88-e27d-a8f38124da7b"
      },
      "execution_count": 14,
      "outputs": [
        {
          "output_type": "stream",
          "name": "stdout",
          "text": [
            "{'americano': [1000, 8], 'latte': [1200, 5], 'milk tea': [1800, 4]}\n",
            "{'americano': [1000, 8], 'latte': [1500, 5], 'milk tea': [2100, 4]}\n"
          ]
        }
      ]
    },
    {
      "cell_type": "markdown",
      "source": [
        "**예제 13**\n",
        "\n",
        "가격, 재고 외에 판매수 라는 정보를 더 추가하려 합니다. 판매수는 americano 15개, latte 8개, milk tea 5개 입니다. `caffe_menu`의 `value`에 판매수를 추가하세요.  (딕셔너리 자체를 재바인딩 하지 않도록 코드를 작성하세요.)\n"
      ],
      "metadata": {
        "id": "ffpR-aIzpwQn"
      }
    },
    {
      "cell_type": "code",
      "source": [
        "caffe_menu['americano'].append(15) #append\n",
        "caffe_menu['latte'].append(8)\n",
        "caffe_menu['milk tea'].append(5)\n",
        "print(caffe_menu)"
      ],
      "metadata": {
        "id": "ZhtuPrubpxhN",
        "colab": {
          "base_uri": "https://localhost:8080/"
        },
        "outputId": "251644d1-b428-49f3-ce0c-d6a35e981495"
      },
      "execution_count": 15,
      "outputs": [
        {
          "output_type": "stream",
          "name": "stdout",
          "text": [
            "{'americano': [1000, 8, 15], 'latte': [1500, 5, 8], 'milk tea': [2100, 4, 5]}\n"
          ]
        }
      ]
    },
    {
      "cell_type": "markdown",
      "source": [
        "**예제 14**\n",
        "\n",
        "재고 자동화로 더이상 재고 데이터가 필요없게 되었습니다. `caffe_menu`에서  재고에 관한 값을 제거하세요. (딕셔너리 자체를 재바인딩 하지 않도록 코드를 작성하세요.)"
      ],
      "metadata": {
        "id": "hH-ILO6gqlxi"
      }
    },
    {
      "cell_type": "code",
      "source": [
        "del caffe_menu['americano'][1]\n",
        "del caffe_menu['latte'][1]\n",
        "del caffe_menu['milk tea'][1]\n",
        "caffe_menu"
      ],
      "metadata": {
        "id": "MGHM3OKIqlxj",
        "colab": {
          "base_uri": "https://localhost:8080/"
        },
        "outputId": "edb344ff-163f-4ed2-fb1b-403059d3a287"
      },
      "execution_count": 16,
      "outputs": [
        {
          "output_type": "execute_result",
          "data": {
            "text/plain": [
              "{'americano': [1000, 15], 'latte': [1500, 8], 'milk tea': [2100, 5]}"
            ]
          },
          "metadata": {},
          "execution_count": 16
        }
      ]
    },
    {
      "cell_type": "markdown",
      "source": [
        "**예제 15**\n",
        "\n",
        "새로운 메뉴 `vanilla latte`가 추가되었습니다. 가격은 2000원이고 판매수는 0입니다. `caffe_menu`에 추가하세요."
      ],
      "metadata": {
        "id": "ayPk9FlFq3tf"
      }
    },
    {
      "cell_type": "code",
      "source": [
        "caffe_menu['vanilla latte'] = [2000,0]\n",
        "caffe_menu"
      ],
      "metadata": {
        "id": "9MXlfxTLq3tl",
        "colab": {
          "base_uri": "https://localhost:8080/"
        },
        "outputId": "b9fe0259-f59e-4060-bf36-ac99560c2304"
      },
      "execution_count": 17,
      "outputs": [
        {
          "output_type": "execute_result",
          "data": {
            "text/plain": [
              "{'americano': [1000, 15],\n",
              " 'latte': [1500, 8],\n",
              " 'milk tea': [2100, 5],\n",
              " 'vanilla latte': [2000, 0]}"
            ]
          },
          "metadata": {},
          "execution_count": 17
        }
      ]
    },
    {
      "cell_type": "markdown",
      "source": [
        "**예제 16**\n",
        "\n",
        "아래와 같이 코드를 실행하면 메뉴를 띄우고, 사용자가 메뉴를 입력하면 메뉴에 대한 정보를 출력하는 코드를 작성하세요.\n",
        "\n",
        "* 실행 결과\n",
        "```\n",
        ">> 메뉴: americano * latte * milk tea * vanilla latte\n",
        ">> 메뉴를 선택하세요: milk tea\n",
        "milk tea 의 가격은 2100원이고 오늘 5개 팔렸습니다.\n",
        "```\n"
      ],
      "metadata": {
        "id": "12io9CvxpSeZ"
      }
    },
    {
      "cell_type": "code",
      "source": [
        "print(\"메뉴: americano * latte * milk tea * vanilla latte\")\n",
        "menu = input(\"메뉴를 선택하세요: \")\n",
        "price = caffe_menu[menu][0]\n",
        "sale = caffe_menu[menu][1]\n",
        "print(menu,\"의 가격은 \", price, \"원이고 오늘 \", sale, \"개 팔렸습니다.\", sep = \"\" )\n"
      ],
      "metadata": {
        "id": "rBVfpGbppTqv",
        "colab": {
          "base_uri": "https://localhost:8080/"
        },
        "outputId": "f81183b3-8365-477d-b9c2-9b4edcf92ec5"
      },
      "execution_count": 20,
      "outputs": [
        {
          "output_type": "stream",
          "name": "stdout",
          "text": [
            "메뉴: americano * latte * milk tea * vanilla latte\n",
            "메뉴를 선택하세요: milk tea\n",
            "milk tea의 가격은 2100원이고 오늘 5개 팔렸습니다.\n"
          ]
        }
      ]
    },
    {
      "cell_type": "markdown",
      "source": [
        "**예제 17**\n",
        "\n",
        "아래와 같이 사용자가 0부터 9까지 숫자를 입력하면 한국어로 변환하는 코드를 작성하세요. \n",
        "\n",
        "* 실행 결과\n",
        "```\n",
        ">> 0부터 9까지 숫자를 입력하세요: 7\n",
        "7은 한국어로 \"칠\" 이라고 읽습니다.\n",
        "```\n"
      ],
      "metadata": {
        "id": "uS21dCdOrsr_"
      }
    },
    {
      "cell_type": "code",
      "source": [
        "trans = {0:'영', 1:'일', 2:'이', 3:'삼', 4:'사', 5:'오', 6:'육', 7:'칠', 8:'팔', 9:'구'}\n",
        "num = int(input(\"0부터 9까지 숫자를 입력하세요: \"))\n",
        "print(num,\"은 한국어로 \\\"\", trans[num], \"\\\" 이라고 읽습니다.\", sep = \"\")"
      ],
      "metadata": {
        "id": "bPbTUijmrsr_",
        "colab": {
          "base_uri": "https://localhost:8080/"
        },
        "outputId": "c9d5e594-4a08-4aaf-f8f0-a676dcec146b"
      },
      "execution_count": 23,
      "outputs": [
        {
          "output_type": "stream",
          "name": "stdout",
          "text": [
            "0부터 9까지 숫자를 입력하세요: 3\n",
            "3은 한국어로 \"삼\" 이라고 읽습니다.\n"
          ]
        }
      ]
    },
    {
      "cell_type": "markdown",
      "source": [
        "**예제 18**\n",
        "\n",
        "아래와 같이 딕셔너리가 정의되어 있습니다. 알파벳을 입력하면 아래와 같은 실행 결과를 내는 코드를 작성하세요.\n",
        "\n",
        "```\n",
        "abc_dict = {'a': ['apple', 'air'], 'b': ['banana', 'book'] , 'c' : ['cherry', 'car']}\n",
        "```\n",
        "\n",
        "* 실행 결과\n",
        "```\n",
        ">> alphabet : a\n",
        "a is apple, a is air\n",
        "```\n",
        "\n",
        "* 실행 결과\n",
        "```\n",
        ">> alphabet : b\n",
        "b is banana, b is book\n",
        "```\n"
      ],
      "metadata": {
        "id": "ll-l2MJUrtCn"
      }
    },
    {
      "cell_type": "code",
      "source": [
        "abc_dict = {'a': ['apple', 'air'], 'b': ['banana', 'book'] , 'c' : ['cherry', 'car']}\n",
        "a = input(\"alphabet : \")\n",
        "print(a, \" is \", abc_dict[a][0], \", \", a, \" is \", abc_dict[a][1], sep = \"\" )"
      ],
      "metadata": {
        "id": "_LNc0bKKrtCn",
        "colab": {
          "base_uri": "https://localhost:8080/"
        },
        "outputId": "8e45d96a-e1a9-4dc3-e704-7d148d59987c"
      },
      "execution_count": 29,
      "outputs": [
        {
          "output_type": "stream",
          "name": "stdout",
          "text": [
            "alphabet : b\n",
            "b is banana, b is book\n"
          ]
        }
      ]
    },
    {
      "cell_type": "markdown",
      "source": [
        "**예제 19**\n",
        "\n",
        "아래와 같이 딕셔너리가 정의되어 있습니다. 알파벳을 입력하면 아래와 같은 실행 결과를 내는 코드를 작성하세요.\n",
        "\n",
        "```\n",
        "abc_dict = {'a': ['apple', 'air'], 'b': ['banana', 'book'] , 'c' : ['cherry', 'car']}\n",
        "```\n",
        "\n",
        "* 실행 결과\n",
        "```\n",
        ">> alphabet : a\n",
        "a is Apple, a is Air\n",
        "```\n",
        "\n",
        "* 실행 결과\n",
        "```\n",
        ">> alphabet : b\n",
        "b is Banana, b is Book\n",
        "```\n"
      ],
      "metadata": {
        "id": "AUslSi-ct6w2"
      }
    },
    {
      "cell_type": "code",
      "source": [
        "abc_dict = {'a': ['apple', 'air'], 'b': ['banana', 'book'] , 'c' : ['cherry', 'car']}\n",
        "a = input(\"alphabet : \")\n",
        "aa = abc_dict[a][0]\n",
        "bb = abc_dict[a][1]\n",
        "AA = aa.capitalize()\n",
        "BB = bb.capitalize()\n",
        "print(a, \"is\", AA, \",\", a, \"is\", BB)"
      ],
      "metadata": {
        "id": "ZM8oRmBPt6w8",
        "colab": {
          "base_uri": "https://localhost:8080/"
        },
        "outputId": "c926c2b6-d501-40bc-c09e-64b1ab3b7728"
      },
      "execution_count": null,
      "outputs": [
        {
          "output_type": "stream",
          "name": "stdout",
          "text": [
            "alphabet : a\n",
            "a is Apple , a is Air\n"
          ]
        }
      ]
    },
    {
      "cell_type": "markdown",
      "source": [
        "**예제 20**\n",
        "\n",
        "아래와 같이 딕셔너리가 정의되어 있습니다. 알파벳을 입력하면 아래와 같은 실행 결과를 내는 코드를 작성하세요.\n",
        "\n",
        "```\n",
        "abc_dict = {'a': ['apple', 'air'], 'b': ['banana', 'book'] , 'c' : ['cherry', 'car']}\n",
        "```\n",
        "\n",
        "* 실행 결과\n",
        "```\n",
        ">> alphabet : a\n",
        ">> num : 0\n",
        "a is Apple\n",
        "```\n",
        "\n",
        "* 실행 결과\n",
        "```\n",
        ">> alphabet : b\n",
        ">> num : 1\n",
        "b is Book\n",
        "```\n"
      ],
      "metadata": {
        "id": "xTC4HPlzuF-i"
      }
    },
    {
      "cell_type": "code",
      "source": [
        "abc_dict = {'a': ['apple', 'air'], 'b': ['banana', 'book'] , 'c' : ['cherry', 'car']}\n",
        "fruit = input(\"alphabet : \")\n",
        "num = int(input(\"num : \"))\n",
        "cc = abc_dict[fruit][num]\n",
        "CC = cc.capitalize()\n",
        "print(fruit, \"is\", CC) \n",
        "\n"
      ],
      "metadata": {
        "id": "TMyWR9-buF-p",
        "colab": {
          "base_uri": "https://localhost:8080/"
        },
        "outputId": "9f4100dc-ce87-4cd0-b2fb-44adee04a024"
      },
      "execution_count": null,
      "outputs": [
        {
          "output_type": "stream",
          "name": "stdout",
          "text": [
            "alphabet : a\n",
            "num : 0\n",
            "a is Apple\n"
          ]
        }
      ]
    },
    {
      "cell_type": "code",
      "source": [],
      "metadata": {
        "id": "ksiP9OoKmmG9"
      },
      "execution_count": null,
      "outputs": []
    }
  ]
}