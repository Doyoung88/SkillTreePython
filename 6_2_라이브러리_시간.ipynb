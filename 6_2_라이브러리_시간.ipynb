{
  "nbformat": 4,
  "nbformat_minor": 0,
  "metadata": {
    "colab": {
      "provenance": [],
      "include_colab_link": true
    },
    "kernelspec": {
      "name": "python3",
      "display_name": "Python 3"
    },
    "language_info": {
      "name": "python"
    }
  },
  "cells": [
    {
      "cell_type": "markdown",
      "metadata": {
        "id": "view-in-github",
        "colab_type": "text"
      },
      "source": [
        "<a href=\"https://colab.research.google.com/github/Doyoung88/SkillTreePython/blob/main/6_2_%EB%9D%BC%EC%9D%B4%EB%B8%8C%EB%9F%AC%EB%A6%AC_%EC%8B%9C%EA%B0%84.ipynb\" target=\"_parent\"><img src=\"https://colab.research.google.com/assets/colab-badge.svg\" alt=\"Open In Colab\"/></a>"
      ]
    },
    {
      "cell_type": "markdown",
      "metadata": {
        "id": "jgFAOz-Tw1VI"
      },
      "source": [
        "# 6-2.라이브러리: 시간\n",
        "---\n",
        "* 날짜:2023-01-04\n",
        "* 이름:윤도영\n"
      ]
    },
    {
      "cell_type": "markdown",
      "metadata": {
        "id": "roC8A6Ro6THT"
      },
      "source": [
        "## 개념정리\n",
        "---\n",
        "\n",
        "시간과 관련된 프로그램은 아주 많습니다. 이를 위해 유용한 라이브러리인 `time` 과 `calendar`을 알아봅니다. 두 라이브러리에는 시간 관련 함수가 굉장히 많습니다. 그 중 자주 사용되는 함수 몇가지 위주로 공부해봅니다.\n"
      ]
    },
    {
      "cell_type": "markdown",
      "metadata": {
        "id": "H2HY9CbXvBoB"
      },
      "source": [
        "### **(1) 라이브러리 임포트 : `time`**\n",
        "\n",
        "아래와 같이 `time` 모듈을 `import` 해줍니다.\n",
        "\n",
        "```\n",
        "import time\n",
        "```\n"
      ]
    },
    {
      "cell_type": "code",
      "metadata": {
        "id": "5mAKOlI-vBoD"
      },
      "source": [
        "import time"
      ],
      "execution_count": 1,
      "outputs": []
    },
    {
      "cell_type": "markdown",
      "source": [
        "### **(2) 기본 사용 : `time`**\n"
      ],
      "metadata": {
        "id": "7tKI5oCovsJ5"
      }
    },
    {
      "cell_type": "markdown",
      "metadata": {
        "id": "UdnlqgsIvBoD"
      },
      "source": [
        "#### **시간확인**\n",
        "\n"
      ]
    },
    {
      "cell_type": "markdown",
      "metadata": {
        "id": "SjGX5RIJu7SG"
      },
      "source": [
        "* `time.time`\n",
        "\n",
        "`time.time()`은 UTC(Universal Time Coordinated 협정 세계 표준시)를 사용하여 1970년 1월 1일 0시 0분 0초를 기준으로 현재 시간을 초 단위로 돌려줍니다. 따라서 이 함수를 써서는 정확한 시간을 이해하기 힘듭니다. \n",
        "\n",
        "```\n",
        "time.time()\n",
        "```\n",
        "\n"
      ]
    },
    {
      "cell_type": "code",
      "metadata": {
        "id": "gERBDDc8u7SJ",
        "colab": {
          "base_uri": "https://localhost:8080/"
        },
        "outputId": "475d316c-fa97-410d-d089-1cbd96cdace9"
      },
      "source": [
        "time.time()"
      ],
      "execution_count": 2,
      "outputs": [
        {
          "output_type": "execute_result",
          "data": {
            "text/plain": [
              "1672808803.412596"
            ]
          },
          "metadata": {},
          "execution_count": 2
        }
      ]
    },
    {
      "cell_type": "markdown",
      "metadata": {
        "id": "zD6gfuVD3xwx"
      },
      "source": [
        "* `time.ctime` \n",
        "\n",
        "현재 시간을 알아보기 쉬운 문자열 형식으로 반환합니다.\n",
        "\n",
        "```\n",
        "t = time.ctime()\n",
        "print(t)\n",
        "print(type(t))\n",
        "\n",
        "```\n",
        "\n"
      ]
    },
    {
      "cell_type": "code",
      "metadata": {
        "id": "OaowHk_83leh",
        "colab": {
          "base_uri": "https://localhost:8080/"
        },
        "outputId": "04159a1e-4eae-453d-e909-b2afdab820ea"
      },
      "source": [
        "t = time.ctime()\n",
        "print(t)\n",
        "print(type(t))"
      ],
      "execution_count": 4,
      "outputs": [
        {
          "output_type": "stream",
          "name": "stdout",
          "text": [
            "Wed Jan  4 05:07:27 2023\n",
            "<class 'str'>\n"
          ]
        }
      ]
    },
    {
      "cell_type": "markdown",
      "metadata": {
        "id": "DJsRofyYwcCG"
      },
      "source": [
        "#### **시간조절**\n",
        "\n"
      ]
    },
    {
      "cell_type": "markdown",
      "metadata": {
        "id": "ZywpY9IBwcCM"
      },
      "source": [
        "* `time.sleep`\n",
        "\n",
        "`time.sleep`은 코드를 일정 시간동안 멈출 수 있습니다. 주로 반복문 내에서 시간 간격을 두고 실행하고 싶을 때 쓰입니다.\n",
        "\n",
        "```\n",
        "for i in range(10):\n",
        "    print(i)\n",
        "    time.sleep(1)\n",
        "```\n",
        "\n"
      ]
    },
    {
      "cell_type": "code",
      "metadata": {
        "id": "M3D3N6rewcCM",
        "colab": {
          "base_uri": "https://localhost:8080/"
        },
        "outputId": "1c0df671-5799-4e2b-c065-4f7d48c565a1"
      },
      "source": [
        "for i in range(10):\n",
        "    print(i)\n",
        "    time.sleep(1)"
      ],
      "execution_count": 5,
      "outputs": [
        {
          "output_type": "stream",
          "name": "stdout",
          "text": [
            "0\n",
            "1\n",
            "2\n",
            "3\n",
            "4\n",
            "5\n",
            "6\n",
            "7\n",
            "8\n",
            "9\n"
          ]
        }
      ]
    },
    {
      "cell_type": "markdown",
      "metadata": {
        "id": "a3YlZx2lOstl"
      },
      "source": [
        "### **(3) 라이브러리 임포트(import) : `calendar`**\n",
        "\n",
        "\n",
        "```\n",
        "import calendar\n",
        "```\n"
      ]
    },
    {
      "cell_type": "code",
      "metadata": {
        "id": "-KkhR9yaOstm"
      },
      "source": [
        "import calendar"
      ],
      "execution_count": 6,
      "outputs": []
    },
    {
      "cell_type": "markdown",
      "source": [
        "### **(4) 기본 사용 : `calendar`**"
      ],
      "metadata": {
        "id": "x4b6XE2IwWCR"
      }
    },
    {
      "cell_type": "markdown",
      "metadata": {
        "id": "u0q6rzI-PA6i"
      },
      "source": [
        "#### **달력 보기**\n",
        "\n"
      ]
    },
    {
      "cell_type": "markdown",
      "metadata": {
        "id": "y6imlv3cPA6i"
      },
      "source": [
        "* `calendar.prmonth`\n",
        "\n",
        "`calendar.prmonth`는 연도와 월을 입력하면 해당 월의 달력을 출력해줍니다.\n",
        "\n",
        "```\n",
        "calendar.prmonth(연도, 월)\n",
        "```\n",
        "\n"
      ]
    },
    {
      "cell_type": "code",
      "metadata": {
        "id": "ofTbeRnIPA6j",
        "colab": {
          "base_uri": "https://localhost:8080/"
        },
        "outputId": "bde79bba-3602-427f-8195-8746ea4a6039"
      },
      "source": [
        "calendar.prmonth(2023, 1)"
      ],
      "execution_count": 7,
      "outputs": [
        {
          "output_type": "stream",
          "name": "stdout",
          "text": [
            "    January 2023\n",
            "Mo Tu We Th Fr Sa Su\n",
            "                   1\n",
            " 2  3  4  5  6  7  8\n",
            " 9 10 11 12 13 14 15\n",
            "16 17 18 19 20 21 22\n",
            "23 24 25 26 27 28 29\n",
            "30 31\n"
          ]
        }
      ]
    },
    {
      "cell_type": "markdown",
      "metadata": {
        "id": "BFHm6JKmPc2r"
      },
      "source": [
        "#### **날짜 반환**\n",
        "\n"
      ]
    },
    {
      "cell_type": "markdown",
      "metadata": {
        "id": "TfxqY2sIPc2s"
      },
      "source": [
        "* `calendar.weekday`\n",
        "\n",
        "`weekday` 함수는 연도, 월, 일을 입력하면 0에서 6까지의 정수 반환합니다. 각 숫자는 월요일 부터 일요일을 의미합니다. \n",
        "\n",
        "```\n",
        "정수 = calendar.weekday(연도, 월, 일)\n",
        "# 정수값은 0~6 이며, 월~일을 의미\n",
        "```\n",
        "\n"
      ]
    },
    {
      "cell_type": "code",
      "metadata": {
        "id": "dAgIvgfVPc2t",
        "colab": {
          "base_uri": "https://localhost:8080/"
        },
        "outputId": "1018e73e-c6ed-4775-d8fb-4dbfda15246e"
      },
      "source": [
        "정수 = calendar.weekday(2023, 1, 4)\n",
        "print(정수)"
      ],
      "execution_count": 9,
      "outputs": [
        {
          "output_type": "stream",
          "name": "stdout",
          "text": [
            "2\n"
          ]
        }
      ]
    },
    {
      "cell_type": "markdown",
      "metadata": {
        "id": "5niolBqHPVLj"
      },
      "source": [
        "* `calendar.monthrange()`\n",
        "\n",
        "`calendar.monthrange`는 연도와 월을 입력하면 이달이 무슨 요일인지,그리고 며칠까지 있는지를 튜플 형태로 출력합니다. \n",
        "\n",
        "```\n",
        "첫번째요일, 일수 = calendar.monthrange(연도, 월)\n",
        "```\n",
        "\n"
      ]
    },
    {
      "cell_type": "code",
      "metadata": {
        "id": "nMGHfL0fPVLj",
        "colab": {
          "base_uri": "https://localhost:8080/"
        },
        "outputId": "9a1394a4-edba-4058-e86d-1d164d419c02"
      },
      "source": [
        "첫번째요일, 일수 = calendar.monthrange(2023, 1)\n",
        "print(첫번째요일, 일수)"
      ],
      "execution_count": 10,
      "outputs": [
        {
          "output_type": "stream",
          "name": "stdout",
          "text": [
            "6 31\n"
          ]
        }
      ]
    },
    {
      "cell_type": "markdown",
      "metadata": {
        "id": "Iflmv_G4M7Qs"
      },
      "source": [
        "## 예제\n",
        "---"
      ]
    },
    {
      "cell_type": "markdown",
      "metadata": {
        "id": "d9o7kBXoNlE3"
      },
      "source": [
        "**예제 01**\n",
        "\n",
        "타이머를 만듭시다. 이 타이머는 10초 단위로 알림을 하고 10 부터는 카운트 합니다. (실제로 초단위의 타이머를 만듭니다.)\n",
        "\n",
        "```\n",
        ">> 타이머(60)\n",
        "60\n",
        "50\n",
        "40\n",
        "30\n",
        "20\n",
        "10\n",
        "9!\n",
        "8!\n",
        "7!\n",
        "6!\n",
        "5!\n",
        "4!\n",
        "3!\n",
        "2!\n",
        "1!\n",
        "삐빅\n",
        "```\n",
        "\n",
        "\n",
        ">>\n",
        "\n"
      ]
    },
    {
      "cell_type": "code",
      "metadata": {
        "id": "Gwir0bafNlE9",
        "colab": {
          "base_uri": "https://localhost:8080/"
        },
        "outputId": "81c0bd26-b92c-4eee-faf5-3d9b8d0ccae8"
      },
      "source": [
        "import time\n",
        "\n",
        "a = int(input())\n",
        "\n",
        "while True:\n",
        "  if a>10:\n",
        "    print(a)  \n",
        "    a-=10\n",
        "  \n",
        "  elif a==10:\n",
        "    print(a)\n",
        "    a-=1  \n",
        "  \n",
        "  elif a<=10:\n",
        "    if a!=0:\n",
        "      print(f'{a}!')\n",
        "      a-=1\n",
        "    elif a==0:\n",
        "      print('삐빅')\n",
        "      break\n",
        "\n",
        "  time.sleep(1)\n",
        "\n"
      ],
      "execution_count": 76,
      "outputs": [
        {
          "output_type": "stream",
          "name": "stdout",
          "text": [
            "60\n",
            "60\n",
            "50\n",
            "40\n",
            "30\n",
            "20\n",
            "10\n",
            "9!\n",
            "8!\n",
            "7!\n",
            "6!\n",
            "5!\n",
            "4!\n",
            "3!\n",
            "2!\n",
            "1!\n",
            "삐빅\n"
          ]
        }
      ]
    },
    {
      "cell_type": "markdown",
      "metadata": {
        "id": "xjss54fvOD3D"
      },
      "source": [
        "**예제 02**\n",
        "\n",
        "시간을 알려주는 챗봇을 만들어 봅시다. 사용자가 입력한 문장에서 다음과 같은 문장이 있으면 그에 따른 대답을 합니다.\n",
        "\n",
        "단어|대답|\n",
        "--|--\n",
        "몇시| 시간 출력\n",
        "몇분| 분 출력\n",
        "무슨요일| 요일 출력\n",
        "몇월| 월 출력\n",
        "며칠or 몇일 | 일 출력\n",
        "그만 | 종료\n",
        "\n",
        "```\n",
        ">> 시리()\n",
        ">> 질문해주세요: 지금몇시니?\n",
        "지금은 8시 입니다.\n",
        ">> 질문해주세요: 오늘 무슨요일이야\n",
        "오늘은 금요일 입니다.\n",
        ">> 질문해주세요: 그만\n",
        "종료되었습니다.\n",
        "```\n",
        "\n",
        "\n",
        ">>\n",
        "\n"
      ]
    },
    {
      "cell_type": "code",
      "metadata": {
        "id": "R-XoEQc7OG1T",
        "colab": {
          "base_uri": "https://localhost:8080/"
        },
        "outputId": "5dc699f9-a5de-4f35-e6db-e11e8e6a9f3d"
      },
      "source": [
        "import calendar\n",
        "import time\n",
        "\n",
        "while True:\n",
        "  print(\"질문해주세요 :\")\n",
        "  a = input()\n",
        "\n",
        "  if '몇시' in a:\n",
        "    t = time.ctime()\n",
        "    print(f'지금은 {t[11:13]}시 입니다.')\n",
        "\n",
        "  elif '몇분' in a:\n",
        "    t = time.ctime()\n",
        "    print(f'지금은 {t[11:13]}분 입니다.')  \n",
        "\n",
        "  elif '무슨요일' in a:\n",
        "    t = time.ctime()\n",
        "    print(f'오늘은 {t[0:4]}요일 입니다.')  \n",
        "\n",
        "  elif '몇월' in a:\n",
        "    t = time.ctime()\n",
        "    print(f'이번달은 {t[4:7]}월 입니다.')  \n",
        "\n",
        "  elif '몇일' in a:\n",
        "    t = time.ctime()\n",
        "    print(f'오늘은 {t[8:10]}일 입니다.')  \n",
        "  \n",
        "  elif '며칠' in a:\n",
        "    t = time.ctime()\n",
        "    print(f'오늘은 {t[8:10]}일 입니다.')  \n",
        "\n",
        "  elif '그만' in a:\n",
        "    break  "
      ],
      "execution_count": 81,
      "outputs": [
        {
          "name": "stdout",
          "output_type": "stream",
          "text": [
            "질문해주세요 :\n",
            "그만\n"
          ]
        }
      ]
    },
    {
      "cell_type": "markdown",
      "metadata": {
        "id": "X2rC9t0WQfsi"
      },
      "source": [
        "**예제 03**\n",
        "\n",
        "2000년부터 2020년까지 각 해의 날짜의 수를 구하세요\n",
        "\n",
        "```\n",
        "2000년의 날짜는 총 ~~~일 입니다.\n",
        "2001년의 날짜는 총 ~~~일 입니다.\n",
        "...\n",
        "\n",
        "2020년의 날짜는 총 ~~~일 입니다.\n",
        "```"
      ]
    },
    {
      "cell_type": "code",
      "metadata": {
        "id": "3319F20DQfsl",
        "colab": {
          "base_uri": "https://localhost:8080/"
        },
        "outputId": "0228d87d-7fe5-440e-f7bc-e877f4bceac4"
      },
      "source": [
        "import calendar\n",
        "\n",
        "\n",
        "\n",
        "for i in range(11):\n",
        "  list1=[]\n",
        "  for _ in range(12):\n",
        "    n, days = calendar.monthrange(2000+i,1)\n",
        "    list1.append(days)\n",
        "\n",
        "  print(f'{2000+i}년의 날짜는 총 {sum(list1)}일 입니다.')\n",
        "\n",
        "\n"
      ],
      "execution_count": 43,
      "outputs": [
        {
          "output_type": "stream",
          "name": "stdout",
          "text": [
            "2000년의 날짜는 총 372일 입니다.\n",
            "2001년의 날짜는 총 372일 입니다.\n",
            "2002년의 날짜는 총 372일 입니다.\n",
            "2003년의 날짜는 총 372일 입니다.\n",
            "2004년의 날짜는 총 372일 입니다.\n",
            "2005년의 날짜는 총 372일 입니다.\n",
            "2006년의 날짜는 총 372일 입니다.\n",
            "2007년의 날짜는 총 372일 입니다.\n",
            "2008년의 날짜는 총 372일 입니다.\n",
            "2009년의 날짜는 총 372일 입니다.\n",
            "2010년의 날짜는 총 372일 입니다.\n"
          ]
        }
      ]
    },
    {
      "cell_type": "markdown",
      "metadata": {
        "id": "A7pDCvOJQ6LD"
      },
      "source": [
        "**예제 04**\n",
        "\n",
        "아래형식으로 문자열을 입력했을 때 달력과 요일을 알려주는 코드를 작성하세요. 연도를 쓰지 않으면 올해의 연도가 자동으로 나오게 하세요\n",
        "\n",
        "\n",
        "\n",
        "```\n",
        ">> 날짜를 입력하세요: 2015/12/1\n",
        "   December 2015\n",
        "Mo Tu We Th Fr Sa Su\n",
        "    1  2  3  4  5  6\n",
        " 7  8  9 10 11 12 13\n",
        "14 15 16 17 18 19 20\n",
        "21 22 23 24 25 26 27\n",
        "28 29 30 31\n",
        "* 2015년 12월 1일은 화요일이네요!\n",
        "\n",
        ">> 날짜를 입력하세요: 12/1\n",
        "   December 2021\n",
        "Mo Tu We Th Fr Sa Su\n",
        "       1  2  3  4  5\n",
        " 6  7  8  9 10 11 12\n",
        "13 14 15 16 17 18 19\n",
        "20 21 22 23 24 25 26\n",
        "27 28 29 30 31\n",
        "* 2021년 12월 1일은 수요일이네요!\n",
        "\n",
        ">> 날짜를 입력하세요: 1\n",
        "* 입력형식오류\n",
        "\n",
        "```\n",
        "\n",
        "\n",
        "\n"
      ]
    },
    {
      "cell_type": "code",
      "metadata": {
        "id": "XFWcOHrRQ6LE",
        "colab": {
          "base_uri": "https://localhost:8080/"
        },
        "outputId": "413abff2-b6de-44e2-9670-43d50b9d4b0f"
      },
      "source": [
        "import time\n",
        "import calendar\n",
        "yo1 = {0:'월',1:'화',2:'수',3:'목',4:'금',5:'토',6:'일'}\n",
        "date = input(\"날짜를 입력하세요.\")\n",
        "\n",
        "if date.count('/') == 2:\n",
        "  if date[6] == '/' and len(date)==8:                    #월 1자리수, 일 1자리수\n",
        "    calendar.prmonth(int(date[0:4]), int(date[5]))\n",
        "    yo = calendar.weekday(int(date[0:4]), int(date[5]), int(date[7]))\n",
        "    print(f'{date[0:4]}년 {date[5]}월 {date[7]}일은 {yo1[yo]}요일이네요!')\n",
        "\n",
        "  elif date[6] == '/' and len(date)==9:                   #월 1자리수, 일 2자리수\n",
        "    calendar.prmonth(int(date[0:4]), int(date[5]))\n",
        "    yo = calendar.weekday(int(date[0:4]), int(date[5]), int(date[7:9]))\n",
        "    print(f'{date[0:4]}년 {date[5]}월 {date[7:9]}일은 {yo1[yo]}요일이네요!')\n",
        "\n",
        "  elif date[7] == '/' and len(date)==9:                   #월 2자리수, 일 1자리수\n",
        "    calendar.prmonth(int(date[0:4]), int(date[5:7]))\n",
        "    yo = calendar.weekday(int(date[0:4]), int(date[5:7]), int(date[8]))\n",
        "    print(f'{date[0:4]}년 {date[5:7]}월 {date[8]}일은 {yo1[yo]}요일이네요!')\n",
        "\n",
        "  elif date[7] == '/' and len(date)==10:                   #월 2자리수, 일 2자리수\n",
        "    calendar.prmonth(int(date[0:4]), int(date[5:7]))\n",
        "    yo = calendar.weekday(int(date[0:4]), int(date[5:7]), int(date[8:10]))\n",
        "    print(f'{date[0:4]}년 {date[5:7]}월 {date[8:10]}일은 {yo1[yo]}요일이네요!')\n",
        "\n",
        "elif date.count('/') == 1:\n",
        "    if date[1] == '/' and len(date)==3:                     #월 1자리수, 일 1자리수  \n",
        "      y = time.ctime()                   \n",
        "      calendar.prmonth(int(y[20:24]), int(date[0]))\n",
        "      yo = calendar.weekday(int(y[20:24]), int(date[0]), int(date[2]))\n",
        "      print(f'{int(y[20:24])}년 {date[0]}월 {date[2]}일은 {yo1[yo]}요일이네요!')\n",
        "\n",
        "    elif date[1] == '/' and len(date)==4:                     #월 1자리수, 일 2자리수  \n",
        "      y = time.ctime()                   \n",
        "      calendar.prmonth(int(y[20:24]), int(date[0]))\n",
        "      yo = calendar.weekday(int(y[20:24]), int(date[0]), int(date[2:4]))\n",
        "      print(f'{int(y[20:24])}년 {date[0]}월 {date[2:4]}일은 {yo1[yo]}요일이네요!')\n",
        "\n",
        "    elif date[2] == '/' and len(date)==4:                     #월 2자리수, 일 1자리수  \n",
        "      y = time.ctime()                   \n",
        "      calendar.prmonth(int(y[20:24]), int(date[0:2]))\n",
        "      yo = calendar.weekday(int(y[20:24]), int(date[0:2]), int(date[3]))\n",
        "      print(f'{int(y[20:24])}년 {date[0:2]}월 {date[3]}일은 {yo1[yo]}요일이네요!')\n",
        "\n",
        "    elif date[2] == '/' and len(date)==5:                     #월 2자리수, 일 2자리수  \n",
        "      y = time.ctime()                   \n",
        "      calendar.prmonth(int(y[20:24]), int(date[0:2]))\n",
        "      yo = calendar.weekday(int(y[20:24]), int(date[0:2]), int(date[3:5]))\n",
        "      print(f'{int(y[20:24])}년 {date[0:2]}월 {date[3:5]}일은 {yo1[yo]}요일이네요!')\n",
        "\n",
        "else:\n",
        "  print(\"입력형식 오류\")\n"
      ],
      "execution_count": 74,
      "outputs": [
        {
          "output_type": "stream",
          "name": "stdout",
          "text": [
            "날짜를 입력하세요.34\n",
            "입력형식 오류\n"
          ]
        }
      ]
    },
    {
      "cell_type": "code",
      "source": [],
      "metadata": {
        "id": "H5W_2enwi53N"
      },
      "execution_count": null,
      "outputs": []
    }
  ]
}