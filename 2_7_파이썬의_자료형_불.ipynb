{
  "nbformat": 4,
  "nbformat_minor": 0,
  "metadata": {
    "colab": {
      "name": "2-7.파이썬의 자료형:불.ipynb",
      "provenance": [],
      "include_colab_link": true
    },
    "kernelspec": {
      "name": "python3",
      "display_name": "Python 3"
    },
    "language_info": {
      "name": "python"
    }
  },
  "cells": [
    {
      "cell_type": "markdown",
      "metadata": {
        "id": "view-in-github",
        "colab_type": "text"
      },
      "source": [
        "<a href=\"https://colab.research.google.com/github/Doyoung88/SkillTreePython/blob/main/2_7_%ED%8C%8C%EC%9D%B4%EC%8D%AC%EC%9D%98_%EC%9E%90%EB%A3%8C%ED%98%95_%EB%B6%88.ipynb\" target=\"_parent\"><img src=\"https://colab.research.google.com/assets/colab-badge.svg\" alt=\"Open In Colab\"/></a>"
      ]
    },
    {
      "cell_type": "markdown",
      "source": [
        "# 2-7.파이썬의 자료형:불 \n",
        "---\n",
        "* 날짜:2022-12-29\n",
        "* 이름:윤도영"
      ],
      "metadata": {
        "id": "kB5IciXEm6o4"
      }
    },
    {
      "cell_type": "markdown",
      "source": [
        "## 개념정리\n",
        "---\n"
      ],
      "metadata": {
        "id": "4iN8NFzHRJ2D"
      }
    },
    {
      "cell_type": "markdown",
      "source": [
        "### **(1) 생성**\n",
        "\n",
        "불 자료형은 단 두가지의 값, `True`와 `False`만을 가지고 있습니다. \n",
        "\n",
        "* True\n",
        "\n",
        "```\n",
        "bool_t = True\n",
        "print(bool_t, type(bool_t))\n",
        "```"
      ],
      "metadata": {
        "id": "MAM8MDnfw68b"
      }
    },
    {
      "cell_type": "code",
      "source": [
        "bool_t = True\n",
        "print(bool_t, type(bool_t))"
      ],
      "metadata": {
        "id": "-A_CdM3VvJwE",
        "outputId": "3fda88ec-a336-4db7-ca65-3025ca01b498",
        "colab": {
          "base_uri": "https://localhost:8080/"
        }
      },
      "execution_count": 1,
      "outputs": [
        {
          "output_type": "stream",
          "name": "stdout",
          "text": [
            "True <class 'bool'>\n"
          ]
        }
      ]
    },
    {
      "cell_type": "markdown",
      "source": [
        "* False\n",
        "\n",
        "```\n",
        "bool_f = False\n",
        "print(bool_f, type(bool_f))\n",
        "```"
      ],
      "metadata": {
        "id": "ve0Q78levM7y"
      }
    },
    {
      "cell_type": "code",
      "source": [
        "bool_f = False\n",
        "print(bool_f, type(bool_f))"
      ],
      "metadata": {
        "id": "oL0peiU6vNLW",
        "outputId": "bed15c10-a30f-40a8-a835-441d90cb5181",
        "colab": {
          "base_uri": "https://localhost:8080/"
        }
      },
      "execution_count": 2,
      "outputs": [
        {
          "output_type": "stream",
          "name": "stdout",
          "text": [
            "False <class 'bool'>\n"
          ]
        }
      ]
    },
    {
      "cell_type": "markdown",
      "source": [
        "### **(2) 비교연산자**\n",
        "\n",
        "보통 불 자료형은 참과 거짓을 판단할 때 사용 합니다. 비교연산자를 통해 데이터 간의 관계를 판별하고 이를 불 자료형으로 저장할 수 있습니다.\n",
        "\n",
        "|설명|코드|\n",
        "|--|--|\n",
        "|같다|`==`|\n",
        "|다르다|`!=`|\n",
        "|크다/작다|`<`/`>`|\n",
        "|크거나 같다/작거나 같다|`<=`/`>=`|\n"
      ],
      "metadata": {
        "id": "RSd2HMOPvXJX"
      }
    },
    {
      "cell_type": "markdown",
      "source": [
        "```\n",
        "a = 10\n",
        "b = 10\n",
        "c = 20\n",
        "```"
      ],
      "metadata": {
        "id": "lChKfbz6vghh"
      }
    },
    {
      "cell_type": "code",
      "source": [
        "a = 10\n",
        "b = 10\n",
        "c = 20"
      ],
      "metadata": {
        "id": "Iql1vi-uvhyX"
      },
      "execution_count": 3,
      "outputs": []
    },
    {
      "cell_type": "markdown",
      "source": [
        "\n",
        "#### **같다**\n",
        "\n",
        "* `==`\n",
        "\n",
        "```\n",
        "print(a==b)\n",
        "print(a==c)\n",
        "```"
      ],
      "metadata": {
        "id": "sb_fMnF4vZ8M"
      }
    },
    {
      "cell_type": "code",
      "source": [
        "print(a==b)\n",
        "result = a==c\n",
        "print(result)"
      ],
      "metadata": {
        "id": "WJk0qA7FvOJn",
        "outputId": "60ec5683-0a5c-4b05-dd1c-a2fd8c03471b",
        "colab": {
          "base_uri": "https://localhost:8080/"
        }
      },
      "execution_count": 7,
      "outputs": [
        {
          "output_type": "stream",
          "name": "stdout",
          "text": [
            "True\n",
            "False\n"
          ]
        }
      ]
    },
    {
      "cell_type": "markdown",
      "source": [
        "#### **다르다**\n",
        "\n",
        "* `!=`\n",
        "\n",
        "```\n",
        "print(a!=b)\n",
        "print(a!=c)\n",
        "```"
      ],
      "metadata": {
        "id": "Ko2-jAkLvcr9"
      }
    },
    {
      "cell_type": "code",
      "source": [
        "print(a!=b)\n",
        "print(a!=c)"
      ],
      "metadata": {
        "id": "Q0OHkDldvbMe",
        "outputId": "74fa4034-8883-4836-88fc-ddc95bbefd27",
        "colab": {
          "base_uri": "https://localhost:8080/"
        }
      },
      "execution_count": 9,
      "outputs": [
        {
          "output_type": "stream",
          "name": "stdout",
          "text": [
            "False\n",
            "True\n"
          ]
        }
      ]
    },
    {
      "cell_type": "markdown",
      "source": [
        "#### **크다/작다**\n",
        "\n",
        "* `>`\n",
        "* `<`\n",
        "\n",
        "```\n",
        "print(a>c)\n",
        "print(a<c)\n",
        "```"
      ],
      "metadata": {
        "id": "8xA_skATvpnF"
      }
    },
    {
      "cell_type": "code",
      "source": [
        "print(a>c)\n",
        "print(a<c)"
      ],
      "metadata": {
        "id": "LjhSc6J6vlf9",
        "outputId": "c69b2505-f3ba-4451-ff1c-868c1d5f3bd8",
        "colab": {
          "base_uri": "https://localhost:8080/"
        }
      },
      "execution_count": 10,
      "outputs": [
        {
          "output_type": "stream",
          "name": "stdout",
          "text": [
            "False\n",
            "True\n"
          ]
        }
      ]
    },
    {
      "cell_type": "markdown",
      "source": [
        "#### **크거나(작거나) 같다**\n",
        "\n",
        "* `>=`\n",
        "* `<=`\n",
        "\n",
        "```\n",
        "print(a>=c)\n",
        "print(a<=c)\n",
        "```"
      ],
      "metadata": {
        "id": "0H5UpFNqvstu"
      }
    },
    {
      "cell_type": "code",
      "source": [
        "print(a>=c)\n",
        "print(a<=c)"
      ],
      "metadata": {
        "id": "j6g27kAyvrb4",
        "outputId": "ab0811a7-e63b-42b4-b2b6-49100bfc0895",
        "colab": {
          "base_uri": "https://localhost:8080/"
        }
      },
      "execution_count": 12,
      "outputs": [
        {
          "output_type": "stream",
          "name": "stdout",
          "text": [
            "False\n",
            "True\n"
          ]
        }
      ]
    },
    {
      "cell_type": "markdown",
      "source": [
        "###  **(3) Identity 연산자**\n",
        "\n",
        "|설명|코드|\n",
        "|--|--|\n",
        "|(메모리주소가)같다|`is`|\n",
        "|(메모리주소가)다르다|`is not`|\n",
        "\n",
        "`Identity` 라고 하는 것은 두 변수가 같은 메모리 주소를 가리키는 것을 일컫습니다. 아래와 같이 세개의 값 `a`, `b`, `c`가 숫자 10으로 바인딩 되어 있습니다.\n",
        "\n",
        "```\n",
        "a = 10\n",
        "b = 10.0\n",
        "```\n"
      ],
      "metadata": {
        "id": "eF4oulf5vwEJ"
      }
    },
    {
      "cell_type": "code",
      "source": [
        "int10 = 10\n",
        "flaot10 = 10.0\n",
        "int10_2 = 10"
      ],
      "metadata": {
        "id": "ktyXZcurvuCY"
      },
      "execution_count": 16,
      "outputs": []
    },
    {
      "cell_type": "markdown",
      "source": [
        "\n",
        "#### **(메모리주소가) 같을 때**\n",
        "\n",
        "*  `is`\n",
        "\n",
        "\n",
        "`a==b` 는 `True` 이고 `a is b` 는 `False`임을 확인할 수 있습니다. `a`와 `b` 모두 값 자체는 `10`으로 동일하기 때문에 `a==b`는 `True` 값을 가지지만, `a`는 `int`이고 `b`는 `float` 자료형이기 때문에 `a is b`의 결과는 `False` 입니다.\n",
        "\n",
        "```\n",
        "print(a==b) # a, b 의 값이 같은지 판별\n",
        "print(a is b) # a, b 가 같은 메모리 주소에 있는지 판별\n",
        "```\n"
      ],
      "metadata": {
        "id": "9Yv_CuPOv0J8"
      }
    },
    {
      "cell_type": "code",
      "source": [
        "print(int10 == int10_2, int10 ==flaot10)\n",
        "print(int10 is int10_2, int10 is flaot10)"
      ],
      "metadata": {
        "id": "uHpcb8vwvyYd",
        "outputId": "4c8a4df8-94d9-4558-cee4-a59ac513d1ca",
        "colab": {
          "base_uri": "https://localhost:8080/"
        }
      },
      "execution_count": 20,
      "outputs": [
        {
          "output_type": "stream",
          "name": "stdout",
          "text": [
            "True True\n",
            "True False\n"
          ]
        }
      ]
    },
    {
      "cell_type": "markdown",
      "source": [
        "#### **(메모리주소가) 다를 때**\n",
        "\n",
        "* `is not`\n",
        "\n",
        "\n",
        "반대의 경우입니다. `!=` 를 사용할 때는  `True`이고 `is not`은 `True` 입니다.  \n",
        "\n",
        "```\n",
        "print(a!=b)  # a, b 의 값이 다른지 판별\n",
        "print(a is not b) # a, b 가 다른 메모리 주소에 있는지 판별\n",
        "```\n"
      ],
      "metadata": {
        "id": "D-5lT6Rjv_TJ"
      }
    },
    {
      "cell_type": "code",
      "source": [
        "print(a!=b)  # a, b 의 값이 다른지 판별\n",
        "print(a is not b) # a, b 가 다른 메모리 주소에 있는지 판별"
      ],
      "metadata": {
        "id": "ZRtzSicOgYfQ",
        "outputId": "97673cf7-5b06-4d5c-814a-ad63b545dcd9",
        "colab": {
          "base_uri": "https://localhost:8080/"
        }
      },
      "execution_count": null,
      "outputs": [
        {
          "output_type": "stream",
          "name": "stdout",
          "text": [
            "False\n",
            "True\n"
          ]
        }
      ]
    },
    {
      "cell_type": "markdown",
      "source": [
        "### **(4) 논리연산자**\n",
        "\n",
        "\n"
      ],
      "metadata": {
        "id": "Pepzbg-WwErt"
      }
    },
    {
      "cell_type": "markdown",
      "source": [
        "#### **`and` 연산자**\n",
        "\n",
        "* `and` : 모두 `True`여야 `True`, 그 외엔 `False`\n",
        "\n",
        "|A|B| 결과 |\n",
        "|--|--|--|\n",
        "|False|False|False| \n",
        "|False|True|False| \n",
        "|True|False|False| \n",
        "|True|True|True| \n",
        "\n",
        "```\n",
        "a = True\n",
        "b = False\n",
        "print(a and b)\n",
        "```"
      ],
      "metadata": {
        "id": "mmKaSILLxix2"
      }
    },
    {
      "cell_type": "code",
      "source": [
        "a = True\n",
        "b = False\n",
        "print(a and b)"
      ],
      "metadata": {
        "id": "c3a1U92Tv9je",
        "outputId": "8b19d89e-24d8-444e-d501-5f635c06dd7c",
        "colab": {
          "base_uri": "https://localhost:8080/"
        }
      },
      "execution_count": 24,
      "outputs": [
        {
          "output_type": "stream",
          "name": "stdout",
          "text": [
            "False\n"
          ]
        }
      ]
    },
    {
      "cell_type": "markdown",
      "source": [
        "#### **`or` 연산자**\n",
        "\n",
        "* `or` : 모두 `False`여야 `False`, 그 외엔 `True`\n",
        "\n",
        "|A|B| 결과 |\n",
        "|--|--|--|\n",
        "|False|False|False| \n",
        "|False|True|True| \n",
        "|True|False|True| \n",
        "|True|True|True| \n",
        "\n",
        "```\n",
        "a = True\n",
        "b = False\n",
        "print(a or b)\n",
        "```\n"
      ],
      "metadata": {
        "id": "YhxIRN0swIMk"
      }
    },
    {
      "cell_type": "code",
      "source": [
        "a = True\n",
        "b = False\n",
        "print(a or b)"
      ],
      "metadata": {
        "id": "FKszLHP8wGq4",
        "outputId": "89839205-dc6c-45f7-8a06-af62fc1dba86",
        "colab": {
          "base_uri": "https://localhost:8080/"
        }
      },
      "execution_count": 25,
      "outputs": [
        {
          "output_type": "stream",
          "name": "stdout",
          "text": [
            "True\n"
          ]
        }
      ]
    },
    {
      "cell_type": "markdown",
      "source": [
        "#### **`not` 연산자**\n",
        "\n",
        "* `not` : 반대\n",
        "\n",
        "|A|결과 |\n",
        "|--|--|\n",
        "|False|True| \n",
        "|False|False|\n",
        "\n",
        "```\n",
        "a = True\n",
        "print(not a)\n",
        "```"
      ],
      "metadata": {
        "id": "tPQXQ820wKx6"
      }
    },
    {
      "cell_type": "code",
      "source": [
        "a = True\n",
        "print(not a)"
      ],
      "metadata": {
        "id": "TN8hYesmwJR3",
        "outputId": "0f0cc459-7614-4a1d-c999-56799aeb879f",
        "colab": {
          "base_uri": "https://localhost:8080/"
        }
      },
      "execution_count": 27,
      "outputs": [
        {
          "output_type": "stream",
          "name": "stdout",
          "text": [
            "False\n"
          ]
        }
      ]
    },
    {
      "cell_type": "markdown",
      "source": [
        "### **(5) 자료형의 True/False**\n",
        "\n",
        "|값\t|자료형|\tTrue OR False |\n",
        "|--|--|--|\n",
        "\"hi\"|\tstr\t|True\n",
        "\"\"\t|str\t|False\n",
        "[1,2,3]\t|list|\tTrue\n",
        "[]|\tlist\t|False\n",
        "(1,2,3)\t|tuple|\tTrue\n",
        "()|\ttuple|\tFalse\n",
        "{}|\tdictionary|\tFalse\n",
        "1\t|int|\tTrue\n",
        "0\t|int|\tFalse\n"
      ],
      "metadata": {
        "id": "f6ZwYMcQwMq1"
      }
    },
    {
      "cell_type": "markdown",
      "source": [
        "#### **문자**\n",
        "\n",
        "문자가 하나라도 포함되어 있으면 `True` 입니다.\n",
        "\n",
        "```\n",
        "print(bool(\"abc\"))\n",
        "print(bool(\"\"))\n",
        "```\n"
      ],
      "metadata": {
        "id": "iu9Qsd9SwPRp"
      }
    },
    {
      "cell_type": "code",
      "source": [
        "print(bool(\"abc\"))\n",
        "print(bool(\"\"))"
      ],
      "metadata": {
        "id": "cADkAygFwLlw",
        "outputId": "fce20977-bdc1-41e3-ea7e-aaf565f64e22",
        "colab": {
          "base_uri": "https://localhost:8080/"
        }
      },
      "execution_count": 29,
      "outputs": [
        {
          "output_type": "stream",
          "name": "stdout",
          "text": [
            "True\n",
            "False\n"
          ]
        }
      ]
    },
    {
      "cell_type": "markdown",
      "source": [
        "\n",
        "#### **리스트/튜플/딕셔너리**\n",
        "\n",
        "리스트(튜플/딕셔너리)에 하나라도 포함되어 있으면 `True` 입니다\n",
        "\n",
        "```\n",
        "print(bool([1,2]))\n",
        "print(bool([]))\n",
        "```"
      ],
      "metadata": {
        "id": "RCxgNv7HwTTH"
      }
    },
    {
      "cell_type": "code",
      "source": [
        "print(bool([1,2]))\n",
        "print(bool([]))"
      ],
      "metadata": {
        "id": "1zj7UJIxwRr1",
        "outputId": "3eb77584-5631-4939-fb6b-71418e70a2ee",
        "colab": {
          "base_uri": "https://localhost:8080/"
        }
      },
      "execution_count": 30,
      "outputs": [
        {
          "output_type": "stream",
          "name": "stdout",
          "text": [
            "True\n",
            "False\n"
          ]
        }
      ]
    },
    {
      "cell_type": "markdown",
      "source": [
        "#### **수치자료형**\n",
        "\n",
        "0일때만 `False` 입니다.\n",
        "\n",
        "```\n",
        "print(bool(10))\n",
        "print(bool(-10))\n",
        "print(bool(0))\n",
        "```"
      ],
      "metadata": {
        "id": "ckclBKQAwXkd"
      }
    },
    {
      "cell_type": "code",
      "source": [
        "print(bool(10))\n",
        "print(bool(-10))\n",
        "print(bool(0))"
      ],
      "metadata": {
        "id": "sWhI9ZRXwWSt",
        "outputId": "62de5f99-3eb6-4f25-da93-1be1017f5e87",
        "colab": {
          "base_uri": "https://localhost:8080/"
        }
      },
      "execution_count": 31,
      "outputs": [
        {
          "output_type": "stream",
          "name": "stdout",
          "text": [
            "True\n",
            "True\n",
            "False\n"
          ]
        }
      ]
    },
    {
      "cell_type": "markdown",
      "source": [
        "## 문제풀이\n",
        "---"
      ],
      "metadata": {
        "id": "EOKHJNE_wdPo"
      }
    },
    {
      "cell_type": "markdown",
      "source": [
        "\n",
        "\n",
        "**예제 01**\n",
        "\n",
        "아래 결과를 예측하세요\n",
        "\n",
        "```\n",
        "bool(\"안녕\")\n",
        "```"
      ],
      "metadata": {
        "id": "eLhnxNGawcKi"
      }
    },
    {
      "cell_type": "code",
      "source": [
        "#True 예측\n",
        "bool(\"안녕\")"
      ],
      "metadata": {
        "id": "W1SP3TtVwe7_",
        "outputId": "e75fd340-1f95-46c5-c1d8-d1e2bf1ea059",
        "colab": {
          "base_uri": "https://localhost:8080/"
        }
      },
      "execution_count": null,
      "outputs": [
        {
          "output_type": "execute_result",
          "data": {
            "text/plain": [
              "True"
            ]
          },
          "metadata": {},
          "execution_count": 17
        }
      ]
    },
    {
      "cell_type": "markdown",
      "source": [
        "**예제 02**\n",
        "\n",
        "아래 결과를 예측하세요\n",
        "\n",
        "```\n",
        "bool(\"\")\n",
        "```"
      ],
      "metadata": {
        "id": "xGNJ9y5Wwf54"
      }
    },
    {
      "cell_type": "code",
      "source": [
        "#False예측\n",
        "bool(\"\")"
      ],
      "metadata": {
        "id": "gHzUxS0Lwgzz",
        "outputId": "1e7895fd-2b14-47f6-d979-4432280d8eee",
        "colab": {
          "base_uri": "https://localhost:8080/"
        }
      },
      "execution_count": null,
      "outputs": [
        {
          "output_type": "execute_result",
          "data": {
            "text/plain": [
              "False"
            ]
          },
          "metadata": {},
          "execution_count": 18
        }
      ]
    },
    {
      "cell_type": "markdown",
      "source": [
        "**예제 03**\n",
        "\n",
        "아래 결과를 예측하세요\n",
        "\n",
        "\n",
        "```\n",
        "bool([2,4,6])\n",
        "```"
      ],
      "metadata": {
        "id": "Tg2gHNY3wgAR"
      }
    },
    {
      "cell_type": "code",
      "source": [
        "#True예측\n",
        "bool([2,4,6])"
      ],
      "metadata": {
        "id": "vOJSteeUwiKM",
        "outputId": "c676d230-9f34-42f0-f6cf-3bc088c2acec",
        "colab": {
          "base_uri": "https://localhost:8080/"
        }
      },
      "execution_count": null,
      "outputs": [
        {
          "output_type": "execute_result",
          "data": {
            "text/plain": [
              "True"
            ]
          },
          "metadata": {},
          "execution_count": 19
        }
      ]
    },
    {
      "cell_type": "markdown",
      "source": [
        "**예제 04**\n",
        "\n",
        "\n",
        "아래 결과를 예측하세요\n",
        "\n",
        "\n",
        "```\n",
        "bool([0])\n",
        "```"
      ],
      "metadata": {
        "id": "uwujor7AwiRX"
      }
    },
    {
      "cell_type": "code",
      "source": [
        "#True예측\n",
        "bool([0])"
      ],
      "metadata": {
        "id": "5XzG9e4lwjZp",
        "outputId": "a4cc0bef-a107-43af-e3cb-7496f53905c1",
        "colab": {
          "base_uri": "https://localhost:8080/"
        }
      },
      "execution_count": null,
      "outputs": [
        {
          "output_type": "execute_result",
          "data": {
            "text/plain": [
              "True"
            ]
          },
          "metadata": {},
          "execution_count": 20
        }
      ]
    },
    {
      "cell_type": "markdown",
      "source": [
        "**예제 05**\n",
        "\n",
        " 아래 결과를 예측하세요\n",
        "\n",
        "\n",
        "```\n",
        "bool(0)\n",
        "```"
      ],
      "metadata": {
        "id": "l1mgEeerwjep"
      }
    },
    {
      "cell_type": "code",
      "source": [
        "#False예측\n",
        "bool(0)"
      ],
      "metadata": {
        "id": "UZby3aNmwkd7",
        "outputId": "7ed63291-4135-4239-8b23-e8c4d8e3897a",
        "colab": {
          "base_uri": "https://localhost:8080/"
        }
      },
      "execution_count": null,
      "outputs": [
        {
          "output_type": "execute_result",
          "data": {
            "text/plain": [
              "False"
            ]
          },
          "metadata": {},
          "execution_count": 21
        }
      ]
    },
    {
      "cell_type": "markdown",
      "source": [
        "**예제 06**\n",
        "\n",
        " 아래 결과를 예측하세요\n",
        "\n",
        "\n",
        "```\n",
        "bool(1)\n",
        "```"
      ],
      "metadata": {
        "id": "PpUlq1KWwkio"
      }
    },
    {
      "cell_type": "code",
      "source": [
        "#True예측\n",
        "bool(1)"
      ],
      "metadata": {
        "id": "A9rPYh0pwlca",
        "outputId": "79fa488a-701e-411c-a682-c36ed958a217",
        "colab": {
          "base_uri": "https://localhost:8080/"
        }
      },
      "execution_count": null,
      "outputs": [
        {
          "output_type": "execute_result",
          "data": {
            "text/plain": [
              "True"
            ]
          },
          "metadata": {},
          "execution_count": 22
        }
      ]
    },
    {
      "cell_type": "markdown",
      "source": [
        "**예제 07**\n",
        "\n",
        "아래 결과를 예측하세요\n",
        "\n",
        "```\n",
        "bool([1])\n",
        "```"
      ],
      "metadata": {
        "id": "yxuynfU6wlgX"
      }
    },
    {
      "cell_type": "code",
      "source": [
        "#True예측\n",
        "bool([1])"
      ],
      "metadata": {
        "id": "hwyvS1cywmil",
        "outputId": "4f9dcb64-f99f-420c-9498-2a1b97240b7a",
        "colab": {
          "base_uri": "https://localhost:8080/"
        }
      },
      "execution_count": null,
      "outputs": [
        {
          "output_type": "execute_result",
          "data": {
            "text/plain": [
              "True"
            ]
          },
          "metadata": {},
          "execution_count": 23
        }
      ]
    },
    {
      "cell_type": "markdown",
      "source": [
        "**예제 08**\n",
        "\n",
        " 아래 결과를 예측하세요\n",
        "\n",
        "```\n",
        " print(3==5)\n",
        "```\n"
      ],
      "metadata": {
        "id": "C8gQteDmwmnT"
      }
    },
    {
      "cell_type": "code",
      "source": [
        "#False예측\n",
        "print(3==5)"
      ],
      "metadata": {
        "id": "vTdk0nAMwobn",
        "outputId": "9fa2a407-57bf-472e-96dc-c22abec8ebfa",
        "colab": {
          "base_uri": "https://localhost:8080/"
        }
      },
      "execution_count": null,
      "outputs": [
        {
          "output_type": "stream",
          "name": "stdout",
          "text": [
            "False\n"
          ]
        }
      ]
    },
    {
      "cell_type": "markdown",
      "source": [
        "**예제 09**\n",
        "\n",
        "아래 결과를 예측하세요\n",
        "```\n",
        " print(3<5)\n",
        "```"
      ],
      "metadata": {
        "id": "pV4o_x-LwohH"
      }
    },
    {
      "cell_type": "code",
      "source": [
        "#True예측\n",
        "print(3<5)"
      ],
      "metadata": {
        "id": "iEHsL_jtwp_U",
        "outputId": "3ff12eb4-7fc0-44a7-d624-d0c70de1af09",
        "colab": {
          "base_uri": "https://localhost:8080/"
        }
      },
      "execution_count": null,
      "outputs": [
        {
          "output_type": "stream",
          "name": "stdout",
          "text": [
            "True\n"
          ]
        }
      ]
    },
    {
      "cell_type": "markdown",
      "source": [
        "**예제 10**\n",
        "\n",
        " 아래 결과를 예측하세요\n",
        "\n",
        "```\n",
        "x = 4\n",
        "print(1<x<5)\n",
        "```\n"
      ],
      "metadata": {
        "id": "pWIRx-BBwqHk"
      }
    },
    {
      "cell_type": "code",
      "source": [
        "#True예측\n",
        "x = 4\n",
        "print(1<x<5)"
      ],
      "metadata": {
        "id": "Ye-UEjJpwrLb",
        "outputId": "7408a1b0-d493-4028-ccc4-83ff151b71f9",
        "colab": {
          "base_uri": "https://localhost:8080/"
        }
      },
      "execution_count": null,
      "outputs": [
        {
          "output_type": "stream",
          "name": "stdout",
          "text": [
            "True\n"
          ]
        }
      ]
    },
    {
      "cell_type": "markdown",
      "source": [
        "\n",
        "**예제 11**\n",
        "\n",
        "아래 결과를 예측하세요\n",
        "\n",
        "```\n",
        "print ((3 == 3) and (4 != 3))\n",
        "```"
      ],
      "metadata": {
        "id": "Q12O-j1bwrfQ"
      }
    },
    {
      "cell_type": "code",
      "source": [
        "#True예측\n",
        "print ((3 == 3) and (4 != 3))"
      ],
      "metadata": {
        "id": "CtRh6aFXwsdd",
        "outputId": "83543ff2-dd87-431b-e25d-9af1b0e68fea",
        "colab": {
          "base_uri": "https://localhost:8080/"
        }
      },
      "execution_count": null,
      "outputs": [
        {
          "output_type": "stream",
          "name": "stdout",
          "text": [
            "True\n"
          ]
        }
      ]
    },
    {
      "cell_type": "markdown",
      "source": [
        "\n",
        "**예제 12**\n",
        "\n",
        "아래 결과를 예측하세요\n",
        "\n",
        "```\n",
        "'a' in 'abc'\n",
        "```\n"
      ],
      "metadata": {
        "id": "rUiji_6nwshi"
      }
    },
    {
      "cell_type": "code",
      "source": [
        "#True예측\n",
        "'a' in 'abc'"
      ],
      "metadata": {
        "id": "ZxDpZkC_wtj7",
        "outputId": "d8cbc962-b381-45b1-dd30-1d59f8d018ac",
        "colab": {
          "base_uri": "https://localhost:8080/"
        }
      },
      "execution_count": null,
      "outputs": [
        {
          "output_type": "execute_result",
          "data": {
            "text/plain": [
              "True"
            ]
          },
          "metadata": {},
          "execution_count": 28
        }
      ]
    },
    {
      "cell_type": "markdown",
      "source": [
        "**예제 13**\n",
        "\n",
        "\n",
        "아래 결과를 예측하세요\n",
        "\n",
        "```\n",
        "'a' in ['d','b','c']\n",
        "```\n"
      ],
      "metadata": {
        "id": "lJ_bWq0Fwtow"
      }
    },
    {
      "cell_type": "code",
      "source": [
        "#False예측\n",
        "'a' in ['d','b','c']"
      ],
      "metadata": {
        "id": "E0whSkKFwvF9",
        "outputId": "22551a15-1da3-49f9-8759-dcef97cf451c",
        "colab": {
          "base_uri": "https://localhost:8080/"
        }
      },
      "execution_count": null,
      "outputs": [
        {
          "output_type": "execute_result",
          "data": {
            "text/plain": [
              "False"
            ]
          },
          "metadata": {},
          "execution_count": 29
        }
      ]
    },
    {
      "cell_type": "markdown",
      "source": [
        "**예제 14**\n",
        "\n",
        "\n",
        "아래 결과를 예측하세요\n",
        "\n",
        "```\n",
        "'a' not in ['a','b','c']\n",
        "```"
      ],
      "metadata": {
        "id": "fyRztNmYwvKN"
      }
    },
    {
      "cell_type": "code",
      "source": [
        "#False예측\n",
        "'a' not in ['a','b','c']"
      ],
      "metadata": {
        "id": "6-1cfkVxwwSl",
        "outputId": "991d1178-4094-484d-c5e2-5352d6efbbaa",
        "colab": {
          "base_uri": "https://localhost:8080/"
        }
      },
      "execution_count": null,
      "outputs": [
        {
          "output_type": "execute_result",
          "data": {
            "text/plain": [
              "False"
            ]
          },
          "metadata": {},
          "execution_count": 30
        }
      ]
    },
    {
      "cell_type": "markdown",
      "source": [
        "**예제 15**\n",
        "\n",
        "아래 결과를 예측하세요\n",
        "\n",
        "```\n",
        "'a' not in 'abc'\n",
        "```"
      ],
      "metadata": {
        "id": "Lwx6We67wwYz"
      }
    },
    {
      "cell_type": "code",
      "source": [
        "#False예측\n",
        "'a' not in 'abc'"
      ],
      "metadata": {
        "id": "tprm6Yrdwy1p",
        "outputId": "5f21aa6e-df20-4ec8-df73-65fec06a9dbf",
        "colab": {
          "base_uri": "https://localhost:8080/"
        }
      },
      "execution_count": null,
      "outputs": [
        {
          "output_type": "execute_result",
          "data": {
            "text/plain": [
              "False"
            ]
          },
          "metadata": {},
          "execution_count": 31
        }
      ]
    },
    {
      "cell_type": "markdown",
      "source": [
        "**예제 16**\n",
        "\n",
        "아래 결과가 나오도록 코드를 작성하세요\n",
        "\n",
        "\n",
        "```\n",
        ">> a = #코드를작성하세요\n",
        ">> b = #코드를작성하세요\n",
        ">> a and b\n",
        "True\n",
        "```"
      ],
      "metadata": {
        "id": "M7tF0Uzdwy6W"
      }
    },
    {
      "cell_type": "code",
      "source": [
        "a = True\n",
        "b = True\n",
        "a and b"
      ],
      "metadata": {
        "id": "gltL5ievw0G9",
        "outputId": "22308eaf-3e4e-4b13-c156-75c4fd755e74",
        "colab": {
          "base_uri": "https://localhost:8080/"
        }
      },
      "execution_count": 32,
      "outputs": [
        {
          "output_type": "execute_result",
          "data": {
            "text/plain": [
              "True"
            ]
          },
          "metadata": {},
          "execution_count": 32
        }
      ]
    },
    {
      "cell_type": "markdown",
      "source": [
        "\n",
        "**예제 17**\n",
        "\n",
        "아래 결과가 나오도록 코드를 작성하세요\n",
        "\n",
        "\n",
        "```\n",
        ">> a = #코드를작성하세요\n",
        ">> b = #코드를작성하세요\n",
        ">> a or b\n",
        "False\n",
        "```"
      ],
      "metadata": {
        "id": "hK8VBKPdw0Ml"
      }
    },
    {
      "cell_type": "code",
      "source": [
        "a = False\n",
        "b = False\n",
        "a or b"
      ],
      "metadata": {
        "id": "uGeaGOPew1Nw",
        "outputId": "020d4013-5e72-49f2-b60c-c7491dbc06b2",
        "colab": {
          "base_uri": "https://localhost:8080/"
        }
      },
      "execution_count": 34,
      "outputs": [
        {
          "output_type": "execute_result",
          "data": {
            "text/plain": [
              "False"
            ]
          },
          "metadata": {},
          "execution_count": 34
        }
      ]
    },
    {
      "cell_type": "code",
      "source": [],
      "metadata": {
        "id": "TLr8djJA651X"
      },
      "execution_count": null,
      "outputs": []
    }
  ]
}