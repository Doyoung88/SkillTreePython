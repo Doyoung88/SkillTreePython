{
  "nbformat": 4,
  "nbformat_minor": 0,
  "metadata": {
    "colab": {
      "name": "2-2.파이썬의 자료형:문자열.ipynb",
      "provenance": [],
      "toc_visible": true,
      "include_colab_link": true
    },
    "kernelspec": {
      "name": "python3",
      "display_name": "Python 3"
    },
    "language_info": {
      "name": "python"
    }
  },
  "cells": [
    {
      "cell_type": "markdown",
      "metadata": {
        "id": "view-in-github",
        "colab_type": "text"
      },
      "source": [
        "<a href=\"https://colab.research.google.com/github/Doyoung88/SkillTreePython/blob/main/2_2_%ED%8C%8C%EC%9D%B4%EC%8D%AC%EC%9D%98_%EC%9E%90%EB%A3%8C%ED%98%95_%EB%AC%B8%EC%9E%90%EC%97%B4.ipynb\" target=\"_parent\"><img src=\"https://colab.research.google.com/assets/colab-badge.svg\" alt=\"Open In Colab\"/></a>"
      ]
    },
    {
      "cell_type": "markdown",
      "source": [
        "# 2-2.파이썬의 자료형:문자열\n",
        "---\n",
        "* 날짜:2022-12-27\n",
        "* 이름:윤도영"
      ],
      "metadata": {
        "id": "kB5IciXEm6o4"
      }
    },
    {
      "cell_type": "markdown",
      "source": [
        "## 개념정리\n",
        "---\n",
        "\n",
        "이번 시간에 다룰 자료형은 문자열 (String) 자료형 입니다. 문자열 도한 숫자와 마찬가지로 기본적인 데이터 타입이며 광범위하게 사용됩니다. 문자열 문자들의 집합으로 이루어져 있습니다."
      ],
      "metadata": {
        "id": "4iN8NFzHRJ2D"
      }
    },
    {
      "cell_type": "markdown",
      "source": [
        "### (1) 문자열 생성하기\n",
        "\n",
        "\n",
        "* 작은따음표 `'` \n",
        "\n",
        "```\n",
        "a = 'hello'\n",
        "print(a), type(a)\n",
        "```\n",
        "\n",
        "\n",
        "\n",
        "\n",
        "\n"
      ],
      "metadata": {
        "id": "UKlkHH0IRL5h"
      }
    },
    {
      "cell_type": "code",
      "source": [
        "#문자열은 군집자료형\n",
        "a = 'hello'\n",
        "type(a)"
      ],
      "metadata": {
        "id": "DwxmxrH90x6c",
        "colab": {
          "base_uri": "https://localhost:8080/"
        },
        "outputId": "050e332a-faf8-427c-c2c2-7d1ee76f0bb5"
      },
      "execution_count": 1,
      "outputs": [
        {
          "output_type": "execute_result",
          "data": {
            "text/plain": [
              "str"
            ]
          },
          "metadata": {},
          "execution_count": 1
        }
      ]
    },
    {
      "cell_type": "markdown",
      "source": [
        "* 큰따음표 `\"`\n",
        "\n",
        "```\n",
        "a = \"hello\"\n",
        "print(a), type(a)\n",
        "```\n"
      ],
      "metadata": {
        "id": "ftvQ5Pfk0yBf"
      }
    },
    {
      "cell_type": "code",
      "source": [
        "a = \"hello\"\n",
        "type(a)"
      ],
      "metadata": {
        "id": "phUxr9LP0y7Q",
        "colab": {
          "base_uri": "https://localhost:8080/"
        },
        "outputId": "6dfbaea0-6bab-4738-c55e-7d1197badce7"
      },
      "execution_count": 2,
      "outputs": [
        {
          "output_type": "execute_result",
          "data": {
            "text/plain": [
              "str"
            ]
          },
          "metadata": {},
          "execution_count": 2
        }
      ]
    },
    {
      "cell_type": "markdown",
      "source": [
        "\n",
        "* 작은따음표 세개 `'''`\n",
        "\n",
        "```\n",
        "a = '''hello'''\n",
        "print(a), type(a)\n",
        "```\n",
        "\n"
      ],
      "metadata": {
        "id": "RMpem26n0zBR"
      }
    },
    {
      "cell_type": "code",
      "source": [
        "a = '''a'''\n",
        "type(a)"
      ],
      "metadata": {
        "id": "oLRaHKFD0zsX",
        "colab": {
          "base_uri": "https://localhost:8080/"
        },
        "outputId": "00d69379-e555-4a8e-9dd9-bfd0c86835fc"
      },
      "execution_count": 3,
      "outputs": [
        {
          "output_type": "execute_result",
          "data": {
            "text/plain": [
              "str"
            ]
          },
          "metadata": {},
          "execution_count": 3
        }
      ]
    },
    {
      "cell_type": "markdown",
      "source": [
        "* 큰따음표 세개 `\"\"\"`\n",
        "\n",
        "```\n",
        "a = \"\"\"hello\"\"\"\n",
        "print(a), type(a)\n",
        "```\n"
      ],
      "metadata": {
        "id": "TZkDN8560z1N"
      }
    },
    {
      "cell_type": "code",
      "source": [
        "a = \"\"\"hello\"\"\"\n",
        "a, type(a)"
      ],
      "metadata": {
        "id": "vQMs78BT00c-",
        "colab": {
          "base_uri": "https://localhost:8080/"
        },
        "outputId": "2ccc506a-7a57-4d3d-8732-4ada589542b2"
      },
      "execution_count": 5,
      "outputs": [
        {
          "output_type": "execute_result",
          "data": {
            "text/plain": [
              "('hello', str)"
            ]
          },
          "metadata": {},
          "execution_count": 5
        }
      ]
    },
    {
      "cell_type": "markdown",
      "source": [
        "#### **작은따음표나 큰따음표가 포함된 문자열**\n",
        "\n",
        "위에서 우리는 작은따음표나 큰따음표를 이용해서 문자열을 생성하였습니다. 그런데 언제 작은따음표를 쓰고, 큰따음표를 써야할까요? 대부분의 경우 사용자의 편의에 맞춰서 사용하시면 되지만 특정 상황에 따라 적절히 선택해서 문자열을 생성해야 합니다. \n",
        "\n",
        "* 작은따음표 포함시키기\n",
        "\n",
        "```\n",
        "a = \"It's nice day!\"\n",
        "print(a)\n",
        "```"
      ],
      "metadata": {
        "id": "-6nvbRvd02kK"
      }
    },
    {
      "cell_type": "code",
      "source": [
        "a = \"it's nice day!\"\n",
        "print(a)"
      ],
      "metadata": {
        "id": "7AfuxTvH4tdg",
        "colab": {
          "base_uri": "https://localhost:8080/"
        },
        "outputId": "8e0a7835-a127-4dc8-d485-5903a6ede1a5"
      },
      "execution_count": 6,
      "outputs": [
        {
          "output_type": "stream",
          "name": "stdout",
          "text": [
            "it's nice day!\n"
          ]
        }
      ]
    },
    {
      "cell_type": "markdown",
      "source": [
        "* 큰따음표 포함시키기\n",
        "\n",
        "```\n",
        "a = 'he said, \"nice day!\"'\n",
        "print(a)\n",
        "```"
      ],
      "metadata": {
        "id": "MHzcVeyz5IzP"
      }
    },
    {
      "cell_type": "code",
      "source": [
        "a = 'he said, \"nice day!\"'\n",
        "print(a)"
      ],
      "metadata": {
        "id": "GZR3Ujq95QRk",
        "colab": {
          "base_uri": "https://localhost:8080/"
        },
        "outputId": "12fb7ddc-11b0-467d-c745-b06fff2818f9"
      },
      "execution_count": 7,
      "outputs": [
        {
          "output_type": "stream",
          "name": "stdout",
          "text": [
            "he said, \"nice day!\"\n"
          ]
        }
      ]
    },
    {
      "cell_type": "markdown",
      "source": [
        "#### **연속된 따옴표의 사용**\n",
        "\n",
        "연속된 따옴표는 표현의 자유도가 높습니다. 우선 여러줄의 문자열을 생성할 수 있습니다. \n",
        "\n",
        "* 작음 따옴표 / 큰 따옴표\n",
        "\n",
        "따옴표 한개를 사용할 때 줄 바꿈을 적용하면 에러 메시지가 뜹니다.\n",
        "\n",
        "```\n",
        "a = 'nice\n",
        "day !'\n",
        "```\n",
        "\n"
      ],
      "metadata": {
        "id": "opbfNksrAq4P"
      }
    },
    {
      "cell_type": "code",
      "source": [
        "a = 'nice\n",
        "day !'"
      ],
      "metadata": {
        "colab": {
          "base_uri": "https://localhost:8080/",
          "height": 137
        },
        "id": "dDRBb82TcWAY",
        "outputId": "983b8c84-14b1-4778-df91-85e2b52c202a"
      },
      "execution_count": 8,
      "outputs": [
        {
          "output_type": "error",
          "ename": "SyntaxError",
          "evalue": "ignored",
          "traceback": [
            "\u001b[0;36m  File \u001b[0;32m\"<ipython-input-8-30f793b88a74>\"\u001b[0;36m, line \u001b[0;32m1\u001b[0m\n\u001b[0;31m    a = 'nice\u001b[0m\n\u001b[0m             ^\u001b[0m\n\u001b[0;31mSyntaxError\u001b[0m\u001b[0;31m:\u001b[0m EOL while scanning string literal\n"
          ]
        }
      ]
    },
    {
      "cell_type": "code",
      "source": [],
      "metadata": {
        "id": "8wPrBcJS5i5x"
      },
      "execution_count": null,
      "outputs": []
    },
    {
      "cell_type": "markdown",
      "source": [
        "* 작음 따옴표 / 큰 따옴표 세개\n",
        "\n",
        "따음표 세개를 쓰면 줄 바꿈이 가능합니다.\n",
        "\n",
        "```\n",
        "a = '''\n",
        "nice\n",
        "day !\n",
        "'''\n",
        "```\n"
      ],
      "metadata": {
        "id": "cWLVpy9R5oEq"
      }
    },
    {
      "cell_type": "code",
      "source": [
        "a = '''\n",
        "nice \n",
        "day\n",
        "'''"
      ],
      "metadata": {
        "id": "ovhFYYpI5sd_"
      },
      "execution_count": 10,
      "outputs": []
    },
    {
      "cell_type": "markdown",
      "source": [
        "또한 문자열 안에 큰따음표나 작은따옴표를 자유롭게 포함할 수 있습니다.\n",
        "\n",
        "```\n",
        "a = '''\n",
        "It's\n",
        "nice\n",
        "day !\n",
        "'''\n",
        "```"
      ],
      "metadata": {
        "id": "II4NczMb5yYl"
      }
    },
    {
      "cell_type": "code",
      "source": [
        "a = '''\n",
        "\n",
        "He said \" It's nice day! \"\n",
        "\n",
        "'''\n",
        "\n",
        "print(a)"
      ],
      "metadata": {
        "id": "cApA3Fwn5tbJ",
        "colab": {
          "base_uri": "https://localhost:8080/"
        },
        "outputId": "a7b58477-27e8-45f0-95c3-a17df5b2c507"
      },
      "execution_count": 13,
      "outputs": [
        {
          "output_type": "stream",
          "name": "stdout",
          "text": [
            "\n",
            "\n",
            "He said \" It's nice day! \"\n",
            "\n",
            "\n"
          ]
        }
      ]
    },
    {
      "cell_type": "markdown",
      "source": [
        "### (2) 이스케이프 코드\n",
        "\n",
        "이스케이프 코드는 프로그래밍할 때 사용할 수 있도록 미리 만들어 둔 문자조합 입니다. 출력물을 보기 좋게 정렬하는 용도로 사용되며 주로 사용되는 이스케이프 코드를 정리하면 아래와 같습니다. \n",
        "\n",
        "* `\\n` : 문자열 내에서 줄을 바꿉니다.\n",
        "\n",
        "```\n",
        "a = 'nice\\nday!'\n",
        "print(a)\n",
        "```\n"
      ],
      "metadata": {
        "id": "8qoGgPDT55BR"
      }
    },
    {
      "cell_type": "code",
      "source": [
        "a = 'nice\\nday'\n",
        "print(a)"
      ],
      "metadata": {
        "id": "4n7IDBuq5-hv",
        "colab": {
          "base_uri": "https://localhost:8080/"
        },
        "outputId": "0d38eb58-e156-48c0-b46b-c86f2a7cc32c"
      },
      "execution_count": 15,
      "outputs": [
        {
          "output_type": "stream",
          "name": "stdout",
          "text": [
            "nice\n",
            "day\n"
          ]
        }
      ]
    },
    {
      "cell_type": "markdown",
      "source": [
        "* `\\t` : 문자열 내에서 탭 간격만큼 띄어쓰기 합니다.\n",
        "\n",
        "```\n",
        "a = 'nice\\tday!'\n",
        "print(a)\n",
        "```"
      ],
      "metadata": {
        "id": "LcAJr9hK6Api"
      }
    },
    {
      "cell_type": "code",
      "source": [
        "a = 'nice\\tday!'\n",
        "print(a)"
      ],
      "metadata": {
        "id": "esQ1Vclb6EPw",
        "colab": {
          "base_uri": "https://localhost:8080/"
        },
        "outputId": "2bafc510-a485-4163-9273-dca4e04e1fbe"
      },
      "execution_count": 16,
      "outputs": [
        {
          "output_type": "stream",
          "name": "stdout",
          "text": [
            "nice\tday!\n"
          ]
        }
      ]
    },
    {
      "cell_type": "markdown",
      "source": [
        "* `\\\\` : 문자열 내에서 `\\` 를 문자 그대로 표시합니다.\n",
        "\n",
        "```\n",
        "a = 'nice\\\\day!'\n",
        "print(a)\n",
        "```"
      ],
      "metadata": {
        "id": "WUaMrp516Gpt"
      }
    },
    {
      "cell_type": "code",
      "source": [
        "a = 'nice\\\\day!'\n",
        "print(a)"
      ],
      "metadata": {
        "id": "-dIGYh-k6FDJ",
        "colab": {
          "base_uri": "https://localhost:8080/"
        },
        "outputId": "50c01a3c-3a0a-45ee-871e-3fd8ea28dbd7"
      },
      "execution_count": 18,
      "outputs": [
        {
          "output_type": "stream",
          "name": "stdout",
          "text": [
            "nice\\day!\n"
          ]
        }
      ]
    },
    {
      "cell_type": "markdown",
      "source": [
        "* `\\'` : 문자열 내에서 작은 따음표 `'` 를 문자 그대로 표시합니다.\n",
        "\n",
        "```\n",
        "a = 'nice\\'day!'\n",
        "print(a)\n",
        "```"
      ],
      "metadata": {
        "id": "4xbxgNT06Pz6"
      }
    },
    {
      "cell_type": "code",
      "source": [],
      "metadata": {
        "id": "89Fv1jo_6Pz7"
      },
      "execution_count": null,
      "outputs": []
    },
    {
      "cell_type": "markdown",
      "source": [
        "* `\\\"` : 문자열 내에서 큰따음표 `\"` 를 문자 그대로 표시합니다.\n",
        "\n",
        "```\n",
        "a = 'nice\\\"day!'\n",
        "print(a)\n",
        "```"
      ],
      "metadata": {
        "id": "QSzXTGff7uw4"
      }
    },
    {
      "cell_type": "code",
      "source": [
        "a = 'nice\"day!'\n",
        "print(a)"
      ],
      "metadata": {
        "id": "R40_NPU47uw-",
        "colab": {
          "base_uri": "https://localhost:8080/"
        },
        "outputId": "fb5b7910-2856-4b6a-a75d-bf153759cd52"
      },
      "execution_count": 19,
      "outputs": [
        {
          "output_type": "stream",
          "name": "stdout",
          "text": [
            "nice\"day!\n"
          ]
        }
      ]
    },
    {
      "cell_type": "markdown",
      "source": [
        "### (3) 문자열 포매팅(Formatting)\n",
        "\n",
        "문자열 안에 변수가 포함된 경우를 생각해 보겠습니다. \n",
        "\n",
        "```\n",
        "It's nice day!\n",
        "It's good day!\n",
        "It's happy day!\n",
        "```\n",
        "\n",
        "위 문장들의 공통 값은 `It's --- day` 이고 변하는 값들은 `nice`, `good`, `happy` 가 됩니다. \n",
        "\n",
        "이 때 변하는 값들을 문장 내에서 처리해 주는 것이 포매팅 입니다. 아직까진 어떤 의미인지 잘 이해가 안갈 수 있습니다. 여러가지 방법들을 하나씩 따라하면서 감을 잡아 봅시다.\n",
        "\n"
      ],
      "metadata": {
        "id": "yKAeHMtt74ad"
      }
    },
    {
      "cell_type": "markdown",
      "source": [
        "####  **`%`  이용하기**\n",
        "\n",
        "변수는 `a` 이고 전체 문장은 `s`입니다. 문장내에 변수를 `%s`로 두고 문장 끝에 %s에 들어갈 것이 `a`임을 표시해 줍니다.\n",
        "\n",
        "```\n",
        "a = 'nice'\n",
        "s = \"It's %s day!\"%(a)\n",
        "print(s)\n",
        "```\n",
        "\n"
      ],
      "metadata": {
        "id": "QgMmtjem_VIT"
      }
    },
    {
      "cell_type": "code",
      "source": [
        "a = 'nice' #변하는 것\n",
        "s = \"It's %s day!\"%(a)\n",
        "print(s)"
      ],
      "metadata": {
        "id": "LOPlbk426N__",
        "colab": {
          "base_uri": "https://localhost:8080/"
        },
        "outputId": "c74c5c38-377d-45da-8681-622d85c49b0e"
      },
      "execution_count": 20,
      "outputs": [
        {
          "output_type": "stream",
          "name": "stdout",
          "text": [
            "It's nice day!\n"
          ]
        }
      ]
    },
    {
      "cell_type": "markdown",
      "source": [
        "변수 `b`와 `c`를 추가하고 각각 `good`, `happy`로 바인딩 합시다. 문자 끝에 무엇을 넣어줄지 정해 다양한 변수를 지정할 수 있습니다. \n",
        "\n",
        "```\n",
        "a = 'nice'\n",
        "b = 'good'\n",
        "c = 'happy'\n",
        "s = \"It's %s day!\"%(b)\n",
        "print(s)\n",
        "```"
      ],
      "metadata": {
        "id": "7kep77Ls__Q2"
      }
    },
    {
      "cell_type": "code",
      "source": [],
      "metadata": {
        "id": "9edAonWp_6SH"
      },
      "execution_count": null,
      "outputs": []
    },
    {
      "cell_type": "markdown",
      "source": [
        "두개 이상의 변수도 다룰 수 있습니다. \n",
        "\n",
        "```\n",
        "a = 'nice'\n",
        "b = 'good'\n",
        "c = 'happy'\n",
        "s = \"It's %s, %s, and %s day!\"%(a, b, c)\n",
        "print(s)\n",
        "```"
      ],
      "metadata": {
        "id": "CaR1T3S7Aaw3"
      }
    },
    {
      "cell_type": "code",
      "source": [],
      "metadata": {
        "id": "2hH45AgVAV03"
      },
      "execution_count": null,
      "outputs": []
    },
    {
      "cell_type": "markdown",
      "source": [
        "이 때 문장 내에 `%s`로 변수를 지칭하는 것을 볼 수 있습니다. `s`가 뜻하는 것은 `string`입니다. 즉, 우리가 변수로 사용할 `a`, `b`, `c`가 문자열(string) 이기 때문에 `%s`로 문장 내에 변수를 표시합니다. \n",
        "\n",
        "그렇다면 문자열이 아닌 정수일 때는 어떻게 표시할까요? 이 때는 `%d`로 표시합니다.\n",
        "\n",
        "\n",
        "\n",
        "```\n",
        "a = 2\n",
        "s = '%d apples.'%(a)\n",
        "print(s)\n",
        "```\n",
        "\n"
      ],
      "metadata": {
        "id": "XXcIbOqRApxi"
      }
    },
    {
      "cell_type": "code",
      "source": [],
      "metadata": {
        "id": "cF5rP4FBAjpa"
      },
      "execution_count": null,
      "outputs": []
    },
    {
      "cell_type": "markdown",
      "source": [
        "이 밖에 `a`의 자료형에 따라 적절한 코드를 사용합니다. \n",
        "\n",
        "| 코드 | 설명 |\n",
        "| --|-- |\n",
        "|%s|\t문자열(String)|\n",
        "|%c|\t문자 1개(character)|\n",
        "|%d|\t정수(Integer)|\n",
        "|%f\t|부동소수(floating-point)|\n",
        "|%o\t|8진수|\n",
        "|%x\t|16진수|\n",
        "|%%\t|Literal % (문자 % 자체)|\n",
        "\n",
        "이제 문자열 포매팅에 대한 기본적인 이해는 되었습니다. 더 많은 포매팅 방법을 알아보고 본인에게 가장 편리한 방법을 사용해 보도록 합시다."
      ],
      "metadata": {
        "id": "2dSPARaCBPIf"
      }
    },
    {
      "cell_type": "markdown",
      "source": [
        "#### **`.format()` 이용하기**\n",
        "\n",
        "\n",
        "이 방식에서 문자열 안의 변수는 `{}` 로 표현됩니다. 그리고 어떤 변수가 오는 지는 `.format()`을 이용합니다. 이 방식은 이전과 달리 변수의 타입에 관계없이 항상 `{}` 기호를 써서 나타냅니다. \n",
        "\n",
        "\n",
        "```\n",
        "a = 'nice'\n",
        "s = \"It's {} day!\".format(a)\n",
        "print(s)\n",
        "```\n"
      ],
      "metadata": {
        "id": "WbPuzriMBSsB"
      }
    },
    {
      "cell_type": "code",
      "source": [],
      "metadata": {
        "id": "lU2dMDiNEFac"
      },
      "execution_count": null,
      "outputs": []
    },
    {
      "cell_type": "markdown",
      "source": [
        "* 여러개의 변수\n",
        "\n",
        "```\n",
        "a = 3\n",
        "b = 'apples'\n",
        "s = 'there are {} {}'.format(a, b)\n",
        "print(s)\n",
        "```\n"
      ],
      "metadata": {
        "id": "CiYaXRPVBSt-"
      }
    },
    {
      "cell_type": "code",
      "source": [],
      "metadata": {
        "id": "8PiiujY3BK13"
      },
      "execution_count": null,
      "outputs": []
    },
    {
      "cell_type": "markdown",
      "source": [
        "* 괄호 인덱싱 : 변수를 나타내는 괄호 `{}` 안에 번호로 인덱싱을 할 수 있습니다.  \n",
        "\n",
        "\n",
        "```\n",
        "a = '3'\n",
        "b = 'apples'\n",
        "c = 'oranges'\n",
        "s = 'there are {0} {1} and {0} {2}'.format(a, b, c)\n",
        "print(s)\n",
        "``` \n",
        "이 때 `{0}`, `{1}`, `{2}` 는 차례대로 `a`, `b`, `c` 가 됩니다.\n"
      ],
      "metadata": {
        "id": "jnIYWLtfEcX0"
      }
    },
    {
      "cell_type": "code",
      "source": [],
      "metadata": {
        "id": "jVLUKFNmEX--"
      },
      "execution_count": null,
      "outputs": []
    },
    {
      "cell_type": "markdown",
      "source": [
        "* 괄호 태그 : 변수를 나타내는 괄호 `{}` 안에 태그로 인덱싱을 할 수 있습니다.\n",
        "\n",
        "```\n",
        "a = '3'\n",
        "b = 'apples'\n",
        "c = 'oranges'\n",
        "s = 'there are {num} {fruit1} and {num} {fruit2}'.format(num=a, fruit1=b, fruit2=c)\n",
        "print(s)\n",
        "``` \n"
      ],
      "metadata": {
        "id": "9kXyc4KFEwhD"
      }
    },
    {
      "cell_type": "code",
      "source": [],
      "metadata": {
        "id": "7t4bGJuvEnRx"
      },
      "execution_count": null,
      "outputs": []
    },
    {
      "cell_type": "code",
      "source": [],
      "metadata": {
        "id": "DrnDOi66fC-l"
      },
      "execution_count": null,
      "outputs": []
    },
    {
      "cell_type": "markdown",
      "source": [
        "#### **f-string 문법**\n",
        "\n",
        "\n",
        "Python 3.6 이상의 버전부터 f-string 문법을 사용할 수 있게 되었습니다. 문자열 앞에 접두사 `f`를 붙이고 문장내에 변수를 중괄호 `{}`로 처리합니다. 그리고 어떤 변수가 들어갈지를 중괄호 `{}` 안에 바로 작성해줍니다. \n",
        "\n",
        " \n",
        "\n",
        "```\n",
        "a = '3'\n",
        "b = 'apples'\n",
        "c = 'oranges'\n",
        "s = f'there are {a} {b} and {a} {c}'\n",
        "print(s)\n",
        "```\n"
      ],
      "metadata": {
        "id": "bYUxh00NFHWZ"
      }
    },
    {
      "cell_type": "code",
      "source": [
        "a = '3'\n",
        "b = 'apples'\n",
        "c = 'oranges'\n",
        "s = f'There are {a} {b} and {a} {c}'\n",
        "print(s)"
      ],
      "metadata": {
        "id": "N1XFYDRfFHWZ",
        "colab": {
          "base_uri": "https://localhost:8080/"
        },
        "outputId": "1916a4b4-e4e3-4d25-a2d2-cb5bdbd72daa"
      },
      "execution_count": 21,
      "outputs": [
        {
          "output_type": "stream",
          "name": "stdout",
          "text": [
            "There are 3 apples and 3 oranges\n"
          ]
        }
      ]
    },
    {
      "cell_type": "markdown",
      "source": [
        "### (4) 인덱싱과 슬라이싱\n",
        "\n",
        "\n"
      ],
      "metadata": {
        "id": "OW5u5aPEIGIP"
      }
    },
    {
      "cell_type": "markdown",
      "source": [
        "#### **인덱싱 (indexing)**\n",
        "\n",
        "문자열의 인덱싱(indexing) 이란 주어진 문자열의 특정 값의 위치를 가리키는 것입니다. 파이썬은 `0`부터 시작함을 유의하세요. 아래 그림과 같이 첫번째 문자는 `0`번째 index를 가지고 순차적으로 증가합니다. \n",
        "\n",
        "![](https://github.com/yebiny/SkillTreePython/blob/main/imgs/2-2-1.PNG?raw=true)\n",
        "\n",
        "* 양수 인덱스 : 양수 값에 위치한 문자를 인덱싱합니다.\n",
        "\n",
        "```\n",
        "a = 'nice day!'\n",
        "print(a[5])\n",
        "```"
      ],
      "metadata": {
        "id": "CiCymDWPIJyd"
      }
    },
    {
      "cell_type": "code",
      "source": [
        "a = 'nice day!'\n",
        "print(a[8])\n",
        "print(a[-1])"
      ],
      "metadata": {
        "id": "3zLNBfeRFATW",
        "colab": {
          "base_uri": "https://localhost:8080/"
        },
        "outputId": "d359982b-a0f9-43a8-d66c-44421210f788"
      },
      "execution_count": 24,
      "outputs": [
        {
          "output_type": "stream",
          "name": "stdout",
          "text": [
            "!\n",
            "!\n"
          ]
        }
      ]
    },
    {
      "cell_type": "markdown",
      "source": [
        "* 음수 인덱스 : 마지막 문자는 -1 이고 마지막에서 두번째는 -2 가 됩니다. \n",
        "\n",
        "```\n",
        "a = 'nice day!'\n",
        "print(a[-1])\n",
        "print(a[-4])\n",
        "```"
      ],
      "metadata": {
        "id": "vOiUFzc3IQOj"
      }
    },
    {
      "cell_type": "code",
      "source": [
        "a = 'nice day!'\n",
        "print(a[-1])\n",
        "print(a[-5])"
      ],
      "metadata": {
        "id": "GoQLluZSIOpI",
        "colab": {
          "base_uri": "https://localhost:8080/"
        },
        "outputId": "d59b8295-c51f-413d-ad23-6bbaf43cddf5"
      },
      "execution_count": 26,
      "outputs": [
        {
          "output_type": "stream",
          "name": "stdout",
          "text": [
            "!\n",
            " \n"
          ]
        }
      ]
    },
    {
      "cell_type": "markdown",
      "source": [
        "#### **슬라이싱 (Slicing)**\n",
        "\n",
        "문자열의 슬라이싱(Slicing) 은 문자열 내의 특정 구간을 잘라내는 것입니다. 슬라이싱에서의 순서는 인덱싱과 마찬가지로 0부터 시작합니다. 하지만 슬라이싱의 인덱스는 문자열의 위치를 가리키는게 아니라 문자열 사이사이의 칸막이를 가리키는 것으로 이해하셔야 헷갈리지 않습니다. 아래 그림을 참고하세요.\n",
        "\n",
        "![](https://github.com/yebiny/SkillTreePython/blob/main/imgs/2-2-2.PNG?raw=true)\n",
        "\n",
        "*  `a[start:end]` : 문자열 `a`의 `start` 부터 `end`까지 구간을 슬라이싱합니다.\n",
        "\n",
        "```\n",
        "a = 'nice day!'\n",
        "print(a[1:4])\n",
        "```"
      ],
      "metadata": {
        "id": "HkFYQ6riIswz"
      }
    },
    {
      "cell_type": "code",
      "source": [
        "a = 'nice day!'\n",
        "print(a[1:4])"
      ],
      "metadata": {
        "id": "CuP424IgIT5Q",
        "colab": {
          "base_uri": "https://localhost:8080/"
        },
        "outputId": "c22691d4-6524-4c1b-f4fe-d4c9580947b8"
      },
      "execution_count": 27,
      "outputs": [
        {
          "output_type": "stream",
          "name": "stdout",
          "text": [
            "ice\n"
          ]
        }
      ]
    },
    {
      "cell_type": "markdown",
      "source": [
        "만약  `start` 나 `end` 값을 적지 않으면 어떻게 될까요?\n",
        "\n",
        "```\n",
        "a = 'nice day!'\n",
        "print(a[:4])\n",
        "```\n",
        "\n",
        "`start` 값을 적지 않았지만 자동으로 `0`으로 인식하여 슬라이싱 합니다. 반대로 `end` 값을 적지 않으면 마지막(칸막이)을 뜻하는 `-1`이 인식됩니다."
      ],
      "metadata": {
        "id": "CG4gOxN8Iznp"
      }
    },
    {
      "cell_type": "code",
      "source": [
        "a = 'nice day!'\n",
        "print(a[:4])"
      ],
      "metadata": {
        "id": "uaoZZQFIIyZ2",
        "colab": {
          "base_uri": "https://localhost:8080/"
        },
        "outputId": "6be01924-da34-4310-9c84-51751ed8f258"
      },
      "execution_count": 28,
      "outputs": [
        {
          "output_type": "stream",
          "name": "stdout",
          "text": [
            "nice\n"
          ]
        }
      ]
    },
    {
      "cell_type": "code",
      "source": [
        "a = 'nice day!'\n",
        "print(a[1:])"
      ],
      "metadata": {
        "id": "hG8wkxFPOlkS",
        "colab": {
          "base_uri": "https://localhost:8080/"
        },
        "outputId": "5c576a6c-f8bf-47e7-9fa4-a67f331fe869"
      },
      "execution_count": 34,
      "outputs": [
        {
          "output_type": "stream",
          "name": "stdout",
          "text": [
            "ice day!\n"
          ]
        }
      ]
    },
    {
      "cell_type": "markdown",
      "source": [
        "\n",
        "따라서 아래 코드는 처음부터 끝까지 슬라이싱 하라는 것과 동일합니다. \n",
        "\n",
        "```\n",
        "a = 'nice day!'\n",
        "print(a[:])\n",
        "```\n",
        "\n",
        "\n"
      ],
      "metadata": {
        "id": "W5j566GxI4hc"
      }
    },
    {
      "cell_type": "code",
      "source": [
        "a = 'nice day!'\n",
        "print(a[:])\n",
        "print(a[0:-1])"
      ],
      "metadata": {
        "id": "L9vlbxXuI2Fd",
        "colab": {
          "base_uri": "https://localhost:8080/"
        },
        "outputId": "2fa5afd9-3ddc-4fee-e3c4-473ffe7ea83d"
      },
      "execution_count": 36,
      "outputs": [
        {
          "output_type": "stream",
          "name": "stdout",
          "text": [
            "nice day!\n",
            "nice day\n"
          ]
        }
      ]
    },
    {
      "cell_type": "markdown",
      "source": [
        "*  `a[start:end:step]` : 문자열 `a`의 `start` 부터 `end`까지 구간을 스텝 `step` 간격으로 슬라이싱합니다.\n",
        "\n",
        "\n",
        "```\n",
        "a = 'ababab'\n",
        "a[::2]\n",
        "```\n"
      ],
      "metadata": {
        "id": "UCiwcGTXWPOT"
      }
    },
    {
      "cell_type": "code",
      "source": [
        "a = 'ababab'\n",
        "a[::2] \n",
        " "
      ],
      "metadata": {
        "id": "x0SdKhARWVUV",
        "colab": {
          "base_uri": "https://localhost:8080/",
          "height": 35
        },
        "outputId": "03c0dc01-e2f3-43c1-dfa8-e9c3e643e651"
      },
      "execution_count": 41,
      "outputs": [
        {
          "output_type": "execute_result",
          "data": {
            "text/plain": [
              "'bababa'"
            ],
            "application/vnd.google.colaboratory.intrinsic+json": {
              "type": "string"
            }
          },
          "metadata": {},
          "execution_count": 41
        }
      ]
    },
    {
      "cell_type": "markdown",
      "source": [
        "* `a[::-1]` : 문자열 `a`를 거꾸로 출력합니다.\n",
        "\n",
        "```\n",
        "a = 'abc'\n",
        "a[::-1]\n",
        "```"
      ],
      "metadata": {
        "id": "LTcto31iYFmu"
      }
    },
    {
      "cell_type": "code",
      "source": [
        "a = 'abc'\n",
        "a[::-1]"
      ],
      "metadata": {
        "id": "mFmT_5MPYNHd",
        "colab": {
          "base_uri": "https://localhost:8080/",
          "height": 35
        },
        "outputId": "ddede06a-81d1-41e9-9f45-df2895e5d609"
      },
      "execution_count": 42,
      "outputs": [
        {
          "output_type": "execute_result",
          "data": {
            "text/plain": [
              "'cba'"
            ],
            "application/vnd.google.colaboratory.intrinsic+json": {
              "type": "string"
            }
          },
          "metadata": {},
          "execution_count": 42
        }
      ]
    },
    {
      "cell_type": "markdown",
      "source": [
        "### (5) 문자열 연산\n",
        "\n",
        "문자열도 수치자료형처럼 몇가지 연산이 가능합니다. 더하기 `+`와 곱셈 `*`을 사용할 수 있습니다.\n"
      ],
      "metadata": {
        "id": "I8LnkqP8KsaZ"
      }
    },
    {
      "cell_type": "markdown",
      "source": [
        "\n",
        "#### **더하기**\n",
        "\n",
        "* `a+b` : 문자열 `a`와 문자열 `b`를 하나의 문자열로 변환합니다.\n",
        "\n",
        "```\n",
        "a = 'nice'\n",
        "b = 'day!'\n",
        "print(a+b)\n",
        "```\n"
      ],
      "metadata": {
        "id": "8aUbNRGiKdE9"
      }
    },
    {
      "cell_type": "code",
      "source": [
        "a = 'nice'\n",
        "b = 'day!'\n",
        "print(a+b)\n",
        "#문자와 숫자는 연산이 되지 않는다."
      ],
      "metadata": {
        "id": "--dLtQdXKSb2",
        "colab": {
          "base_uri": "https://localhost:8080/"
        },
        "outputId": "3eb53dad-e80d-4ed8-c93b-1c7a5f24e936"
      },
      "execution_count": 43,
      "outputs": [
        {
          "output_type": "stream",
          "name": "stdout",
          "text": [
            "niceday!\n"
          ]
        }
      ]
    },
    {
      "cell_type": "markdown",
      "source": [
        "#### **곱하기**\n",
        "\n",
        "* `a*b` 문자열 `a`를 정수 `b`번 반복합니다. \n",
        "\n",
        "```\n",
        "a = 'nice'\n",
        "b = 'day!'\n",
        "print(a*3+b)\n",
        "```"
      ],
      "metadata": {
        "id": "kPmXu9HrKkak"
      }
    },
    {
      "cell_type": "code",
      "source": [
        "a = 'nice'\n",
        "b = 'day!'\n",
        "c = 3\n",
        "print(a*c+b)\n",
        "\n",
        "#문자열 * 문자열은 오류\n",
        "#문자열 * 숫자만 가능"
      ],
      "metadata": {
        "id": "j029NDxLKjNQ",
        "colab": {
          "base_uri": "https://localhost:8080/"
        },
        "outputId": "ba46aad3-feae-42c7-d792-1e7edb7f6cb7"
      },
      "execution_count": 45,
      "outputs": [
        {
          "output_type": "stream",
          "name": "stdout",
          "text": [
            "niceniceniceday!\n"
          ]
        }
      ]
    },
    {
      "cell_type": "markdown",
      "source": [
        "### (6) 문자열 메서드\n",
        "\n",
        "\n",
        "아래 표와 같이 문자열 메서드는 아주 다양합니다. 여기서는 자주 쓰이는 몇가지 함수만 간단히 배워보도록 합니다. 만약 코드를 작성하면서 더 다양한 문자열 메서드가 필요할 경우엔 표를 참고하고 해당 함수를 검색해보고 사용방법을 익혀가는 것도 좋습니다.\n",
        "\n",
        "|종류|함수|\n",
        "|--|--|\n",
        "|string calculation| `len()`, `min()`, `max()`, `count()`|\n",
        "|encoding/decoding| `encode()`, `decode()`|\n",
        "|string search|`startswith()`, `endswith()`, `find()`, `rfind()`, `index()`, `rindex()`|\n",
        "|number/character|`isalnum()`, `isalpha()`, `isdigit()`, `isnumeric()`, `isdecimal()`|\n",
        "|lower/upper| `islower()`, `isupper()`, `lower()`, `upper()`, `swapcase()`, `istitle()`, `title()`, `capitalize()`|\n",
        "|space/strip| `isstrip()`, `rstrip()`, `strip()`, `isspace()`, `center()`|\n",
        "|split/ join / fill | `split()`, `splitlines()`, `replace()`, `join()`, `zfill()`, `ljust()`, `rjust()`|\n"
      ],
      "metadata": {
        "id": "TqG0SPsMKybG"
      }
    },
    {
      "cell_type": "markdown",
      "source": [
        "#### **String calculation**\n",
        "\n",
        "* `len(x)` : 문자열 `x`의 **길이**를 반환합니다.\n",
        "\n",
        "```\n",
        "x  = 'abcde'\n",
        "print(len(x))\n",
        "```\n"
      ],
      "metadata": {
        "id": "ubTi__L8K6dR"
      }
    },
    {
      "cell_type": "code",
      "source": [
        "x = 'abcde'\n",
        "print(len(x))"
      ],
      "metadata": {
        "id": "33I4_rM3Ktv1",
        "colab": {
          "base_uri": "https://localhost:8080/"
        },
        "outputId": "e78afea2-7628-45b9-ef6b-d49087b9eda9"
      },
      "execution_count": 46,
      "outputs": [
        {
          "output_type": "stream",
          "name": "stdout",
          "text": [
            "5\n"
          ]
        }
      ]
    },
    {
      "cell_type": "markdown",
      "source": [
        "* `max(x)` : 문자열 `x`의 **최대값**을 반환합니다.\n",
        "\n",
        "\n",
        "문자열의 정렬 순서는 **기호-숫자-대문자-소문자** 입니다. 먼저 정렬 되는 문자가 최소값으로, 나중에 정렬되는 값이 최대값이 됩니다.\n",
        "\n",
        "\n",
        "```\n",
        "x  = 'abcde'\n",
        "print(max(x))\n",
        "```"
      ],
      "metadata": {
        "id": "0xOIdn0SK-vM"
      }
    },
    {
      "cell_type": "code",
      "source": [
        "x = 'AbcdE' #기호가 제일작고 오른쪽으로 갈수록 커진다.\n",
        "print(max(x))\n",
        "print(min(x))"
      ],
      "metadata": {
        "id": "KbxFJGLbK9Rn",
        "colab": {
          "base_uri": "https://localhost:8080/"
        },
        "outputId": "04b276c7-0f0d-4aac-a219-b2a637329e6c"
      },
      "execution_count": 48,
      "outputs": [
        {
          "output_type": "stream",
          "name": "stdout",
          "text": [
            "d\n",
            "A\n"
          ]
        }
      ]
    },
    {
      "cell_type": "markdown",
      "source": [
        "#### **String search**\n",
        "\n",
        "* `x.startswith(w)`:  문자열 `x`가 특정 문자 `w`로 **시작되는지** 여부를 확인합니다.\n",
        "\n",
        "```\n",
        "a = 'abcde'\n",
        "print(a.startswith('abc'))\n",
        "```\n"
      ],
      "metadata": {
        "id": "9-mHMeV2NQvv"
      }
    },
    {
      "cell_type": "code",
      "source": [
        "a = 'abcde'\n",
        "result = a.startswith('bc')\n",
        "print(result, type(result))"
      ],
      "metadata": {
        "id": "2jJJRswKNSaZ",
        "colab": {
          "base_uri": "https://localhost:8080/"
        },
        "outputId": "590e62d3-91f8-4d14-d2eb-18065aaf040b"
      },
      "execution_count": 53,
      "outputs": [
        {
          "output_type": "stream",
          "name": "stdout",
          "text": [
            "False <class 'bool'>\n"
          ]
        }
      ]
    },
    {
      "cell_type": "markdown",
      "source": [
        "* `x.endswith(w)`:  문자열 `x`가 특정 문자 `w`로 **끝나는지**여부를 확인합니다.\n",
        "\n",
        "```\n",
        "a = 'abcde'\n",
        "print(a.endswith('abc'))\n",
        "```\n"
      ],
      "metadata": {
        "id": "BkimuFv2NSeV"
      }
    },
    {
      "cell_type": "code",
      "source": [
        "a = 'abcde'\n",
        "print(a.endswith('abc'))"
      ],
      "metadata": {
        "id": "o7cggDDmNM2l",
        "colab": {
          "base_uri": "https://localhost:8080/"
        },
        "outputId": "c3621340-3060-4406-d18a-209633e2162b"
      },
      "execution_count": 54,
      "outputs": [
        {
          "output_type": "stream",
          "name": "stdout",
          "text": [
            "False\n"
          ]
        }
      ]
    },
    {
      "cell_type": "markdown",
      "source": [
        "#### **Lower/upper**\n",
        "\n",
        "* `x.lower()` : 문자열 `x`의 모든 알파벳을 **소문자**로 변환합니다.\n",
        "\n",
        "```\n",
        "a = 'ABCDE'\n",
        "print(a.lower())\n",
        "```"
      ],
      "metadata": {
        "id": "P9dFMBGmNc_Q"
      }
    },
    {
      "cell_type": "code",
      "source": [
        "a = 'ABCDE'\n",
        "print(a.lower()) #문자열을 반환\n"
      ],
      "metadata": {
        "id": "v-hdqCgUNXDe",
        "colab": {
          "base_uri": "https://localhost:8080/"
        },
        "outputId": "fb7a8359-2457-4be5-b53d-4240de158be3"
      },
      "execution_count": 55,
      "outputs": [
        {
          "output_type": "stream",
          "name": "stdout",
          "text": [
            "abcde\n"
          ]
        }
      ]
    },
    {
      "cell_type": "markdown",
      "source": [
        "* `x.upper()` : 문자열 `x`의 모든 알파벳을 **대문자**로 변환합니다.\n",
        "\n",
        "```\n",
        "a = 'abcde'\n",
        "print(a.upper())\n",
        "```"
      ],
      "metadata": {
        "id": "WVWQ5PVSNhcQ"
      }
    },
    {
      "cell_type": "code",
      "source": [],
      "metadata": {
        "id": "bQPMKC2tNgbF"
      },
      "execution_count": null,
      "outputs": []
    },
    {
      "cell_type": "markdown",
      "source": [
        "* `x.capitalize()` : 문자열 `x`의 **첫글자**를 **대문자**로 변환합니다.\n",
        "\n",
        "```\n",
        "a = 'abcde'\n",
        "print(a.capitalize())\n",
        "```"
      ],
      "metadata": {
        "id": "FMYVrryXNkfm"
      }
    },
    {
      "cell_type": "code",
      "source": [
        "a = 'abcde'\n",
        "print(a.capitalize())"
      ],
      "metadata": {
        "id": "49oaOV42NjiH",
        "colab": {
          "base_uri": "https://localhost:8080/"
        },
        "outputId": "cffc5fb8-77ed-4d8c-c175-de59e13fe052"
      },
      "execution_count": 56,
      "outputs": [
        {
          "output_type": "stream",
          "name": "stdout",
          "text": [
            "Abcde\n"
          ]
        }
      ]
    },
    {
      "cell_type": "markdown",
      "source": [
        "#### **split/join/replace**\n",
        "\n"
      ],
      "metadata": {
        "id": "9XBv4jlpNoTe"
      }
    },
    {
      "cell_type": "markdown",
      "source": [
        "* `x.split(sep=w)` : 문자열 `x`를 문자열 `w` 를 기준으로 분할하여 리스트 형태로 반환합니다. `sep` 의 디폴트 값은 '` `' (공백) 입니다.\n",
        "\n",
        "이 때 `리스트` 라는 타입은 아직 배우지 않았습니다. 파이썬의 여러가지 자료형 중 하나이며 이에 대한 자세한 내용은 다음 시간에 배우도록 합니다. \n",
        "\n",
        "```\n",
        "a ='nice day!'\n",
        "print(a.split())\n",
        "```"
      ],
      "metadata": {
        "id": "8wuaAaywN5hP"
      }
    },
    {
      "cell_type": "code",
      "source": [
        "#기본적으로 띄어쓰기 기준으로 분할\n",
        "a = 'It is very nice day!'\n",
        "result1 = a.split()\n",
        "print(result1)\n",
        "result2 = a.split('i') #i기준으로 문자열 분할\n",
        "print(result2)"
      ],
      "metadata": {
        "colab": {
          "base_uri": "https://localhost:8080/"
        },
        "id": "TrQw3jSOqIoz",
        "outputId": "faade606-4772-4cca-fb8c-68bf9212b787"
      },
      "execution_count": 60,
      "outputs": [
        {
          "output_type": "stream",
          "name": "stdout",
          "text": [
            "['It', 'is', 'very', 'nice', 'day!']\n",
            "['It ', 's very n', 'ce day!']\n"
          ]
        }
      ]
    },
    {
      "cell_type": "markdown",
      "source": [
        "* `w.join(l)` : 리스트 `l`의 값들을 문자열로 변환합니다. 변환 시 값 사이에 문자열 `w`를 끼어 넣습니다.\n",
        "\n",
        "```\n",
        "l = ['nice', 'day!']\n",
        "print(' '.join(a))\n",
        "```"
      ],
      "metadata": {
        "id": "v66Jjj_AN6tG"
      }
    },
    {
      "cell_type": "code",
      "source": [
        "#list라는 이름은 쓰지 않는다.\n",
        "ㅣ = ['ㅜㅑㅊㄷ', 'ㅇㅁ쇼', '!']\n",
        "s = '?'.join(l)\n",
        "print(s, type(s))"
      ],
      "metadata": {
        "id": "qca8pvnfN-kN",
        "colab": {
          "base_uri": "https://localhost:8080/",
          "height": 229
        },
        "outputId": "91630eda-db89-45e0-ff05-00c3464263cf"
      },
      "execution_count": 63,
      "outputs": [
        {
          "output_type": "error",
          "ename": "NameError",
          "evalue": "ignored",
          "traceback": [
            "\u001b[0;31m---------------------------------------------------------------------------\u001b[0m",
            "\u001b[0;31mNameError\u001b[0m                                 Traceback (most recent call last)",
            "\u001b[0;32m<ipython-input-63-617f139d9259>\u001b[0m in \u001b[0;36m<module>\u001b[0;34m\u001b[0m\n\u001b[1;32m      1\u001b[0m \u001b[0;31m#list라는 이름은 쓰지 않는다.\u001b[0m\u001b[0;34m\u001b[0m\u001b[0;34m\u001b[0m\u001b[0;34m\u001b[0m\u001b[0m\n\u001b[1;32m      2\u001b[0m \u001b[0mㅣ\u001b[0m \u001b[0;34m=\u001b[0m \u001b[0;34m[\u001b[0m\u001b[0;34m'ㅜㅑㅊㄷ'\u001b[0m\u001b[0;34m,\u001b[0m \u001b[0;34m'ㅇㅁ쇼'\u001b[0m\u001b[0;34m,\u001b[0m \u001b[0;34m'!'\u001b[0m\u001b[0;34m]\u001b[0m\u001b[0;34m\u001b[0m\u001b[0;34m\u001b[0m\u001b[0m\n\u001b[0;32m----> 3\u001b[0;31m \u001b[0ms\u001b[0m \u001b[0;34m=\u001b[0m \u001b[0;34m'?'\u001b[0m\u001b[0;34m.\u001b[0m\u001b[0mjoin\u001b[0m\u001b[0;34m(\u001b[0m\u001b[0ml\u001b[0m\u001b[0;34m)\u001b[0m\u001b[0;34m\u001b[0m\u001b[0;34m\u001b[0m\u001b[0m\n\u001b[0m\u001b[1;32m      4\u001b[0m \u001b[0mprint\u001b[0m\u001b[0;34m(\u001b[0m\u001b[0ms\u001b[0m\u001b[0;34m,\u001b[0m \u001b[0mtype\u001b[0m\u001b[0;34m(\u001b[0m\u001b[0ms\u001b[0m\u001b[0;34m)\u001b[0m\u001b[0;34m)\u001b[0m\u001b[0;34m\u001b[0m\u001b[0;34m\u001b[0m\u001b[0m\n",
            "\u001b[0;31mNameError\u001b[0m: name 'l' is not defined"
          ]
        }
      ]
    },
    {
      "cell_type": "markdown",
      "source": [
        "* `a.replace(w1, w2)` :  문자열 `a` 에 포함된 문자열 `w1`을 새로운 문자열 `w2`로 변경합니다. \n",
        "\n",
        "```\n",
        "a = 'nice day!'\n",
        "print(a.replace('nice', 'good'))\n",
        "```"
      ],
      "metadata": {
        "id": "qEtziwNZN9_u"
      }
    },
    {
      "cell_type": "code",
      "source": [
        "a = 'nice day!'\n",
        "a_replace = a.replace('nice', 'good')\n",
        "\n",
        "print(a_replace) \n"
      ],
      "metadata": {
        "id": "cc0zT0VJNr7H",
        "colab": {
          "base_uri": "https://localhost:8080/"
        },
        "outputId": "bd2d49c7-619d-447d-8635-3b9cd44c96aa"
      },
      "execution_count": 66,
      "outputs": [
        {
          "output_type": "stream",
          "name": "stdout",
          "text": [
            "good day!\n"
          ]
        }
      ]
    },
    {
      "cell_type": "markdown",
      "source": [
        "## 문제풀이\n",
        "---\n"
      ],
      "metadata": {
        "id": "8x1cuwCDOE6N"
      }
    },
    {
      "cell_type": "markdown",
      "source": [
        "**예제 01**\n",
        "\n",
        "아래 문장을 출력하는 코드를 작성하세요\n",
        "\n",
        "```\n",
        "/menu/ \"Americano\" : 1000\n",
        "```\n"
      ],
      "metadata": {
        "id": "ZRBYoVIVOFiZ"
      }
    },
    {
      "cell_type": "code",
      "source": [
        "s = '/menu/ \\\"Americano\\\" : 1000'\n",
        "print(s)"
      ],
      "metadata": {
        "id": "MAVicogJOBj9",
        "colab": {
          "base_uri": "https://localhost:8080/"
        },
        "outputId": "e8adcc90-4c90-4554-d708-16a5ff5a314b"
      },
      "execution_count": 72,
      "outputs": [
        {
          "output_type": "stream",
          "name": "stdout",
          "text": [
            "/menu/ \"Americano\" : 1000\n"
          ]
        }
      ]
    },
    {
      "cell_type": "markdown",
      "source": [
        "**예제 02**\n",
        "\n",
        "아래 문장을 출력하는 코드를 **이스케이프 코드**를 사용하여 작성하세요\n",
        "\n",
        "```\n",
        "/menu/\n",
        "\"Americano\" : 1000\n",
        "\"Latte\" : 2000\n",
        "\"Ade\" : 2500\n",
        "```"
      ],
      "metadata": {
        "id": "XiTpBd3EOI29"
      }
    },
    {
      "cell_type": "code",
      "source": [
        "s='''/menu/\n",
        "\\\"Americano\\\" : 1000\n",
        "\\\"Latte\\\" : 2000\n",
        "\\\"Ade\\\" : 2500'''\n",
        "print(s)"
      ],
      "metadata": {
        "id": "hQWq7giVOLDN",
        "colab": {
          "base_uri": "https://localhost:8080/"
        },
        "outputId": "d206949f-f2bc-4ee8-cc3c-f29c9a65186a"
      },
      "execution_count": 75,
      "outputs": [
        {
          "output_type": "stream",
          "name": "stdout",
          "text": [
            "/menu/\n",
            "\"Americano\" : 1000\n",
            "\"Latte\" : 2000\n",
            "\"Ade\" : 2500\n"
          ]
        }
      ]
    },
    {
      "cell_type": "markdown",
      "source": [
        "**예제 03**\n",
        "\n",
        "아래 문장을 출력하는 코드를 이스케이프 코드를 **사용하지 않고** 작성하세요\n",
        "\n",
        "```\n",
        "/menu/\n",
        "\"Americano\" : 1000\n",
        "\"Latte\" : 2000\n",
        "\"Ade\" : 2500\n",
        "```"
      ],
      "metadata": {
        "id": "TL9BXZKdOJ2R"
      }
    },
    {
      "cell_type": "code",
      "source": [
        "s='''/menu/\n",
        "\"Americano\" : 1000\n",
        "\"Latte\" : 2000\n",
        "\"Ade\" : 2500'''\n",
        "print(s)"
      ],
      "metadata": {
        "id": "20X88hqdOLYF",
        "colab": {
          "base_uri": "https://localhost:8080/"
        },
        "outputId": "0f2de115-a31b-4095-f87b-a4264bd1d54a"
      },
      "execution_count": 76,
      "outputs": [
        {
          "output_type": "stream",
          "name": "stdout",
          "text": [
            "/menu/\n",
            "\"Americano\" : 1000\n",
            "\"Latte\" : 2000\n",
            "\"Ade\" : 2500\n"
          ]
        }
      ]
    },
    {
      "cell_type": "markdown",
      "source": [
        "**예제 04**\n",
        "\n",
        "변수 `num`과 `menu`가 아래와 같이 바인딩 되어 있습니다. **문자열 연산**을 이용해서 코드를 작성하세요\n",
        "\n",
        "```\n",
        ">> num = 3\n",
        ">> menu = \"americano\"\n",
        ">> # 코드작성\n",
        "3 americano please.\n",
        "```"
      ],
      "metadata": {
        "id": "6Lhqf_OwOMll"
      }
    },
    {
      "cell_type": "code",
      "source": [
        "num = \"3\"\n",
        "menu = \"americano\"\n",
        "s = num + menu +\"plase.\"  \n",
        "print(s)"
      ],
      "metadata": {
        "id": "sZpNXFJ9ONMf",
        "colab": {
          "base_uri": "https://localhost:8080/"
        },
        "outputId": "99d5de85-ee32-46c1-d1c4-49088e5f50f3"
      },
      "execution_count": 95,
      "outputs": [
        {
          "output_type": "stream",
          "name": "stdout",
          "text": [
            "3americanoplase.\n"
          ]
        }
      ]
    },
    {
      "cell_type": "markdown",
      "source": [
        "**예제 05**\n",
        "\n",
        "변수 `num`과 `menu`가 아래와 같이 바인딩 되어 있습니다. **`%` 포맷팅**을 이용해서 코드를 작성하세요\n",
        "\n",
        "```\n",
        ">> num = 3\n",
        ">> menu = \"americano\"\n",
        ">> # 코드작성\n",
        "3 americano please.\n",
        "```"
      ],
      "metadata": {
        "id": "zh2HpYNEONgY"
      }
    },
    {
      "cell_type": "code",
      "source": [
        "num = 3\n",
        "menu = \"americano\"\n",
        "s = '%s %s please.'%(num, menu)   \n",
        "print(s)"
      ],
      "metadata": {
        "id": "NA-xF7dROPo9",
        "colab": {
          "base_uri": "https://localhost:8080/"
        },
        "outputId": "1b6785da-ec18-47ba-8cd3-a39abc11e928"
      },
      "execution_count": 87,
      "outputs": [
        {
          "output_type": "stream",
          "name": "stdout",
          "text": [
            "3 americano please.\n"
          ]
        }
      ]
    },
    {
      "cell_type": "markdown",
      "source": [
        "**예제 06**\n",
        "\n",
        "`예제 05` 문제를  **`.format()` 포맷팅** 을 이용해서 코드를 작성하세요\n"
      ],
      "metadata": {
        "id": "XQQ4qM7XORNP"
      }
    },
    {
      "cell_type": "code",
      "source": [
        "num = 3\n",
        "menu = \"americano\"\n",
        "s = '{} {} please.'.format(num, menu)   \n",
        "print(s)"
      ],
      "metadata": {
        "id": "7swQ-a-COWWm",
        "colab": {
          "base_uri": "https://localhost:8080/"
        },
        "outputId": "b4eda00e-8730-4379-b1c3-9f19061dcb44"
      },
      "execution_count": 89,
      "outputs": [
        {
          "output_type": "stream",
          "name": "stdout",
          "text": [
            "3 americano please.\n"
          ]
        }
      ]
    },
    {
      "cell_type": "markdown",
      "source": [
        "**예제 07**\n",
        "\n",
        "`예제 05` 문제를  **`f-string` 문법** 을 이용해서 코드를 작성하세요\n"
      ],
      "metadata": {
        "id": "aH1WhRrtOYqP"
      }
    },
    {
      "cell_type": "code",
      "source": [
        "num = 3\n",
        "menu = \"americano\"\n",
        "s = f'{num} {menu} please.'   \n",
        "print(s)"
      ],
      "metadata": {
        "id": "Srb82g7TOYqQ",
        "colab": {
          "base_uri": "https://localhost:8080/"
        },
        "outputId": "f223dbf2-2962-4611-885c-4a39674c8880"
      },
      "execution_count": 135,
      "outputs": [
        {
          "output_type": "stream",
          "name": "stdout",
          "text": [
            "3 americano please.\n"
          ]
        }
      ]
    },
    {
      "cell_type": "markdown",
      "source": [
        "**예제 08**\n",
        "\n",
        "다음 코드를 실행해보세요. 오류가 나는지 쓰고, 그 이유를 서술하세요.\n",
        "\n",
        "```\n",
        "color = 'red'\n",
        "w = '%i apples'%color\n",
        "print(w)\n",
        "```"
      ],
      "metadata": {
        "id": "QR5ZQDJDOiQ9"
      }
    },
    {
      "cell_type": "code",
      "source": [
        "#오류발생함, 문자열에 %s가 아닌 %i를 사용함\n",
        "color = 'red'\n",
        "w = '%s apples'%color\n",
        "print(w)"
      ],
      "metadata": {
        "id": "YbRl_5dhOizV",
        "colab": {
          "base_uri": "https://localhost:8080/"
        },
        "outputId": "f658f313-a293-42cd-cf2d-5f35f8f04cdb"
      },
      "execution_count": 98,
      "outputs": [
        {
          "output_type": "stream",
          "name": "stdout",
          "text": [
            "red apples\n"
          ]
        }
      ]
    },
    {
      "cell_type": "markdown",
      "source": [
        "**예제 09**\n",
        "\n",
        "다음 코드를 실행해보세요. 오류가 나는지 쓰고, 그 이유를 서술하세요.\n",
        "\n",
        "```\n",
        "num = 5\n",
        "w = '%f apples'%num\n",
        "print(w)\n",
        "```"
      ],
      "metadata": {
        "id": "VQO77CJPOv_y"
      }
    },
    {
      "cell_type": "code",
      "source": [
        "#오류가 발생하지 않는다. 적절한 문자 사용함(실수--->%f)\n",
        "num = 5\n",
        "w = '%f apples'%num\n",
        "print(w)\n"
      ],
      "metadata": {
        "id": "feupkLYHOz9M",
        "colab": {
          "base_uri": "https://localhost:8080/"
        },
        "outputId": "5690f425-4e71-4382-d269-1d815dac59bb"
      },
      "execution_count": 99,
      "outputs": [
        {
          "output_type": "stream",
          "name": "stdout",
          "text": [
            "5.000000 apples\n"
          ]
        }
      ]
    },
    {
      "cell_type": "markdown",
      "source": [
        "\n",
        "**예제 10**\n",
        "\n",
        "`a`가 바인딩한 문자열의 첫번째와 마지막 문자를 출력하세요\n",
        "```\n",
        "a = 'Birthday'\n",
        "```\n"
      ],
      "metadata": {
        "id": "2GYjJcAuRn_n"
      }
    },
    {
      "cell_type": "code",
      "source": [
        "a = 'Birthday'\n",
        "print(a[0], a[-1])"
      ],
      "metadata": {
        "id": "Q5gjeqAsRocT",
        "colab": {
          "base_uri": "https://localhost:8080/"
        },
        "outputId": "821f9868-367c-4861-e353-fe642dbc9e99"
      },
      "execution_count": 102,
      "outputs": [
        {
          "output_type": "stream",
          "name": "stdout",
          "text": [
            "B y\n"
          ]
        }
      ]
    },
    {
      "cell_type": "markdown",
      "source": [
        "**예제 11**\n",
        "\n",
        "`a`가 바인딩한 문자열의 뒤 3자리만 출력하세요\n",
        "\n",
        "```\n",
        "a = 'Birthday'\n",
        "```\n"
      ],
      "metadata": {
        "id": "iMrG4iPURpm6"
      }
    },
    {
      "cell_type": "code",
      "source": [
        "a = 'Birthday'\n",
        "print(a[-3:])"
      ],
      "metadata": {
        "id": "00VaouHfRqG8",
        "colab": {
          "base_uri": "https://localhost:8080/"
        },
        "outputId": "a390ac81-ec07-41b0-b6ea-511897f9f202"
      },
      "execution_count": 103,
      "outputs": [
        {
          "output_type": "stream",
          "name": "stdout",
          "text": [
            "day\n"
          ]
        }
      ]
    },
    {
      "cell_type": "markdown",
      "source": [
        "**예제 12**\n",
        "\n",
        "`a`가 바인딩한 문자열에서 `2`만 출력하세요\n",
        "\n",
        "\n",
        "```\n",
        "a = '123123123'\n",
        "```"
      ],
      "metadata": {
        "id": "Bhh_pmZ4RrVE"
      }
    },
    {
      "cell_type": "code",
      "source": [
        "a = '123123123'\n",
        "print(a[1], a[4], a[7])"
      ],
      "metadata": {
        "id": "i_fbxMUiRry3",
        "colab": {
          "base_uri": "https://localhost:8080/"
        },
        "outputId": "9e24519b-53e0-4ef4-ff20-67e1e5c44d72"
      },
      "execution_count": 134,
      "outputs": [
        {
          "output_type": "stream",
          "name": "stdout",
          "text": [
            "2 2 2\n"
          ]
        }
      ]
    },
    {
      "cell_type": "markdown",
      "source": [
        "**예제 13**\n",
        "\n",
        "문자열을 입력하면 거꾸로 출력하는 코드를 작성하세요\n",
        "\n",
        "```\n",
        ">> Enter sentence : hello\n",
        "he said, olleh\n",
        "```"
      ],
      "metadata": {
        "id": "qmqSfVlgRr6O"
      }
    },
    {
      "cell_type": "code",
      "source": [
        "s = input(\"Enter sentence : \")\n",
        "a = s[::-1]\n",
        "print(a)\n"
      ],
      "metadata": {
        "id": "ft49uqD3Rt69",
        "colab": {
          "base_uri": "https://localhost:8080/"
        },
        "outputId": "8b98b288-ae2c-4a6c-9e3b-67796ddb045b"
      },
      "execution_count": 105,
      "outputs": [
        {
          "output_type": "stream",
          "name": "stdout",
          "text": [
            "Enter sentence : hello\n",
            "olleh\n"
          ]
        }
      ]
    },
    {
      "cell_type": "markdown",
      "source": [
        "**예제 14**\n",
        "\n",
        "다음과 같이  `input()` 함수를 이용해 변수를 적용하여 문장을 출력하는 코드를 작성하세요\n",
        "\n",
        "* 예시 1\n",
        "\n",
        "```\n",
        ">> how's the day? : nice\n",
        "It's nice day!\n",
        "```\n",
        "\n",
        "* 예시 2\n",
        "\n",
        "```\n",
        ">> how's the day? : sunny\n",
        "It's sunny day!\n",
        "```"
      ],
      "metadata": {
        "id": "zBsIZKl3O3XF"
      }
    },
    {
      "cell_type": "code",
      "source": [
        "s = input(\"how's the day? : \")\n",
        "b = \"It's %s day!\"%(s)\n",
        "print(b)"
      ],
      "metadata": {
        "id": "2gQPfgVpO4cU",
        "colab": {
          "base_uri": "https://localhost:8080/"
        },
        "outputId": "e9435ba1-903a-4753-8cd2-c4495b4f3518"
      },
      "execution_count": 106,
      "outputs": [
        {
          "output_type": "stream",
          "name": "stdout",
          "text": [
            "how's the day? : nice\n",
            "It's nice day!\n"
          ]
        }
      ]
    },
    {
      "cell_type": "markdown",
      "source": [
        "**예제 15**\n",
        "\n",
        "문자열을 입력하면 끝에서 2개 문자만 출력하는 \n",
        "코드를 작성하세요\n",
        "\n",
        "* 예시 1\n",
        "\n",
        "```{.python}\n",
        ">> Enter sentence : hello\n",
        "last 2  : lo\n",
        "```\n",
        "\n",
        "* 예시 2 \n",
        "\n",
        "```\n",
        ">> Enter sentence : nice day!\n",
        "last 2 : y!\n",
        "```"
      ],
      "metadata": {
        "id": "MbDaWjEbRxgv"
      }
    },
    {
      "cell_type": "code",
      "source": [
        "s = input(\"Enter sentence : \")\n",
        "\n",
        "t = s[-2:]\n",
        "print(t)"
      ],
      "metadata": {
        "id": "y6e66Ivb-J3v",
        "outputId": "f6a9f939-c202-41cf-fe27-e25f6bafc8fc",
        "colab": {
          "base_uri": "https://localhost:8080/"
        }
      },
      "execution_count": 107,
      "outputs": [
        {
          "output_type": "stream",
          "name": "stdout",
          "text": [
            "Enter sentence : abcde\n",
            "de\n"
          ]
        }
      ]
    },
    {
      "cell_type": "markdown",
      "source": [
        "**예제 16**\n",
        "\n",
        "아래 코드 결과를 예상해보고 직접 실행해보세요.\n",
        "\n",
        "```\n",
        "a = ''\n",
        "a = a+'what'\n",
        "a = a+'?'\n",
        "print(a)\n",
        "```"
      ],
      "metadata": {
        "id": "WHv2vcFKR9FU"
      }
    },
    {
      "cell_type": "code",
      "source": [
        "#예쌍결과 what?\n",
        "a = ''\n",
        "a = a+'what'\n",
        "a = a+'?'\n",
        "print(a)"
      ],
      "metadata": {
        "id": "M-fdJu1gRx9j",
        "colab": {
          "base_uri": "https://localhost:8080/"
        },
        "outputId": "0beea614-0740-4c27-d5ae-7908865f874b"
      },
      "execution_count": 108,
      "outputs": [
        {
          "output_type": "stream",
          "name": "stdout",
          "text": [
            "what?\n"
          ]
        }
      ]
    },
    {
      "cell_type": "markdown",
      "source": [
        "**예제 17**\n",
        "\n",
        "아래 바인딩된 값 `a`, `b`를 이용해 아래와 같이 출력해보세요(**문자열 연산**을 이용하세요)\n",
        "```\n",
        ">> a = 'me'\n",
        ">> b = 'you'\n",
        ">> # 코드작성\n",
        "meyouyouyouyouyou\n",
        "```\n"
      ],
      "metadata": {
        "id": "49-zJvQaSABn"
      }
    },
    {
      "cell_type": "code",
      "source": [
        "a = 'me'\n",
        "b = 'you'\n",
        "s = a + b*5\n",
        "print(s)"
      ],
      "metadata": {
        "id": "u6XeJo7jSA49",
        "colab": {
          "base_uri": "https://localhost:8080/"
        },
        "outputId": "c171d8f9-8daf-4967-85a7-e498f67e07cc"
      },
      "execution_count": 110,
      "outputs": [
        {
          "output_type": "stream",
          "name": "stdout",
          "text": [
            "meyouyouyouyouyou\n"
          ]
        }
      ]
    },
    {
      "cell_type": "markdown",
      "source": [
        "\n",
        "**예제 18**\n",
        "\n",
        "아래 바인딩된 값 `a`, `b`를 이용해 아래와 같이 출력해보세요(**문자열 연산**을 이용하세요)\n",
        "```\n",
        ">> a = 'me'\n",
        ">> b = 'you'\n",
        ">> # 코드작성\n",
        "youmeyoumeyoumeyoumeyoumeyoumeyoumeyoume\n",
        "```"
      ],
      "metadata": {
        "id": "-VADZMxcSCgq"
      }
    },
    {
      "cell_type": "code",
      "source": [
        "a = 'me'\n",
        "b = 'you'\n",
        "s = (b+a)*8\n",
        "print(s)"
      ],
      "metadata": {
        "id": "mnrvtva0SDI0",
        "colab": {
          "base_uri": "https://localhost:8080/"
        },
        "outputId": "46db88ae-fddf-4495-c62c-980ddda92ac7"
      },
      "execution_count": 111,
      "outputs": [
        {
          "output_type": "stream",
          "name": "stdout",
          "text": [
            "youmeyoumeyoumeyoumeyoumeyoumeyoumeyoume\n"
          ]
        }
      ]
    },
    {
      "cell_type": "markdown",
      "source": [
        "**예제 19**\n",
        "\n",
        "코드번호는 숫자가 나열된 문자열의 **길이** 곱하기 **최대값**으로 만들어집니다.\n",
        "코드번호를 생성하는 코드를 작성하세요\n",
        "\n",
        "```\n",
        ">> 숫자를 입력하세요 : 123456\n",
        "코드번호는 36 입니다.\n",
        "```"
      ],
      "metadata": {
        "id": "RAxXJ4S4SErN"
      }
    },
    {
      "cell_type": "code",
      "source": [
        "s = input(\"숫자를 입력하세요 : \")\n",
        "code = len(s)\n",
        "num = max(s)\n",
        "num1 = int(num)\n",
        "print(code*num1)"
      ],
      "metadata": {
        "id": "59mTGYRqSFd8",
        "colab": {
          "base_uri": "https://localhost:8080/"
        },
        "outputId": "32342cdb-5144-4228-f0ea-bf197b04b45a"
      },
      "execution_count": 120,
      "outputs": [
        {
          "output_type": "stream",
          "name": "stdout",
          "text": [
            "숫자를 입력하세요 : 123456\n",
            "36\n"
          ]
        }
      ]
    },
    {
      "cell_type": "markdown",
      "source": [
        "**예제 20**\n",
        "\n",
        "파일들의 이름이 아래와 같이 바인딩 되어 있습니다. 확장자가 파이썬 `.py`로 끝나는 파일인지 확인하는 코드를 작성하세요\n",
        "\n",
        "```\n",
        "a = 'test.py'\n",
        "b = 'train.py`\n",
        "c = 'img.jpg'\n",
        "```\n"
      ],
      "metadata": {
        "id": "jroYBZMjSGxF"
      }
    },
    {
      "cell_type": "code",
      "source": [
        "a = 'test.py'\n",
        "b = 'train.py'\n",
        "c = 'img.jpg'\n",
        "\n",
        "print(a.endswith('.py'))\n",
        "print(b.endswith('.py'))\n",
        "print(c.endswith('.py'))"
      ],
      "metadata": {
        "id": "XMWt5kqnSHot",
        "colab": {
          "base_uri": "https://localhost:8080/"
        },
        "outputId": "3bed1b27-95f0-4789-9ca0-eb6b197329f9"
      },
      "execution_count": 123,
      "outputs": [
        {
          "output_type": "stream",
          "name": "stdout",
          "text": [
            "True\n",
            "True\n",
            "False\n"
          ]
        }
      ]
    },
    {
      "cell_type": "markdown",
      "source": [
        "**예제 21**\n",
        "\n",
        "아래 문자열을 **대문자**로 변경하세요\n",
        "\n",
        "```\n",
        "a = 'my_little_cat'\n",
        "```"
      ],
      "metadata": {
        "id": "iqBg4JWWSI7Z"
      }
    },
    {
      "cell_type": "code",
      "source": [
        "a = 'my_little_cat'\n",
        "print(a.upper())"
      ],
      "metadata": {
        "id": "g09gZVsSSJlE",
        "colab": {
          "base_uri": "https://localhost:8080/"
        },
        "outputId": "7f6fab85-07a6-406b-dbb5-a8d375f8a697"
      },
      "execution_count": 124,
      "outputs": [
        {
          "output_type": "stream",
          "name": "stdout",
          "text": [
            "MY_LITTLE_CAT\n"
          ]
        }
      ]
    },
    {
      "cell_type": "markdown",
      "source": [
        "**예제 22**\n",
        "\n",
        "아래 문자열의 **첫글자만 대문자**로 변경하세요\n",
        "\n",
        "\n",
        "```\n",
        "a = 'my_little_cat'\n",
        "\n",
        "```"
      ],
      "metadata": {
        "id": "PZ880dpkS882"
      }
    },
    {
      "cell_type": "code",
      "source": [
        "a = 'my_little_cat'\n",
        "print(a.capitalize())"
      ],
      "metadata": {
        "id": "V5IPhBgdS9p1",
        "colab": {
          "base_uri": "https://localhost:8080/"
        },
        "outputId": "c845990d-99f4-4726-e6ac-1e411268df04"
      },
      "execution_count": 125,
      "outputs": [
        {
          "output_type": "stream",
          "name": "stdout",
          "text": [
            "My_little_cat\n"
          ]
        }
      ]
    },
    {
      "cell_type": "markdown",
      "source": [
        "**예제 23**\n",
        "\n",
        "금액이 아래와 같이 바인딩되어 있습니다. 쉼표`,`를 **제거 후** `int` 값으로 **변환**하세요\n",
        "\n",
        "```\n",
        "a = '542,322,000'\n",
        "```"
      ],
      "metadata": {
        "id": "rW1cjC4KS-ph"
      }
    },
    {
      "cell_type": "code",
      "source": [
        "a = '542,322,000'\n",
        "print(int(a.replace(',', '')))"
      ],
      "metadata": {
        "id": "9xGbH5aoS_M1",
        "colab": {
          "base_uri": "https://localhost:8080/"
        },
        "outputId": "b048cec5-112d-4db3-ff7f-17a264fbda0d"
      },
      "execution_count": 127,
      "outputs": [
        {
          "output_type": "stream",
          "name": "stdout",
          "text": [
            "542322000\n"
          ]
        }
      ]
    },
    {
      "cell_type": "markdown",
      "source": [
        "**예제 24**\n",
        "\n",
        "`a`가 바인딩한 문자열에서 언더바 `_` 기준으로 단어를 나누어 **리스트에 저장**하세요.\n",
        "\n",
        "```\n",
        "a = 'today_is_my_birthday'\n",
        "```\n"
      ],
      "metadata": {
        "id": "sj2UCAFlTBBR"
      }
    },
    {
      "cell_type": "code",
      "source": [
        "a = 'today_is_my_birthday'\n",
        "list1 = a.split('_')\n",
        "print(list1)"
      ],
      "metadata": {
        "id": "PYVbWMYKTBh1",
        "colab": {
          "base_uri": "https://localhost:8080/"
        },
        "outputId": "9aba1a1f-742a-441e-b9a2-137191164ab7"
      },
      "execution_count": 130,
      "outputs": [
        {
          "output_type": "stream",
          "name": "stdout",
          "text": [
            "['today', 'is', 'my', 'birthday']\n"
          ]
        }
      ]
    },
    {
      "cell_type": "markdown",
      "source": [
        "**예제 25**\n",
        "\n",
        "휴대폰번호가 문자열로 저장이 되어있습니다. 이를 **번호 형식으로 변환**하는 코드를 작성하세요\n",
        "\n",
        "\n",
        "|번호|번호 형식 변환|\n",
        "|--|--|\n",
        "|'010,1234,5678'|'010-1234-5678'|\n",
        "|'010,3333,3333'|'010-3333-3333'|\n"
      ],
      "metadata": {
        "id": "4dKNxXGsTDDu"
      }
    },
    {
      "cell_type": "code",
      "source": [
        "a = '010,1234,5678'\n",
        "b = '010,3333,3333'\n",
        "print(a.replace(',', '-'))\n",
        "print(b.replace(',', '-'))"
      ],
      "metadata": {
        "id": "-FESRkNhTD0E",
        "colab": {
          "base_uri": "https://localhost:8080/"
        },
        "outputId": "86673272-9f85-456d-8208-d1ca8e0d892e"
      },
      "execution_count": 132,
      "outputs": [
        {
          "output_type": "stream",
          "name": "stdout",
          "text": [
            "010-1234-5678\n",
            "010-3333-3333\n"
          ]
        }
      ]
    },
    {
      "cell_type": "code",
      "source": [],
      "metadata": {
        "id": "n-w0ncb0B_cW"
      },
      "execution_count": null,
      "outputs": []
    }
  ]
}