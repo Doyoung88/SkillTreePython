{
  "nbformat": 4,
  "nbformat_minor": 0,
  "metadata": {
    "colab": {
      "name": "4-1. 조건문 : if문.ipynb",
      "provenance": [],
      "toc_visible": true,
      "include_colab_link": true
    },
    "kernelspec": {
      "name": "python3",
      "display_name": "Python 3"
    },
    "language_info": {
      "name": "python"
    }
  },
  "cells": [
    {
      "cell_type": "markdown",
      "metadata": {
        "id": "view-in-github",
        "colab_type": "text"
      },
      "source": [
        "<a href=\"https://colab.research.google.com/github/Doyoung88/SkillTreePython/blob/main/4_1_%EC%A1%B0%EA%B1%B4%EB%AC%B8_if%EB%AC%B8.ipynb\" target=\"_parent\"><img src=\"https://colab.research.google.com/assets/colab-badge.svg\" alt=\"Open In Colab\"/></a>"
      ]
    },
    {
      "cell_type": "markdown",
      "source": [
        "# 4-1. 조건문 : if문\n",
        "---\n",
        "* 날짜:2023-01-02\n",
        "* 이름:윤도영"
      ],
      "metadata": {
        "id": "kB5IciXEm6o4"
      }
    },
    {
      "cell_type": "markdown",
      "source": [
        "## 개념정리\n",
        "---\n",
        "\n",
        "\n",
        "어떤 특정한 조건에서만 코드가 작동되게 하려면 어떻게 할까요? 파이썬의 경우에는 `if, elif, else` 를 이용하여 코드를 제어합니다. n가지 조건이 나열되어 있을 때 아래와 같이 `if, elif, else`를 배분합니다.\n",
        "\n",
        "\n",
        "```\n",
        "if 조건1:\n",
        "  조건1 만족시 작동\n",
        "elif 조건2:\n",
        "  조건2 만족시 작동\n",
        "...\n",
        "elif 조건n-1:\n",
        "  조건n-1 만족시 작동\n",
        "else:\n",
        "  조건 n 만족시 작동\n",
        "```"
      ],
      "metadata": {
        "id": "4iN8NFzHRJ2D"
      }
    },
    {
      "cell_type": "markdown",
      "source": [
        "### **(1) 기본 사용**\n",
        "\n",
        "간단한 if 문을 작성해 봅시다. if문 하나만으로도 코드를 작성할 수 있습니다. \n",
        "\n",
        "```\n",
        "a = 2\n",
        "\n",
        "if a==2: # a가 2라면 ,\n",
        "  print(\"if문의 영향을 받는 출력\") # 이 코드를 실행\n",
        "```"
      ],
      "metadata": {
        "id": "MAM8MDnfw68b"
      }
    },
    {
      "cell_type": "code",
      "source": [
        "a = 2\n",
        "\n",
        "if a==2:#a가 2일 때만 코드를 실행\n",
        "  print(\"if문의 영향을 받는 출력\")"
      ],
      "metadata": {
        "id": "qzaIeO6tSQsb",
        "outputId": "d4a38a72-7794-4f56-a57f-8cb5d43754f3",
        "colab": {
          "base_uri": "https://localhost:8080/"
        }
      },
      "execution_count": 2,
      "outputs": [
        {
          "output_type": "stream",
          "name": "stdout",
          "text": [
            "if문의 영향을 받는 출력\n"
          ]
        }
      ]
    },
    {
      "cell_type": "markdown",
      "source": [
        "#### **들여쓰기**\n",
        "\n",
        "if 문 아래의 `print` 코드는 몇칸을 뛴 후 작성한 것을 볼 수 있습니다. 이를 들여쓰기라고 합니다. 파이썬에서 들여쓰기 한 코드는 들여쓰기를 하기 전 코드의 영향력 아래에 있음을 의미합니다.\n",
        "\n",
        "따라서 위코드에서  `print(\"if문의 영향을 받는 출력\")` 이 부분은 if문의 영향을 받기 때문에 `a==1`일 때만 코드가 실행됩니다.\n",
        "\n",
        "만약 if문의 영향을 끝내고 싶다면 들여쓰기를 하지 않고 코드를 작성하면 됩니다.\n",
        "\n",
        "a 가 2가 아니지만 `print(\"if문의 영향을 받지 않는 출력\")` 줄은 if문의 영향을 받지 않기 때문에 a 값과 상관없이 출력이 됩니다.\n",
        "\n",
        "```\n",
        "a = 0\n",
        "\n",
        "if a==2: # a가 2라면 ,\n",
        "  print(\"if문의 영향을 받는 출력\") # 이 코드를 실행\n",
        "print(\"if문의 영향을 받지 않는 출력\") # 이 코드는 항상 실행됨\n",
        "\n",
        "```"
      ],
      "metadata": {
        "id": "iiBldnc8SdV6"
      }
    },
    {
      "cell_type": "code",
      "source": [
        "a = 0\n",
        "\n",
        "if a==2: # a가 2라면 ,\n",
        "  print(\"if문의 영향을 받는 출력\") # 이 코드를 실행\n",
        "print(\"if문의 영향을 받지 않는 출력\") # 이 코드는 항상 실행됨"
      ],
      "metadata": {
        "id": "y3FK5KXTSVLF",
        "outputId": "c1e325c7-6307-4914-c03d-81e0ba812552",
        "colab": {
          "base_uri": "https://localhost:8080/"
        }
      },
      "execution_count": 3,
      "outputs": [
        {
          "output_type": "stream",
          "name": "stdout",
          "text": [
            "if문의 영향을 받지 않는 출력\n"
          ]
        }
      ]
    },
    {
      "cell_type": "markdown",
      "source": [
        "#### **`elif`**\n",
        "\n",
        "\n",
        "만약 조건을 더 추가하고 싶다면 `elif`를 사용합니다. 이제 조건은 더 세분화 할 수 있습니다.\n",
        "\n",
        "```\n",
        "a= 3\n",
        " \n",
        "if a ==2: # 첫번째 조건을 만족하면\n",
        "  print(\"첫번째 조건을 만족합니다.\") # 이 코드를 실행\n",
        "elif a==3: # 첫번째 조건이 아니라 두번째 조건을 만족하면\n",
        "  print(\"두번째 조건을 만족합니다.\") # 이 조건을 실행\n",
        "```\n"
      ],
      "metadata": {
        "id": "46u1an5GXDc3"
      }
    },
    {
      "cell_type": "code",
      "source": [
        "a= 3\n",
        "\n",
        "if a ==3: # 첫번째 조건을 만족하면\n",
        "  print(\"첫번째 조건을 만족합니다.\") # 이 코드를 실행\n",
        "elif a<=3: # 첫번째 조건이 아니라 두번째 조건을 만족하면\n",
        "  print(\"두번째 조건을 만족합니다.\") # 이 조건을 실행\n",
        "\n",
        "  #첫번째, 두번째 조건을 모두 만족하면 첫번째 조건 만족 후 끝"
      ],
      "metadata": {
        "id": "gPQGwmiRVXyL",
        "outputId": "202dd9d1-30c7-4005-f97b-90351ada16a4",
        "colab": {
          "base_uri": "https://localhost:8080/"
        }
      },
      "execution_count": 8,
      "outputs": [
        {
          "output_type": "stream",
          "name": "stdout",
          "text": [
            "첫번째 조건을 만족합니다.\n"
          ]
        }
      ]
    },
    {
      "cell_type": "markdown",
      "source": [
        "한번 더 조건을 더 추가 하고 싶나요? 마찬가지로 `elif`를 사용합니다. \n",
        "\n",
        "```\n",
        "a= 4\n",
        "\n",
        "if a ==2: # 첫번째 조건을 만족하면 \n",
        "  print(\"첫번째 조건을 만족합니다.\") # 이 코드를 실행\n",
        "elif a==3: # 첫번재 조건이 아니라 두번째 조건을 만족하면\n",
        "  print(\"두번째 조건을 만족합니다.\") # 이 코드를 실행\n",
        "elif a==4: # 첫번째, 두번째 조건이 아니라 세번째 조건을 만족하면\n",
        "  print(\"세번째 조건을 만족합니다.\") # 이 코드를 실행\n",
        "```\n"
      ],
      "metadata": {
        "id": "US4qWBR3ZYsk"
      }
    },
    {
      "cell_type": "code",
      "source": [
        "a= 4\n",
        "\n",
        "if a ==2: # 첫번째 조건을 만족하면 \n",
        "  print(\"첫번째 조건을 만족합니다.\") # 이 코드를 실행\n",
        "elif a==3: # 첫번재 조건이 아니라 두번째 조건을 만족하면\n",
        "  print(\"두번째 조건을 만족합니다.\") # 이 코드를 실행\n",
        "elif a==4: # 첫번째, 두번째 조건이 아니라 세번째 조건을 만족하면\n",
        "  print(\"세번째 조건을 만족합니다.\") # 이 코드를 실행"
      ],
      "metadata": {
        "id": "iqKBm-oZZad_",
        "outputId": "ad5453c2-51cb-4bdd-f000-6ffeb8dfc5b0",
        "colab": {
          "base_uri": "https://localhost:8080/"
        }
      },
      "execution_count": null,
      "outputs": [
        {
          "output_type": "stream",
          "name": "stdout",
          "text": [
            "세번째 조건을 만족합니다.\n"
          ]
        }
      ]
    },
    {
      "cell_type": "markdown",
      "source": [
        "#### **`else`**\n",
        "\n",
        "정수는 무한이 많습니다. 2도 아니고, 3도 아니고, 4도 아닌 어느 조건에도 해당하지 않으면 `else`가 실행됩니다.\n",
        "\n",
        "```\n",
        "a= 100\n",
        "\n",
        "if a ==2: # 첫번째 조건을 만족하면 ,\n",
        "  print(\"첫번째 조건을 만족합니다.\") # 이 코드를 실행\n",
        "elif a==3: # 첫번재 조건이 아니라 두번째 조건을 만족하면,\n",
        "  print(\"두번째 조건을 만족합니다.\") # 이 코드를 실행\n",
        "elif a==4: # 첫번째, 두번째 조건이 아니라 세번째 조건을 만족하면,\n",
        "  print(\"세번째 조건을 만족합니다.\") # 이 코드를 실행\n",
        "else: # 어느 조건에도 해당하지 않으면,\n",
        "  print(\"어느 조건에도 해당하지 않습니다.\") # 이 코드를 실행\n",
        "```\n"
      ],
      "metadata": {
        "id": "LwqyhnqYZqd6"
      }
    },
    {
      "cell_type": "code",
      "source": [
        "a= 100\n",
        "\n",
        "if a ==2: # 첫번째 조건을 만족하면 ,\n",
        "  print(\"첫번째 조건을 만족합니다.\") # 이 코드를 실행\n",
        "elif a==3: # 첫번재 조건이 아니라 두번째 조건을 만족하면,\n",
        "  print(\"두번째 조건을 만족합니다.\") # 이 코드를 실행\n",
        "elif a==4: # 첫번째, 두번째 조건이 아니라 세번째 조건을 만족하면,\n",
        "  print(\"세번째 조건을 만족합니다.\") # 이 코드를 실행\n",
        "else: # 어느 조건에도 해당하지 않으면, else에는 조건이 없다.\n",
        "  print(\"어느 조건에도 해당하지 않습니다.\") # 이 코드를 실행"
      ],
      "metadata": {
        "id": "X6WumNNKZcwh",
        "outputId": "87e475b0-c6f9-41f2-ab15-8ce9310a10ba",
        "colab": {
          "base_uri": "https://localhost:8080/"
        }
      },
      "execution_count": 10,
      "outputs": [
        {
          "output_type": "stream",
          "name": "stdout",
          "text": [
            "어느 조건에도 해당하지 않습니다.\n"
          ]
        }
      ]
    },
    {
      "cell_type": "markdown",
      "source": [
        "\n",
        "### **(2) 여러가지 조건문**\n",
        "\n"
      ],
      "metadata": {
        "id": "l5Mhn4qKZ83M"
      }
    },
    {
      "cell_type": "markdown",
      "source": [
        "#### **두개 이상의 조건**\n",
        "\n",
        "여기서 말하는 두개 이상의 조건은 한 if문에 `and`나 `or`로 연결된 다중 조건을 말합니다. 3의 배수를 생각해 봅시다. 3의 배수는 3으로 나누어 떨어집니다. 또한 3의 배수는 3부터 시작합니다. 따라서 이 두가지 조건을 같이 넣어 봅시다.\n",
        "\n",
        "```\n",
        "a = 12\n",
        "\n",
        "if a>=3 and a%3==0: # a가 3의 배수이면\n",
        "  print(f\"{a}는 3의 배수입니다\") # 이 코드를 실행\n",
        "```\n",
        "\n",
        "코드에서 보듯이 두가지 조건을 연결할 때는 `and` 를 사용합니다. 둘 중 어느 하나만이 아니라 두가지 조건을 모두 만족해야 if문이 실행됩니다."
      ],
      "metadata": {
        "id": "6eSFgbhWaJdw"
      }
    },
    {
      "cell_type": "code",
      "source": [
        "a = 12\n",
        "\n",
        "if a>=3 and a%3==0: # a가 3의 배수이면\n",
        "  print(f\"{a}는 3의 배수입니다\") # 이 코드를 실행"
      ],
      "metadata": {
        "id": "qXQmWJ6aZ0Sx",
        "outputId": "46c701d0-c123-4ded-fa9f-68a95b1ffdca",
        "colab": {
          "base_uri": "https://localhost:8080/"
        }
      },
      "execution_count": 12,
      "outputs": [
        {
          "output_type": "stream",
          "name": "stdout",
          "text": [
            "12는 3의 배수입니다\n"
          ]
        }
      ]
    },
    {
      "cell_type": "markdown",
      "source": [
        "#### **이중 if 문**\n",
        "\n",
        "\n",
        "if문 내에 if 문이 들어가 있을 때를 얘기합니다. 이중 if문뿐 아니라 삼중, 사중, 그 이상도 가능합니다. (실제로 잘 사용되지는 않습니다.)\n",
        "\n",
        "```\n",
        "a = 12\n",
        "\n",
        "if a<100: # a가 100보다 작고, \n",
        "  if a%2==0: # a가 2로 나누어 떨어지면,\n",
        "    print(\"짝수입니다.\") # 이 코드를 실행\n",
        "else:  # a가 100보다 크면\n",
        "  print(\"입력숫자초과\") # 이 코드를 실행\n",
        "```"
      ],
      "metadata": {
        "id": "-sGSZzeGaSTo"
      }
    },
    {
      "cell_type": "code",
      "source": [
        "a = 12\n",
        "\n",
        "if a<100: # a가 100보다 작고, \n",
        "  if a%2==0: # a가 2로 나누어 떨어지면,\n",
        "    print(\"짝수입니다.\") # 이 코드를 실행\n",
        "else:  # a가 100보다 크면\n",
        "  print(\"입력숫자초과\") # 이 코드를 실행"
      ],
      "metadata": {
        "id": "zXboSnyHbHab",
        "outputId": "57162542-f12e-4aea-f0c5-1d8e0f5cee62",
        "colab": {
          "base_uri": "https://localhost:8080/"
        }
      },
      "execution_count": 13,
      "outputs": [
        {
          "output_type": "stream",
          "name": "stdout",
          "text": [
            "짝수입니다.\n"
          ]
        }
      ]
    },
    {
      "cell_type": "markdown",
      "source": [
        "#### `pass`\n",
        "\n",
        "조건문을 작성했으나, 조건에 해당하는 코드를 작성할 필요가 없을 때 사용합니다.\n",
        "조건문을 작성하고 아래와 같이 조건문 밑에 코드를 작성하지 않으면 오류가 납니다.\n",
        "\n",
        "```\n",
        "a = 2\n",
        "if a==2:\n",
        "else:\n",
        "  print('a is not 2')\n",
        "```"
      ],
      "metadata": {
        "id": "aKDeHTjtfoRH"
      }
    },
    {
      "cell_type": "code",
      "source": [
        "a = 2\n",
        "if a==2:\n",
        "  pass\n",
        "else:\n",
        "  print('a is not 2')"
      ],
      "metadata": {
        "id": "OeivHoclf3Q1"
      },
      "execution_count": 15,
      "outputs": []
    },
    {
      "cell_type": "markdown",
      "source": [
        "따라서 이런 경우에는 `pass`를 작성해 줍니다.\n",
        "\n",
        "```\n",
        "a = 2\n",
        "if a==2:\n",
        "  pass\n",
        "else:\n",
        "  print('a is not 2')\n",
        "```"
      ],
      "metadata": {
        "id": "-beh_n5Dle1c"
      }
    },
    {
      "cell_type": "code",
      "source": [
        "a = 2\n",
        "if a==2:\n",
        "  pass\n",
        "else:\n",
        "  print('a is not 2')"
      ],
      "metadata": {
        "id": "L-glmaFJlk6c"
      },
      "execution_count": 16,
      "outputs": []
    },
    {
      "cell_type": "markdown",
      "source": [
        "### **(3) `if True:`/ `if False:`** "
      ],
      "metadata": {
        "id": "rKbgEKwJbINj"
      }
    },
    {
      "cell_type": "markdown",
      "source": [
        "if문의 조건으로 들어간 `<`, `==` 등의 기호는 산술연산자로서 우리는 이미 앞에서 산술연산자에 대해서 배웠습니다. \n",
        "\n",
        "산술연산자의 결과로 `True` 혹은 `False` 라는 `bool` 값이 나오게 되기 때문에 위에서 우리가 작성한 if문 줄은 `if True:` 혹은 `if False`와 동일합니다.\n",
        "\n",
        "이 말은 `if True` 일 때는 그 아래 코드가 실행이 되고 `if False` 일 때는 그 아래 코드가 실행 되지 않음을 의미합니다.\n",
        "\n",
        "```\n",
        "if True:\n",
        "  print(\"무조건 실행이 됩니다.\")\n",
        "\n",
        "if False:\n",
        "  print(\"무조건 실행이 되지 않습니다.\")\n",
        "```\n",
        "\n"
      ],
      "metadata": {
        "id": "40tGdKqla0D3"
      }
    },
    {
      "cell_type": "code",
      "source": [
        "if True:\n",
        "  print(\"무조건 실행이 됩니다.\")\n",
        "\n",
        "if False:\n",
        "  print(\"무조건 실행이 되지 않습니다.\")"
      ],
      "metadata": {
        "id": "2b2Zcj5FcI2k",
        "outputId": "338a6cc6-1675-45f3-e360-03b2c8f3dc2c",
        "colab": {
          "base_uri": "https://localhost:8080/"
        }
      },
      "execution_count": 17,
      "outputs": [
        {
          "output_type": "stream",
          "name": "stdout",
          "text": [
            "무조건 실행이 됩니다.\n"
          ]
        }
      ]
    },
    {
      "cell_type": "markdown",
      "source": [
        "\n",
        "따라서 if문에는 bool값을 모두 조건문으로 사용할 수 있습니다.  우리는 앞서 `bool` 값을 반환하는 또 다른 연산자들을 배워 봤습니다. 그 중 `is`, `is not`을 이용해 코드를 작성해 보겠습니다.\n",
        "\n",
        "\n",
        "```\n",
        "a = 10\n",
        "b = 10.0\n",
        "\n",
        "if a is b:\n",
        "  print(\"a와 b는 동일\")\n",
        "```"
      ],
      "metadata": {
        "id": "lCOowsEGcI7u"
      }
    },
    {
      "cell_type": "code",
      "source": [
        "a = 10 #int\n",
        "b = 10.0 #float 10.도 같다.\n",
        "\n",
        "if a is b:\n",
        "  print(\"a와 b는 동일\")"
      ],
      "metadata": {
        "id": "Uzczw78BfTsH"
      },
      "execution_count": 18,
      "outputs": []
    },
    {
      "cell_type": "markdown",
      "source": [
        "출력이 되나요? `is`는 데이터 타입까지 같아야 `True`라고 하였습니다. 따라서 출력이 되지 않는게 맞습니다."
      ],
      "metadata": {
        "id": "m3uzd_GqfU8O"
      }
    },
    {
      "cell_type": "markdown",
      "source": [
        "#### **`in`, `not in`**\n",
        "\n",
        "우리가 `bool` 시간에 배우지 않은 연산자가 있습니다. 바로 `in`과 `not in` 입니다. 파이썬의 다양한 군집 자료형 안에 특정 요소가 들어있는지, 아닌지를 판별할 수 있는 유용한 연산자 입니다.\n",
        "\n",
        "* `a in s` : 군집 자료형 `s` 안에 요소 `a`가 존재\n",
        "* `a not in s` : 군집 자료형 `s` 안에 요소 'a`가 존재하지 않음.\n",
        "\n",
        "```\n",
        "s= [1,2,3]\n",
        "a = 2\n",
        "\n",
        "if a in s:\n",
        "  print(f\"{a} 가 {s}에 존재합니다.\")\n",
        "```"
      ],
      "metadata": {
        "id": "ypphueHcfmYy"
      }
    },
    {
      "cell_type": "code",
      "source": [
        "s= [1,2,3]\n",
        "a = 2\n",
        "\n",
        "if a in s:\n",
        "  print(f\"{a} 가 {s}에 존재합니다.\")"
      ],
      "metadata": {
        "id": "NBhc0GUUgTKF",
        "outputId": "0004701c-a949-4d61-94de-ca09a9a0d80f",
        "colab": {
          "base_uri": "https://localhost:8080/"
        }
      },
      "execution_count": 19,
      "outputs": [
        {
          "output_type": "stream",
          "name": "stdout",
          "text": [
            "2 가 [1, 2, 3]에 존재합니다.\n"
          ]
        }
      ]
    },
    {
      "cell_type": "markdown",
      "source": [
        "\n",
        "### **(3) 삼항 연산자**\n",
        "\n",
        "조건문과 같은 기능을 하는 연산자입니다.  상황에 맞게 잘 사용한다면 코드 길이를 효과적으로 줄일 수 있습니다.\n",
        "\n",
        "\n",
        "```\n",
        "# 조건문\n",
        "if 조건:(2)\n",
        "  조건이참일때코드(1)\n",
        "else:(3)\n",
        "  조건거짓일때코드(4)\n",
        "\n",
        "# 삼항 연산자\n",
        "조건참일때코드  if 조건   else   조건거짓일때코드\n",
        "       (1)        (2)     (3)          (4)\n",
        "\n",
        "```\n",
        "아래 코드를 삼항 연산자로 변환해 봅시다.\n",
        "```\n",
        "a = 2\n",
        "\n",
        "if a==2: # 2\n",
        "  print(\"a는 2다.\") # 1\n",
        "else: # 3\n",
        "  print(\"a는 2가 아니다.\") # 4\n",
        "```\n",
        "\n",
        "변환결과\n",
        "\n",
        "```\n",
        "a = 2\n",
        "print(\"a는 2다.\") if a==2 else print(\"a는 2가 아니다.\")\n",
        "```"
      ],
      "metadata": {
        "id": "MddSbtGuaYiD"
      }
    },
    {
      "cell_type": "code",
      "source": [
        "a = 2\n",
        "print(\"a는 2다.\") if a==2 else print(\"a는 2가 아니다.\")"
      ],
      "metadata": {
        "id": "HVDwjdH2aMFj",
        "outputId": "66033090-189f-41de-a641-c39d96d3def9",
        "colab": {
          "base_uri": "https://localhost:8080/"
        }
      },
      "execution_count": 20,
      "outputs": [
        {
          "output_type": "stream",
          "name": "stdout",
          "text": [
            "a는 2다.\n"
          ]
        }
      ]
    },
    {
      "cell_type": "markdown",
      "source": [
        "## 문제 풀이\n",
        "---\n",
        "\n"
      ],
      "metadata": {
        "id": "i0_nVSq-ahHr"
      }
    },
    {
      "cell_type": "markdown",
      "source": [
        "**예제 01**\n",
        "\n",
        "아래 코드의 실행결과를 예측하고 직접 실행해보세요\n",
        "\n",
        "```\n",
        "if True:\n",
        "    print(\"Hello World\")\n",
        "```"
      ],
      "metadata": {
        "id": "cxHw7Eqwah07"
      }
    },
    {
      "cell_type": "code",
      "source": [
        "#Hello World 출력\n",
        "if True:\n",
        "    print(\"Hello World\")"
      ],
      "metadata": {
        "id": "fIQIHPX7gi6D",
        "outputId": "f3ff10c9-712d-4ba9-e3a7-7d8acc2c3f9a",
        "colab": {
          "base_uri": "https://localhost:8080/"
        }
      },
      "execution_count": null,
      "outputs": [
        {
          "output_type": "stream",
          "name": "stdout",
          "text": [
            "Hello World\n"
          ]
        }
      ]
    },
    {
      "cell_type": "markdown",
      "source": [
        "\n",
        "**예제 02**\n",
        "\n",
        "아래 코드의 실행결과를 예측하고 직접 실행해보세요\n",
        "\n",
        "```\n",
        "if False:\n",
        "    print(\"Hello World\")\n",
        "```\n"
      ],
      "metadata": {
        "id": "mbDRyjksgi9s"
      }
    },
    {
      "cell_type": "code",
      "source": [
        "#아무것도 출력되지 않음.\n",
        "if False:\n",
        "    print(\"Hello World\")"
      ],
      "metadata": {
        "id": "0cNRiYJKgjZw"
      },
      "execution_count": null,
      "outputs": []
    },
    {
      "cell_type": "markdown",
      "source": [
        "\n",
        "**예제 03**\n",
        "\n",
        "아래 코드의 실행결과를 예측하고 직접 실행해보세요\n",
        "```\n",
        "if True:\n",
        "    print(\"Hello World\")\n",
        "else\n",
        "    print(\"else\")\n",
        "```"
      ],
      "metadata": {
        "id": "QNTlcFQxgjdK"
      }
    },
    {
      "cell_type": "code",
      "source": [
        "#Hello world 출력\n",
        "if True:\n",
        "    print(\"Hello World\")\n",
        "else:\n",
        "    print(\"else\")"
      ],
      "metadata": {
        "id": "37avWITVgmFO",
        "outputId": "6b422b92-40b4-46e7-e0cc-ff3c53f5fd59",
        "colab": {
          "base_uri": "https://localhost:8080/"
        }
      },
      "execution_count": 21,
      "outputs": [
        {
          "output_type": "stream",
          "name": "stdout",
          "text": [
            "Hello World\n"
          ]
        }
      ]
    },
    {
      "cell_type": "markdown",
      "source": [
        "**예제 04**\n",
        "\n",
        "아래 코드의 실행결과를 예측하고 직접 실행해보세요\n",
        "\n",
        "```\n",
        "if False:\n",
        "    print(\"Hello World\")\n",
        "else\n",
        "    print(\"else\")\n",
        "```\n"
      ],
      "metadata": {
        "id": "1GB2dx6sgks-"
      }
    },
    {
      "cell_type": "code",
      "source": [
        "#else출력\n",
        "if False:\n",
        "    print(\"Hello World\")\n",
        "else:\n",
        "    print(\"else\")"
      ],
      "metadata": {
        "id": "ay0sKGUjgkxo",
        "outputId": "99ed63fe-2388-4191-abe2-e254e3c4f326",
        "colab": {
          "base_uri": "https://localhost:8080/"
        }
      },
      "execution_count": 23,
      "outputs": [
        {
          "output_type": "stream",
          "name": "stdout",
          "text": [
            "else\n"
          ]
        }
      ]
    },
    {
      "cell_type": "markdown",
      "source": [
        "**예제 05**\n",
        "\n",
        "아래 코드의 실행결과를 예측하고 직접 실행해보세요\n",
        "```\n",
        "if 4 < 3:\n",
        "    print(\"Hello World.\")\n",
        "else:\n",
        "    print(\"Hi, there.\")\n",
        "```"
      ],
      "metadata": {
        "id": "a7t3w6UMgmI1"
      }
    },
    {
      "cell_type": "code",
      "source": [
        "#Hi, there. 출력\n",
        "if 4 < 3:\n",
        "    print(\"Hello World.\")\n",
        "else:\n",
        "    print(\"Hi, there.\")"
      ],
      "metadata": {
        "id": "0knF53DogoMw",
        "outputId": "ca723f79-7d64-408e-ba0f-b0be7aba038b",
        "colab": {
          "base_uri": "https://localhost:8080/"
        }
      },
      "execution_count": null,
      "outputs": [
        {
          "output_type": "stream",
          "name": "stdout",
          "text": [
            "Hi, there.\n"
          ]
        }
      ]
    },
    {
      "cell_type": "markdown",
      "source": [
        "\n",
        "**예제 06**\n",
        "\n",
        "아래 코드의 실행결과를 예측하고 직접 실행해보세요\n",
        "```\n",
        "if True :\n",
        "    print (\"1\")\n",
        "    print (\"2\")\n",
        "else :\n",
        "    print(\"3\")\n",
        "print(\"4\")\n",
        "```"
      ],
      "metadata": {
        "id": "bZKHjuuYgoSO"
      }
    },
    {
      "cell_type": "code",
      "source": [
        "#1,2,4 출력\n",
        "if True :\n",
        "    print (\"1\")\n",
        "    print (\"2\")\n",
        "else :\n",
        "    print(\"3\")\n",
        "print(\"4\")"
      ],
      "metadata": {
        "id": "FLBUCsIQgpsX",
        "outputId": "38a80100-993e-4a18-adab-aae5fc2acb29",
        "colab": {
          "base_uri": "https://localhost:8080/"
        }
      },
      "execution_count": null,
      "outputs": [
        {
          "output_type": "stream",
          "name": "stdout",
          "text": [
            "1\n",
            "2\n",
            "4\n"
          ]
        }
      ]
    },
    {
      "cell_type": "markdown",
      "source": [
        "**예제 07**\n",
        "\n",
        "아래 코드의 실행결과를 예측하고 직접 실행해보세요\n",
        "```\n",
        "if True :\n",
        "    if False:\n",
        "        print(\"1\")\n",
        "        print(\"2\")\n",
        "    else:\n",
        "        print(\"3\")\n",
        "else :\n",
        "    print(\"4\")\n",
        "print(\"5\")\n",
        "\n",
        "```"
      ],
      "metadata": {
        "id": "hzyVRikUgpwD"
      }
    },
    {
      "cell_type": "code",
      "source": [
        "#3,5출력\n",
        "if True :\n",
        "    if False:\n",
        "        print(\"1\")\n",
        "        print(\"2\")\n",
        "    else:\n",
        "        print(\"3\")\n",
        "else :\n",
        "    print(\"4\")\n",
        "print(\"5\")"
      ],
      "metadata": {
        "id": "LLG7boA8gqrI",
        "outputId": "4c598810-e09b-42d0-de6b-318138383417",
        "colab": {
          "base_uri": "https://localhost:8080/"
        }
      },
      "execution_count": null,
      "outputs": [
        {
          "output_type": "stream",
          "name": "stdout",
          "text": [
            "3\n",
            "5\n"
          ]
        }
      ]
    },
    {
      "cell_type": "markdown",
      "source": [
        "**예제 08**\n",
        "\n",
        "입력된 문자열의 길이가 3보다 크면 \"TRUE!\"를 출력하고 그렇지 않으면 'FALSE!'이라는 문자열을 출력하는 코드를 작성하세요. 입력은 내장함수 `input()`를 사용하세요.\n"
      ],
      "metadata": {
        "id": "Gwu5n-oDgqyg"
      }
    },
    {
      "cell_type": "code",
      "source": [
        "a = input()\n",
        "\n",
        "if len(a) > 3:\n",
        "  print(\"TRUE!\")\n",
        "else:\n",
        "  print(\"FLASE!\")\n",
        "\n",
        "\n"
      ],
      "metadata": {
        "id": "ANsokcT6gtQz",
        "outputId": "f885e2e8-6b5b-40e0-c79a-51f1c0b66706",
        "colab": {
          "base_uri": "https://localhost:8080/"
        }
      },
      "execution_count": 25,
      "outputs": [
        {
          "output_type": "stream",
          "name": "stdout",
          "text": [
            "12\n",
            "FLASE!\n"
          ]
        }
      ]
    },
    {
      "cell_type": "markdown",
      "source": [
        "**예제 09**\n",
        "\n",
        "입력된 정수값이 짝수이거나 10보다 낮으면 \"target!\" 그렇지 않으면 \"pass\" 라는 문자열을 출력하는 코드를 작성하세요. 입력은 내장함수 `input()`를 사용하세요."
      ],
      "metadata": {
        "id": "9Du9uUgLgta3"
      }
    },
    {
      "cell_type": "code",
      "source": [
        "a = int(input())\n",
        "\n",
        "if a%2 == 0 or a<10:\n",
        "  print(\"target!\")\n",
        "else:\n",
        "  print(\"pass\")\n",
        "  "
      ],
      "metadata": {
        "id": "43fY7qzEgvHf",
        "outputId": "2ab6948d-8dcc-447a-dd5f-087ddabe9e05",
        "colab": {
          "base_uri": "https://localhost:8080/"
        }
      },
      "execution_count": 27,
      "outputs": [
        {
          "output_type": "stream",
          "name": "stdout",
          "text": [
            "3\n",
            "target!\n"
          ]
        }
      ]
    },
    {
      "cell_type": "markdown",
      "source": [
        "**예제 10**\n",
        "\n",
        "\n",
        "0에서 100까지의 정수 `n`을 입력받습니다. 만약 범위에 해당하지 않는 정수를 입력하면 에러 메시지를 보내고 종료됩니다. 제대로 입력하였으면 정수 n에 10을 빼고 출력합니다. 만약 10을 뺀 값이 0보다 작으면 0을 출력하세요\n",
        "\n",
        "\n",
        "* 예시\n",
        "```\n",
        ">> n을 입력하세요: 50\n",
        "40\n",
        "```\n",
        "\n",
        "* 예시\n",
        "```\n",
        ">> n을 입력하세요: 5\n",
        "0\n",
        "```\n",
        "\n",
        "* 예시\n",
        "```\n",
        ">> n을 입력하세요: 200\n",
        "잘못된 숫자입니다.\n",
        "```\n"
      ],
      "metadata": {
        "id": "61JVxwMVgvMh"
      }
    },
    {
      "cell_type": "code",
      "source": [
        "a = int(input())\n",
        "\n",
        "if a>=0 and a<=100:\n",
        "  if a-10>=0:\n",
        "    print(a-10)\n",
        "  else:\n",
        "    print(0)\n",
        "else:\n",
        "  print(\"잘못된 숫자입니다.\")\n"
      ],
      "metadata": {
        "id": "htKCPqm1l4jk",
        "outputId": "05894433-8f68-48f4-e0e8-63361a3c3056",
        "colab": {
          "base_uri": "https://localhost:8080/"
        }
      },
      "execution_count": 30,
      "outputs": [
        {
          "output_type": "stream",
          "name": "stdout",
          "text": [
            "-3\n",
            "잘못된 숫자입니다.\n"
          ]
        }
      ]
    },
    {
      "cell_type": "markdown",
      "source": [
        "**예제 11**\n",
        "\n",
        "사용자로부터 문자열을 입력받고 옵션에 따라 대문자 또는 소문자로 변경하는 함수를 작성하세요\n",
        "\n",
        "* 예시\n",
        "```\n",
        ">> change_str(\"aBc\")\n",
        "ABC\n",
        "```\n",
        "\n",
        "* 예시\n",
        "```\n",
        ">> change_str(\"aBc\", opt='up')\n",
        "ABC\n",
        "```\n",
        "\n",
        "* 예시\n",
        "```\n",
        ">> change_str(\"aBc\", opt='down')\n",
        "abc\n",
        "```"
      ],
      "metadata": {
        "id": "RKC26VgahIGt"
      }
    },
    {
      "cell_type": "code",
      "source": [
        "def change_str(l, opt='up'):\n",
        "  if opt=='up':\n",
        "    print(l.upper())\n",
        "  elif opt=='down':\n",
        "    print(l.lower())\n",
        "\n",
        "\n",
        "\n",
        "change_str(\"ABC\", opt='down')\n",
        "\n"
      ],
      "metadata": {
        "id": "HyyCKmjAgwLJ",
        "outputId": "41b1b320-2d68-4487-e8d0-18115e1b5423",
        "colab": {
          "base_uri": "https://localhost:8080/"
        }
      },
      "execution_count": 39,
      "outputs": [
        {
          "output_type": "stream",
          "name": "stdout",
          "text": [
            "abc\n"
          ]
        }
      ]
    },
    {
      "cell_type": "markdown",
      "source": [
        "**예제 12**\n",
        "\n",
        "학점표를 보고 점수에 따른 학점을 출력하는 함수를 작성하세요\n",
        "\n",
        "|점수|학점|\n",
        "--|--\n",
        "70~100|A\n",
        "30~70 |B\n",
        "0~30 | C\n",
        "\n",
        "* 예시\n",
        "```\n",
        ">> cal_grade(50)\n",
        "학점은 B 입니다.\n",
        "```"
      ],
      "metadata": {
        "id": "bbUSm7Pm0ecC"
      }
    },
    {
      "cell_type": "code",
      "source": [
        "def cal_grade(a):\n",
        "  if a>=71 and a<=100:\n",
        "    print(\"A\")\n",
        "  elif a>=31 and a<=70:\n",
        "    print(\"B\")\n",
        "  elif a>=0 and a<=30:\n",
        "    print(\"C\")\n",
        "\n",
        "a = int(input())\n",
        "cal_grade(a)\n",
        "\n",
        "  "
      ],
      "metadata": {
        "id": "ptdi6nBj0iY9",
        "outputId": "fdc113dc-e53e-40c4-b15e-a03415b340c5",
        "colab": {
          "base_uri": "https://localhost:8080/"
        }
      },
      "execution_count": 43,
      "outputs": [
        {
          "output_type": "stream",
          "name": "stdout",
          "text": [
            "23\n",
            "C\n"
          ]
        }
      ]
    },
    {
      "cell_type": "markdown",
      "source": [
        "**예제 13**\n",
        "\n",
        "주민등록번호 뒷자리의 첫번째 번호를 통해 남여를 구분하세요(1,3 남/ 2,4 여) 만약 주민번호의 규격이 맞지 않으면 에러메시지를 출력하는 코드를 작성하세요. 인풋은 내장함수 `input()`로 받습니다.\n",
        "\n",
        "* 예시\n",
        "```\n",
        ">> 주민번호를 입력하세요: 101010-1010101\n",
        "남성입니다. \n",
        "```\n",
        "\n",
        "* 예시\n",
        "```\n",
        ">> 주민번호를 입력하세요: 101010-101\n",
        "주민번호가 올바르지 않습니다.\n",
        "```"
      ],
      "metadata": {
        "id": "hsVvXoNq0lw1"
      }
    },
    {
      "cell_type": "code",
      "source": [
        "a = input(\"주민번호를 입력하세요: \")\n",
        "\n",
        "if (len(a)  == 14) and a[6] == '-':\n",
        "  if a[7] == '1' or a[7] == '3':\n",
        "    print(\"남성입니다.\")\n",
        "  elif a[7] == '2' or a[7] == '4':\n",
        "    print(\"여성입니다.\")\n",
        "else:\n",
        "  print(\"주민번호가 올바르지 않습니다.\")\n",
        "\n",
        "\n",
        "\n"
      ],
      "metadata": {
        "id": "-ZBStYHn0skR",
        "outputId": "d87597be-9b5d-4b01-9723-eb9076c6b55d",
        "colab": {
          "base_uri": "https://localhost:8080/"
        }
      },
      "execution_count": 72,
      "outputs": [
        {
          "output_type": "stream",
          "name": "stdout",
          "text": [
            "주민번호를 입력하세요: 880930-4106416\n",
            "여성입니다.\n"
          ]
        }
      ]
    },
    {
      "cell_type": "markdown",
      "source": [
        "**예제 14**\n",
        "\n",
        "자판기 함수를 생성합니다. 조건은 아래와 같습니다.\n",
        "\n",
        "- 음료수 종류와 가격이 적힌 메뉴판을 출력합니다.(최소 3가지 이상의 음료 종류를 딕셔너리 형태로 저장하세요)\n",
        "- 음료수 종류를 입력받고 가격을 안내합니다.\n",
        "- 금액을 입력받습니다.\n",
        "- 금액이 충분하면 음료수와 거스름돈을 반환하는 메시지를 출력합니다.\n",
        "- 금액이 불충분하면 금액을 반환하는 메시지를 출력합니다.\n"
      ],
      "metadata": {
        "id": "-ya-B4m20tmB"
      }
    },
    {
      "cell_type": "code",
      "source": [
        "def bending():\n",
        "  menu  = {'콜라' : 1500, '사이다' : 2000, '환타' : 2500}\n",
        "  print(\"MENU : 콜라 : 1500원, 사이다 : 2000원, 환타 : 2500\")\n",
        "\n",
        "  a = input(\"뽑으실 음료수를 입력하세요. : \")\n",
        "  print(f'입력하신 {a}의 가격은 {menu[a]}원 입니다.')\n",
        "  price = int(input(\"금액을 투입 하세요.\"))\n",
        "  if price >= menu[a]:\n",
        "    print(f'주문하신 음료수 {a}와 거스름돈 {price - menu[a]}원이 나왔습니다.')\n",
        "  else:\n",
        "    print(f'금액이 부족하여 투입하신 {price}원을 반환합니다.')\n",
        "\n",
        "bending()\n",
        "\n",
        "\n",
        "\n"
      ],
      "metadata": {
        "id": "dhiVxMpT0uxy",
        "colab": {
          "base_uri": "https://localhost:8080/"
        },
        "outputId": "9c45d1a9-ff83-4ea4-ef52-c158be04b9e2"
      },
      "execution_count": 74,
      "outputs": [
        {
          "output_type": "stream",
          "name": "stdout",
          "text": [
            "MENU : 콜라 : 1500원, 사이다 : 2000원, 환타 : 2500\n",
            "뽑으실 음료수를 입력하세요. : 사이다\n",
            "입력하신 사이다의 가격은 2000원 입니다.\n",
            "금액을 투입 하세요.1000\n",
            "금액이 부족하여 투입하신 1000원을 반환합니다.\n"
          ]
        }
      ]
    },
    {
      "cell_type": "markdown",
      "source": [
        "\n",
        "**예제 15**\n",
        "\n",
        "두 수를 비교하는 함수를 만듭니다.\n",
        "\n",
        "* 예시\n",
        "```\n",
        ">> comp_ab(1,2)\n",
        "1<2\n",
        "```\n",
        "\n",
        "* 예시\n",
        "```\n",
        ">> comp_ab(2,1)\n",
        "2>1\n",
        "```\n",
        "\n",
        "* 예시\n",
        "```\n",
        ">> comp_ab(1,1)\n",
        "1==1\n",
        "```\n"
      ],
      "metadata": {
        "id": "CH2QLyAB0u26"
      }
    },
    {
      "cell_type": "code",
      "source": [
        "def comp_ab(a,b):\n",
        "  if a > b:\n",
        "    print(f'{a} > {b}')\n",
        "  elif a < b:\n",
        "    print(f'{a} < {b}') \n",
        "  elif a == b:\n",
        "    print(f'{a} = {b}')\n",
        "\n",
        "a = int(input(\"a : \"))\n",
        "b = int(input(\"b : \"))\n",
        "comp_ab(a,b)"
      ],
      "metadata": {
        "id": "rqclrJtM059c",
        "colab": {
          "base_uri": "https://localhost:8080/"
        },
        "outputId": "fc9bdb48-5ef6-4004-9a76-9e5c8d31e3c0"
      },
      "execution_count": 46,
      "outputs": [
        {
          "output_type": "stream",
          "name": "stdout",
          "text": [
            "a : 5\n",
            "b : 5\n",
            "5 = 5\n"
          ]
        }
      ]
    },
    {
      "cell_type": "markdown",
      "source": [
        "**예제 16**\n",
        "\n",
        "아래 두개의 조건중 하나라도 만족하는 숫자를 입력하면 \"target\", 그렇지 않으면 \"pass\"를 출력하는 함수를 작성하세요\n",
        "\n",
        "- 3의 배수이면서, 5의 배수가 아닐때\n",
        "- 10의 배수일 때\n",
        "\n",
        "```\n",
        ">> target_num(15)\n",
        "pass\n",
        "```\n",
        "\n",
        "```\n",
        ">> target_num(150)\n",
        "target\n",
        "```"
      ],
      "metadata": {
        "id": "5LebGsgu06CO"
      }
    },
    {
      "cell_type": "code",
      "source": [
        "def target_num(a):\n",
        "  if ((a>=3) and (a%3 == 0) and (a%5 != 0)) or ((a>=10) and (a%10 == 0)):\n",
        "    print(\"pass\")\n",
        "  else:\n",
        "    print(\"target\")\n",
        "\n",
        "a = int(input())\n",
        "target_num(a)"
      ],
      "metadata": {
        "id": "_j4vEmT70_rR",
        "outputId": "42926187-4356-48bb-efd5-8a9cb4e2f925",
        "colab": {
          "base_uri": "https://localhost:8080/"
        }
      },
      "execution_count": 51,
      "outputs": [
        {
          "output_type": "stream",
          "name": "stdout",
          "text": [
            "90\n",
            "pass\n"
          ]
        }
      ]
    },
    {
      "cell_type": "markdown",
      "source": [
        "**예제 17**\n",
        "\n",
        "두개의 정수값을 받아서 몇사분면에 위치해 있는지, 혹은 x축, y축,  원점 위에 있는지 판단하는 함수를 작성하세요\n",
        "\n",
        "* 예시\n",
        "```\n",
        ">> which_plane(1,1)\n",
        "1사분면에 있습니다.\n",
        "```\n",
        "* 예시\n",
        "```\n",
        ">> which_plane(0,0)\n",
        "원점에 있습니다.\n",
        "```"
      ],
      "metadata": {
        "id": "_9ygEJmV0_wy"
      }
    },
    {
      "cell_type": "code",
      "source": [
        "def which_plane(x,y):\n",
        "  if a == 0 and b == 0:\n",
        "    print(\"원점에 있습니다.\")\n",
        "  elif x>0 and y>0:\n",
        "    print(\"1사분면에 있습니다.\")\n",
        "  elif x<0 and y>0:\n",
        "    print(\"2사분면에 있습니다.\")   \n",
        "  elif x<0 and y<0:\n",
        "    print(\"3사분면에 있습니다.\") \n",
        "  elif x>0 and y>0:\n",
        "    print(\"4사분면에 있습니다.\") \n",
        "  elif x==0 and y!=0:\n",
        "    print(\"y축 위에 있습니다.\") \n",
        "  elif x!=0 and y==0:\n",
        "    print(\"x축 위에 있습니다.\") \n",
        "\n",
        "x = int(input(\"x : \"))\n",
        "y = int(input(\"y : \"))\n",
        "which_plane(x,y)"
      ],
      "metadata": {
        "id": "c6YweOOI1HQX",
        "outputId": "42a5eec7-83fd-4e3e-c4f2-0a1d23f37898",
        "colab": {
          "base_uri": "https://localhost:8080/"
        }
      },
      "execution_count": 55,
      "outputs": [
        {
          "output_type": "stream",
          "name": "stdout",
          "text": [
            "x : -2\n",
            "y : -2\n",
            "3사분면에 있습니다.\n"
          ]
        }
      ]
    },
    {
      "cell_type": "markdown",
      "source": [
        "0**예제 18**\n",
        "\n",
        "시(H)와 분(M)을 입력하면 1시간 30분뒤 시간을 알려주는 함수를 작성하세요\n",
        "\n",
        "* 예시\n",
        "```\n",
        ">> after_time(7,30)\n",
        "9:00\n",
        "```\n",
        "\n",
        "* 예시\n",
        "```\n",
        ">> after_time(11,50)\n",
        "13:20\n",
        "```\n",
        "\n",
        "* 예시\n",
        "```\n",
        ">> after_time(23,40)\n",
        "01:10\n",
        "```"
      ],
      "metadata": {
        "id": "urINDRs11IVx"
      }
    },
    {
      "cell_type": "code",
      "source": [
        "def after_time(a,b):\n",
        "  if (b+30) < 60:\n",
        "    a = a + 1\n",
        "    b = b + 30\n",
        "    if a<24 and b != 0:\n",
        "      print(f'{a} : {b}')\n",
        "    elif a<24 and b == 0:\n",
        "      print(f'{a} : 00')\n",
        "    elif a>=24 and b != 0:\n",
        "      print(f'{a-24} : {b}')\n",
        "    elif a>=24 and b == 0:\n",
        "      print(f'{a-24} : 00')\n",
        "\n",
        "  elif (b+30) >= 60:\n",
        "    a = a + 2\n",
        "    b = b + 30 - 60  \n",
        "    if a<24 and b != 0:\n",
        "      print(f'{a} : {b}')\n",
        "    elif a<24 and b == 0:\n",
        "      print(f'{a} : 00')\n",
        "    elif a>=24 and b != 0:\n",
        "      print(f'{a-24} : {b}')\n",
        "    elif a>=24 and b == 0:\n",
        "      print(f'{a-24} : 00')\n",
        "\n",
        "\n",
        "\n",
        "\n",
        "after_time(23, 40)\n",
        "\n",
        "\n",
        "\n",
        "    \n"
      ],
      "metadata": {
        "id": "lhOhiExm1Qlm",
        "outputId": "8a7a98b8-eaa7-4486-ce17-419dbfe3a609",
        "colab": {
          "base_uri": "https://localhost:8080/"
        }
      },
      "execution_count": null,
      "outputs": [
        {
          "output_type": "stream",
          "name": "stdout",
          "text": [
            "1 : 10\n"
          ]
        }
      ]
    },
    {
      "cell_type": "markdown",
      "source": [
        "**예제 19**\n",
        "\n",
        "아래와 같이 사용자가 0부터 100까지 숫자를 입력하면 한국어로 변환하는 코드를 작성하세요\n",
        "\n",
        "* 예시\n",
        "```\n",
        ">> 0부터 100까지 숫자를 입력하세요: 100\n",
        "백\n",
        "```\n",
        "\n",
        "* 예시\n",
        "```\n",
        ">> 0부터 9까지 숫자를 입력하세요: 84\n",
        "팔십사\n",
        "```\n"
      ],
      "metadata": {
        "id": "J25zSIwn1SCp"
      }
    },
    {
      "cell_type": "code",
      "source": [
        "one = {'0' : '영', '1' : '일','2' : '이','3' : '삼','4' : '사','5' : '오','6' : '육','7' : '칠','8' : '팔','9' : '구'}\n",
        "two = {'1' : '십','2' : '이십','3' : '삼십','4' : '사십','5' : '오십','6' : '육십','7' : '칠십','8': '팔십','9' : '구십'}\n",
        "\n",
        "num = int(input(\"0에서 100까지 숫자를 입력하세요:\"))\n",
        "\n",
        "if num == 100:\n",
        "  print(\"백\")\n",
        "elif len(str(num)) == 2:\n",
        "  if str(num)[1] != '0':\n",
        "    a = str(num)\n",
        "    print(f'{two[a[0]]}{one[a[1]]}')\n",
        "  elif str(num)[1] == '0':\n",
        "    a = str(num)\n",
        "    print(f'{two[a[0]]}')\n",
        "elif len(str(num)) == 1:\n",
        "  a = str(num)\n",
        "  print(f'{one[a]}') \n",
        "\n",
        "\n",
        "\n",
        "\n",
        "\n"
      ],
      "metadata": {
        "id": "uDhjzIWA1bYP",
        "outputId": "588606da-6455-4dac-c022-5482606745fa",
        "colab": {
          "base_uri": "https://localhost:8080/"
        }
      },
      "execution_count": 65,
      "outputs": [
        {
          "output_type": "stream",
          "name": "stdout",
          "text": [
            "0에서 100까지 숫자를 입력하세요:90\n",
            "구십\n"
          ]
        }
      ]
    },
    {
      "cell_type": "markdown",
      "source": [
        "**예제 20**\n",
        "\n",
        "두참가자에게 투표를 한 문자열이 주어집니다. 1번과 2번중 더 높은 투표를 받은 사람이 번호를 출력하세요. 만약 투표수가 동일하면 \"draw\"를 출력합니다.\n",
        "\n",
        "* 예시\n",
        "```\n",
        ">> who_win(\"122211\")\n",
        "draw\n",
        "```\n",
        "\n",
        "* 예시\n",
        "```\n",
        ">> who_win(\"211222212\")\n",
        "2\n",
        "```"
      ],
      "metadata": {
        "id": "5r-j6QRK1ca0"
      }
    },
    {
      "cell_type": "code",
      "source": [
        "def who_win(a):\n",
        "  if a.count('1') > a.count('2'):\n",
        "    print(\"1\")\n",
        "  elif a.count('1') < a.count('2'):\n",
        "    print(\"2\")\n",
        "  elif a.count('1') == a.count('2'):\n",
        "    print(\"draw\")\n",
        "\n",
        "\n",
        "a = input()\n",
        "who_win(a)"
      ],
      "metadata": {
        "id": "kXN8XBa91h3X",
        "outputId": "1e911031-f54f-4329-eaa3-b08d61f97771",
        "colab": {
          "base_uri": "https://localhost:8080/"
        }
      },
      "execution_count": 69,
      "outputs": [
        {
          "output_type": "stream",
          "name": "stdout",
          "text": [
            "1111122222\n",
            "draw\n"
          ]
        }
      ]
    }
  ]
}