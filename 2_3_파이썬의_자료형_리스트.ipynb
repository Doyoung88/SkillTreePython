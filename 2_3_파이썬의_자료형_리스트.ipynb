{
  "nbformat": 4,
  "nbformat_minor": 0,
  "metadata": {
    "colab": {
      "name": "2-3.파이썬의 자료형:리스트.ipynb",
      "provenance": [],
      "toc_visible": true,
      "include_colab_link": true
    },
    "kernelspec": {
      "name": "python3",
      "display_name": "Python 3"
    },
    "language_info": {
      "name": "python"
    }
  },
  "cells": [
    {
      "cell_type": "markdown",
      "metadata": {
        "id": "view-in-github",
        "colab_type": "text"
      },
      "source": [
        "<a href=\"https://colab.research.google.com/github/Doyoung88/SkillTreePython/blob/main/2_3_%ED%8C%8C%EC%9D%B4%EC%8D%AC%EC%9D%98_%EC%9E%90%EB%A3%8C%ED%98%95_%EB%A6%AC%EC%8A%A4%ED%8A%B8.ipynb\" target=\"_parent\"><img src=\"https://colab.research.google.com/assets/colab-badge.svg\" alt=\"Open In Colab\"/></a>"
      ]
    },
    {
      "cell_type": "markdown",
      "source": [
        "# 2-3.파이썬의 자료형:리스트\n",
        "---\n",
        "* 날짜:2022-12-27\n",
        "* 이름:윤도영"
      ],
      "metadata": {
        "id": "kB5IciXEm6o4"
      }
    },
    {
      "cell_type": "markdown",
      "source": [
        "## 개념정리\n",
        "---\n",
        "\n",
        "리스트 자료형은 파이썬의 다양한 군집자료형 중의 하나입니다."
      ],
      "metadata": {
        "id": "4iN8NFzHRJ2D"
      }
    },
    {
      "cell_type": "markdown",
      "source": [
        "### (1) 생성\n"
      ],
      "metadata": {
        "id": "MAM8MDnfw68b"
      }
    },
    {
      "cell_type": "markdown",
      "source": [
        "* `[ ]` 기호를 통해 빈 리스트를 생성합니다.\n",
        "\n",
        "```\n",
        "a = []\n",
        "print(a, type(a) )\n",
        "```\n",
        "\n",
        "\n",
        "\n",
        "\n",
        "\n"
      ],
      "metadata": {
        "id": "UKlkHH0IRL5h"
      }
    },
    {
      "cell_type": "code",
      "source": [
        "a = '123'\n",
        "a = list(a)\n",
        "print(a)"
      ],
      "metadata": {
        "id": "6UKRU-Uvw2YB",
        "outputId": "e8d5d9e8-676a-4d56-f382-361da5d23b60",
        "colab": {
          "base_uri": "https://localhost:8080/"
        }
      },
      "execution_count": null,
      "outputs": [
        {
          "output_type": "stream",
          "name": "stdout",
          "text": [
            "['1', '2', '3']\n"
          ]
        }
      ]
    },
    {
      "cell_type": "markdown",
      "source": [
        "#### **리스트의 요소**\n",
        "\n",
        "리스트의 요소는 문자열 뿐만 아니라 또 다른 리스트, 수치 자료형 등 다양한 요소들을 포함할 수 있습니다. 리스트 안의 요소들은 통일 하지 않아도 유효합니다.\n",
        "\n",
        "```\n",
        "a = [1, \"a\", True, [1,2,3]]\n",
        "print(a, type(a))\n",
        "```"
      ],
      "metadata": {
        "id": "-YRAYwSTw84i"
      }
    },
    {
      "cell_type": "code",
      "source": [
        "a = [1, \"a\", True, [1,2,3]]\n",
        "print(a, type(a))"
      ],
      "metadata": {
        "id": "bjRDe1Jjw_Lp",
        "outputId": "4c7c99cb-d1b5-4680-fc80-9b29529c0213",
        "colab": {
          "base_uri": "https://localhost:8080/"
        }
      },
      "execution_count": null,
      "outputs": [
        {
          "output_type": "stream",
          "name": "stdout",
          "text": [
            "[1, 'a', True, [1, 2, 3]] <class 'list'>\n"
          ]
        }
      ]
    },
    {
      "cell_type": "markdown",
      "source": [
        "### (2) 수정과 삭제\n",
        "\n",
        "리스트의 값을 수정하거나 삭제할 수 있습니다.\n",
        "\n"
      ],
      "metadata": {
        "id": "MSdELflJxC6Z"
      }
    },
    {
      "cell_type": "markdown",
      "source": [
        "#### **수정**\n",
        "\n",
        "```\n",
        "a = [1,2,3,4]\n",
        "a[0] = \"a\"\n",
        "print(a)\n",
        "```"
      ],
      "metadata": {
        "id": "yCHmayZ4xIhY"
      }
    },
    {
      "cell_type": "code",
      "source": [
        " a = [1,2,3,4]         #수정과 삭제는 인덱싱을 기반으로 한다.\n",
        "a[0] = 'a'#a의 첫번째 요소 1을  'a'로 변경\n",
        "print(a)"
      ],
      "metadata": {
        "id": "x-m2MhD0xAoi",
        "outputId": "df24c002-9a8b-41a4-c385-89f5a5759146",
        "colab": {
          "base_uri": "https://localhost:8080/"
        }
      },
      "execution_count": null,
      "outputs": [
        {
          "output_type": "stream",
          "name": "stdout",
          "text": [
            "['a', 2, 3, 4]\n"
          ]
        }
      ]
    },
    {
      "cell_type": "markdown",
      "source": [
        "#### **삭제**\n",
        "\n",
        "\n",
        "```\n",
        "a = [1,2,3,4]\n",
        "del a[0]\n",
        "print(a)\n",
        "```\n"
      ],
      "metadata": {
        "id": "1RHkw6tVxKNi"
      }
    },
    {
      "cell_type": "code",
      "source": [
        "a = [1,2,3,4]\n",
        "del a[0]#a의 첫번째 요소 1을 삭제\n",
        "print(a)"
      ],
      "metadata": {
        "id": "lWVjQHe7xMxu",
        "outputId": "384a0bc8-c9cf-4991-fd0b-f26cd629762d",
        "colab": {
          "base_uri": "https://localhost:8080/"
        }
      },
      "execution_count": null,
      "outputs": [
        {
          "output_type": "stream",
          "name": "stdout",
          "text": [
            "[2, 3, 4]\n"
          ]
        }
      ]
    },
    {
      "cell_type": "markdown",
      "source": [
        "\n",
        "### (3) 인덱싱과 슬라이싱\n",
        "\n",
        "앞서 문자열 자료형에서 이미 한 것과 마찬가지로 인덱싱과 슬라이싱 기능을 사용할 수 있습니다. 인덱싱과 슬라이싱에 사용되는 방식은 문자열 자료형과 동일합니다.\n"
      ],
      "metadata": {
        "id": "FTjQm5R9xQES"
      }
    },
    {
      "cell_type": "markdown",
      "source": [
        "\n",
        "#### **인덱싱**\n",
        "\n",
        "```\n",
        "a = [1,2,3,4,5]\n",
        "print(a[0]) # 인덱싱\n",
        "```\n"
      ],
      "metadata": {
        "id": "NCTA1LtHxPb2"
      }
    },
    {
      "cell_type": "code",
      "source": [],
      "metadata": {
        "id": "oJbf8dNCxUtz"
      },
      "execution_count": null,
      "outputs": []
    },
    {
      "cell_type": "markdown",
      "source": [
        "\n",
        "#### **슬라이싱**\n",
        "\n",
        "```\n",
        "print(a[:2]) # 슬라이싱\n",
        "```\n"
      ],
      "metadata": {
        "id": "IZWvcVEuxT17"
      }
    },
    {
      "cell_type": "code",
      "source": [],
      "metadata": {
        "id": "hTN9WKApxYgW"
      },
      "execution_count": null,
      "outputs": []
    },
    {
      "cell_type": "markdown",
      "source": [
        "### (4) 리스트의 연산\n",
        "\n",
        "리스트의 연산은 `+`(더하기)와 `*`(곱하기) 만 사용할 수 있습니다. 이 때 더하기는 리스트끼리의 덧셈만 가능하며, 곱하기는 리스트와 정수값의 곱만 가능함을 주의해야 합니다. 리스트끼리의 덧셈 결과는 두 리스트를 이어 붙인 리스트가 되고 리스트와 정수의 곱은 리스트의 정수크기만큼 이어붙인 리스트가 됩니다.\n",
        "\n",
        "연산을 위해 아래와 같이 변수를 정의합시다.\n",
        "\n",
        "```\n",
        "a = [1,2,3,4,5]\n",
        "b = [6,7,8,9,10]\n",
        "c = 3\n",
        "```\n"
      ],
      "metadata": {
        "id": "oAGI3wesxbPQ"
      }
    },
    {
      "cell_type": "code",
      "source": [
        "a = [1,2,3,4,5]\n",
        "b = [6,7,8,9,10]\n",
        "c = 3"
      ],
      "metadata": {
        "id": "P3tgi66wTLUC"
      },
      "execution_count": null,
      "outputs": []
    },
    {
      "cell_type": "markdown",
      "source": [
        "#### **더하기**\n",
        "\n",
        "리스트와 리스트를 덧셈(+) 기호를 이용해 이어 붙일 수 있습니다. 실제 리스트 요소간의 덧셈이 아님을 유의합니다.\n",
        "\n",
        "\n",
        "```\n",
        "print(a+b) \n",
        "```"
      ],
      "metadata": {
        "id": "6I4qd2rvxc2a"
      }
    },
    {
      "cell_type": "code",
      "source": [
        "a+b #하나의 리스트로 연결"
      ],
      "metadata": {
        "id": "Hne6R5ljxZCi",
        "outputId": "a5f59a48-4f0c-4b0b-df24-a05c05049050",
        "colab": {
          "base_uri": "https://localhost:8080/"
        }
      },
      "execution_count": null,
      "outputs": [
        {
          "output_type": "execute_result",
          "data": {
            "text/plain": [
              "[1, 2, 3, 4, 5, 6, 7, 8, 9, 10]"
            ]
          },
          "metadata": {},
          "execution_count": 12
        }
      ]
    },
    {
      "cell_type": "markdown",
      "source": [
        "#### **곱하기**\n",
        "\n",
        "리스트와 정수 값을 곱셈(*) 기호를 이용해 여러번 반복 합니다. 실제 리스트 요소의 곱셈이 아님을 유의합니다.\n",
        "\n",
        "```\n",
        "print(a*c)\n",
        "```"
      ],
      "metadata": {
        "id": "f9alJe6Bxe-Y"
      }
    },
    {
      "cell_type": "code",
      "source": [
        "a*c #c번 반복, 하나의 리스트로 연결"
      ],
      "metadata": {
        "id": "317mmmOwxgPQ",
        "outputId": "7bc29a8d-af4a-4780-8df4-cfd3537693e7",
        "colab": {
          "base_uri": "https://localhost:8080/"
        }
      },
      "execution_count": null,
      "outputs": [
        {
          "output_type": "execute_result",
          "data": {
            "text/plain": [
              "[1, 2, 3, 4, 5, 1, 2, 3, 4, 5, 1, 2, 3, 4, 5]"
            ]
          },
          "metadata": {},
          "execution_count": 13
        }
      ]
    },
    {
      "cell_type": "markdown",
      "source": [
        "### (5) 리스트 메소드\n",
        "\n",
        "지난번 문자열 메소드와 마찬가지로 리스트에도 다양한 내장함수 및 메소드가 존재합니다. \n",
        "\n",
        "|| 종류|\n",
        "|--|--|\n",
        "|내장함수| `len()`, `max()`, `min()`, `sum()`, `list()`, `sorted()`|\n",
        "|메소드| `.append()`, `.extend()`, `.count()`, `.index()`, `.insert()`, `.pop()`, `.remove()`, `.reverse()`, `.sort()`\n"
      ],
      "metadata": {
        "id": "L8rS3TL5xki9"
      }
    },
    {
      "cell_type": "markdown",
      "source": [
        "####  **내장함수**\n",
        "\n",
        "함수 사용을 위해 아래와 같은 리스트를 정의합시다.\n",
        "\n",
        "```\n",
        "a = [4,2,1,3]\n",
        "```\n"
      ],
      "metadata": {
        "id": "-ESG0psbxmvd"
      }
    },
    {
      "cell_type": "code",
      "source": [
        "#내장함수는 input이 있어야 한다.\n",
        "#메서드는 input 없이도 작동 .앞의 문자가 input\n",
        "a = [4,2,1,3]"
      ],
      "metadata": {
        "id": "ZRf2VzcdT3iT"
      },
      "execution_count": null,
      "outputs": []
    },
    {
      "cell_type": "markdown",
      "source": [
        "* `len()`: 길이를 구합니다.\n",
        "\n",
        "```\n",
        "print(len(a))\n",
        "```\n"
      ],
      "metadata": {
        "id": "MdW-sk0VT3rk"
      }
    },
    {
      "cell_type": "code",
      "source": [
        "len(a)"
      ],
      "metadata": {
        "id": "AcjAp6Ukxiyk",
        "colab": {
          "base_uri": "https://localhost:8080/"
        },
        "outputId": "3cbac528-a5e8-4174-a5eb-ff54c224476d"
      },
      "execution_count": null,
      "outputs": [
        {
          "output_type": "execute_result",
          "data": {
            "text/plain": [
              "4"
            ]
          },
          "metadata": {},
          "execution_count": 15
        }
      ]
    },
    {
      "cell_type": "markdown",
      "source": [
        "* `max()`: 최대값을 구합니다.\n",
        "\n",
        "```\n",
        "print(max(a))\n",
        "```\n"
      ],
      "metadata": {
        "id": "8kdgoT9lT7Hg"
      }
    },
    {
      "cell_type": "code",
      "source": [
        "print(max(a))"
      ],
      "metadata": {
        "id": "sydpBqVTT7OR",
        "outputId": "9572d325-42eb-4dcc-dc67-7aa6765ad4b1",
        "colab": {
          "base_uri": "https://localhost:8080/"
        }
      },
      "execution_count": null,
      "outputs": [
        {
          "output_type": "stream",
          "name": "stdout",
          "text": [
            "4\n"
          ]
        }
      ]
    },
    {
      "cell_type": "markdown",
      "source": [
        "* `min()`: 최소값을 구합니다.\n",
        "\n",
        "```\n",
        "print(min(a))\n",
        "```\n"
      ],
      "metadata": {
        "id": "VZg-mKCMT_bw"
      }
    },
    {
      "cell_type": "code",
      "source": [],
      "metadata": {
        "id": "OHLkSlKET_kh"
      },
      "execution_count": null,
      "outputs": []
    },
    {
      "cell_type": "markdown",
      "source": [
        "* `sum()`: 모든값을 더합니다.\n",
        "\n",
        "```\n",
        "print(sum(a))\n",
        "```\n"
      ],
      "metadata": {
        "id": "mKNBwXxkUI6x"
      }
    },
    {
      "cell_type": "code",
      "source": [
        "print(a)\n",
        "sum(a)"
      ],
      "metadata": {
        "id": "34jjXr0AULfp",
        "outputId": "24f41e4d-62a1-4e9f-ef39-aa21785e96cf",
        "colab": {
          "base_uri": "https://localhost:8080/"
        }
      },
      "execution_count": null,
      "outputs": [
        {
          "output_type": "stream",
          "name": "stdout",
          "text": [
            "[4, 2, 1, 3]\n"
          ]
        },
        {
          "output_type": "execute_result",
          "data": {
            "text/plain": [
              "10"
            ]
          },
          "metadata": {},
          "execution_count": 19
        }
      ]
    },
    {
      "cell_type": "markdown",
      "source": [
        "* `sorted()`: 값을 정렬합니다.\n",
        "\n",
        "```\n",
        "print(sorted(a))\n",
        "```"
      ],
      "metadata": {
        "id": "Po1JZjMDUUsC"
      }
    },
    {
      "cell_type": "code",
      "source": [
        "print(sorted(a)) #오름차순 정렬\n",
        "print(sorted(a, reverse = True)) #내림차순 정렬"
      ],
      "metadata": {
        "id": "EStm0HiFUayA",
        "outputId": "c36caff7-8f22-4df9-ac08-633869f43e59",
        "colab": {
          "base_uri": "https://localhost:8080/"
        }
      },
      "execution_count": null,
      "outputs": [
        {
          "output_type": "stream",
          "name": "stdout",
          "text": [
            "[1, 2, 3, 4]\n",
            "[4, 3, 2, 1]\n"
          ]
        }
      ]
    },
    {
      "cell_type": "markdown",
      "source": [
        "#### **메소드 : 추가**\n",
        "\n",
        "리스트에 요소를 추가하는 기능을 배워봅니다. 메소드 사용을 위해 아래와 같이 리스트를 정의해 봅시다.\n",
        "\n",
        "```\n",
        "a = [1,2,3]\n",
        "```\n",
        "\n"
      ],
      "metadata": {
        "id": "dwO3tPrNxo7h"
      }
    },
    {
      "cell_type": "code",
      "source": [
        "a = [1,2,3]"
      ],
      "metadata": {
        "id": "OEStgOVNUtea"
      },
      "execution_count": null,
      "outputs": []
    },
    {
      "cell_type": "markdown",
      "source": [
        "\n",
        "* `append(obj)` : obj 추가\n",
        "\n",
        "리스트 `a`에 요소 `4`를 추가해 봅시다. \n",
        "```\n",
        "a.append(4)\n",
        "print(a)\n",
        "```\n",
        "\n"
      ],
      "metadata": {
        "id": "nD6qd8wwUtv5"
      }
    },
    {
      "cell_type": "code",
      "source": [
        "a.append(4)\n",
        "print(a)"
      ],
      "metadata": {
        "id": "orFtG2_qU7yJ",
        "outputId": "52d06aa6-4dfa-4fcd-9f7c-e77e65a870b1",
        "colab": {
          "base_uri": "https://localhost:8080/"
        }
      },
      "execution_count": null,
      "outputs": [
        {
          "output_type": "stream",
          "name": "stdout",
          "text": [
            "[1, 2, 3, 4]\n"
          ]
        }
      ]
    },
    {
      "cell_type": "markdown",
      "source": [
        "이번엔 요소 `[5]`를 추가해 봅시다. `[5]`는 리스트이긴 하지만 리스트 또한 다른 리스트의 요소로 존재할 수 있습니다.\n",
        "\n",
        "```\n",
        "a.append([5])\n",
        "print(a)\n",
        "```\n"
      ],
      "metadata": {
        "id": "ZIt98S_TU8Fx"
      }
    },
    {
      "cell_type": "code",
      "source": [
        "a.append([5])\n",
        "print(a)"
      ],
      "metadata": {
        "id": "XBNxGsFixsDD",
        "outputId": "6553b5c6-7728-4b0c-85b7-893b5c192119",
        "colab": {
          "base_uri": "https://localhost:8080/"
        }
      },
      "execution_count": null,
      "outputs": [
        {
          "output_type": "stream",
          "name": "stdout",
          "text": [
            "[1, 2, 3, 4, [5]]\n"
          ]
        }
      ]
    },
    {
      "cell_type": "markdown",
      "source": [
        "* `extend(list)` : list 이어붙이기\n",
        "\n",
        "`append`와 달리 `extend`는 리스트를 이어붙이는 역할을 합니다. 리스트 `[5]`를 이번엔 `extend`를 이용해 추가해 봅시다. \n",
        "\n",
        "```\n",
        "a.extend([5])\n",
        "print(a)\n",
        "```"
      ],
      "metadata": {
        "id": "XdlCt2p2VYQZ"
      }
    },
    {
      "cell_type": "code",
      "source": [
        "a= [1,2,3]\n",
        "a.extend([5]) #extend의 input에는 리스트가 들어가야 한다.\n",
        "b = [1,2,3]\n",
        "b.append([5])\n",
        "print(a)\n",
        "print(b)"
      ],
      "metadata": {
        "colab": {
          "base_uri": "https://localhost:8080/"
        },
        "id": "YPzAiDLxMlso",
        "outputId": "bcf748a5-c520-4de5-cf75-00232062d3f1"
      },
      "execution_count": null,
      "outputs": [
        {
          "output_type": "stream",
          "name": "stdout",
          "text": [
            "[1, 2, 3, 5]\n",
            "[1, 2, 3, [5]]\n"
          ]
        }
      ]
    },
    {
      "cell_type": "markdown",
      "source": [
        "\n",
        "* `.insert(idx, obj)` : idx 위치에 obj를 넣기\n",
        "\n",
        "리스트 `a`의 0번째 위치에 0을 넣어봅시다. \n",
        "\n",
        "```\n",
        "a.insert(0, 0)\n",
        "print(a)\n",
        "```\n",
        "\n"
      ],
      "metadata": {
        "id": "d0zqLIGxV2Sq"
      }
    },
    {
      "cell_type": "code",
      "source": [
        "a = [1,2,3]\n",
        "a.insert(0, 0) #0번째 위치에 0을 추가\n",
        "a\n",
        "a.insert(3,100)\n",
        "print(a)"
      ],
      "metadata": {
        "colab": {
          "base_uri": "https://localhost:8080/"
        },
        "id": "Yb0OicduM1iO",
        "outputId": "3dfbc4c7-8add-4b22-ab83-3a3d8feb0647"
      },
      "execution_count": null,
      "outputs": [
        {
          "output_type": "stream",
          "name": "stdout",
          "text": [
            "[0, 1, 2, 100, 3]\n"
          ]
        }
      ]
    },
    {
      "cell_type": "markdown",
      "source": [
        "* Q) 2와 3사이에 1.5를 넣어봅시다."
      ],
      "metadata": {
        "id": "yExklfu5WdYp"
      }
    },
    {
      "cell_type": "code",
      "source": [
        "a = [1,2,3]\n",
        "a.insert(2,1.5)\n",
        "a"
      ],
      "metadata": {
        "id": "Ht7uFGuBM_x2",
        "outputId": "4445ca25-15b5-4343-f35b-0fbb059ee72f",
        "colab": {
          "base_uri": "https://localhost:8080/"
        }
      },
      "execution_count": null,
      "outputs": [
        {
          "output_type": "execute_result",
          "data": {
            "text/plain": [
              "[1, 2, 1.5, 3]"
            ]
          },
          "metadata": {},
          "execution_count": 39
        }
      ]
    },
    {
      "cell_type": "markdown",
      "source": [
        "#### **메소드: 제거**\n",
        "\n",
        "리스트에 요소 추가를 했다면 제거하는 메소드도 존재합니다. 메소드 사용을 위해 아래와 같이 리스트를 정의합니다.\n",
        "\n",
        "```\n",
        "a = [1,2,3,2,5]\n",
        "```\n",
        "\n"
      ],
      "metadata": {
        "id": "wbYoRsLHx1JU"
      }
    },
    {
      "cell_type": "code",
      "source": [
        "a = [1,2,3,2,5]"
      ],
      "metadata": {
        "id": "oD5pRLSFXJz5"
      },
      "execution_count": null,
      "outputs": []
    },
    {
      "cell_type": "markdown",
      "source": [
        "* `remove(obj)` : obj 제거 (중복시 앞순서부터 제거)\n",
        "\n",
        "리스트에서 1을 제거해 봅시다.\n",
        "\n",
        "```\n",
        "a.remove(1)\n",
        "print(a)\n",
        "```"
      ],
      "metadata": {
        "id": "i2Tza8WyXKB6"
      }
    },
    {
      "cell_type": "code",
      "source": [
        "#del : 인덱싱을 알아야 한다.\n",
        "a.remove(1) #a에서 요소 1이 제거된다.\n",
        "print(a)"
      ],
      "metadata": {
        "id": "J51ImmkWxxNR",
        "outputId": "224e2bcd-2a23-41a5-b4c0-f039dd98ced2",
        "colab": {
          "base_uri": "https://localhost:8080/"
        }
      },
      "execution_count": null,
      "outputs": [
        {
          "output_type": "stream",
          "name": "stdout",
          "text": [
            "[2, 3, 2, 5]\n"
          ]
        }
      ]
    },
    {
      "cell_type": "markdown",
      "source": [
        "이번엔 2를 제거해 봅시다. 리스트 안에 2는 두개가 존재합니다. 어떤값이 지워질까요?\n",
        "\n",
        "```\n",
        "a.remove(2)\n",
        "print(a)\n",
        "```"
      ],
      "metadata": {
        "id": "cwE5OWK-XUbR"
      }
    },
    {
      "cell_type": "code",
      "source": [
        "a.remove(2) #중복일 시 첫번째 요소부터 제거\n",
        "print(a)"
      ],
      "metadata": {
        "id": "-8H_XibiXcVx",
        "outputId": "dc43bc12-e765-4389-921a-5ad5c3eaab62",
        "colab": {
          "base_uri": "https://localhost:8080/"
        }
      },
      "execution_count": null,
      "outputs": [
        {
          "output_type": "stream",
          "name": "stdout",
          "text": [
            "[3, 2, 5]\n"
          ]
        }
      ]
    },
    {
      "cell_type": "markdown",
      "source": [
        "* `pop()` : 마지막 요소제거\n",
        "\n",
        "\n",
        "```\n",
        "a.pop()\n",
        "print(a)\n",
        "```"
      ],
      "metadata": {
        "id": "meuOE0NXXNEh"
      }
    },
    {
      "cell_type": "code",
      "source": [
        "\n",
        "#비어있을때는 오류\n",
        "a.pop()\n",
        "print(a)"
      ],
      "metadata": {
        "id": "s40EvGRKOncR",
        "outputId": "bebe8b32-02c9-41d6-d09a-1fb155a55a3a",
        "colab": {
          "base_uri": "https://localhost:8080/"
        }
      },
      "execution_count": null,
      "outputs": [
        {
          "output_type": "stream",
          "name": "stdout",
          "text": [
            "[3]\n"
          ]
        }
      ]
    },
    {
      "cell_type": "markdown",
      "source": [
        "#### **메소드: 기타**\n",
        "\n",
        "또 다른 유용한 메소드에 관해 알아봅시다. 아래와 같이 리스트를 정의합니다.\n",
        "\n",
        "```\n",
        "a = [2,2,1,3,3,3]\n",
        "```\n"
      ],
      "metadata": {
        "id": "6pUP1VVvx5Ai"
      }
    },
    {
      "cell_type": "code",
      "source": [
        "a = [2,2,1,3,3,3]"
      ],
      "metadata": {
        "id": "TWumDY44YpBi"
      },
      "execution_count": null,
      "outputs": []
    },
    {
      "cell_type": "markdown",
      "source": [
        "\n",
        "* `count(obj)` : obj 개수 카운트\n",
        "\n",
        "리스트 안에 3이 몇개 있는지 알아봅시다.\n",
        "\n",
        "```\n",
        "a.count(3)\n",
        "```"
      ],
      "metadata": {
        "id": "aIpWJhymYpMy"
      }
    },
    {
      "cell_type": "code",
      "source": [
        "a.count(3)"
      ],
      "metadata": {
        "id": "RYMGWumOYv8a",
        "outputId": "a35e11e9-54b7-41e4-accb-be189578602b",
        "colab": {
          "base_uri": "https://localhost:8080/"
        }
      },
      "execution_count": null,
      "outputs": [
        {
          "output_type": "execute_result",
          "data": {
            "text/plain": [
              "3"
            ]
          },
          "metadata": {},
          "execution_count": 47
        }
      ]
    },
    {
      "cell_type": "markdown",
      "source": [
        "* `index(obj)` : obj 위치 인덱싱 (중복시 앞순서부터)\n",
        "\n",
        "특정 요소가 몇번째에 위치해 있는지를 알려줍시다. 리스트에서 1은 2번째 인덱스를 가지고 있네요. 메소드를 이용해 같은 값이 나오는지 확인해 봅시다. \n",
        "\n",
        "```\n",
        "a.index(1)\n",
        "```"
      ],
      "metadata": {
        "id": "btUaEjvBYwK6"
      }
    },
    {
      "cell_type": "code",
      "source": [
        "a.index(1) #요소1의 인덱스 추출"
      ],
      "metadata": {
        "id": "scDR3WfVZGXK",
        "outputId": "b1705c28-c398-4828-c8b6-168247876dc1",
        "colab": {
          "base_uri": "https://localhost:8080/"
        }
      },
      "execution_count": null,
      "outputs": [
        {
          "output_type": "execute_result",
          "data": {
            "text/plain": [
              "2"
            ]
          },
          "metadata": {},
          "execution_count": 48
        }
      ]
    },
    {
      "cell_type": "markdown",
      "source": [
        "중복시 가장 빠른 요소의 인덱스만을 반환함을 유의하세요.\n",
        "\n",
        "```\n",
        "a.index(3)\n",
        "```"
      ],
      "metadata": {
        "id": "9tURmZfHZHZy"
      }
    },
    {
      "cell_type": "code",
      "source": [
        "a.index(3) #중복일 시 가장 앞의 요소 반환"
      ],
      "metadata": {
        "id": "JTYHhGLiZNkC",
        "outputId": "d67de75b-48e5-4234-de08-f4bd7ab1eada",
        "colab": {
          "base_uri": "https://localhost:8080/"
        }
      },
      "execution_count": null,
      "outputs": [
        {
          "output_type": "execute_result",
          "data": {
            "text/plain": [
              "3"
            ]
          },
          "metadata": {},
          "execution_count": 49
        }
      ]
    },
    {
      "cell_type": "markdown",
      "source": [
        "* `reverse()`: 리스트 거꾸로 반환\n",
        "\n",
        "```\n",
        "a.reverse()\n",
        "print(a)\n",
        "```"
      ],
      "metadata": {
        "id": "YMlsxsgsYeui"
      }
    },
    {
      "cell_type": "code",
      "source": [
        "print(a)\n",
        "a.reverse()\n",
        "print(a)\n",
        "a = a[::-1]\n",
        "print(a)"
      ],
      "metadata": {
        "id": "NTtbXHSwx3YM",
        "outputId": "1836a9d5-49b0-4d7d-a609-b73c5fc090ce",
        "colab": {
          "base_uri": "https://localhost:8080/"
        }
      },
      "execution_count": null,
      "outputs": [
        {
          "output_type": "stream",
          "name": "stdout",
          "text": [
            "[2, 2, 1, 3, 3, 3]\n",
            "[3, 3, 3, 1, 2, 2]\n",
            "[2, 2, 1, 3, 3, 3]\n"
          ]
        }
      ]
    },
    {
      "cell_type": "markdown",
      "source": [
        "* `sort()`: 리스트 정렬\n",
        "\n",
        "```\n",
        "a.sort()\n",
        "print(a)\n",
        "```"
      ],
      "metadata": {
        "id": "r_UTr3plZPms"
      }
    },
    {
      "cell_type": "code",
      "source": [
        "a.sort() #기본적으로 오름차순\n",
        "print(a)\n",
        "a.sort(reverse = True)\n",
        "print(a)"
      ],
      "metadata": {
        "id": "JBevkTM1Px8P",
        "outputId": "4d5ef284-87f2-4e4b-bcb9-6d33e5a9ccc9",
        "colab": {
          "base_uri": "https://localhost:8080/"
        }
      },
      "execution_count": null,
      "outputs": [
        {
          "output_type": "stream",
          "name": "stdout",
          "text": [
            "[1, 2, 2, 3, 3, 3]\n",
            "[3, 3, 3, 2, 2, 1]\n"
          ]
        }
      ]
    },
    {
      "cell_type": "markdown",
      "source": [
        "### (6) 다중리스트\n",
        "\n",
        "리스트 안에 리스트가 존재할 수 있습니다. 복잡한 리스트 이더라도 특정 요소에 접근이 가능해야 합니다. \n",
        "\n",
        "앞서 배운대로 `a[0]`과 `a[1]`에 해당하는 요소는 무엇일까요? 생각해보고 코드를 작성해 확인해 봅시다.\n",
        "\n",
        "```\n",
        "a = [[1,2,3], [4,5,6]]\n",
        "a[0], a[1]\n",
        "```\n"
      ],
      "metadata": {
        "id": "J0IbBer2x9uS"
      }
    },
    {
      "cell_type": "code",
      "source": [
        "a = [[1,2,3], [4,5,6]]\n",
        "print(a[0], type(a))\n",
        "#[1,2,3]\n",
        "print(a[1],type(b))\n",
        "#[4,5,6]"
      ],
      "metadata": {
        "id": "0lajZYAWyAqd",
        "outputId": "9d05f465-ffee-4346-f6ce-e83b68dbda63",
        "colab": {
          "base_uri": "https://localhost:8080/"
        }
      },
      "execution_count": null,
      "outputs": [
        {
          "output_type": "stream",
          "name": "stdout",
          "text": [
            "[1, 2, 3] <class 'list'>\n",
            "[4, 5, 6] <class 'list'>\n"
          ]
        }
      ]
    },
    {
      "cell_type": "markdown",
      "source": [
        "\n",
        "a[0]과 a[1] 자체가 하나의 리스트 입니다. 그렇다면 각 리스트에 다시 인덱싱을 하여 원하는 요소를 얻을 수 있겠네요. 3과 4를 아래와 같이 인덱싱 할 수 있습니다.\n",
        "\n",
        "```\n",
        "a = [[1,2,3], [4,5,6]]\n",
        "a[0][-1], a[1][0]\n",
        "```"
      ],
      "metadata": {
        "id": "pay-DD8Bx__x"
      }
    },
    {
      "cell_type": "code",
      "source": [
        "a = [[1,2,3], [4,5,6]]\n",
        "a[0][-1],\n",
        "#3\n",
        "a[1][0]\n",
        "#4"
      ],
      "metadata": {
        "id": "ZI01D1Yfx7_5",
        "outputId": "6ed0d377-7fec-407e-defc-272a645dc40f",
        "colab": {
          "base_uri": "https://localhost:8080/"
        }
      },
      "execution_count": null,
      "outputs": [
        {
          "output_type": "execute_result",
          "data": {
            "text/plain": [
              "4"
            ]
          },
          "metadata": {},
          "execution_count": 60
        }
      ]
    },
    {
      "cell_type": "markdown",
      "source": [
        "## 문제풀이\n",
        "---\n",
        "\n",
        "**예제 01**\n",
        "\n",
        "과일메뉴가 다음과 같습니다. 리스트로 작성하세요\n",
        "\n",
        "|과일|\n",
        "|--|\n",
        "사과\n",
        "바나나\n",
        "감자\n",
        "메론\n",
        "복숭아\n",
        "딸기\n"
      ],
      "metadata": {
        "id": "10dgCNxtyEOB"
      }
    },
    {
      "cell_type": "markdown",
      "source": [
        "# 새 섹션"
      ],
      "metadata": {
        "id": "tjrZPbBZcJyO"
      }
    },
    {
      "cell_type": "code",
      "source": [
        "list1 = ['사과', '바나나', '감자', '메론', '복숭아', '딸기']\n",
        "print(list1)"
      ],
      "metadata": {
        "id": "WelbZYpXyC1b",
        "outputId": "e9caeb3d-d4b5-44e1-ab6e-54e2df58e3d7",
        "colab": {
          "base_uri": "https://localhost:8080/"
        }
      },
      "execution_count": null,
      "outputs": [
        {
          "output_type": "stream",
          "name": "stdout",
          "text": [
            "['사과', '바나나', '감자', '메론', '복숭아', '딸기']\n"
          ]
        }
      ]
    },
    {
      "cell_type": "markdown",
      "source": [
        "**예제 02**\n",
        "\n",
        "위에서 만든 리스트에 \"포도\"를 추가하세요\n",
        "\n"
      ],
      "metadata": {
        "id": "DNXAH9h-yKOy"
      }
    },
    {
      "cell_type": "code",
      "source": [
        "list1.append('포도')\n",
        "print(list1)"
      ],
      "metadata": {
        "id": "R0TMuejgyKeB",
        "outputId": "b6ad0abc-78da-49f8-e0d7-7f6bc8796fa1",
        "colab": {
          "base_uri": "https://localhost:8080/"
        }
      },
      "execution_count": null,
      "outputs": [
        {
          "output_type": "stream",
          "name": "stdout",
          "text": [
            "['사과', '바나나', '감자', '메론', '복숭아', '딸기', '포도']\n"
          ]
        }
      ]
    },
    {
      "cell_type": "markdown",
      "source": [
        "**예제 03**\n",
        "\n",
        "\"감자\"가 잘못 들어가 있었습니다. \"감자\"를 삭제하세요\n"
      ],
      "metadata": {
        "id": "9LxnIJV_yNPZ"
      }
    },
    {
      "cell_type": "code",
      "source": [
        "list1.remove('감자')\n",
        "print(list1)"
      ],
      "metadata": {
        "id": "tcyCWxxHyNcR",
        "outputId": "d8487fe7-107c-4173-8309-82bf1a91152b",
        "colab": {
          "base_uri": "https://localhost:8080/"
        }
      },
      "execution_count": null,
      "outputs": [
        {
          "output_type": "stream",
          "name": "stdout",
          "text": [
            "['사과', '바나나', '메론', '복숭아', '딸기', '포도']\n"
          ]
        }
      ]
    },
    {
      "cell_type": "markdown",
      "source": [
        "**예제 04**\n",
        "\n",
        "\"복숭아\"와 \"딸기\" 사이에 \"레몬\"을 추가하세요"
      ],
      "metadata": {
        "id": "NtqOdnqNyOVU"
      }
    },
    {
      "cell_type": "code",
      "source": [
        "list1.insert(4,'레몬')\n",
        "list1"
      ],
      "metadata": {
        "id": "jUjMe-rCyOj5",
        "outputId": "274dbbcd-1444-4bac-c465-4321707d3c26",
        "colab": {
          "base_uri": "https://localhost:8080/"
        }
      },
      "execution_count": null,
      "outputs": [
        {
          "output_type": "execute_result",
          "data": {
            "text/plain": [
              "['사과', '바나나', '메론', '복숭아', '레몬', '딸기', '포도']"
            ]
          },
          "metadata": {},
          "execution_count": 71
        }
      ]
    },
    {
      "cell_type": "markdown",
      "source": [
        "**예제 05**\n",
        "\n",
        "최종적으로 만든 리스트 순서는 아래와 같습니다. \n",
        "\n",
        "* 리스트 순서: 사과, 바나나, 메론, 복숭아, 레몬, 딸기, 포도\n",
        "\n",
        "사용자가 리스트 안의 과일을 입력하면 입력한 과일이 몇번째에 있는지 알려주는 코드를 작성하세요\n",
        "\n",
        "```\n",
        ">> 0\n",
        "0 번째 과일은 사과 입니다.\n",
        ">>3\n",
        "3 번째 과일은 복숭아 입니다.\n",
        "```"
      ],
      "metadata": {
        "id": "T1ALK6vnyP0V"
      }
    },
    {
      "cell_type": "code",
      "source": [
        "list1 = ['사과', '바나나', '메론', '복숭아', '레몬', '딸기', '포도']\n",
        "s = input(\"과일명을 입력하세요 :\")\n",
        "num = list1.index(s)\n",
        "print(\"입력하신 과일은\", num+1, \"번째 과일입니다.\")"
      ],
      "metadata": {
        "id": "_AYhewpsyQFt",
        "outputId": "8b75e243-c27d-4e33-81c2-d041e394aa6b",
        "colab": {
          "base_uri": "https://localhost:8080/"
        }
      },
      "execution_count": null,
      "outputs": [
        {
          "output_type": "stream",
          "name": "stdout",
          "text": [
            "과일명을 입력하세요 :메론\n",
            "입력하신 과일은 3 번째 과일입니다.\n"
          ]
        }
      ]
    },
    {
      "cell_type": "markdown",
      "source": [
        "**예제 06**\n",
        "\n",
        "리스트가 아래와 같이 정의되어 있습니다. `num_list`를 정의하세요\n",
        "\n",
        "```\n",
        "num_list = [1,2,3,4,5,6,7,8,9,10]\n",
        "```\n"
      ],
      "metadata": {
        "id": "YUaU-1pfyRUC"
      }
    },
    {
      "cell_type": "code",
      "source": [
        "num_list = [1,2,3,4,5,6,7,8,9,10]"
      ],
      "metadata": {
        "id": "Xqcfar_hySO1"
      },
      "execution_count": null,
      "outputs": []
    },
    {
      "cell_type": "markdown",
      "source": [
        "**예제 07**\n",
        "\n",
        "`num_list` 의 짝수 값만 슬라이싱 해서 `num_list1` 로 바인딩 하고 출력하세요."
      ],
      "metadata": {
        "id": "bH5e_QRmySVB"
      }
    },
    {
      "cell_type": "code",
      "source": [
        "num_list = [1,2,3,4,5,6,7,8,9,10]\n",
        "num_list1 = num_list[1::2]\n",
        "print(num_list1)"
      ],
      "metadata": {
        "id": "TEPXLwiryS7Z",
        "outputId": "79d10601-7881-4235-e1ce-25a15fef57c4",
        "colab": {
          "base_uri": "https://localhost:8080/"
        }
      },
      "execution_count": null,
      "outputs": [
        {
          "output_type": "stream",
          "name": "stdout",
          "text": [
            "[2, 4, 6, 8, 10]\n"
          ]
        }
      ]
    },
    {
      "cell_type": "markdown",
      "source": [
        "**예제 08**\n",
        "\n",
        "`num_list` 의 홀수 값만 슬라이싱 해서 `num_list2` 로 바인딩 하고 출력하세요."
      ],
      "metadata": {
        "id": "Jqvl4MAcyTCC"
      }
    },
    {
      "cell_type": "code",
      "source": [
        "num_list = [1,2,3,4,5,6,7,8,9,10]\n",
        "num_list2 = num_list[0::2]\n",
        "print(num_list2)"
      ],
      "metadata": {
        "id": "KdHo2kBfyUD1",
        "outputId": "eb57a516-90b6-4b81-f91d-f7205c62c62e",
        "colab": {
          "base_uri": "https://localhost:8080/"
        }
      },
      "execution_count": null,
      "outputs": [
        {
          "output_type": "stream",
          "name": "stdout",
          "text": [
            "[1, 3, 5, 7, 9]\n"
          ]
        }
      ]
    },
    {
      "cell_type": "markdown",
      "source": [
        "**예제 09**\n",
        "\n",
        "`num_list` 의 3의 배수만 슬라이싱 해서 `num_list3` 으로 바인딩 하고 출력하세요.\n"
      ],
      "metadata": {
        "id": "XJxjxXw4yUIn"
      }
    },
    {
      "cell_type": "code",
      "source": [
        "num_list = [1,2,3,4,5,6,7,8,9,10]\n",
        "num_list3 = num_list[2::3]\n",
        "print(num_list3)"
      ],
      "metadata": {
        "id": "5D97VwoMyVUZ",
        "outputId": "d0cbb848-b306-4386-ec2c-052d743d15ef",
        "colab": {
          "base_uri": "https://localhost:8080/"
        }
      },
      "execution_count": null,
      "outputs": [
        {
          "output_type": "stream",
          "name": "stdout",
          "text": [
            "[3, 6, 9]\n"
          ]
        }
      ]
    },
    {
      "cell_type": "markdown",
      "source": [
        "**예제 10**\n",
        "\n",
        "`num_list1` 과 `num_list2` 를 합쳐 `num_list4`으로 바인딩하세요"
      ],
      "metadata": {
        "id": "B-QcwLaRyVbR"
      }
    },
    {
      "cell_type": "code",
      "source": [
        "num_list4 = num_list1 + num_list2\n",
        "num_list4"
      ],
      "metadata": {
        "id": "uL_e6MSIyWf9",
        "outputId": "e1314a8e-1383-436a-ff8f-ad9291d54a03",
        "colab": {
          "base_uri": "https://localhost:8080/"
        }
      },
      "execution_count": null,
      "outputs": [
        {
          "output_type": "execute_result",
          "data": {
            "text/plain": [
              "[2, 4, 6, 8, 10, 1, 3, 5, 7, 9]"
            ]
          },
          "metadata": {},
          "execution_count": 85
        }
      ]
    },
    {
      "cell_type": "markdown",
      "source": [
        "**예제 11**\n",
        "\n",
        "`num_list4` 을 오름차순으로 정렬하세요"
      ],
      "metadata": {
        "id": "av3wiMDXyWmp"
      }
    },
    {
      "cell_type": "code",
      "source": [
        "num_list4.sort()\n",
        "print(num_list4)"
      ],
      "metadata": {
        "id": "tZsgqq-ZyXu5",
        "outputId": "8c68607b-cd63-4e58-ef90-02dd8ec707b7",
        "colab": {
          "base_uri": "https://localhost:8080/"
        }
      },
      "execution_count": null,
      "outputs": [
        {
          "output_type": "stream",
          "name": "stdout",
          "text": [
            "[1, 2, 3, 4, 5, 6, 7, 8, 9, 10]\n"
          ]
        }
      ]
    },
    {
      "cell_type": "markdown",
      "source": [
        "**예제 12**\n",
        "\n",
        "리스트가 아래와 같이 정의되어 있습니다. 문자열로 바꿔 출력하는 코드를 두 줄만 써서 작성하세요\n",
        "\n",
        "```\n",
        ">> my_list = [\"a\", \"b\", \"c\", \"d\"]\n",
        ">> # 코드작성 (join 사용)\n",
        ">> # 코드작성 (print 사용)\n",
        "a and b and c and d\n",
        "```"
      ],
      "metadata": {
        "id": "cuUqINKNyX0l"
      }
    },
    {
      "cell_type": "code",
      "source": [],
      "metadata": {
        "id": "ivZOpyCfo0zp"
      },
      "execution_count": null,
      "outputs": []
    },
    {
      "cell_type": "code",
      "source": [
        "my_list = [\"a\", \"b\", \"c\", \"d\"]\n",
        "str1 = ' and '.join(my_list)\n",
        "print(str1)"
      ],
      "metadata": {
        "id": "pBc-WbyqyY8L",
        "outputId": "3c574909-6f77-4e09-9aa6-b94bf84e7868",
        "colab": {
          "base_uri": "https://localhost:8080/"
        }
      },
      "execution_count": null,
      "outputs": [
        {
          "output_type": "stream",
          "name": "stdout",
          "text": [
            "a and b and c and d\n"
          ]
        }
      ]
    },
    {
      "cell_type": "markdown",
      "source": [
        "\n",
        "**예제 13**\n",
        "\n",
        "사용자가 문자열을 입력하면 리스트로 변환하는 코드를 작성하세요\n",
        "\n",
        "|예시| 결과|\n",
        "--|--\n",
        "`a,b`| `['a','b']`\n",
        "`a,c,d,f,q`| `['a','c','d','f','q']`\n",
        "`d,c,a,b`| `['d','c','a','b']`"
      ],
      "metadata": {
        "id": "GSJutIluyZDE"
      }
    },
    {
      "cell_type": "code",
      "source": [
        "s = input()\n",
        "t = s.split(sep=',')\n",
        "print(t)"
      ],
      "metadata": {
        "id": "JUBVY2PFyad2",
        "outputId": "2ba4933a-7c71-4a1c-9efd-ca43c6eb795c",
        "colab": {
          "base_uri": "https://localhost:8080/"
        }
      },
      "execution_count": null,
      "outputs": [
        {
          "output_type": "stream",
          "name": "stdout",
          "text": [
            "a,b,c,d\n",
            "['a', 'b', 'c', 'd']\n"
          ]
        }
      ]
    },
    {
      "cell_type": "markdown",
      "source": [
        "**예제 14**\n",
        "\n",
        "사용자가 문자열을 입력하면 오름차순으로 정렬한 리스트를 출력하는 코드를 작성하세요\n",
        "\n",
        "|예시| 결과|\n",
        "--|--\n",
        "`a,b`| `['a','b']`\n",
        "`a,c,d,f,e`| `['a','c','d','e','f']`\n",
        "`d,c,a,b`| `['a', 'b', 'c', 'd']`"
      ],
      "metadata": {
        "id": "va1QjSuKyajf"
      }
    },
    {
      "cell_type": "code",
      "source": [
        "s = input()\n",
        "t = s.split(sep=',')\n",
        "t.sort()\n",
        "print(t)\n",
        "\n"
      ],
      "metadata": {
        "id": "2GqE1YNfyb6Y",
        "outputId": "970768af-8ac2-4728-bca0-845383037e6d",
        "colab": {
          "base_uri": "https://localhost:8080/"
        }
      },
      "execution_count": null,
      "outputs": [
        {
          "output_type": "stream",
          "name": "stdout",
          "text": [
            "a,c,d,f,e\n",
            "['a', 'c', 'd', 'e', 'f']\n"
          ]
        }
      ]
    },
    {
      "cell_type": "markdown",
      "source": [
        "\n",
        "**예제 15**\n",
        "\n",
        "사용자가 문자열을 입력하면 문자열을 뒤집은 리스트를 출력하는 코드를 작성하세요\n",
        "\n",
        "|예시| 결과|\n",
        "--|--\n",
        "`a,b`| `['b','a']`\n",
        "`a,c,d,f,e`| `['e','f','d','c','a']`\n",
        "`d,c,a,b`| `['b', 'a', 'c', 'd']`"
      ],
      "metadata": {
        "id": "yQydjxf2ycAb"
      }
    },
    {
      "cell_type": "code",
      "source": [
        "s = input()\n",
        "t = s.split(sep=',')\n",
        "t.reverse()\n",
        "print(t)"
      ],
      "metadata": {
        "id": "0XFr13DEyc9M",
        "outputId": "79468d7a-34d2-4193-d798-2e925b3848d6",
        "colab": {
          "base_uri": "https://localhost:8080/"
        }
      },
      "execution_count": null,
      "outputs": [
        {
          "output_type": "stream",
          "name": "stdout",
          "text": [
            "d,c,a,b\n",
            "['b', 'a', 'c', 'd']\n"
          ]
        }
      ]
    },
    {
      "cell_type": "markdown",
      "source": [
        "**예제 16**\n",
        "\n",
        "\n",
        "사용자가 문자열을 입력하면 내림차순으로 정렬한 리스트를 출력하는 코드를 작성하세요\n",
        "\n",
        "|예시| 결과|\n",
        "--|--\n",
        "`a,b`| `['b','a']`\n",
        "`a,c,d,f,e`| `['f','e','d','c','a']`\n",
        "`d,c,a.b`| `['d', 'c', 'b', 'a']`"
      ],
      "metadata": {
        "id": "7RtmhPClydCL"
      }
    },
    {
      "cell_type": "code",
      "source": [
        "s = input()\n",
        "t = s.split(sep=',')\n",
        "t.sort(reverse=True)\n",
        "print(t)"
      ],
      "metadata": {
        "id": "ZPz3gvrNyeDX",
        "outputId": "71ee82bb-2755-4f27-e038-90a039115b80",
        "colab": {
          "base_uri": "https://localhost:8080/"
        }
      },
      "execution_count": null,
      "outputs": [
        {
          "output_type": "stream",
          "name": "stdout",
          "text": [
            "d,c,a,b\n",
            "['d', 'c', 'b', 'a']\n"
          ]
        }
      ]
    },
    {
      "cell_type": "markdown",
      "source": [
        "**예제 17**\n",
        "\n",
        "기말고사 점수가 아래와 같습니다. score를 정의하세요\n",
        "\n",
        "```\n",
        "score = [80,20,30,50,20,20,100,90]\n",
        "```\n"
      ],
      "metadata": {
        "id": "CDXGDE6pyeH0"
      }
    },
    {
      "cell_type": "code",
      "source": [
        "score = [80,20,30,50,20,20,100,90]"
      ],
      "metadata": {
        "id": "pnZC_F8KyfJv"
      },
      "execution_count": 47,
      "outputs": []
    },
    {
      "cell_type": "markdown",
      "source": [
        "**예제 18**\n",
        "\n",
        "기말고사 점수의 최저점수와 최고점수를 구하는 코드를 작성하세요"
      ],
      "metadata": {
        "id": "eIHyjLuEyfUE"
      }
    },
    {
      "cell_type": "code",
      "source": [
        "print(max(score))\n",
        "print(min(score))"
      ],
      "metadata": {
        "id": "z5Tahx1RygUO",
        "outputId": "7392caf5-76b7-4eaa-b3ca-a94e631b326a",
        "colab": {
          "base_uri": "https://localhost:8080/"
        }
      },
      "execution_count": 48,
      "outputs": [
        {
          "output_type": "stream",
          "name": "stdout",
          "text": [
            "100\n",
            "20\n"
          ]
        }
      ]
    },
    {
      "cell_type": "markdown",
      "source": [
        "**예제 19**\n",
        "\n",
        "기말고사 점수의 평균을 구하는 코드를 작성하세요"
      ],
      "metadata": {
        "id": "Dzo9toUeygYN"
      }
    },
    {
      "cell_type": "code",
      "source": [
        "print(sum(score) / len(score))"
      ],
      "metadata": {
        "id": "-D_dExStyhf3",
        "outputId": "597d40ad-0f41-41c8-91f6-6b9da5a1ba84",
        "colab": {
          "base_uri": "https://localhost:8080/"
        }
      },
      "execution_count": 50,
      "outputs": [
        {
          "output_type": "stream",
          "name": "stdout",
          "text": [
            "51.25\n"
          ]
        }
      ]
    },
    {
      "cell_type": "markdown",
      "source": [
        "**예제 20**\n",
        "\n",
        "아파트 층이 다음과 같습니다. 리스트로 저장하세요 (이 리스트의 길이는 4입니다(층별) 각 층별 안에 3개의 호수가 들어갑니다.)\n",
        "\n",
        "\n",
        "```\n",
        "|401|402|403|\n",
        "|301|302|303|\n",
        "|201|202|203|\n",
        "|101|102|103|\n",
        "```\n"
      ],
      "metadata": {
        "id": "ZyLrkr52yhli"
      }
    },
    {
      "cell_type": "code",
      "source": [
        "list1 = [[101,102,103], [201,202,203], [301,302,303], [401,402,403]]\n",
        "list1"
      ],
      "metadata": {
        "id": "ISoOLbXeyik2",
        "outputId": "c5b0ccb6-1b3a-40de-ac27-453de45302ec",
        "colab": {
          "base_uri": "https://localhost:8080/"
        }
      },
      "execution_count": null,
      "outputs": [
        {
          "output_type": "execute_result",
          "data": {
            "text/plain": [
              "[[101, 102, 103], [201, 202, 203], [301, 302, 303], [401, 402, 403]]"
            ]
          },
          "metadata": {},
          "execution_count": 36
        }
      ]
    },
    {
      "cell_type": "markdown",
      "source": [
        "**예제 21**\n",
        "\n",
        "이 리스트의 길이를 출력하고 길이가 4인지 확인하세요"
      ],
      "metadata": {
        "id": "dXnc8Z0dyiqf"
      }
    },
    {
      "cell_type": "code",
      "source": [
        "len(list1)"
      ],
      "metadata": {
        "id": "KaUWU20Nyjww",
        "outputId": "71c93a1b-3140-4e86-a7e9-f3866bdd423d",
        "colab": {
          "base_uri": "https://localhost:8080/"
        }
      },
      "execution_count": null,
      "outputs": [
        {
          "output_type": "execute_result",
          "data": {
            "text/plain": [
              "4"
            ]
          },
          "metadata": {},
          "execution_count": 38
        }
      ]
    },
    {
      "cell_type": "markdown",
      "source": [
        "**예제 22**\n",
        "\n",
        "`[401,402,403]` 을 출력하세요"
      ],
      "metadata": {
        "id": "EFGvpPuny_DM"
      }
    },
    {
      "cell_type": "code",
      "source": [
        "print(list1[3])"
      ],
      "metadata": {
        "id": "8bn_8vsZy-tj",
        "outputId": "e80c3bdb-f331-44ab-c161-614b5b49d792",
        "colab": {
          "base_uri": "https://localhost:8080/"
        }
      },
      "execution_count": null,
      "outputs": [
        {
          "output_type": "execute_result",
          "data": {
            "text/plain": [
              "[401, 402, 403]"
            ]
          },
          "metadata": {},
          "execution_count": 39
        }
      ]
    },
    {
      "cell_type": "markdown",
      "source": [
        "\n",
        "\n",
        "**예제 23**\n",
        "\n",
        "`202`를 출력하세요"
      ],
      "metadata": {
        "id": "zs6lSM8zyj3O"
      }
    },
    {
      "cell_type": "code",
      "source": [
        "print(list1[1][1])"
      ],
      "metadata": {
        "id": "ZGY-lH56ymeE",
        "outputId": "d23718e9-a0ea-46ab-d9a8-5ac48ad18e96",
        "colab": {
          "base_uri": "https://localhost:8080/"
        }
      },
      "execution_count": null,
      "outputs": [
        {
          "output_type": "stream",
          "name": "stdout",
          "text": [
            "202\n"
          ]
        }
      ]
    },
    {
      "cell_type": "markdown",
      "source": [
        "**예제 24**\n",
        "\n",
        "`303`호를 출력하세요"
      ],
      "metadata": {
        "id": "RlXMDPe9ymlq"
      }
    },
    {
      "cell_type": "code",
      "source": [
        "print(list1[2][2])"
      ],
      "metadata": {
        "id": "k9RZeqdWynss",
        "outputId": "93b02818-efe5-4d4b-962d-81e599f96ed9",
        "colab": {
          "base_uri": "https://localhost:8080/"
        }
      },
      "execution_count": null,
      "outputs": [
        {
          "output_type": "stream",
          "name": "stdout",
          "text": [
            "303\n"
          ]
        }
      ]
    },
    {
      "cell_type": "code",
      "source": [],
      "metadata": {
        "id": "c0Aecy-Qtyyj"
      },
      "execution_count": null,
      "outputs": []
    }
  ]
}