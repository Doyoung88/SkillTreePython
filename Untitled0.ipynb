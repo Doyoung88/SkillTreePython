{
  "nbformat": 4,
  "nbformat_minor": 0,
  "metadata": {
    "colab": {
      "provenance": [],
      "authorship_tag": "ABX9TyPj/gBey171dN1pTiBF8Dcn",
      "include_colab_link": true
    },
    "kernelspec": {
      "name": "python3",
      "display_name": "Python 3"
    },
    "language_info": {
      "name": "python"
    }
  },
  "cells": [
    {
      "cell_type": "markdown",
      "metadata": {
        "id": "view-in-github",
        "colab_type": "text"
      },
      "source": [
        "<a href=\"https://colab.research.google.com/github/Doyoung88/SkillTreePython/blob/main/Untitled0.ipynb\" target=\"_parent\"><img src=\"https://colab.research.google.com/assets/colab-badge.svg\" alt=\"Open In Colab\"/></a>"
      ]
    },
    {
      "cell_type": "code",
      "source": [
        "import random"
      ],
      "metadata": {
        "id": "XlDxRKImKypW"
      },
      "execution_count": 66,
      "outputs": []
    },
    {
      "cell_type": "code",
      "source": [
        "a = int(input())\n",
        "list1=[]\n",
        "\n",
        "for i in range(a):\n",
        "  list1.append(random.randint(1,6))\n",
        "\n",
        "print(list1)\n",
        "print(f'1은 {list1.count(1)}번 나왔습니다.')\n",
        "print(f'2은 {list1.count(2)}번 나왔습니다.')\n",
        "print(f'3은 {list1.count(3)}번 나왔습니다.')\n",
        "print(f'4은 {list1.count(4)}번 나왔습니다.')\n",
        "print(f'5은 {list1.count(5)}번 나왔습니다.')\n",
        "print(f'6은 {list1.count(6)}번 나왔습니다.')\n"
      ],
      "metadata": {
        "colab": {
          "base_uri": "https://localhost:8080/"
        },
        "id": "UuNAYlNe_nCV",
        "outputId": "d02e0d14-be24-441e-e5d7-7ceb9e5dc9ba"
      },
      "execution_count": 44,
      "outputs": [
        {
          "output_type": "stream",
          "name": "stdout",
          "text": [
            "12\n",
            "[5, 3, 3, 4, 1, 5, 3, 3, 1, 1, 6, 6]\n",
            "1은 3번 나왔습니다.\n",
            "2은 0번 나왔습니다.\n",
            "3은 4번 나왔습니다.\n",
            "4은 1번 나왔습니다.\n",
            "5은 2번 나왔습니다.\n",
            "6은 2번 나왔습니다.\n"
          ]
        }
      ]
    },
    {
      "cell_type": "code",
      "source": [
        "num = random.randint(1,100)\n",
        "\n",
        "while True:\n",
        "  a = int(input())\n",
        "  if a < num:\n",
        "    print(\"UP\")\n",
        "  elif a > num:\n",
        "    print(\"DOWN\")\n",
        "  elif a == num:\n",
        "    print(\"CORRECT\")\n",
        "    break"
      ],
      "metadata": {
        "colab": {
          "base_uri": "https://localhost:8080/"
        },
        "id": "6kuAGY6MAd5c",
        "outputId": "5d0ed8db-1fcb-4af2-d89f-04f0a347ab07"
      },
      "execution_count": 45,
      "outputs": [
        {
          "output_type": "stream",
          "name": "stdout",
          "text": [
            "40\n",
            "UP\n",
            "60\n",
            "DOWN\n",
            "50\n",
            "DOWN\n",
            "45\n",
            "DOWN\n",
            "43\n",
            "DOWN\n",
            "42\n",
            "DOWN\n",
            "41\n",
            "CORRECT\n"
          ]
        }
      ]
    },
    {
      "cell_type": "code",
      "source": [
        "#랜덤 3자리수 만들기\n",
        "num=[]\n",
        "a = [0,1,2,3,4,5,6,7,8,9] \n",
        " \n",
        "while True:\n",
        "  one = random.choice(a)\n",
        "  if one != 0:\n",
        "    num.append(one)\n",
        "    break\n",
        "  else:\n",
        "    continue\n",
        "\n",
        "a.remove(one)\n",
        "two = random.choice(a)\n",
        "num.append(two)\n",
        "a.remove(two)\n",
        "three = random.choice(a)\n",
        "num.append(three)\n",
        "\n",
        "#랜덤 3자리수 string으로 변환\n",
        "snum = ''.join(map(str, num)) \n",
        "print(snum)\n",
        "\n",
        "#사용자 입력\n",
        "ans = input('세자리수 예상 정답을 입력하세요 : ')\n",
        "\n",
        "#볼, 홈런 계산\n",
        "ball, home = 0,0\n",
        "for i in range(3):\n",
        "  if ans[i] in snum:\n",
        "    ball = ball + 1\n",
        "  if ans[i] == snum[i]:\n",
        "    home = home +1\n",
        "\n",
        "print(f'{ball}볼 {home}홈런')\n"
      ],
      "metadata": {
        "colab": {
          "base_uri": "https://localhost:8080/"
        },
        "id": "gUZdHdveBJr7",
        "outputId": "79ee6bd1-d78f-4919-8a22-44858e36dad4"
      },
      "execution_count": 61,
      "outputs": [
        {
          "output_type": "stream",
          "name": "stdout",
          "text": [
            "715\n",
            "세자리수 예상 정답을 입력하세요 : 571\n",
            "3볼 0홈런\n"
          ]
        }
      ]
    },
    {
      "cell_type": "code",
      "source": [],
      "metadata": {
        "id": "6OT5Wk3ZJ3Ng"
      },
      "execution_count": null,
      "outputs": []
    }
  ]
}