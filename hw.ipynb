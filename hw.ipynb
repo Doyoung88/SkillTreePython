{
  "nbformat": 4,
  "nbformat_minor": 0,
  "metadata": {
    "colab": {
      "provenance": [],
      "include_colab_link": true
    },
    "kernelspec": {
      "name": "python3",
      "display_name": "Python 3"
    },
    "language_info": {
      "name": "python"
    }
  },
  "cells": [
    {
      "cell_type": "markdown",
      "metadata": {
        "id": "view-in-github",
        "colab_type": "text"
      },
      "source": [
        "<a href=\"https://colab.research.google.com/github/Doyoung88/SkillTreePython/blob/main/hw.ipynb\" target=\"_parent\"><img src=\"https://colab.research.google.com/assets/colab-badge.svg\" alt=\"Open In Colab\"/></a>"
      ]
    },
    {
      "cell_type": "code",
      "source": [
        "import requests\n",
        "import json"
      ],
      "metadata": {
        "id": "bt12urUat6Gf"
      },
      "execution_count": 8,
      "outputs": []
    },
    {
      "cell_type": "code",
      "source": [
        "!pip install --upgrade gdown\n",
        "#http://bit.ly/3ielUSe"
      ],
      "metadata": {
        "colab": {
          "base_uri": "https://localhost:8080/"
        },
        "id": "eqdTJkWhPuD-",
        "outputId": "bc4c5773-a757-4ead-e8bf-39a90643254a"
      },
      "execution_count": 3,
      "outputs": [
        {
          "output_type": "stream",
          "name": "stdout",
          "text": [
            "Looking in indexes: https://pypi.org/simple, https://us-python.pkg.dev/colab-wheels/public/simple/\n",
            "Requirement already satisfied: gdown in /usr/local/lib/python3.8/dist-packages (4.4.0)\n",
            "Collecting gdown\n",
            "  Downloading gdown-4.6.0-py3-none-any.whl (14 kB)\n",
            "Requirement already satisfied: six in /usr/local/lib/python3.8/dist-packages (from gdown) (1.15.0)\n",
            "Requirement already satisfied: filelock in /usr/local/lib/python3.8/dist-packages (from gdown) (3.8.2)\n",
            "Requirement already satisfied: tqdm in /usr/local/lib/python3.8/dist-packages (from gdown) (4.64.1)\n",
            "Requirement already satisfied: beautifulsoup4 in /usr/local/lib/python3.8/dist-packages (from gdown) (4.6.3)\n",
            "Requirement already satisfied: requests[socks] in /usr/local/lib/python3.8/dist-packages (from gdown) (2.25.1)\n",
            "Requirement already satisfied: chardet<5,>=3.0.2 in /usr/local/lib/python3.8/dist-packages (from requests[socks]->gdown) (4.0.0)\n",
            "Requirement already satisfied: certifi>=2017.4.17 in /usr/local/lib/python3.8/dist-packages (from requests[socks]->gdown) (2022.12.7)\n",
            "Requirement already satisfied: idna<3,>=2.5 in /usr/local/lib/python3.8/dist-packages (from requests[socks]->gdown) (2.10)\n",
            "Requirement already satisfied: urllib3<1.27,>=1.21.1 in /usr/local/lib/python3.8/dist-packages (from requests[socks]->gdown) (1.24.3)\n",
            "Requirement already satisfied: PySocks!=1.5.7,>=1.5.6 in /usr/local/lib/python3.8/dist-packages (from requests[socks]->gdown) (1.7.1)\n",
            "Installing collected packages: gdown\n",
            "  Attempting uninstall: gdown\n",
            "    Found existing installation: gdown 4.4.0\n",
            "    Uninstalling gdown-4.4.0:\n",
            "      Successfully uninstalled gdown-4.4.0\n",
            "Successfully installed gdown-4.6.0\n"
          ]
        }
      ]
    },
    {
      "cell_type": "code",
      "source": [
        "# https://drive.google.com/file/d/1R7i1XqmiJ_NirSEwQg1lLz6utzrTufVW/view?usp=share_link\n",
        "!gdown 1R7i1XqmiJ_NirSEwQg1lLz6utzrTufVW"
      ],
      "metadata": {
        "colab": {
          "base_uri": "https://localhost:8080/"
        },
        "id": "DgBq19XHPJ3v",
        "outputId": "7dc6a056-68c9-4cde-fa5d-ddaaa7f174ce"
      },
      "execution_count": 4,
      "outputs": [
        {
          "output_type": "stream",
          "name": "stdout",
          "text": [
            "Downloading...\n",
            "From: https://drive.google.com/uc?id=1R7i1XqmiJ_NirSEwQg1lLz6utzrTufVW\n",
            "To: /content/chkmethod.py\n",
            "\r  0% 0.00/1.65k [00:00<?, ?B/s]\r100% 1.65k/1.65k [00:00<00:00, 2.30MB/s]\n"
          ]
        }
      ]
    },
    {
      "cell_type": "code",
      "source": [
        "from chkmethod import check_str, check_strlist, check_range, check_num, summary"
      ],
      "metadata": {
        "id": "OQILOsSzPgTO"
      },
      "execution_count": 9,
      "outputs": []
    },
    {
      "cell_type": "code",
      "source": [
        "import numpy as np\n",
        "import sympy as S\n",
        "\n",
        "ans = {}"
      ],
      "metadata": {
        "id": "6LaDr9vnoSBY"
      },
      "execution_count": 10,
      "outputs": []
    },
    {
      "cell_type": "markdown",
      "source": [
        "## 다음 어레이 `A`에 대해서 물음에 답하시오."
      ],
      "metadata": {
        "id": "UctoU4NIoIlx"
      }
    },
    {
      "cell_type": "code",
      "source": [
        "np.random.seed(42)\n",
        "\n",
        "A = np.random.rand(10*3).reshape(10,3)\n",
        "A"
      ],
      "metadata": {
        "colab": {
          "base_uri": "https://localhost:8080/"
        },
        "id": "KYDA11EvoYQC",
        "outputId": "f821444f-e687-4c9b-bf78-877d94b16f60"
      },
      "execution_count": 11,
      "outputs": [
        {
          "output_type": "execute_result",
          "data": {
            "text/plain": [
              "array([[0.37454012, 0.95071431, 0.73199394],\n",
              "       [0.59865848, 0.15601864, 0.15599452],\n",
              "       [0.05808361, 0.86617615, 0.60111501],\n",
              "       [0.70807258, 0.02058449, 0.96990985],\n",
              "       [0.83244264, 0.21233911, 0.18182497],\n",
              "       [0.18340451, 0.30424224, 0.52475643],\n",
              "       [0.43194502, 0.29122914, 0.61185289],\n",
              "       [0.13949386, 0.29214465, 0.36636184],\n",
              "       [0.45606998, 0.78517596, 0.19967378],\n",
              "       [0.51423444, 0.59241457, 0.04645041]])"
            ]
          },
          "metadata": {},
          "execution_count": 11
        }
      ]
    },
    {
      "cell_type": "markdown",
      "source": [
        "### 1. 주어진 어레이 `A`의 3열 값을 0.5보다 같거나 크면 1, 0.5보다 작으면 0으로 바꾸고 1로 바뀐 것은 모두 몇개인지 계산하시오."
      ],
      "metadata": {
        "id": "wj5c0hxjrQyL"
      }
    },
    {
      "cell_type": "code",
      "source": [
        "count=0\n",
        "\n",
        "for i in range(10):\n",
        "  if A[i][2] >= 0.5:\n",
        "    A[i][2] = 1\n",
        "    count+=1\n",
        "\n",
        "  elif A[i][2] < 0.5:\n",
        "    A[i][2] = 0\n",
        "\n",
        "print(count)\n"
      ],
      "metadata": {
        "id": "L2D62PrBo1vj",
        "colab": {
          "base_uri": "https://localhost:8080/"
        },
        "outputId": "f44bd180-4c5b-4f5e-c76b-e6be7a3dfb14"
      },
      "execution_count": 12,
      "outputs": [
        {
          "output_type": "stream",
          "name": "stdout",
          "text": [
            "5\n"
          ]
        }
      ]
    },
    {
      "cell_type": "code",
      "source": [
        "######################################################################\n",
        "# ans['p1']에 정답을 int()로 감싸서 int형으로 변환하여 대입하시오.\n",
        "######################################################################\n",
        "\n",
        "ans['p1'] = int(count)"
      ],
      "metadata": {
        "id": "PiNBvMlnsQON"
      },
      "execution_count": null,
      "outputs": []
    },
    {
      "cell_type": "markdown",
      "source": [
        "### 2. 1번과 동일한 절차로 아래 만들어진 `(10000,3)`인 어레이의 3열에서 0.5보다 같거나 큰 숫자는 모두 몇개인지 계산하시오."
      ],
      "metadata": {
        "id": "G-vVsubprnhY"
      }
    },
    {
      "cell_type": "code",
      "source": [
        "np.random.seed(42)\n",
        "B = np.random.rand(10000*3).reshape(10000,3)\n",
        "\n",
        "count1=0\n",
        "\n",
        "for i in range(10000):\n",
        "  if B[i][2] >= 0.5:\n",
        "    count1+=1\n",
        "\n",
        "\n",
        "print(count1)"
      ],
      "metadata": {
        "id": "98InXtYiqGbO",
        "colab": {
          "base_uri": "https://localhost:8080/"
        },
        "outputId": "5e9c2e95-dba3-4600-d1fb-8885fb416daf"
      },
      "execution_count": 13,
      "outputs": [
        {
          "output_type": "stream",
          "name": "stdout",
          "text": [
            "4989\n"
          ]
        }
      ]
    },
    {
      "cell_type": "code",
      "source": [
        "######################################################################\n",
        "# ans['p2']에 정답을 int()로 감싸서 int형으로 변환하여 대입하시오.\n",
        "######################################################################\n",
        "\n",
        "ans['p2'] = int(count1)"
      ],
      "metadata": {
        "id": "NMS5bomtsXAM"
      },
      "execution_count": 14,
      "outputs": []
    },
    {
      "cell_type": "markdown",
      "source": [
        "## 다음 함수를 주어진 미분하기 위해 다음 문제에 답하시오.\n",
        "\n",
        "$$\n",
        "y = \\left( \\frac{\\sqrt{x}}{2} - 1 \\right)^{-10}\n",
        "$$\n",
        "\n",
        "\n"
      ],
      "metadata": {
        "id": "2KrQO1YtmpB7"
      }
    },
    {
      "cell_type": "markdown",
      "source": [
        "### 3. 심파이를 써서 도함수를 구하고 $x=1$ 에서 함수 값과 미분 계수를 계산하시오."
      ],
      "metadata": {
        "id": "jg9dOWxPmzv7"
      }
    },
    {
      "cell_type": "code",
      "source": [
        "x = S.Symbol('x')\n",
        "f = ((x**(1/2))/2-1)**(-10)\n",
        "df= S.diff(f,x)\n",
        "print(df)\n",
        "\n",
        "f_dot = lambda a : -2.5*a**(-0.5)/(a**0.5/2 - 1)**11\n",
        "print(f_dot(1))"
      ],
      "metadata": {
        "id": "yojeshZCm73m",
        "colab": {
          "base_uri": "https://localhost:8080/"
        },
        "outputId": "9720d854-92a7-424f-fa22-74b2729bcb22"
      },
      "execution_count": 15,
      "outputs": [
        {
          "output_type": "stream",
          "name": "stdout",
          "text": [
            "-2.5*x**(-0.5)/(x**0.5/2 - 1)**11\n",
            "5120.0\n"
          ]
        }
      ]
    },
    {
      "cell_type": "code",
      "source": [
        "######################################################################\n",
        "# ans['p3']에 정답을 float()로 감싸서 float형으로 변환하여 대입하시오.\n",
        "######################################################################\n",
        "\n",
        "ans['p3'] = float(f_dot(1))"
      ],
      "metadata": {
        "id": "KWedaXr3sOPa"
      },
      "execution_count": 16,
      "outputs": []
    },
    {
      "cell_type": "markdown",
      "source": [
        "### 4. 주어진 함수를 자동 미분하기 위해 포워드 패스에서 변수의 거듭 제곱을 계산하고 백워드에서 포워드 패스 함수의 도함수 값을 계산하는 `pow(x, n)` 함수를 정의하시오. 그리고 $x=0.631$, $n=3$ 에서 함수값과 도함수 값을 구하시오."
      ],
      "metadata": {
        "id": "d7NRRmY-m9IK"
      }
    },
    {
      "cell_type": "code",
      "source": [
        "def pow(x, n):\n",
        "    return x**n, (x,n)    \n",
        "\n",
        "def pow_deriv(cache, dout=1):\n",
        "    return dout*cache[1]*cache[0]**(cache[1]-1)  \n",
        "\n",
        "POW = {'f':pow, 'df':pow_deriv}\n",
        "\n",
        "z, cache_z = POW['f'](0.631,3)\n",
        "dz = POW['df'](cache_z) \n",
        "\n",
        "print(f'{z}, {dz}')\n",
        "\n"
      ],
      "metadata": {
        "id": "5wHHBEeGnkCK",
        "colab": {
          "base_uri": "https://localhost:8080/"
        },
        "outputId": "16eb4525-ad60-4022-eed3-038e6f028cc0"
      },
      "execution_count": 17,
      "outputs": [
        {
          "output_type": "stream",
          "name": "stdout",
          "text": [
            "0.251239591, 1.194483\n"
          ]
        }
      ]
    },
    {
      "cell_type": "code",
      "source": [
        "#############################################################\n",
        "# ans['p4-1']에 함수값을 ans['p4-2']에 도함수값을 대입하시오.\n",
        "#############################################################\n",
        "\n",
        "ans['p4-1'] = z\n",
        "ans['p4-2'] = dz"
      ],
      "metadata": {
        "id": "nB-EZyV2sn9P"
      },
      "execution_count": 18,
      "outputs": []
    },
    {
      "cell_type": "markdown",
      "source": [
        "### 5. 제시된 `add()`와 `mul()` 그리고 문제 4에서 작성한 `pow()`를 사용하여 주어진 함수를 자동 미분하시오. 함수값과 미분 계수는 $x=1$에서 계산하시오."
      ],
      "metadata": {
        "id": "4ZmQklC1nklh"
      }
    },
    {
      "cell_type": "code",
      "source": [
        "def add(x, a):\n",
        "    return x+a, 1\n",
        "\n",
        "def add_deriv(cache, dout=1):\n",
        "    return dout\n",
        "\n",
        "ADD = {'f':add, 'df':add_deriv}\n",
        "\n",
        "def mul(x, a):\n",
        "    return a*x, a\n",
        "\n",
        "def mul_deriv(cache, dout=1):\n",
        "    return cache*dout\n",
        "\n",
        "MUL = {'f':mul, 'df':mul_deriv}\n",
        "\n",
        "x=1\n",
        "a, cache_a = POW['f'](x, 1/2)\n",
        "b, cache_b = MUL['f'](a, 1/2)\n",
        "c, cache_c = ADD['f'](b, -1)\n",
        "d, cache_d = POW['f'](c, -10)\n",
        "\n",
        "\n",
        "dc = POW['df'](cache_d, 1)\n",
        "db = ADD['df'](cache_c, dc)\n",
        "da = MUL['df'](cache_b, db)\n",
        "dx = POW['df'](cache_a, da)\n",
        "\n",
        "print(dx)"
      ],
      "metadata": {
        "id": "yj5WobCfn7U-",
        "colab": {
          "base_uri": "https://localhost:8080/"
        },
        "outputId": "7cac24ec-ea80-4e42-abfd-70708d656729"
      },
      "execution_count": 19,
      "outputs": [
        {
          "output_type": "stream",
          "name": "stdout",
          "text": [
            "5120.0\n"
          ]
        }
      ]
    },
    {
      "cell_type": "code",
      "source": [
        "######################################################################\n",
        "# ans['p5-1']에 함수값을 대입하시오.\n",
        "######################################################################\n",
        "ans['p5-1'] = d\n",
        "\n",
        "######################################################################\n",
        "# ans['p5-2']에 미분계수를 대입하시오.\n",
        "######################################################################\n",
        "ans['p5-2'] = dx"
      ],
      "metadata": {
        "id": "jTqgtsnrs17D"
      },
      "execution_count": 20,
      "outputs": []
    },
    {
      "cell_type": "code",
      "source": [
        "# ans를 json으로 만들어서 서버에 post\n",
        "ans['p_set'] = '20230106_hkit'\n",
        "headers = {'Content-Type': 'application/json; chearset=utf-8'}\n",
        "response  = requests.post('https://metamath.pythonanywhere.com/solchk', \n",
        "                          data=json.dumps(ans, default=str), headers=headers)\n",
        "\n",
        "\n",
        "# 채점 결과가 들어있음\n",
        "res = json.loads(response.text)\n",
        "\n",
        "summary( res )"
      ],
      "metadata": {
        "colab": {
          "base_uri": "https://localhost:8080/"
        },
        "id": "tuJDMdu-uCxw",
        "outputId": "75acc8a8-366a-4143-e430-2c27017b2cad"
      },
      "execution_count": 21,
      "outputs": [
        {
          "output_type": "stream",
          "name": "stdout",
          "text": [
            "p2: PASS, 1/6\n",
            "p3: PASS, 2/6\n",
            "p4-1: PASS, 3/6\n",
            "p4-2: PASS, 4/6\n",
            "p5-1: PASS, 5/6\n",
            "p5-2: PASS, 6/6\n"
          ]
        }
      ]
    },
    {
      "cell_type": "code",
      "source": [],
      "metadata": {
        "id": "3WVR_SftwrKQ"
      },
      "execution_count": null,
      "outputs": []
    }
  ]
}