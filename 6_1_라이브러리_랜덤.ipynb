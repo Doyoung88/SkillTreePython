{
  "nbformat": 4,
  "nbformat_minor": 0,
  "metadata": {
    "colab": {
      "provenance": [],
      "include_colab_link": true
    },
    "kernelspec": {
      "name": "python3",
      "display_name": "Python 3"
    },
    "language_info": {
      "name": "python"
    }
  },
  "cells": [
    {
      "cell_type": "markdown",
      "metadata": {
        "id": "view-in-github",
        "colab_type": "text"
      },
      "source": [
        "<a href=\"https://colab.research.google.com/github/Doyoung88/SkillTreePython/blob/main/6_1_%EB%9D%BC%EC%9D%B4%EB%B8%8C%EB%9F%AC%EB%A6%AC_%EB%9E%9C%EB%8D%A4.ipynb\" target=\"_parent\"><img src=\"https://colab.research.google.com/assets/colab-badge.svg\" alt=\"Open In Colab\"/></a>"
      ]
    },
    {
      "cell_type": "markdown",
      "metadata": {
        "id": "jgFAOz-Tw1VI"
      },
      "source": [
        "# 6-1.라이브러리: 랜덤\n",
        "---\n",
        "* 날짜:\n",
        "* 이름:\n"
      ]
    },
    {
      "cell_type": "markdown",
      "metadata": {
        "id": "roC8A6Ro6THT"
      },
      "source": [
        "## 개념정리\n",
        "---\n",
        "\n",
        "전세계의 파이썬 사용자들이 유용한 라이브러리를 만들어 놓았습니다. 수많은 파이썬 라이브러리가 있지만 그중에서도 유용하고 기본적인 라이브러리를 알아보도록 하겠습니다. \n",
        "\n",
        "주사위를 던지거나 복권추첨 등 난수를 이용해서 코드를 짜야할 때가 종종 있습니다. 파이썬에서 난수를 만드는 방법을 알아보도록 하겠습니다. 난수를 만드는 모듈은 **random** 을 이용합니다. "
      ]
    },
    {
      "cell_type": "markdown",
      "metadata": {
        "id": "HjPXsM8C5ULZ"
      },
      "source": [
        "### **(1) 라이브러리 임포트(import)**\n",
        "\n",
        "아래와 같이 `random` 모듈을 `import` 해줍니다.\n",
        "\n",
        "```\n",
        "import random\n",
        "```\n"
      ]
    },
    {
      "cell_type": "code",
      "metadata": {
        "id": "9pxx7Zy53xFz"
      },
      "source": [
        "import random"
      ],
      "execution_count": 2,
      "outputs": []
    },
    {
      "cell_type": "markdown",
      "source": [
        "### **(2) 기본 사용 : `random`**"
      ],
      "metadata": {
        "id": "4hBv297VxWGr"
      }
    },
    {
      "cell_type": "markdown",
      "metadata": {
        "id": "o4Y67BgLKmxO"
      },
      "source": [
        "#### **랜덤값 생성**\n",
        "\n"
      ]
    },
    {
      "cell_type": "markdown",
      "metadata": {
        "id": "zD6gfuVD3xwx"
      },
      "source": [
        "* `random.random` : 0과 1사이의 난수를 무작위로 생성합니다.\n",
        "\n",
        "```\n",
        "random.random()\n",
        "```\n",
        "\n"
      ]
    },
    {
      "cell_type": "code",
      "metadata": {
        "id": "OaowHk_83leh",
        "outputId": "b6d668a5-8de1-4671-aaf1-86cd11381b72",
        "colab": {
          "base_uri": "https://localhost:8080/"
        }
      },
      "source": [
        "random.random()"
      ],
      "execution_count": null,
      "outputs": [
        {
          "output_type": "execute_result",
          "data": {
            "text/plain": [
              "0.8736556717985731"
            ]
          },
          "metadata": {},
          "execution_count": 10
        }
      ]
    },
    {
      "cell_type": "markdown",
      "metadata": {
        "id": "BOwMgkiC4RqB"
      },
      "source": [
        "* `random.randint`: 특정 범위 랜덤한 정수를 무작위로 생성합니다. (a이상 b 이하)\n",
        "\n",
        "```\n",
        "random.randint(a, b)\n",
        "```\n",
        "\n"
      ]
    },
    {
      "cell_type": "code",
      "metadata": {
        "id": "_zG33m-S4RqI",
        "outputId": "d3523635-57eb-4ec4-ca44-7d325db850ca",
        "colab": {
          "base_uri": "https://localhost:8080/"
        }
      },
      "source": [
        "random.randint(1, 5)"
      ],
      "execution_count": null,
      "outputs": [
        {
          "output_type": "execute_result",
          "data": {
            "text/plain": [
              "1"
            ]
          },
          "metadata": {},
          "execution_count": 11
        }
      ]
    },
    {
      "cell_type": "markdown",
      "metadata": {
        "id": "CbpP-qatLAmI"
      },
      "source": [
        "#### **랜덤값 추출**"
      ]
    },
    {
      "cell_type": "markdown",
      "metadata": {
        "id": "uETLiTpC5OQd"
      },
      "source": [
        "* `random.choice`: 주어진 sequence 에서 랜덤으로 한개의 요소를 뽑습니다.\n",
        "\n",
        "```\n",
        "a = [1,2,3] # 리스트 a가 주어졌을 때 \n",
        "b = random.choice(a) # a의 요소 중 한개를 뽑아 b로 바인딩\n",
        "print(b)\n",
        "```\n",
        "\n"
      ]
    },
    {
      "cell_type": "code",
      "metadata": {
        "id": "MKMHr7p651mJ",
        "outputId": "037d7e61-fb7d-43b7-ccf1-f923623c3a97",
        "colab": {
          "base_uri": "https://localhost:8080/"
        }
      },
      "source": [
        "a = [1,2,3] # 리스트 a가 주어졌을 때 \n",
        "b = random.choice(a) # a의 요소 중 한개를 뽑아 b로 바인딩\n",
        "print(b)"
      ],
      "execution_count": null,
      "outputs": [
        {
          "output_type": "stream",
          "name": "stdout",
          "text": [
            "3\n"
          ]
        }
      ]
    },
    {
      "cell_type": "markdown",
      "metadata": {
        "id": "PbidqOm3z7sn"
      },
      "source": [
        "* `random.choices` : 주어진 sequence 에서 랜덤으로 k개의 요소를 뽑습니다. 중복이 가능합니다.\n",
        "\n",
        "```\n",
        "a = [1,2,3] # 리스트 a가 주어졌을 때 \n",
        "b = random.choices(a, k=2) # a의 요소 중 k개를 뽑아 b로 바인딩\n",
        "print(b)\n",
        "```\n",
        "\n"
      ]
    },
    {
      "cell_type": "code",
      "metadata": {
        "id": "sgyxjWvLz7sv",
        "outputId": "b7bc3878-520c-4530-f8ee-4ffb2fa57273",
        "colab": {
          "base_uri": "https://localhost:8080/"
        }
      },
      "source": [
        "a = [1,2,3] # 리스트 a가 주어졌을 때 \n",
        "b = random.choices(a, k=2) # a의 요소 중 k개를 뽑아 b로 바인딩\n",
        "print(b)"
      ],
      "execution_count": null,
      "outputs": [
        {
          "output_type": "stream",
          "name": "stdout",
          "text": [
            "[3, 3]\n"
          ]
        }
      ]
    },
    {
      "cell_type": "markdown",
      "metadata": {
        "id": "A17ZgbqfK3lr"
      },
      "source": [
        "#### **기타**"
      ]
    },
    {
      "cell_type": "markdown",
      "metadata": {
        "id": "9od_vtK84u_4"
      },
      "source": [
        "* `random.shuffle` : 특정 시퀀스를 랜덤하게 섞는 함수입니다.\n",
        "\n",
        "```\n",
        "a = [1,2,3]\n",
        "random.shuffle(a)\n",
        "print(a)\n",
        "```\n",
        "\n"
      ]
    },
    {
      "cell_type": "code",
      "metadata": {
        "id": "_srXvBaG4Xmi",
        "outputId": "52230de0-19f0-46b8-e85d-634548c30938",
        "colab": {
          "base_uri": "https://localhost:8080/"
        }
      },
      "source": [
        "a = [1,2,3]\n",
        "random.shuffle(a) #바인딩 안함\n",
        "print(a)"
      ],
      "execution_count": null,
      "outputs": [
        {
          "output_type": "stream",
          "name": "stdout",
          "text": [
            "[3, 1, 2]\n"
          ]
        }
      ]
    },
    {
      "cell_type": "markdown",
      "metadata": {
        "id": "qgwblcg16Qb7"
      },
      "source": [
        "# 예제\n",
        "---"
      ]
    },
    {
      "cell_type": "markdown",
      "metadata": {
        "id": "wEh21CAlIF5M"
      },
      "source": [
        "####**예제 01 여러번의 주사위**\n",
        "\n",
        "\n",
        "    - 주사위를 던지면 1에서 6까지 숫자가 랜덤으로 나옵니다.\n",
        "    - 주사위를 사용하가 입력한 만큼 돌리고 각숫자가 몇번씩 나왔는지 알려주는 함수를 작성하세요\n"
      ]
    },
    {
      "cell_type": "code",
      "metadata": {
        "id": "kv4kbTMuAoLN",
        "outputId": "47ffc74f-b316-46c0-8dd7-ea681dfd1a43",
        "colab": {
          "base_uri": "https://localhost:8080/"
        }
      },
      "source": [
        "a = int(input())\n",
        "list1=[]\n",
        "\n",
        "for i in range(a):\n",
        "  list1.append(random.randint(1,6))\n",
        "\n",
        "print(list1)\n",
        "print(f'1은 {list1.count(1)}번 나왔습니다.')\n",
        "print(f'2은 {list1.count(2)}번 나왔습니다.')\n",
        "print(f'3은 {list1.count(3)}번 나왔습니다.')\n",
        "print(f'4은 {list1.count(4)}번 나왔습니다.')\n",
        "print(f'5은 {list1.count(5)}번 나왔습니다.')\n",
        "print(f'6은 {list1.count(6)}번 나왔습니다.')"
      ],
      "execution_count": 3,
      "outputs": [
        {
          "output_type": "stream",
          "name": "stdout",
          "text": [
            "12\n",
            "[5, 1, 2, 5, 3, 5, 5, 3, 6, 1, 4, 1]\n",
            "1은 3번 나왔습니다.\n",
            "2은 1번 나왔습니다.\n",
            "3은 2번 나왔습니다.\n",
            "4은 1번 나왔습니다.\n",
            "5은 4번 나왔습니다.\n",
            "6은 1번 나왔습니다.\n"
          ]
        }
      ]
    },
    {
      "cell_type": "markdown",
      "metadata": {
        "id": "R_v3MPkG6zci"
      },
      "source": [
        "####**예제 02 업다운게임**\n",
        "\n",
        "    - 1~100까지 값이 랜덤하게 지정됩니다.\n",
        "    - 랜덤값(정답)이 사용자가 찍은 답보다 높으면 UP\n",
        "    - 랜덤값이 낮으면 DOWN\n",
        "    - 랜덤값을 맞추면 \"CORRECT\"를 출력합니다.\n",
        "    - 사용자가 랜덤값을 맞출 때까지 진행됩니다.\n"
      ]
    },
    {
      "cell_type": "code",
      "metadata": {
        "id": "rchkDnZE6y10",
        "outputId": "b281a4b7-81f8-4715-a275-31c569332352",
        "colab": {
          "base_uri": "https://localhost:8080/",
          "height": 400
        }
      },
      "source": [
        "num = random.randint(1,100)\n",
        "\n",
        "while True:\n",
        "  a = int(input())\n",
        "  if a < num:\n",
        "    print(\"UP\")\n",
        "  elif a > num:\n",
        "    print(\"DOWN\")\n",
        "  elif a == num:\n",
        "    print(\"CORRECT\")\n",
        "    break\n",
        "     "
      ],
      "execution_count": 4,
      "outputs": [
        {
          "output_type": "error",
          "ename": "KeyboardInterrupt",
          "evalue": "ignored",
          "traceback": [
            "\u001b[0;31m---------------------------------------------------------------------------\u001b[0m",
            "\u001b[0;31mKeyboardInterrupt\u001b[0m                         Traceback (most recent call last)",
            "\u001b[0;32m<ipython-input-4-8576aac13d46>\u001b[0m in \u001b[0;36m<module>\u001b[0;34m\u001b[0m\n\u001b[1;32m      2\u001b[0m \u001b[0;34m\u001b[0m\u001b[0m\n\u001b[1;32m      3\u001b[0m \u001b[0;32mwhile\u001b[0m \u001b[0;32mTrue\u001b[0m\u001b[0;34m:\u001b[0m\u001b[0;34m\u001b[0m\u001b[0;34m\u001b[0m\u001b[0m\n\u001b[0;32m----> 4\u001b[0;31m   \u001b[0ma\u001b[0m \u001b[0;34m=\u001b[0m \u001b[0mint\u001b[0m\u001b[0;34m(\u001b[0m\u001b[0minput\u001b[0m\u001b[0;34m(\u001b[0m\u001b[0;34m)\u001b[0m\u001b[0;34m)\u001b[0m\u001b[0;34m\u001b[0m\u001b[0;34m\u001b[0m\u001b[0m\n\u001b[0m\u001b[1;32m      5\u001b[0m   \u001b[0;32mif\u001b[0m \u001b[0ma\u001b[0m \u001b[0;34m<\u001b[0m \u001b[0mnum\u001b[0m\u001b[0;34m:\u001b[0m\u001b[0;34m\u001b[0m\u001b[0;34m\u001b[0m\u001b[0m\n\u001b[1;32m      6\u001b[0m     \u001b[0mprint\u001b[0m\u001b[0;34m(\u001b[0m\u001b[0;34m\"UP\"\u001b[0m\u001b[0;34m)\u001b[0m\u001b[0;34m\u001b[0m\u001b[0;34m\u001b[0m\u001b[0m\n",
            "\u001b[0;32m/usr/local/lib/python3.8/dist-packages/ipykernel/kernelbase.py\u001b[0m in \u001b[0;36mraw_input\u001b[0;34m(self, prompt)\u001b[0m\n\u001b[1;32m    858\u001b[0m                 \u001b[0;34m\"raw_input was called, but this frontend does not support input requests.\"\u001b[0m\u001b[0;34m\u001b[0m\u001b[0;34m\u001b[0m\u001b[0m\n\u001b[1;32m    859\u001b[0m             )\n\u001b[0;32m--> 860\u001b[0;31m         return self._input_request(str(prompt),\n\u001b[0m\u001b[1;32m    861\u001b[0m             \u001b[0mself\u001b[0m\u001b[0;34m.\u001b[0m\u001b[0m_parent_ident\u001b[0m\u001b[0;34m,\u001b[0m\u001b[0;34m\u001b[0m\u001b[0;34m\u001b[0m\u001b[0m\n\u001b[1;32m    862\u001b[0m             \u001b[0mself\u001b[0m\u001b[0;34m.\u001b[0m\u001b[0m_parent_header\u001b[0m\u001b[0;34m,\u001b[0m\u001b[0;34m\u001b[0m\u001b[0;34m\u001b[0m\u001b[0m\n",
            "\u001b[0;32m/usr/local/lib/python3.8/dist-packages/ipykernel/kernelbase.py\u001b[0m in \u001b[0;36m_input_request\u001b[0;34m(self, prompt, ident, parent, password)\u001b[0m\n\u001b[1;32m    902\u001b[0m             \u001b[0;32mexcept\u001b[0m \u001b[0mKeyboardInterrupt\u001b[0m\u001b[0;34m:\u001b[0m\u001b[0;34m\u001b[0m\u001b[0;34m\u001b[0m\u001b[0m\n\u001b[1;32m    903\u001b[0m                 \u001b[0;31m# re-raise KeyboardInterrupt, to truncate traceback\u001b[0m\u001b[0;34m\u001b[0m\u001b[0;34m\u001b[0m\u001b[0;34m\u001b[0m\u001b[0m\n\u001b[0;32m--> 904\u001b[0;31m                 \u001b[0;32mraise\u001b[0m \u001b[0mKeyboardInterrupt\u001b[0m\u001b[0;34m(\u001b[0m\u001b[0;34m\"Interrupted by user\"\u001b[0m\u001b[0;34m)\u001b[0m \u001b[0;32mfrom\u001b[0m \u001b[0;32mNone\u001b[0m\u001b[0;34m\u001b[0m\u001b[0;34m\u001b[0m\u001b[0m\n\u001b[0m\u001b[1;32m    905\u001b[0m             \u001b[0;32mexcept\u001b[0m \u001b[0mException\u001b[0m \u001b[0;32mas\u001b[0m \u001b[0me\u001b[0m\u001b[0;34m:\u001b[0m\u001b[0;34m\u001b[0m\u001b[0;34m\u001b[0m\u001b[0m\n\u001b[1;32m    906\u001b[0m                 \u001b[0mself\u001b[0m\u001b[0;34m.\u001b[0m\u001b[0mlog\u001b[0m\u001b[0;34m.\u001b[0m\u001b[0mwarning\u001b[0m\u001b[0;34m(\u001b[0m\u001b[0;34m\"Invalid Message:\"\u001b[0m\u001b[0;34m,\u001b[0m \u001b[0mexc_info\u001b[0m\u001b[0;34m=\u001b[0m\u001b[0;32mTrue\u001b[0m\u001b[0;34m)\u001b[0m\u001b[0;34m\u001b[0m\u001b[0;34m\u001b[0m\u001b[0m\n",
            "\u001b[0;31mKeyboardInterrupt\u001b[0m: Interrupted by user"
          ]
        }
      ]
    },
    {
      "cell_type": "markdown",
      "metadata": {
        "id": "l3NBAKiG7sD8"
      },
      "source": [
        "####**예제 03 숫자야구**\n",
        "\n",
        "    - 0~9까지 값을 지닌 3자리 숫자가 랜덤하게 지정됩니다.\n",
        "    - 각 자리 숫자는 중복되지 않아야 합니다.\n",
        "    - 맞춰야할 랜덤값 3개중 자리수에 상관없이 맞추면 \"볼\", 자리수까지 맞추면 \"홈런\" 입니다.\n",
        "    - 사용자가 지정된 랜덤값을 맞출 때까지 진행됩니다.\n",
        "\n",
        "\n",
        "\n",
        "* 아래 표는 랜덤값이 123일 때 사용자의 입력과 그에 따른 출력을 나타낸 표입니다. \n",
        "\n",
        "입력|출력\n",
        "---|---\n",
        "123| 3볼 3홈런\n",
        "132| 3볼 1홈런\n",
        "231| 3볼 0홈런 \n",
        "125| 2볼 2홈런\n",
        "\n"
      ]
    },
    {
      "cell_type": "code",
      "metadata": {
        "id": "T6yhNpAT6RsJ"
      },
      "source": [
        "#랜덤 3자리수 만들기\n",
        "num=[]\n",
        "a = [0,1,2,3,4,5,6,7,8,9] \n",
        " \n",
        "while True:\n",
        "  one = random.choice(a)\n",
        "  if one != 0:\n",
        "    num.append(one)\n",
        "    break\n",
        "  else:\n",
        "    continue\n",
        "\n",
        "a.remove(one)\n",
        "two = random.choice(a)\n",
        "num.append(two)\n",
        "a.remove(two)\n",
        "three = random.choice(a)\n",
        "num.append(three)\n",
        "\n",
        "#랜덤 3자리수 string으로 변환\n",
        "snum = ''.join(map(str, num)) \n",
        "print(snum)\n",
        "\n",
        "#사용자 입력\n",
        "ans = input('세자리수 예상 정답을 입력하세요 : ')\n",
        "\n",
        "#볼, 홈런 계산\n",
        "ball, home = 0,0\n",
        "for i in range(3):\n",
        "  if ans[i] in snum:\n",
        "    ball = ball + 1\n",
        "  if ans[i] == snum[i]:\n",
        "    home = home +1\n",
        "\n",
        "print(f'{ball}볼 {home}홈런')"
      ],
      "execution_count": null,
      "outputs": []
    },
    {
      "cell_type": "markdown",
      "metadata": {
        "id": "Mal9fB6ZmXXV"
      },
      "source": [
        "####**예제 04 같은 그림 맞추기**\n",
        "\n",
        "    - 숫자가 1부터 16까지 순서대로 나열됩니다. (4x4 크기).\n",
        "    - 숫자 두개를 고르면 고른 숫자카드 두개는 알파벳이 보여집니다. \n",
        "    - 두 알파벳이 동일하면 알파벳이 보여진채로 다음 숫자 두개를 고릅니다.\n",
        "    - 두 알파벳이 다르면 다시 숫자카드가 보인채로 다음 숫자 두개를 고릅니다.\n",
        "    - 알파벳이 모두 보여지면 게임이 끝납니다.\n",
        "\n",
        "* 예시\n",
        "\n",
        "```\n",
        ">> 같은그림 맞추기 시작! \n",
        "\n",
        "| 1| 2| 3| 4|\n",
        "| 5| 6| 7| 8|\n",
        "| 9|10|11|12|\n",
        "|13|14|15|16|\n",
        "\n",
        ">> 숫자1: 5\n",
        ">> 숫자2: 10\n",
        "\n",
        "| 1| 2| 3| 4|\n",
        "| A| 6| 7| 8|\n",
        "| 9| A|11|12|\n",
        "|13|14|15|16|\n",
        "\n",
        "```\n"
      ]
    },
    {
      "cell_type": "code",
      "source": [],
      "metadata": {
        "id": "hHpcw4MOJgjU"
      },
      "execution_count": null,
      "outputs": []
    },
    {
      "cell_type": "code",
      "source": [],
      "metadata": {
        "id": "Crt57k9kQy5W"
      },
      "execution_count": null,
      "outputs": []
    }
  ]
}