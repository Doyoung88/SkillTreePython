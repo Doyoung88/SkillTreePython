{
  "nbformat": 4,
  "nbformat_minor": 0,
  "metadata": {
    "colab": {
      "provenance": [],
      "include_colab_link": true
    },
    "kernelspec": {
      "name": "python3",
      "display_name": "Python 3"
    },
    "language_info": {
      "name": "python"
    }
  },
  "cells": [
    {
      "cell_type": "markdown",
      "metadata": {
        "id": "view-in-github",
        "colab_type": "text"
      },
      "source": [
        "<a href=\"https://colab.research.google.com/github/Doyoung88/SkillTreePython/blob/main/6_1_%EB%9D%BC%EC%9D%B4%EB%B8%8C%EB%9F%AC%EB%A6%AC_%EB%9E%9C%EB%8D%A4.ipynb\" target=\"_parent\"><img src=\"https://colab.research.google.com/assets/colab-badge.svg\" alt=\"Open In Colab\"/></a>"
      ]
    },
    {
      "cell_type": "markdown",
      "metadata": {
        "id": "jgFAOz-Tw1VI"
      },
      "source": [
        "# 6-1.라이브러리: 랜덤\n",
        "---\n",
        "* 날짜:\n",
        "* 이름:\n"
      ]
    },
    {
      "cell_type": "markdown",
      "metadata": {
        "id": "roC8A6Ro6THT"
      },
      "source": [
        "## 개념정리\n",
        "---\n",
        "\n",
        "전세계의 파이썬 사용자들이 유용한 라이브러리를 만들어 놓았습니다. 수많은 파이썬 라이브러리가 있지만 그중에서도 유용하고 기본적인 라이브러리를 알아보도록 하겠습니다. \n",
        "\n",
        "주사위를 던지거나 복권추첨 등 난수를 이용해서 코드를 짜야할 때가 종종 있습니다. 파이썬에서 난수를 만드는 방법을 알아보도록 하겠습니다. 난수를 만드는 모듈은 **random** 을 이용합니다. "
      ]
    },
    {
      "cell_type": "markdown",
      "metadata": {
        "id": "HjPXsM8C5ULZ"
      },
      "source": [
        "### **(1) 라이브러리 임포트(import)**\n",
        "\n",
        "아래와 같이 `random` 모듈을 `import` 해줍니다.\n",
        "\n",
        "```\n",
        "import random\n",
        "```\n"
      ]
    },
    {
      "cell_type": "code",
      "metadata": {
        "id": "9pxx7Zy53xFz"
      },
      "source": [
        "import random"
      ],
      "execution_count": 2,
      "outputs": []
    },
    {
      "cell_type": "markdown",
      "source": [
        "### **(2) 기본 사용 : `random`**"
      ],
      "metadata": {
        "id": "4hBv297VxWGr"
      }
    },
    {
      "cell_type": "markdown",
      "metadata": {
        "id": "o4Y67BgLKmxO"
      },
      "source": [
        "#### **랜덤값 생성**\n",
        "\n"
      ]
    },
    {
      "cell_type": "markdown",
      "metadata": {
        "id": "zD6gfuVD3xwx"
      },
      "source": [
        "* `random.random` : 0과 1사이의 난수를 무작위로 생성합니다.\n",
        "\n",
        "```\n",
        "random.random()\n",
        "```\n",
        "\n"
      ]
    },
    {
      "cell_type": "code",
      "metadata": {
        "id": "OaowHk_83leh",
        "outputId": "b6d668a5-8de1-4671-aaf1-86cd11381b72",
        "colab": {
          "base_uri": "https://localhost:8080/"
        }
      },
      "source": [
        "random.random()"
      ],
      "execution_count": null,
      "outputs": [
        {
          "output_type": "execute_result",
          "data": {
            "text/plain": [
              "0.8736556717985731"
            ]
          },
          "metadata": {},
          "execution_count": 10
        }
      ]
    },
    {
      "cell_type": "markdown",
      "metadata": {
        "id": "BOwMgkiC4RqB"
      },
      "source": [
        "* `random.randint`: 특정 범위 랜덤한 정수를 무작위로 생성합니다. (a이상 b 이하)\n",
        "\n",
        "```\n",
        "random.randint(a, b)\n",
        "```\n",
        "\n"
      ]
    },
    {
      "cell_type": "code",
      "metadata": {
        "id": "_zG33m-S4RqI",
        "outputId": "d3523635-57eb-4ec4-ca44-7d325db850ca",
        "colab": {
          "base_uri": "https://localhost:8080/"
        }
      },
      "source": [
        "random.randint(1, 5)"
      ],
      "execution_count": null,
      "outputs": [
        {
          "output_type": "execute_result",
          "data": {
            "text/plain": [
              "1"
            ]
          },
          "metadata": {},
          "execution_count": 11
        }
      ]
    },
    {
      "cell_type": "markdown",
      "metadata": {
        "id": "CbpP-qatLAmI"
      },
      "source": [
        "#### **랜덤값 추출**"
      ]
    },
    {
      "cell_type": "markdown",
      "metadata": {
        "id": "uETLiTpC5OQd"
      },
      "source": [
        "* `random.choice`: 주어진 sequence 에서 랜덤으로 한개의 요소를 뽑습니다.\n",
        "\n",
        "```\n",
        "a = [1,2,3] # 리스트 a가 주어졌을 때 \n",
        "b = random.choice(a) # a의 요소 중 한개를 뽑아 b로 바인딩\n",
        "print(b)\n",
        "```\n",
        "\n"
      ]
    },
    {
      "cell_type": "code",
      "metadata": {
        "id": "MKMHr7p651mJ",
        "outputId": "037d7e61-fb7d-43b7-ccf1-f923623c3a97",
        "colab": {
          "base_uri": "https://localhost:8080/"
        }
      },
      "source": [
        "a = [1,2,3] # 리스트 a가 주어졌을 때 \n",
        "b = random.choice(a) # a의 요소 중 한개를 뽑아 b로 바인딩\n",
        "print(b)"
      ],
      "execution_count": null,
      "outputs": [
        {
          "output_type": "stream",
          "name": "stdout",
          "text": [
            "3\n"
          ]
        }
      ]
    },
    {
      "cell_type": "markdown",
      "metadata": {
        "id": "PbidqOm3z7sn"
      },
      "source": [
        "* `random.choices` : 주어진 sequence 에서 랜덤으로 k개의 요소를 뽑습니다. 중복이 가능합니다.\n",
        "\n",
        "```\n",
        "a = [1,2,3] # 리스트 a가 주어졌을 때 \n",
        "b = random.choices(a, k=2) # a의 요소 중 k개를 뽑아 b로 바인딩\n",
        "print(b)\n",
        "```\n",
        "\n"
      ]
    },
    {
      "cell_type": "code",
      "metadata": {
        "id": "sgyxjWvLz7sv",
        "outputId": "b7bc3878-520c-4530-f8ee-4ffb2fa57273",
        "colab": {
          "base_uri": "https://localhost:8080/"
        }
      },
      "source": [
        "a = [1,2,3] # 리스트 a가 주어졌을 때 \n",
        "b = random.choices(a, k=2) # a의 요소 중 k개를 뽑아 b로 바인딩\n",
        "print(b)"
      ],
      "execution_count": null,
      "outputs": [
        {
          "output_type": "stream",
          "name": "stdout",
          "text": [
            "[3, 3]\n"
          ]
        }
      ]
    },
    {
      "cell_type": "markdown",
      "metadata": {
        "id": "A17ZgbqfK3lr"
      },
      "source": [
        "#### **기타**"
      ]
    },
    {
      "cell_type": "markdown",
      "metadata": {
        "id": "9od_vtK84u_4"
      },
      "source": [
        "* `random.shuffle` : 특정 시퀀스를 랜덤하게 섞는 함수입니다.\n",
        "\n",
        "```\n",
        "a = [1,2,3]\n",
        "random.shuffle(a)\n",
        "print(a)\n",
        "```\n",
        "\n"
      ]
    },
    {
      "cell_type": "code",
      "metadata": {
        "id": "_srXvBaG4Xmi",
        "outputId": "52230de0-19f0-46b8-e85d-634548c30938",
        "colab": {
          "base_uri": "https://localhost:8080/"
        }
      },
      "source": [
        "a = [1,2,3]\n",
        "random.shuffle(a) #바인딩 안함\n",
        "print(a)"
      ],
      "execution_count": null,
      "outputs": [
        {
          "output_type": "stream",
          "name": "stdout",
          "text": [
            "[3, 1, 2]\n"
          ]
        }
      ]
    },
    {
      "cell_type": "markdown",
      "metadata": {
        "id": "qgwblcg16Qb7"
      },
      "source": [
        "# 예제\n",
        "---"
      ]
    },
    {
      "cell_type": "markdown",
      "metadata": {
        "id": "wEh21CAlIF5M"
      },
      "source": [
        "####**예제 01 여러번의 주사위**\n",
        "\n",
        "\n",
        "    - 주사위를 던지면 1에서 6까지 숫자가 랜덤으로 나옵니다.\n",
        "    - 주사위를 사용하가 입력한 만큼 돌리고 각숫자가 몇번씩 나왔는지 알려주는 함수를 작성하세요\n"
      ]
    },
    {
      "cell_type": "code",
      "metadata": {
        "id": "kv4kbTMuAoLN",
        "colab": {
          "base_uri": "https://localhost:8080/"
        },
        "outputId": "4a6da496-8e2c-4653-c2b3-cd324c9e2ecf"
      },
      "source": [
        "import random\n",
        "\n",
        "a = int(input())\n",
        "list1=[]\n",
        "\n",
        "for i in range(a):\n",
        "  list1.append(random.randint(1,6))\n",
        "\n",
        "print(list1)\n",
        "print(f'1은 {list1.count(1)}번 나왔습니다.')\n",
        "print(f'2은 {list1.count(2)}번 나왔습니다.')\n",
        "print(f'3은 {list1.count(3)}번 나왔습니다.')\n",
        "print(f'4은 {list1.count(4)}번 나왔습니다.')\n",
        "print(f'5은 {list1.count(5)}번 나왔습니다.')\n",
        "print(f'6은 {list1.count(6)}번 나왔습니다.')"
      ],
      "execution_count": 6,
      "outputs": [
        {
          "output_type": "stream",
          "name": "stdout",
          "text": [
            "12\n",
            "[4, 2, 2, 2, 4, 2, 3, 4, 4, 1, 1, 6]\n",
            "1은 2번 나왔습니다.\n",
            "2은 4번 나왔습니다.\n",
            "3은 1번 나왔습니다.\n",
            "4은 4번 나왔습니다.\n",
            "5은 0번 나왔습니다.\n",
            "6은 1번 나왔습니다.\n"
          ]
        }
      ]
    },
    {
      "cell_type": "markdown",
      "metadata": {
        "id": "R_v3MPkG6zci"
      },
      "source": [
        "####**예제 02 업다운게임**\n",
        "\n",
        "    - 1~100까지 값이 랜덤하게 지정됩니다.\n",
        "    - 랜덤값(정답)이 사용자가 찍은 답보다 높으면 UP\n",
        "    - 랜덤값이 낮으면 DOWN\n",
        "    - 랜덤값을 맞추면 \"CORRECT\"를 출력합니다.\n",
        "    - 사용자가 랜덤값을 맞출 때까지 진행됩니다.\n"
      ]
    },
    {
      "cell_type": "code",
      "metadata": {
        "id": "rchkDnZE6y10",
        "colab": {
          "base_uri": "https://localhost:8080/"
        },
        "outputId": "038a1525-19f8-43dc-c699-a179fadfd659"
      },
      "source": [
        "num = random.randint(1,100)\n",
        "\n",
        "while True:\n",
        "  a = int(input())\n",
        "  if a < num:\n",
        "    print(\"UP\")\n",
        "  elif a > num:\n",
        "    print(\"DOWN\")\n",
        "  elif a == num:\n",
        "    print(\"CORRECT\")\n",
        "    break\n",
        "     "
      ],
      "execution_count": 5,
      "outputs": [
        {
          "output_type": "stream",
          "name": "stdout",
          "text": [
            "34\n",
            "UP\n",
            "50\n",
            "UP\n",
            "60\n",
            "UP\n",
            "70\n",
            "UP\n",
            "80\n",
            "UP\n",
            "90\n",
            "UP\n",
            "99\n",
            "DOWN\n",
            "98\n",
            "DOWN\n",
            "97\n",
            "DOWN\n",
            "96\n",
            "CORRECT\n"
          ]
        }
      ]
    },
    {
      "cell_type": "markdown",
      "metadata": {
        "id": "l3NBAKiG7sD8"
      },
      "source": [
        "####**예제 03 숫자야구**\n",
        "\n",
        "    - 0~9까지 값을 지닌 3자리 숫자가 랜덤하게 지정됩니다.\n",
        "    - 각 자리 숫자는 중복되지 않아야 합니다.\n",
        "    - 맞춰야할 랜덤값 3개중 자리수에 상관없이 맞추면 \"볼\", 자리수까지 맞추면 \"홈런\" 입니다.\n",
        "    - 사용자가 지정된 랜덤값을 맞출 때까지 진행됩니다.\n",
        "\n",
        "\n",
        "\n",
        "* 아래 표는 랜덤값이 123일 때 사용자의 입력과 그에 따른 출력을 나타낸 표입니다. \n",
        "\n",
        "입력|출력\n",
        "---|---\n",
        "123| 3볼 3홈런\n",
        "132| 3볼 1홈런\n",
        "231| 3볼 0홈런 \n",
        "125| 2볼 2홈런\n",
        "\n"
      ]
    },
    {
      "cell_type": "code",
      "metadata": {
        "id": "T6yhNpAT6RsJ"
      },
      "source": [
        "#랜덤 3자리수 만들기\n",
        "num=[]\n",
        "a = [0,1,2,3,4,5,6,7,8,9] \n",
        " \n",
        "while True:\n",
        "  one = random.choice(a)\n",
        "  if one != 0:\n",
        "    num.append(one)\n",
        "    break\n",
        "  else:\n",
        "    continue\n",
        "\n",
        "a.remove(one)\n",
        "two = random.choice(a)\n",
        "num.append(two)\n",
        "a.remove(two)\n",
        "three = random.choice(a)\n",
        "num.append(three)\n",
        "\n",
        "#랜덤 3자리수 string으로 변환\n",
        "snum = ''.join(map(str, num)) \n",
        "print(snum)\n",
        "\n",
        "#사용자 입력\n",
        "ans = input('세자리수 예상 정답을 입력하세요 : ')\n",
        "\n",
        "#볼, 홈런 계산\n",
        "ball, home = 0,0\n",
        "for i in range(3):\n",
        "  if ans[i] in snum:\n",
        "    ball = ball + 1\n",
        "  if ans[i] == snum[i]:\n",
        "    home = home +1\n",
        "\n",
        "print(f'{ball}볼 {home}홈런')"
      ],
      "execution_count": null,
      "outputs": []
    },
    {
      "cell_type": "markdown",
      "metadata": {
        "id": "Mal9fB6ZmXXV"
      },
      "source": [
        "####**예제 04 같은 그림 맞추기**\n",
        "\n",
        "    - 숫자가 1부터 16까지 순서대로 나열됩니다. (4x4 크기).\n",
        "    - 숫자 두개를 고르면 고른 숫자카드 두개는 알파벳이 보여집니다. \n",
        "    - 두 알파벳이 동일하면 알파벳이 보여진채로 다음 숫자 두개를 고릅니다.\n",
        "    - 두 알파벳이 다르면 다시 숫자카드가 보인채로 다음 숫자 두개를 고릅니다.\n",
        "    - 알파벳이 모두 보여지면 게임이 끝납니다.\n",
        "\n",
        "* 예시\n",
        "\n",
        "```\n",
        ">> 같은그림 맞추기 시작! \n",
        "\n",
        "| 1| 2| 3| 4|\n",
        "| 5| 6| 7| 8|\n",
        "| 9|10|11|12|\n",
        "|13|14|15|16|\n",
        "\n",
        ">> 숫자1: 5\n",
        ">> 숫자2: 10\n",
        "\n",
        "| 1| 2| 3| 4|\n",
        "| A| 6| 7| 8|\n",
        "| 9| A|11|12|\n",
        "|13|14|15|16|\n",
        "\n",
        "```\n"
      ]
    },
    {
      "cell_type": "code",
      "source": [
        "alp = ['A','A','B','B','C','C','D','D','E','E','F','F','G','G','H','H']\n",
        "dict1 = [1,2,3,4,5,6,7,8,9,10,11,12,13,14,15,16]\n",
        "count1 = 0          #게임이 완료됬는지 확인\n",
        "dict_alp = {1:'none',2:'none',3:'none',4:'none',5:'none',6:'none',7:'none',8:'none',9:'none',10:'none',11:'none',12:'none',13:'none',14:'none',15:'none',16:'none'}\n",
        "random.shuffle(alp)\n",
        "for i in range(16):\n",
        "  dict_alp[i+1] = alp[i]\n",
        "\n",
        "\n",
        "print(\"같은 그림 맞추기 시작\")\n",
        "print('''| 1| 2| 3| 4|\n",
        "| 5| 6| 7| 8|\n",
        "| 9|10|11|12|\n",
        "|13|14|15|16|''')\n",
        "\n",
        "while True:\n",
        "  ans1 = int(input(\"숫자1: \"))\n",
        "  print(f'고르신 숫자{ans1}은 {dict_alp[ans1]}입니다.')\n",
        "  ans2 = int(input(\"숫자2: \"))\n",
        "  print(f'고르신 숫자{ans2}은 {dict_alp[ans2]}입니다.')\n",
        "  \n",
        "  if dict_alp[ans1] == dict_alp[ans2]:\n",
        "    print(\"같은 그림입니다.\")\n",
        "    dict1[ans1-1] = dict_alp[ans1]    #알파벳으로 변경\n",
        "    dict1[ans2-1] = dict_alp[ans2]\n",
        "    count1+=1\n",
        "   \n",
        "\n",
        "  elif dict_alp[ans1] == dict_alp[ans2]:\n",
        "    print(\"다른 그림 입니다.\")\n",
        "\n",
        "  print(f'''| {dict1[0]}| {dict1[1]}| {dict1[2]}| {dict1[3]}|\n",
        "| {dict1[4]}| {dict1[5]}| {dict1[6]}| {dict1[7]}| \n",
        "| {dict1[8]}|{dict1[9]}|{dict1[10]}|{dict1[11]}| \n",
        "|{dict1[12]}|{dict1[13]}|{dict1[14]}|{dict1[15]}|''')\n",
        "\n",
        "  if count1 == 8:\n",
        "    print(\"MISSION COMPLETE!\")\n",
        "    break\n",
        "\n",
        "\n",
        "     \n",
        "  \n",
        "\n",
        "\n",
        "\n"
      ],
      "metadata": {
        "id": "hHpcw4MOJgjU",
        "colab": {
          "base_uri": "https://localhost:8080/"
        },
        "outputId": "21c6713c-bc62-4dd2-8f11-bb2e5a76b2dc"
      },
      "execution_count": 38,
      "outputs": [
        {
          "output_type": "stream",
          "name": "stdout",
          "text": [
            "같은 그림 맞추기 시작\n",
            "| 1| 2| 3| 4|\n",
            "| 5| 6| 7| 8|\n",
            "| 9|10|11|12|\n",
            "|13|14|15|16|\n",
            "숫자1: 1\n",
            "고르신 숫자1은 C입니다.\n",
            "숫자2: 2\n",
            "고르신 숫자2은 H입니다.\n",
            "| 1| 2| 3| 4|\n",
            "| 5| 6| 7| 8| \n",
            "| 9|10|11|12| \n",
            "|13|14|15|16|\n",
            "숫자1: 3\n",
            "고르신 숫자3은 E입니다.\n",
            "숫자2: 4\n",
            "고르신 숫자4은 G입니다.\n",
            "| 1| 2| 3| 4|\n",
            "| 5| 6| 7| 8| \n",
            "| 9|10|11|12| \n",
            "|13|14|15|16|\n",
            "숫자1: 5\n",
            "고르신 숫자5은 E입니다.\n",
            "숫자2: 6\n",
            "고르신 숫자6은 B입니다.\n",
            "| 1| 2| 3| 4|\n",
            "| 5| 6| 7| 8| \n",
            "| 9|10|11|12| \n",
            "|13|14|15|16|\n",
            "숫자1: 7\n",
            "고르신 숫자7은 F입니다.\n",
            "숫자2: 8\n",
            "고르신 숫자8은 F입니다.\n",
            "같은 그림입니다.\n",
            "| 1| 2| 3| 4|\n",
            "| 5| 6| F| F| \n",
            "| 9|10|11|12| \n",
            "|13|14|15|16|\n",
            "숫자1: 9\n",
            "고르신 숫자9은 C입니다.\n",
            "숫자2: 10\n",
            "고르신 숫자10은 G입니다.\n",
            "| 1| 2| 3| 4|\n",
            "| 5| 6| F| F| \n",
            "| 9|10|11|12| \n",
            "|13|14|15|16|\n",
            "숫자1: 11\n",
            "고르신 숫자11은 A입니다.\n",
            "숫자2: 12\n",
            "고르신 숫자12은 D입니다.\n",
            "| 1| 2| 3| 4|\n",
            "| 5| 6| F| F| \n",
            "| 9|10|11|12| \n",
            "|13|14|15|16|\n",
            "숫자1: 13\n",
            "고르신 숫자13은 D입니다.\n",
            "숫자2: 14\n",
            "고르신 숫자14은 B입니다.\n",
            "| 1| 2| 3| 4|\n",
            "| 5| 6| F| F| \n",
            "| 9|10|11|12| \n",
            "|13|14|15|16|\n",
            "숫자1: 15\n",
            "고르신 숫자15은 A입니다.\n",
            "숫자2: 16\n",
            "고르신 숫자16은 H입니다.\n",
            "| 1| 2| 3| 4|\n",
            "| 5| 6| F| F| \n",
            "| 9|10|11|12| \n",
            "|13|14|15|16|\n",
            "숫자1: 1\n",
            "고르신 숫자1은 C입니다.\n",
            "숫자2: 9\n",
            "고르신 숫자9은 C입니다.\n",
            "같은 그림입니다.\n",
            "| C| 2| 3| 4|\n",
            "| 5| 6| F| F| \n",
            "| C|10|11|12| \n",
            "|13|14|15|16|\n",
            "숫자1: 2\n",
            "고르신 숫자2은 H입니다.\n",
            "숫자2: 16\n",
            "고르신 숫자16은 H입니다.\n",
            "같은 그림입니다.\n",
            "| C| H| 3| 4|\n",
            "| 5| 6| F| F| \n",
            "| C|10|11|12| \n",
            "|13|14|15|H|\n",
            "숫자1: 3\n",
            "고르신 숫자3은 E입니다.\n",
            "숫자2: 5\n",
            "고르신 숫자5은 E입니다.\n",
            "같은 그림입니다.\n",
            "| C| H| E| 4|\n",
            "| E| 6| F| F| \n",
            "| C|10|11|12| \n",
            "|13|14|15|H|\n",
            "숫자1: 4\n",
            "고르신 숫자4은 G입니다.\n",
            "숫자2: 10\n",
            "고르신 숫자10은 G입니다.\n",
            "같은 그림입니다.\n",
            "| C| H| E| G|\n",
            "| E| 6| F| F| \n",
            "| C|G|11|12| \n",
            "|13|14|15|H|\n",
            "숫자1: 6\n",
            "고르신 숫자6은 B입니다.\n",
            "숫자2: 14\n",
            "고르신 숫자14은 B입니다.\n",
            "같은 그림입니다.\n",
            "| C| H| E| G|\n",
            "| E| B| F| F| \n",
            "| C|G|11|12| \n",
            "|13|B|15|H|\n",
            "숫자1: 11\n",
            "고르신 숫자11은 A입니다.\n",
            "숫자2: 15\n",
            "고르신 숫자15은 A입니다.\n",
            "같은 그림입니다.\n",
            "| C| H| E| G|\n",
            "| E| B| F| F| \n",
            "| C|G|A|12| \n",
            "|13|B|A|H|\n",
            "숫자1: 12\n",
            "고르신 숫자12은 D입니다.\n",
            "숫자2: 13\n",
            "고르신 숫자13은 D입니다.\n",
            "같은 그림입니다.\n",
            "| C| H| E| G|\n",
            "| E| B| F| F| \n",
            "| C|G|A|D| \n",
            "|D|B|A|H|\n",
            "MISSION COMPLETE!\n"
          ]
        }
      ]
    },
    {
      "cell_type": "code",
      "source": [],
      "metadata": {
        "id": "CYfzpCm1GrtA"
      },
      "execution_count": null,
      "outputs": []
    }
  ]
}