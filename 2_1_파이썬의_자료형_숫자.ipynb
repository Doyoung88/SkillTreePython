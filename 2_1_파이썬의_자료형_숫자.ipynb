{
  "nbformat": 4,
  "nbformat_minor": 0,
  "metadata": {
    "colab": {
      "name": "2-1.파이썬의 자료형:숫자.ipynb",
      "provenance": [],
      "toc_visible": true,
      "include_colab_link": true
    },
    "kernelspec": {
      "name": "python3",
      "display_name": "Python 3"
    },
    "language_info": {
      "name": "python"
    }
  },
  "cells": [
    {
      "cell_type": "markdown",
      "metadata": {
        "id": "view-in-github",
        "colab_type": "text"
      },
      "source": [
        "<a href=\"https://colab.research.google.com/github/Doyoung88/SkillTreePython/blob/main/2_1_%ED%8C%8C%EC%9D%B4%EC%8D%AC%EC%9D%98_%EC%9E%90%EB%A3%8C%ED%98%95_%EC%88%AB%EC%9E%90.ipynb\" target=\"_parent\"><img src=\"https://colab.research.google.com/assets/colab-badge.svg\" alt=\"Open In Colab\"/></a>"
      ]
    },
    {
      "cell_type": "markdown",
      "source": [
        "# 2-1.파이썬의 자료형:숫자\n",
        "---\n",
        "* 날짜:2022-12-26\n",
        "* 이름:윤도영"
      ],
      "metadata": {
        "id": "kB5IciXEm6o4"
      }
    },
    {
      "cell_type": "markdown",
      "source": [
        "## 개념정리\n",
        "---\n",
        "\n",
        "\n",
        "코드를 작성하면서 우리는 다양한 데이터 자료형을 접하게 됩니다. 그 중 수치 자료형은 개수, 가격, 날짜 등 여러가지 데이터를 효과적으로 처리할 수 있습니다. 수치 자료형에 대해 알아보고 데이터 타입이 수치 자료형일 때 어떤 부가적인 연산들을 수행할 수 있는지 알아보도록 합니다. "
      ],
      "metadata": {
        "id": "4iN8NFzHRJ2D"
      }
    },
    {
      "cell_type": "markdown",
      "source": [
        "### (1) 수치자료형의 종류\n",
        "\n",
        "\n",
        "\n"
      ],
      "metadata": {
        "id": "UKlkHH0IRL5h"
      }
    },
    {
      "cell_type": "markdown",
      "source": [
        "#### **정수 `int`**\n",
        "정수형 자료형은 `int` 로 표시 됩니다. -1,-2, ... 0 , 1, 2 ,...  등 정수값을 나타냅니다. \n",
        "```\n",
        "num = 2\n",
        "print(num, type(num))\n",
        "```\n",
        "\n",
        "\n"
      ],
      "metadata": {
        "id": "opbfNksrAq4P"
      }
    },
    {
      "cell_type": "code",
      "source": [
        "num = 2\n",
        "print(num, type(num))"
      ],
      "metadata": {
        "id": "0LEqDvQhtLwP",
        "colab": {
          "base_uri": "https://localhost:8080/"
        },
        "outputId": "b3878f43-3b06-4a89-817e-021300dc13fe"
      },
      "execution_count": 1,
      "outputs": [
        {
          "output_type": "stream",
          "name": "stdout",
          "text": [
            "2 <class 'int'>\n"
          ]
        }
      ]
    },
    {
      "cell_type": "markdown",
      "source": [
        "#### **실수 `float`**\n",
        "실수값은 `float`으로 표시 됩니다. 3.0, 3.1 , ... 등 실수값을 나타냅니다. \n",
        "```\n",
        "num = -0.2\n",
        "print(num, type(num))\n",
        "```"
      ],
      "metadata": {
        "id": "DbjTishvtQNU"
      }
    },
    {
      "cell_type": "code",
      "source": [
        "num = -0.2\n",
        "print(num, type(num))"
      ],
      "metadata": {
        "id": "b2HTH0H1tS68",
        "colab": {
          "base_uri": "https://localhost:8080/"
        },
        "outputId": "c1fb04a0-7fdf-49c0-c539-8551837debe6"
      },
      "execution_count": 2,
      "outputs": [
        {
          "output_type": "stream",
          "name": "stdout",
          "text": [
            "-0.2 <class 'float'>\n"
          ]
        }
      ]
    },
    {
      "cell_type": "markdown",
      "source": [
        "#### **복소수 `complex`**\n",
        "복소수는 제곱했을 때 음수가 되는 수입니다. 아래와 같이 정의할 수 있습니다.\n",
        "```\n",
        "num = 1+4j\n",
        "print(num, type(num))\n",
        "```"
      ],
      "metadata": {
        "id": "X2i8usALtUJL"
      }
    },
    {
      "cell_type": "code",
      "source": [
        "num = 1+4j\n",
        "print(num, type(num))"
      ],
      "metadata": {
        "id": "I37szg1RtXXE",
        "colab": {
          "base_uri": "https://localhost:8080/"
        },
        "outputId": "9321e72d-4eb5-4317-ae68-5378b78c209f"
      },
      "execution_count": 3,
      "outputs": [
        {
          "output_type": "stream",
          "name": "stdout",
          "text": [
            "(1+4j) <class 'complex'>\n"
          ]
        }
      ]
    },
    {
      "cell_type": "markdown",
      "source": [
        "복소수 자료형 경우  파이썬 내장 함수를 통해 실수값, 허수값, 컬례 복소수 등을 알 수 있습니다.\n",
        "\n",
        "* `.real` : 복소수의 실수값을 확인합니다.\n",
        "\n",
        "```\n",
        "print(num.real)\n",
        "```\n"
      ],
      "metadata": {
        "id": "7zHbFccVtaFY"
      }
    },
    {
      "cell_type": "code",
      "source": [],
      "metadata": {
        "id": "iLhCsBONdsam"
      },
      "execution_count": null,
      "outputs": []
    },
    {
      "cell_type": "markdown",
      "source": [
        "\n",
        "* `.imag`: 복소수의 허수값을 확인합니다.\n",
        "\n",
        "```\n",
        "print(num.imag) # 허수값\n",
        "```\n"
      ],
      "metadata": {
        "id": "RR0Kdb6Ydsmt"
      }
    },
    {
      "cell_type": "code",
      "source": [],
      "metadata": {
        "id": "tD46aK3Ndtkr"
      },
      "execution_count": null,
      "outputs": []
    },
    {
      "cell_type": "markdown",
      "source": [
        "\n",
        "* `.conjugate()`: 복소수의 컬례복소수를 확인합니다.\n",
        "\n",
        "```\n",
        "print(num.conjugate()) # 컬례복소수\n",
        "```"
      ],
      "metadata": {
        "id": "0dLg3PeDdt-f"
      }
    },
    {
      "cell_type": "code",
      "source": [],
      "metadata": {
        "id": "KTZ6dBVEta78"
      },
      "execution_count": null,
      "outputs": []
    },
    {
      "cell_type": "markdown",
      "source": [
        "### (2) 수치자료형의 타입 변환\n",
        "\n",
        "수치자료형의 타입을 변환 할 수 있습니다. 아래와 같이 `a`를 값 1인 정수값으로 정의합시다.\n",
        "\n",
        "```\n",
        "a=1\n",
        "a, type(a)\n",
        "```"
      ],
      "metadata": {
        "id": "tTuhebzSy8w8"
      }
    },
    {
      "cell_type": "code",
      "source": [
        "a=1\n",
        "a, type(a)"
      ],
      "metadata": {
        "id": "mR3gG9It2SD3",
        "colab": {
          "base_uri": "https://localhost:8080/"
        },
        "outputId": "c2df6a34-e382-47f1-9778-1b9c5231a603"
      },
      "execution_count": 4,
      "outputs": [
        {
          "output_type": "execute_result",
          "data": {
            "text/plain": [
              "(1, int)"
            ]
          },
          "metadata": {},
          "execution_count": 4
        }
      ]
    },
    {
      "cell_type": "markdown",
      "source": [
        "현재 `int` 타입인 값을 `float`으로 변환해보도록 합시다.\n",
        "\n",
        "```\n",
        "a = float(a)\n",
        "print(a, type(a))\n",
        "```"
      ],
      "metadata": {
        "id": "kfSac_Bj_ttS"
      }
    },
    {
      "cell_type": "code",
      "source": [
        "a = float(a)\n",
        "print(a, type(a))"
      ],
      "metadata": {
        "id": "RScoLai_4UA9",
        "colab": {
          "base_uri": "https://localhost:8080/"
        },
        "outputId": "c46d7585-ccce-4c51-9548-6a545884a615"
      },
      "execution_count": 5,
      "outputs": [
        {
          "output_type": "stream",
          "name": "stdout",
          "text": [
            "1.0 <class 'float'>\n"
          ]
        }
      ]
    },
    {
      "cell_type": "markdown",
      "source": [
        "다시 `int` 로 변환 해봅시다.\n",
        "\n",
        "```\n",
        "a = int(a)\n",
        "print(a, type(a))\n",
        "```"
      ],
      "metadata": {
        "id": "yCd_3r26_3ik"
      }
    },
    {
      "cell_type": "code",
      "source": [
        "a = int(a)\n",
        "print(a, type(a))\n"
      ],
      "metadata": {
        "id": "HIuhv_bv_3in",
        "colab": {
          "base_uri": "https://localhost:8080/"
        },
        "outputId": "7499bc24-9a42-4820-e22c-c2c2b5375880"
      },
      "execution_count": 6,
      "outputs": [
        {
          "output_type": "stream",
          "name": "stdout",
          "text": [
            "1 <class 'int'>\n"
          ]
        }
      ]
    },
    {
      "cell_type": "code",
      "source": [
        "a = 1.4\n",
        "b = 1.5 \n",
        "c = 1.6 \n"
      ],
      "metadata": {
        "id": "2rowhzjcF8Sq"
      },
      "execution_count": 12,
      "outputs": []
    },
    {
      "cell_type": "markdown",
      "source": [
        "참고로 문자형과도 변환이 가능합니다.\n",
        "\n",
        "```\n",
        "a = str(a)\n",
        "print(a, type(a))\n",
        "```"
      ],
      "metadata": {
        "id": "eY5X8k7nCDpL"
      }
    },
    {
      "cell_type": "code",
      "source": [
        "a = str(a)\n",
        "a, type(a)"
      ],
      "metadata": {
        "id": "0AhlUfUvCDpL",
        "colab": {
          "base_uri": "https://localhost:8080/"
        },
        "outputId": "badcc553-4676-4521-bd67-44045a34f49b"
      },
      "execution_count": 13,
      "outputs": [
        {
          "output_type": "execute_result",
          "data": {
            "text/plain": [
              "('1.4', str)"
            ]
          },
          "metadata": {},
          "execution_count": 13
        }
      ]
    },
    {
      "cell_type": "markdown",
      "source": [
        "### (3) 산술연산자\n",
        "\n",
        "수치 자료형은 각종 산술연산이 가능합니다. 우리가 일반적으로 쓰는 덧셈, 뺄셈, 곱셉, 나눈셈을 수행해 보겠습니다. 아래 코드를 따라 쓰고 무엇이 나오는지 예측해 봅니다"
      ],
      "metadata": {
        "id": "PtSek8BAtiOx"
      }
    },
    {
      "cell_type": "markdown",
      "source": [
        "*  `+` 더하기\n",
        "\n",
        "```\n",
        "2+2\n",
        "```"
      ],
      "metadata": {
        "id": "EbG9oc_5tmB8"
      }
    },
    {
      "cell_type": "code",
      "source": [
        "2+2"
      ],
      "metadata": {
        "id": "o8tsqP0XtmVT",
        "colab": {
          "base_uri": "https://localhost:8080/"
        },
        "outputId": "818b1a8b-9293-4b26-b157-d5c19ad55963"
      },
      "execution_count": 14,
      "outputs": [
        {
          "output_type": "execute_result",
          "data": {
            "text/plain": [
              "4"
            ]
          },
          "metadata": {},
          "execution_count": 14
        }
      ]
    },
    {
      "cell_type": "markdown",
      "source": [
        "*   `-` 빼기\n",
        "\n",
        "```\n",
        "2-2\n",
        "```\n"
      ],
      "metadata": {
        "id": "73VOGRGqtpHM"
      }
    },
    {
      "cell_type": "code",
      "source": [
        "2-2"
      ],
      "metadata": {
        "id": "5pVh9h6rtyNN",
        "colab": {
          "base_uri": "https://localhost:8080/"
        },
        "outputId": "4076cdc8-f003-4312-e670-3e5740aff4c4"
      },
      "execution_count": 15,
      "outputs": [
        {
          "output_type": "execute_result",
          "data": {
            "text/plain": [
              "0"
            ]
          },
          "metadata": {},
          "execution_count": 15
        }
      ]
    },
    {
      "cell_type": "markdown",
      "source": [
        "*  `*` 곱하기\n",
        "  \n",
        "```\n",
        "2*2\n",
        "```"
      ],
      "metadata": {
        "id": "WfjAvOO_t1Sn"
      }
    },
    {
      "cell_type": "code",
      "source": [
        "2*2"
      ],
      "metadata": {
        "id": "rKG3lqZJt6aD",
        "colab": {
          "base_uri": "https://localhost:8080/"
        },
        "outputId": "7567126a-ce89-4274-97ae-fd6d40f9bb1e"
      },
      "execution_count": 16,
      "outputs": [
        {
          "output_type": "execute_result",
          "data": {
            "text/plain": [
              "4"
            ]
          },
          "metadata": {},
          "execution_count": 16
        }
      ]
    },
    {
      "cell_type": "markdown",
      "source": [
        "*  `**` 제곱\n",
        "\n",
        "```\n",
        "2**2\n",
        "```\n"
      ],
      "metadata": {
        "id": "htPsV_JAt2hb"
      }
    },
    {
      "cell_type": "code",
      "source": [
        "2**2"
      ],
      "metadata": {
        "id": "4kbSrnvNt6zp",
        "colab": {
          "base_uri": "https://localhost:8080/"
        },
        "outputId": "0c6fbf17-8da9-4265-9fa0-02d3842bac85"
      },
      "execution_count": 17,
      "outputs": [
        {
          "output_type": "execute_result",
          "data": {
            "text/plain": [
              "4"
            ]
          },
          "metadata": {},
          "execution_count": 17
        }
      ]
    },
    {
      "cell_type": "markdown",
      "source": [
        "\n",
        "*  `/` 나누기\n",
        "\n",
        "```\n",
        "2/2\n",
        "```"
      ],
      "metadata": {
        "id": "rqGwmZiut3aV"
      }
    },
    {
      "cell_type": "code",
      "source": [
        "2/2"
      ],
      "metadata": {
        "id": "6ontYOp7t7Mb",
        "colab": {
          "base_uri": "https://localhost:8080/"
        },
        "outputId": "e8bccdd9-e02b-4ada-b70e-8c1668fb87f7"
      },
      "execution_count": 18,
      "outputs": [
        {
          "output_type": "execute_result",
          "data": {
            "text/plain": [
              "1.0"
            ]
          },
          "metadata": {},
          "execution_count": 18
        }
      ]
    },
    {
      "cell_type": "markdown",
      "source": [
        "*  `//` 몫\n",
        "\n",
        "```\n",
        "2//2\n",
        "```"
      ],
      "metadata": {
        "id": "cGP6uK5mt4dm"
      }
    },
    {
      "cell_type": "code",
      "source": [
        "2//2"
      ],
      "metadata": {
        "id": "7LiMjLh5t7pD",
        "colab": {
          "base_uri": "https://localhost:8080/"
        },
        "outputId": "1920445b-cdbe-47ea-fa46-7c461e56c45e"
      },
      "execution_count": 19,
      "outputs": [
        {
          "output_type": "execute_result",
          "data": {
            "text/plain": [
              "1"
            ]
          },
          "metadata": {},
          "execution_count": 19
        }
      ]
    },
    {
      "cell_type": "markdown",
      "source": [
        "* `%` 나머지\n",
        "\n",
        "```\n",
        "2%2\n",
        "```\n"
      ],
      "metadata": {
        "id": "SRudXVcNt5GW"
      }
    },
    {
      "cell_type": "code",
      "source": [
        "2%2"
      ],
      "metadata": {
        "id": "f6CZv0bFt79-",
        "colab": {
          "base_uri": "https://localhost:8080/"
        },
        "outputId": "ce0286e2-492e-4b1a-f0ce-c1a86db1af96"
      },
      "execution_count": 20,
      "outputs": [
        {
          "output_type": "execute_result",
          "data": {
            "text/plain": [
              "0"
            ]
          },
          "metadata": {},
          "execution_count": 20
        }
      ]
    },
    {
      "cell_type": "markdown",
      "source": [
        "### **(4) 할당 연산자**\n",
        "\n",
        "할당연산자는 값을 변수에 바로 할당하는 연산자 입니다. 할당이란 것은 바인딩과 동일한 의미입니다. 따라서 `=` 이 기호는 할당연산자 라고 할 수 있습니다. 그러나 `=` 말고도 할당연산자는 몇개 더 있습니다. \n",
        "\n",
        "| 기호 | 뜻 |\n",
        "|--|--|\n",
        "|`+=`| 더한 후 대입 |\n",
        "|`-=`| 뺀 후  대입 |\n",
        "|`*=`| 곱한 후 대입 |\n",
        "|`**=`| 제곱 후 대입 |\n",
        "|`/=`| 나눈 후 대입 |\n",
        "|`//=`| 나눈 후 몫을 대입 |\n",
        "|`%=`| 나눈 후 나머지 대입 |\n"
      ],
      "metadata": {
        "id": "URp5HnPyAUf-"
      }
    },
    {
      "cell_type": "markdown",
      "source": [
        "#### **더한 후 대입하기**\n",
        "\n",
        "\n",
        "* `+=`\n",
        "\n",
        "```\n",
        "a = 5\n",
        "b = 2\n",
        "a += b # 할당연산자 사용  `a = a+b` 과 동일\n",
        "print(a)\n",
        "```\n"
      ],
      "metadata": {
        "id": "evZqLrJBAX8z"
      }
    },
    {
      "cell_type": "code",
      "source": [
        "a = 5\n",
        "b = 2\n",
        "a += b # 할당연산자 사용  `a = a+b` 과 동일\n",
        "print(a)"
      ],
      "metadata": {
        "id": "66psqHA-Aduu",
        "colab": {
          "base_uri": "https://localhost:8080/"
        },
        "outputId": "84d0c0d2-a4ba-4f71-d9b0-ec69d6665e3c"
      },
      "execution_count": 21,
      "outputs": [
        {
          "output_type": "stream",
          "name": "stdout",
          "text": [
            "7\n"
          ]
        }
      ]
    },
    {
      "cell_type": "markdown",
      "source": [
        "#### **뺀 후 대입하기**\n",
        "\n",
        "* `-=`\n",
        "\n",
        "```\n",
        "a = 5\n",
        "b = 2\n",
        "a -= b # 할당연산자 사용  `a = a-b` 과 동일\n",
        "print(a)\n",
        "```"
      ],
      "metadata": {
        "id": "mX3PEz11Afq_"
      }
    },
    {
      "cell_type": "code",
      "source": [
        "a = 5\n",
        "b = 2\n",
        "a -= b # 할당연산자 사용  `a = a-b` 과 동일\n",
        "print(a)"
      ],
      "metadata": {
        "id": "OGWSGrzNAfb6",
        "colab": {
          "base_uri": "https://localhost:8080/"
        },
        "outputId": "04b1e662-c03d-40ea-a772-3e6bdb44bc45"
      },
      "execution_count": 22,
      "outputs": [
        {
          "output_type": "stream",
          "name": "stdout",
          "text": [
            "3\n"
          ]
        }
      ]
    },
    {
      "cell_type": "markdown",
      "source": [
        "#### **곱한 후 대입하기**\n",
        "\n",
        "* `*=`\n",
        "\n",
        "```\n",
        "a = 5\n",
        "b = 2\n",
        "a *= b # 할당연산자 사용  `a = a*b` 과 동일\n",
        "print(a)\n",
        "```"
      ],
      "metadata": {
        "id": "SNkIoHeHDIUM"
      }
    },
    {
      "cell_type": "code",
      "source": [
        "a = 5\n",
        "b = 2\n",
        "a *= b # 할당연산자 사용  `a = a*b` 과 동일\n",
        "print(a)"
      ],
      "metadata": {
        "id": "az6FzkQuDKym",
        "colab": {
          "base_uri": "https://localhost:8080/"
        },
        "outputId": "362375f5-dacd-49c1-e157-7da8fa94057a"
      },
      "execution_count": 23,
      "outputs": [
        {
          "output_type": "stream",
          "name": "stdout",
          "text": [
            "10\n"
          ]
        }
      ]
    },
    {
      "cell_type": "markdown",
      "source": [
        "#### **제곱 후 대입하기**\n",
        "\n",
        "* `**=`\n",
        "\n",
        "```\n",
        "a = 5\n",
        "b = 2\n",
        "a **= b # 할당연산자 사용  `a = a**b` 과 동일\n",
        "print(a)\n",
        "```"
      ],
      "metadata": {
        "id": "Evcg80s5DPC4"
      }
    },
    {
      "cell_type": "code",
      "source": [
        "a = 5\n",
        "b = 2\n",
        "a **= b # 할당연산자 사용  `a = a**b` 과 동일\n",
        "print(a)"
      ],
      "metadata": {
        "id": "hpE25qg0DPyP",
        "colab": {
          "base_uri": "https://localhost:8080/"
        },
        "outputId": "c2606a29-0e97-4933-c869-e924a4e1d209"
      },
      "execution_count": 24,
      "outputs": [
        {
          "output_type": "stream",
          "name": "stdout",
          "text": [
            "25\n"
          ]
        }
      ]
    },
    {
      "cell_type": "markdown",
      "source": [
        "#### **나눈 후 대입하기**\n",
        "\n",
        "* `/=`\n",
        "\n",
        "```\n",
        "a = 5\n",
        "b = 2\n",
        "a /= b # 할당연산자 사용  `a = a/b` 과 동일\n",
        "print(a)\n",
        "```"
      ],
      "metadata": {
        "id": "20DMtEcLDTMm"
      }
    },
    {
      "cell_type": "code",
      "source": [],
      "metadata": {
        "id": "RyR5M61DDVPv"
      },
      "execution_count": null,
      "outputs": []
    },
    {
      "cell_type": "markdown",
      "source": [
        "#### **나눈 후 몫을 대입하기**\n",
        "\n",
        "* `//=`\n",
        "\n",
        "```\n",
        "a = 5\n",
        "b = 2\n",
        "a //= b # 할당연산자 사용  `a = a//b` 과 동일\n",
        "print(a)\n",
        "```"
      ],
      "metadata": {
        "id": "hbXeSlqoD8o3"
      }
    },
    {
      "cell_type": "code",
      "source": [],
      "metadata": {
        "id": "umWFbBJBEBBt"
      },
      "execution_count": null,
      "outputs": []
    },
    {
      "cell_type": "markdown",
      "source": [
        "### 나눈 후 나머지를 대입하기\n",
        "\n",
        "* `%=`\n",
        "\n",
        "```\n",
        "a = 5\n",
        "b = 2\n",
        "a %= b # 할당연산자 사용  `a = a%b` 과 동일\n",
        "print(a)\n",
        "```"
      ],
      "metadata": {
        "id": "27IOeqppEBRj"
      }
    },
    {
      "cell_type": "code",
      "source": [],
      "metadata": {
        "id": "bShKWVX-EDNf"
      },
      "execution_count": null,
      "outputs": []
    },
    {
      "cell_type": "markdown",
      "source": [
        "## 문제풀이\n",
        "---\n",
        "\n",
        "**예제 01**\n",
        "\n",
        "아래 코드의 실행 결과를 예상하고 출력해보세요\n",
        "\n",
        "```\n",
        "2+5-3*5\n",
        "```\n"
      ],
      "metadata": {
        "id": "HgrXNsFnwp_m"
      }
    },
    {
      "cell_type": "code",
      "source": [
        "#-8로 예상\n",
        "2+5-3*5"
      ],
      "metadata": {
        "id": "U8ehercCwsP8",
        "colab": {
          "base_uri": "https://localhost:8080/"
        },
        "outputId": "f25d7a76-db66-4d85-cd9d-f35340f32589"
      },
      "execution_count": 25,
      "outputs": [
        {
          "output_type": "execute_result",
          "data": {
            "text/plain": [
              "-8"
            ]
          },
          "metadata": {},
          "execution_count": 25
        }
      ]
    },
    {
      "cell_type": "markdown",
      "source": [
        "**예제 02**\n",
        "\n",
        "아래 코드의 실행 결과를 예상하고 출력해보세요\n",
        "```\n",
        "print(10/2)\n",
        "print(10%2)\n",
        "print(11%2)\n",
        "print(12%2)\n",
        "print(13%2)\n",
        "print(14%2)\n",
        "```"
      ],
      "metadata": {
        "id": "Bd7MAhfZwuYL"
      }
    },
    {
      "cell_type": "code",
      "source": [
        "print(10/2)\n",
        "print(10%2)\n",
        "print(11%2)\n",
        "print(12%2)\n",
        "print(13%2)\n",
        "print(14%2)"
      ],
      "metadata": {
        "id": "04JSAGa2wvXN",
        "colab": {
          "base_uri": "https://localhost:8080/"
        },
        "outputId": "c7c4bfae-69a6-4609-8228-cb816d1178d0"
      },
      "execution_count": 26,
      "outputs": [
        {
          "output_type": "stream",
          "name": "stdout",
          "text": [
            "5.0\n",
            "0\n",
            "1\n",
            "0\n",
            "1\n",
            "0\n"
          ]
        }
      ]
    },
    {
      "cell_type": "markdown",
      "source": [
        "**예제 03**\n",
        "\n",
        "`예제 02` 를 기반으로 `int` 값중 짝수와 홀수를 판별하는 방법을 제안하세요\n"
      ],
      "metadata": {
        "id": "ndVmQUdcwwbH"
      }
    },
    {
      "cell_type": "code",
      "source": [
        "#나누기 연산을 하여 나머지가 0이면 짝수, 1이면 홀수"
      ],
      "metadata": {
        "id": "BA7Glui4wyJx"
      },
      "execution_count": null,
      "outputs": []
    },
    {
      "cell_type": "markdown",
      "source": [
        "**예제 04**\n",
        "\n",
        "정수기가 월 30,000원에 무이자할부 5년 조건으로 판매되고 있습니다. 총 금액을 계산한 후 이를 화면에 출력해보세요. (변수사용하기)"
      ],
      "metadata": {
        "id": "BiJgJpfvwwdj"
      }
    },
    {
      "cell_type": "code",
      "source": [
        "mon = 30000\n",
        "ins = 5\n",
        "total = mon*5\n",
        "print(\"총금액 : \", total)"
      ],
      "metadata": {
        "id": "e_RllwoewzQs",
        "colab": {
          "base_uri": "https://localhost:8080/"
        },
        "outputId": "db29437d-4610-45a3-8efc-089a171e9cc8"
      },
      "execution_count": 27,
      "outputs": [
        {
          "output_type": "stream",
          "name": "stdout",
          "text": [
            "총금액 :  150000\n"
          ]
        }
      ]
    },
    {
      "cell_type": "markdown",
      "source": [
        "**예제 05** \n",
        "\n",
        "변수가 아래와 같이 선언되어 있습니다. 각 변수들끼리 서로 더한 결과를 정리하세요\n",
        "\n",
        "```\n",
        "a = 5 \n",
        "b = 3.14 \n",
        "c = 3 + 4j\n",
        "```"
      ],
      "metadata": {
        "id": "wP9-y-apw030"
      }
    },
    {
      "cell_type": "code",
      "source": [
        "a = 5 \n",
        "b = 3.14 \n",
        "c = 3 + 4j\n",
        "sum = a + b + c\n",
        "print(sum)\n"
      ],
      "metadata": {
        "id": "CQRbhmUMyq69",
        "colab": {
          "base_uri": "https://localhost:8080/"
        },
        "outputId": "03ced33b-ec22-4382-eb93-6291ad16dd06"
      },
      "execution_count": 28,
      "outputs": [
        {
          "output_type": "stream",
          "name": "stdout",
          "text": [
            "(11.14+4j)\n"
          ]
        }
      ]
    },
    {
      "cell_type": "markdown",
      "source": [
        "**예제 06**\n",
        "\n",
        "아래 결과를 예측하세요\n",
        "\n",
        "\n",
        "```\n",
        "a= 1\n",
        "a= a+1\n",
        "a= a**3\n",
        "print(a)\n",
        "```"
      ],
      "metadata": {
        "id": "AqR7zhPaw145"
      }
    },
    {
      "cell_type": "code",
      "source": [
        "#8로 예측\n",
        "a= 1\n",
        "a= a+1\n",
        "a= a**3\n",
        "print(a)"
      ],
      "metadata": {
        "id": "kIXwdd_nyrkR",
        "colab": {
          "base_uri": "https://localhost:8080/"
        },
        "outputId": "b3d09e18-7380-418f-de98-38cfb8927587"
      },
      "execution_count": 29,
      "outputs": [
        {
          "output_type": "stream",
          "name": "stdout",
          "text": [
            "8\n"
          ]
        }
      ]
    },
    {
      "cell_type": "markdown",
      "source": [
        "**예제 07**\n",
        "\n",
        "아래 결과를 예측하세요\n",
        "\n",
        "\n",
        "```\n",
        "a= 1+3j\n",
        "b= a.real\n",
        "print(b%2)\n",
        "```\n"
      ],
      "metadata": {
        "id": "ey2pYPv4yYBp"
      }
    },
    {
      "cell_type": "code",
      "source": [
        "#1로 예측\n",
        "a= 1+3j\n",
        "b= a.real\n",
        "print(b%2)"
      ],
      "metadata": {
        "id": "yanJRKU-yr8r",
        "colab": {
          "base_uri": "https://localhost:8080/"
        },
        "outputId": "97cb24f6-c897-4a50-b0a3-a25f5bac5e76"
      },
      "execution_count": 30,
      "outputs": [
        {
          "output_type": "stream",
          "name": "stdout",
          "text": [
            "1.0\n"
          ]
        }
      ]
    },
    {
      "cell_type": "markdown",
      "source": [
        "**예제 08**\n",
        "\n",
        "아래와 같이 주가와 주식개수를 인풋으로 받아 평가금액을 출력하는 코드를 작성하세요\n",
        "\n",
        "```\n",
        ">> 주가: 10000\n",
        ">> 주식개수: 3\n",
        "평가금액은 30000원 입니다.\n",
        "```"
      ],
      "metadata": {
        "id": "wyBij9C6yZDw"
      }
    },
    {
      "cell_type": "code",
      "source": [
        "sto = int(input())\n",
        "num = int(input())\n",
        "pri = sto * num\n",
        "print(\"평가금액은 \",pri, \"원 입니다.\", sep=\"\")"
      ],
      "metadata": {
        "id": "M60QJ7V5ysav",
        "colab": {
          "base_uri": "https://localhost:8080/"
        },
        "outputId": "6d331104-8302-43b8-b4e4-07aa54383052"
      },
      "execution_count": 33,
      "outputs": [
        {
          "output_type": "stream",
          "name": "stdout",
          "text": [
            "10000\n",
            "3\n",
            "평가금액은 30000원 입니다.\n"
          ]
        }
      ]
    },
    {
      "cell_type": "markdown",
      "source": [
        "3**예제 09**\n",
        "\n",
        "아래와 같이 복소수(complex)를 입력하면 실수값과 허수값, 실수값과 허수값을 알려주는 코드를 작성하세요.\n",
        "\n",
        "```\n",
        ">> 복소수를 입력하세요: 1+5j\n",
        "실수값은 1, 허수값은 5입니다. \n",
        "```"
      ],
      "metadata": {
        "id": "HTFQuWVeyaS4"
      }
    },
    {
      "cell_type": "code",
      "source": [
        "com = complex(input(\"복소수를 입력하세요: \"))\n",
        "real = int(com.real)\n",
        "com = int(com.imag)\n",
        "print(\"실수값은\", real, \", 허수값은 \", com, \"입니다.\", sep=\"\")"
      ],
      "metadata": {
        "id": "2vGeOjbwys2C",
        "colab": {
          "base_uri": "https://localhost:8080/"
        },
        "outputId": "f719b7f9-97fb-47c7-902c-28c675864d7c"
      },
      "execution_count": 39,
      "outputs": [
        {
          "output_type": "stream",
          "name": "stdout",
          "text": [
            "복소수를 입력하세요: 1+5J\n",
            "실수값은1, 허수값은 5입니다.\n"
          ]
        }
      ]
    },
    {
      "cell_type": "markdown",
      "source": [
        "**예제 10**\n",
        "\n",
        "아래와 같이 정수(int)를 입력하면 제곱값과 세제곱값을 출력하는 코드를 작성하세요.\n",
        "\n",
        "```\n",
        ">> 숫자를 입력하세요: 5\n",
        "5의 제곱은 25이고 세제곱은 125 입니다.\n",
        "```\n"
      ],
      "metadata": {
        "id": "qrPmvCY7ybVA"
      }
    },
    {
      "cell_type": "code",
      "source": [
        "num = int(input(\"숫자를 입력하세요: \"))\n",
        "sq = num**2\n",
        "sqq = num**3\n",
        "print(num, \"의 제곱은 \", sq, \" 이고 세제곱은 \", sqq, \" 입니다.\", sep = \"\")"
      ],
      "metadata": {
        "id": "PigOmcgwyyhj",
        "colab": {
          "base_uri": "https://localhost:8080/"
        },
        "outputId": "6e6967b7-b9d5-4932-a319-1519ceb9fc5b"
      },
      "execution_count": 43,
      "outputs": [
        {
          "output_type": "stream",
          "name": "stdout",
          "text": [
            "숫자를 입력하세요: 5\n",
            "5의 제곱은 25 이고 세제곱은 125 입니다.\n"
          ]
        }
      ]
    },
    {
      "cell_type": "markdown",
      "source": [
        "**예제 11**\n",
        "\n",
        "실수값(float)을 입력하면 실수값에 5를 더한 값을 출력하는 코드를 작성하세요\n",
        "\n",
        "```\n",
        ">> 실수값을 입력하세요: 5.11\n",
        "5를 더한 값은 10.11 입니다.\n",
        "```\n"
      ],
      "metadata": {
        "id": "r-6cOE9Uyce4"
      }
    },
    {
      "cell_type": "code",
      "source": [
        "flo = float(input(\"실수값을 입력하세요: \"))\n",
        "plus = flo + 5\n",
        "print(\"5를 더한 값은\", plus, \"입니다.\")"
      ],
      "metadata": {
        "id": "wkoF8LTzy0g2",
        "colab": {
          "base_uri": "https://localhost:8080/"
        },
        "outputId": "c86018aa-0eab-45d4-89c6-4c6fb2b2a51f"
      },
      "execution_count": 44,
      "outputs": [
        {
          "output_type": "stream",
          "name": "stdout",
          "text": [
            "실수값을 입력하세요: 5.11\n",
            "5를 더한 값은 10.11 입니다.\n"
          ]
        }
      ]
    },
    {
      "cell_type": "markdown",
      "source": [
        "\n",
        "**예제 12**\n",
        "\n",
        "첫번째 숫자와 두번째 숫자를 입력하면 첫번째 숫자를 두번째 숫자로 나눈 몫과 나머지를 구하는 코드를 작성하세요\n",
        "\n",
        "```\n",
        ">> 첫번째 숫자: 10\n",
        ">> 두번째 숫자: 3\n",
        "10 나누기 3은 몫이 3이고 나머지는 1입니다.\n",
        "```"
      ],
      "metadata": {
        "id": "PrS_rt0xydlV"
      }
    },
    {
      "cell_type": "code",
      "source": [
        "num1 = int(input(\"첫번째 숫자:\"))\n",
        "num2 = int(input(\"두번째 숫자:\"))\n",
        "mok = num1//num2\n",
        "na = num1 % num2\n",
        "print(num1, \" 나누기\", num2, \"은 몫이 \", mok, \"이고 나머지는\", na, \"입니다.\")"
      ],
      "metadata": {
        "id": "1O9-xigHCaqb",
        "colab": {
          "base_uri": "https://localhost:8080/"
        },
        "outputId": "d6b0a073-1f7b-4815-a8d7-cb8a9f410690"
      },
      "execution_count": 50,
      "outputs": [
        {
          "output_type": "stream",
          "name": "stdout",
          "text": [
            "첫번째 숫자:10\n",
            "두번째 숫자:3\n",
            "10  나누기 3 은 몫이  3 이고 나머지는 1 입니다.\n"
          ]
        }
      ]
    },
    {
      "cell_type": "code",
      "source": [],
      "metadata": {
        "id": "k4f4CAErNrQw"
      },
      "execution_count": null,
      "outputs": []
    }
  ]
}